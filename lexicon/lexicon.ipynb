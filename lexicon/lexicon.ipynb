{
 "metadata": {
  "language_info": {
   "codemirror_mode": {
    "name": "ipython",
    "version": 3
   },
   "file_extension": ".py",
   "mimetype": "text/x-python",
   "name": "python",
   "nbconvert_exporter": "python",
   "pygments_lexer": "ipython3",
   "version": "3.8.5-final"
  },
  "orig_nbformat": 2,
  "kernelspec": {
   "name": "python3",
   "display_name": "Python 3",
   "language": "python"
  }
 },
 "nbformat": 4,
 "nbformat_minor": 2,
 "cells": [
  {
   "source": [
    "# Lexicon"
   ],
   "cell_type": "markdown",
   "metadata": {}
  },
  {
   "source": [
    "* lexicon﻿ is a fancy word for \"a list of words\""
   ],
   "cell_type": "markdown",
   "metadata": {}
  },
  {
   "source": [
    "lexicon == Abstract Data Type with functions:\n",
    "\n",
    "* `find(word)`: Find word in the lexicon\n",
    "* `insert(word)`: Insert word into the lexicon\n",
    "* `remove(word)`: Remove word from the lexicon\n"
   ],
   "cell_type": "markdown",
   "metadata": {}
  },
  {
   "source": [
    "## Lexicon via Linked List\n",
    "\n",
    "* Singly-Linked List, in which nodes only have forward pointers and there is only one head pointer\n",
    "* Doubly-Linked List, in which nodes have both forward and reverse pointers and there is both a head and a tail pointer\n",
    "* \"find\" and \"remove\" = `O(n)` worst-case time complexity\n",
    "* \"insert\" at either the front or the back of the list = `O(1)` worst-case time complexity \n",
    "* \"insert\" into sorted list = `O(n)` worst-case time complexity \n",
    "* space complexity = `O(n)`"
   ],
   "cell_type": "markdown",
   "metadata": {}
  },
  {
   "source": [
    "```\n",
    "find(word):           // Lexicon's \"find\" function\n",
    "    return linkedList.find(word)  // call the backing Linked List's \"find\" function\n",
    "\n",
    "insertUnsorted(word): // Lexicon's \"insert\" function, assuming the list is unsorted\n",
    "    linkedList.insertFront(word)  // call the backing Linked List's \"insertFront\" function\n",
    "\n",
    "insertSorted(word):   // Lexicon's \"insert\" function, assuming the list is sorted\n",
    "    linkedList.sortedInsert(word) // assuming the backing Linked List can do sorted insertions\n",
    "\n",
    "remove(word):         // Lexicon's \"remove\" function\n",
    "    linkedList.remove(word)       // call the backing Linked List's \"remove\" function\n",
    "```"
   ],
   "cell_type": "markdown",
   "metadata": {}
  },
  {
   "cell_type": "code",
   "execution_count": 10,
   "metadata": {},
   "outputs": [],
   "source": [
    "from collections import deque\n",
    "\n",
    "class Lexicon:\n",
    "    def __init__(self):\n",
    "        self.linkedList = deque()\n",
    "\n",
    "    def find(self, word):\n",
    "        for el in self.linkedList:\n",
    "            if el == word:\n",
    "                return True\n",
    "        return False \n",
    "\n",
    "    def insert(self, word):\n",
    "        self.linkedList.appendleft(word)\n",
    "\n",
    "    def remove(self, word):\n",
    "        for el in self.linkedList:\n",
    "            if el == word:\n",
    "                self.linkedList.remove(word)\n",
    "                break"
   ]
  },
  {
   "cell_type": "code",
   "execution_count": 11,
   "metadata": {},
   "outputs": [
    {
     "output_type": "stream",
     "name": "stdout",
     "text": [
      "True\nNone\n"
     ]
    }
   ],
   "source": [
    "my_lexicon = Lexicon()\n",
    "\n",
    "my_lexicon.insert('L1')\n",
    "my_lexicon.insert('L2')\n",
    "my_lexicon.insert('L3')\n",
    "\n",
    "print(my_lexicon.find('L1'))\n",
    "print(my_lexicon.remove('L2'))"
   ]
  },
  {
   "source": [
    "## Lexicon via Array\n",
    "\n",
    "* \"find\" = `O(1)` worst-case time complexity\n",
    "* \"insert\" = `O(n)` worst-case time complexity\n",
    "* \"find\" in unsorted array = `O(n)` worst-case time complexity\n",
    "* \"find\" in sorted array = `O(log n)` worst-case time complexity\n",
    "* \"remove\" = `O(n)` worst-case time complexity\n",
    "* space complexity = `O(n)`"
   ],
   "cell_type": "markdown",
   "metadata": {}
  },
  {
   "source": [
    "```\n",
    "find(word):   // Lexicon's \"find\" function\n",
    "    return array.binarySearch(word) // call the backing Array's \"find\" function\n",
    "\n",
    "insert(word): // Lexicon's \"insert\" function, keeping the lexicon sorted\n",
    "    array.sortedInsert(word)        // assuming the backing Array can do sorted insertions\n",
    "\n",
    "remove(word): // Lexicon's \"remove\" function\n",
    "    array.remove(word)              // call the backing Array's \"remove\" function\n",
    "```"
   ],
   "cell_type": "markdown",
   "metadata": {}
  },
  {
   "cell_type": "code",
   "execution_count": 13,
   "metadata": {},
   "outputs": [],
   "source": [
    "import bisect \n",
    "\n",
    "class Lexicon:\n",
    "    def __init__(self):\n",
    "        self.array = list()\n",
    "\n",
    "    def find(self, word):\n",
    "        return bool(word in self.array)\n",
    "    \n",
    "    def insert(self, word):\n",
    "        bisect.insort(self.array, word)\n",
    "    \n",
    "    def remove(self, word):\n",
    "        if word in self.array:\n",
    "            self.array.remove(word)"
   ]
  },
  {
   "cell_type": "code",
   "execution_count": 14,
   "metadata": {},
   "outputs": [
    {
     "output_type": "stream",
     "name": "stdout",
     "text": [
      "True\nNone\n"
     ]
    }
   ],
   "source": [
    "my_lexicon = Lexicon()\n",
    "\n",
    "my_lexicon.insert('L1')\n",
    "my_lexicon.insert('L2')\n",
    "my_lexicon.insert('L3')\n",
    "\n",
    "print(my_lexicon.find('L1'))\n",
    "print(my_lexicon.remove('L2'))"
   ]
  },
  {
   "source": [
    "## Lexicon via Binary Search Tree\n",
    "\n",
    "* AVL Tree: self-balancing + all operations `O(log n)`\n",
    "* space complexity = `O(n)`"
   ],
   "cell_type": "markdown",
   "metadata": {}
  },
  {
   "source": [
    "```\n",
    "find(word):   // Lexicon's \"find\" function\n",
    "    return tree.find(word) // call the backing BST's \"find\" function\n",
    "\n",
    "insert(word): // Lexicon's \"insert\" function\n",
    "    tree.insert(word)      // call the backing BST's \"insert\" function\n",
    "    \n",
    "remove(word): // Lexicon's \"remove\" function\n",
    "    tree.remove(word)      // call the backing BST's \"remove\" function\n",
    "```"
   ],
   "cell_type": "markdown",
   "metadata": {}
  },
  {
   "source": [
    "## Lexicon via Hash Table and Hash Map\n",
    "\n",
    "* the **average-case** time complexity of \"finding\", \"inserting\", and \"removing\" elements in a well-implemented Hash Table is O(1)\n",
    "* The time complexity to compute the hash value of a string of length k (assuming our hash function is good) is O(k)\n",
    "* \"find\", \"insert\", \"remove\" = `O(n)` worst-case time complexity\n",
    "\n",
    "> A Hash Map is effectively just an extension of a Hash Table, where we do all of the Hash Table operations on the key, but when we actually perform the insertion, we insert the (key, value) pair. For our purposes of making a lexicon, it could make sense to have keys be words and values be definitions.\n",
    "For our purposes, we will assume collisions are resolved using Separate Chaining using a Linked List (the standard)"
   ],
   "cell_type": "markdown",
   "metadata": {}
  },
  {
   "source": [
    "```\n",
    "find(word):   // Lexicon's \"find\" function\n",
    "    return hashTable.find(word) // call the backing Hash Table's \"find\" function\n",
    "\n",
    "insert(word): // Lexicon's \"insert\" function\n",
    "    hashTable.insert(word)      // call the backing Hash Table's \"insert\" function\n",
    "    \n",
    "remove(word): // Lexicon's \"remove\" function\n",
    "    hashTable.remove(word)      // call the backing Hash Table's \"remove\" function\n",
    "```"
   ],
   "cell_type": "markdown",
   "metadata": {}
  },
  {
   "cell_type": "code",
   "execution_count": 15,
   "metadata": {},
   "outputs": [],
   "source": [
    "class Lexicon:\n",
    "    def __init__(self):\n",
    "        self.hashTable = set()\n",
    "\n",
    "    # Return True if Lexicon contains word, otherwise return False\n",
    "    def find(self, word):\n",
    "        return bool(word in self.hashTable)\n",
    "\n",
    "    # Insert word into Lexicon (return nothing)\n",
    "    def insert(self, word):\n",
    "        self.hashTable.add(word)\n",
    "\n",
    "    # Remove word from Lexicon (return nothing)\n",
    "    def remove(self, word):\n",
    "        self.hashTable.remove(word)"
   ]
  },
  {
   "cell_type": "code",
   "execution_count": 16,
   "metadata": {},
   "outputs": [
    {
     "output_type": "stream",
     "name": "stdout",
     "text": [
      "True\nNone\n"
     ]
    }
   ],
   "source": [
    "my_lexicon = Lexicon()\n",
    "\n",
    "my_lexicon.insert('L1')\n",
    "my_lexicon.insert('L2')\n",
    "my_lexicon.insert('L3')\n",
    "\n",
    "print(my_lexicon.find('L1'))\n",
    "print(my_lexicon.remove('L2'))"
   ]
  },
  {
   "cell_type": "code",
   "execution_count": 20,
   "metadata": {},
   "outputs": [],
   "source": [
    "class Dictionary:\n",
    "    def __init__(self):\n",
    "        self.hashMap = dict()\n",
    "\n",
    "    # Return the definition of word if Dictionary contains word, otherwise return None\n",
    "    def find(self, word):\n",
    "        return self.hashMap[word] if word in self.hashMap.keys() else None\n",
    "\n",
    "    # Insert a (word, definition) pair into Dictionary (return nothing)\n",
    "    def insert(self, word, definition):\n",
    "        self.hashMap[word] = definition\n",
    "\n",
    "    # Remove word from Dictionary (return nothing)\n",
    "    def remove(self, word):\n",
    "        self.hashMap.pop(word)"
   ]
  },
  {
   "cell_type": "code",
   "execution_count": 21,
   "metadata": {},
   "outputs": [
    {
     "output_type": "stream",
     "name": "stdout",
     "text": [
      "True\nNone\n"
     ]
    }
   ],
   "source": [
    "my_dict_lexicon = Dictionary()\n",
    "my_lexicon.insert('L1')\n",
    "my_lexicon.insert('L2')\n",
    "my_lexicon.insert('L3')\n",
    "\n",
    "print(my_lexicon.find('L1'))\n",
    "print(my_lexicon.remove('L2'))"
   ]
  },
  {
   "source": [
    "## Lexicon via Multiway Tries\n",
    "\n",
    "* Multiway Trie = a data structure designed for the exact purpose of storing a set of words.\n",
    "* \"find\", \"insert\", \"remove\" = `O(n)` worst-time complexity (n - number of words)\n",
    "\n",
    "> It was first described by R. de la Briandais in 1959, but the term trie was coined two years later by Edward Fredkin, originating from the word retrieval (as they were used to retrieve words). As such, trie was originally pronounced \"tree\" (as in the middle syllable of retrieval), but it is now typically pronounced \"try\" in order to avoid confusion with the word tree.\n"
   ],
   "cell_type": "markdown",
   "metadata": {}
  },
  {
   "source": [
    "The Trie (also known as \"prefix tree\") is a tree structure in which the elements that are being stored are not represented by the value of a single node. \n",
    "\n",
    "Instead, elements stored in a Trie are denoted by the concatenation of the labels on the path from the root to the node representing the corresponding element. \n",
    "\n",
    "Nodes that represent keys are labeled as \"word nodes\" in some way (for our purposes, we will color them blue). \n",
    "\n",
    "\n",
    "The example of a Binary Trie: a Trie that is a binary tree. \n",
    "\n",
    "* The words stored in the Trie below are denoted by the prefixes leading up to all blue nodes: 0, 00, 10, and 11. \n",
    "\n",
    ">* Note that 01 is not in this trie because there is no valid path from the root labeled by 01. \n",
    ">* Also note that 1 is not in this trie because, although there is a valid path from the root labeled by 1, the node that we end up at is not a \"word node.\"\n",
    "\n",
    "<center><img src=\"https://ucarecdn.com/0dd7fffb-2dfa-4547-addd-0ce4626c2714/\" width=600/></center>"
   ],
   "cell_type": "markdown",
   "metadata": {}
  },
  {
   "source": [
    "Of course, as humans, we don't speak in binary, so it would be more helpful for our data structure to be able to represent words in our own alphabet. \n",
    "\n",
    "Instead of having only two edges coming out of each node (labeled with either a 1 or a 0), we can expand our alphabet to any alphabet we choose! \n",
    "\n",
    "A Trie in which nodes can have more than two child edges are known as **Multiway Tries (MWT)**. \n",
    "\n",
    "> For our purposes, we will use Σ to denote our alphabet. For example, for binary, Σ = {0,1}. For the DNA alphabet, Σ = {A, C, G, T}. For the English alphabet, Σ = {a, ..., z}.\n",
    "\n",
    "Below is a Multiway Trie with Σ = {a, ..., z} containing the following words: can, car, and cry.\n",
    "\n",
    "<center><img src=\"https://ucarecdn.com/696f3b7c-2d01-49b2-98dc-38aa7abf1c9a/\" width=400/></center>"
   ],
   "cell_type": "markdown",
   "metadata": {}
  },
  {
   "source": [
    "### Find \n",
    "\n",
    "* \"find\" a word: simply start at the root and, for each letter of the word, follow the corresponding edge of the current node. If the edge you need to traverse does not exist, the word does not exist in the trie.\n",
    "\n",
    "* Also, even if you are able to traverse all of the required edges, if the node you land on is not labeled as a \"word node,\" the word does not exist in the trie. \n",
    "\n",
    "* A word only exists in the trie if you are able to traverse all of the required edges and the node you reach at the end of the traversal is labeled as a \"word node.\"\n",
    "\n",
    "Below is a simple example, where Σ = {a, ..., z}, on which we perform the find operation on the word **ate**.\n",
    "\n",
    "> Note that, even though there exists a valid path from the root to the word at (which is a prefix of ate), the word at does not appear in our Multiway Trie because the node we reach after following the path labeled by at is not labeled as a \"word node.\"\n",
    "\n",
    "<center><img src=\"https://ucarecdn.com/3014338e-4781-4eb7-a411-a42167c507c8/\" width=700/></center>"
   ],
   "cell_type": "markdown",
   "metadata": {}
  },
  {
   "source": [
    "### Remove \n",
    "\n",
    "* \"remove\" a word: simply follow the find algorithm. \n",
    "\n",
    "* If the find algorithm fails, the word does not exist in the trie, meaning nothing has to be done. \n",
    "\n",
    "* If the find algorithm succeeds, simply remove the \"word node\" label from the node at which the find algorithm terminates. \n",
    "\n",
    "> In the example below, we remove the word **ate** from the trie above by simply traversing the path spelled by ate and removing the \"word node\" label from the final node on the path.\n",
    "\n",
    "<center><img src=\"https://ucarecdn.com/720cb00f-7b83-48a8-a763-1941aca10584/\" width=800/></center>"
   ],
   "cell_type": "markdown",
   "metadata": {}
  },
  {
   "source": [
    "### Insert \n",
    "\n",
    "* \"insert\" a word: simply attempt to follow the find algorithm. \n",
    "\n",
    "* If, at any point, the edge we need to traverse does not exist, simply create the edge (and node to which it should point), and continue. \n",
    "\n",
    "In the example below, we add the word **ant** to the given trie\n",
    "\n",
    "<center><img src=\"https://ucarecdn.com/0ba2809d-8351-45c6-a424-26d231832c5b/\" width=800/></center>\n",
    "\n",
    "* in a Multiway Trie, letters label edges of the trie, not nodes!\n",
    "\n",
    "* Specifically, note that an \"empty\" Multiway Trie (i.e., a Multiway Trie with no keys) is a single-node tree with no edges.\n",
    "\n",
    "* Then, if I were to insert even a single-letter key (a in the example below), I would create a second node, and **a** would label the edge connecting my root node and this new node\n",
    "\n",
    "<center><img src=\"https://ucarecdn.com/d54c4e7a-ee9a-4247-99a4-a3221eb5e06c/\" width=400/></center>"
   ],
   "cell_type": "markdown",
   "metadata": {}
  },
  {
   "source": [
    "```\n",
    "find(word): // find word in this Multiway Trie\n",
    "    curr = root\n",
    "    for each character c in word:\n",
    "        if curr does not have an outgoing edge labeled by c:\n",
    "            return False\n",
    "        else:\n",
    "            curr = child of curr along edge labeled by c\n",
    "    if curr is a word-node:\n",
    "        return True\n",
    "    else:\n",
    "        return False\n",
    "\n",
    "remove(word): // remove word from this Multiway Trie\n",
    "    curr = root\n",
    "    for each character c in word:\n",
    "        if curr does not have an outgoing edge labeled by c:\n",
    "            return\n",
    "        else:\n",
    "            curr = child of curr along edge labeled by c\n",
    "    if curr is a word-node:\n",
    "        remove the word-node label of curr\n",
    "        \n",
    "insert(word): // insert word into this Multiway Trie\n",
    "    curr = root\n",
    "    for each character c in word:\n",
    "        if curr does not have an outgoing edge labeled by c:\n",
    "            create a new child of curr with the edge labeled by c\n",
    "        curr = child of curr along edge labeled by c\n",
    "    if curr is not a word-node:\n",
    "        label curr as a word-node\n",
    "```"
   ],
   "cell_type": "markdown",
   "metadata": {}
  },
  {
   "source": [
    "For example, below is an example of a Multiway Trie with Σ = {A, C, G, T} which stores the words TGA, TAA, and TAG (the three STOP codons of protein translation as they appear in DNA, for those who are interested)\n",
    "\n",
    "<center><img src=\"https://ucarecdn.com/8fd9215c-e2c6-4dc5-9574-68a14e038ef9/\" width=300/></center>\n"
   ],
   "cell_type": "markdown",
   "metadata": {}
  },
  {
   "source": [
    "Based on this representation, intuitively, we might think that each node object should have a list of edges. \n",
    "\n",
    "> Recall that our motivation for discussing a Multiway Trie was to achieve a worst-case time complexity of O(k), where k is the length of the longest word, to find, insert, and remove words. This means that each individual edge traversal should be O(1) (and we do k O(1) edge traversals, one for each letter of our word, resulting in a O(k) time complexity overall). However, if we were to store the edges as a list, we would unfortunately have to perform a O(|Σ|) search operation to find a given edge, where |Σ| is the size of our alphabet.\n",
    "\n",
    "To combat this and maintain the O(1) edge traversals, we instead allocate space for all of the edges that can come out of a given node right off the bat in the form of an array. We fill in the slots for edges that we use, and we leave the slots for unused edges empty. This way, if we're at some node u and if we're given some character c, we can find the edge coming out of u that is labeled by c in O(1) time by simply going to the corresponding slot of the array of edges. This O(1) time complexity to find an edge given a character c assumes that we have a way of mapping c to an index in our array of edges in O(1) time, which is a safe assumption. \n",
    "\n",
    "Below is a diagram representing the same Multiway Trie as above, but in a fashion more similar to the actual implementation. Note that, in the example, just like before, we are using the DNA alphabet for the sake of simplicity (i.e., Σ = {A, C, G, T}), not the English alphabet.\n",
    "\n",
    "<center><img src=\"https://ucarecdn.com/6faf9496-14b9-4323-805d-7c5c66d92072/\" width=800/></center>"
   ],
   "cell_type": "markdown",
   "metadata": {}
  },
  {
   "source": [
    "Because of the clean structure of a Multiway Trie, we can iterate through the elements in the trie in sorted order by performing a pre-order traversal on the trie (or a post-order traversal for descending sorted order). \n",
    "\n",
    "Below is the pseudocode to recursively output all words in a Multiway Trie in ascending or descending alphabetical order (we would call either function on the root):\n",
    "\n",
    "```\n",
    "ascendingPreOrder(node): // Recursively iterate over the words in ascending order\n",
    "    if node is a word-node:\n",
    "        output the word labeled by path from root to node\n",
    "    for each child of node (in ascending order):\n",
    "        ascendingPreOrder(child)\n",
    "        \n",
    "descendingPostOrder(node): // Recursively iterate over the words in descending order\n",
    "    for each child of node (in descending order):\n",
    "        descendingPreOrder(child)\n",
    "    if node is a word-node:\n",
    "        output the word labeled by path from root to node\n",
    "```\n",
    "\n",
    "We can use this recursive pre-order traversal technique to provide another useful function to our Multiway Trie: **auto-complete**. \n",
    "\n",
    "So, if we were given a prefix and we wanted to output all the words in our Multiway Trie that start with this prefix, we can traverse down the trie along the path labeled by the prefix, and we can then call the recursive pre-order traversal function on the node we reached."
   ],
   "cell_type": "markdown",
   "metadata": {}
  },
  {
   "cell_type": "code",
   "execution_count": 60,
   "metadata": {},
   "outputs": [],
   "source": [
    "class Node:\n",
    "    def __init__(self):\n",
    "        self.is_word = False\n",
    "        self.children = [None]*26\n",
    "\n",
    "class MultiwayTrie:\n",
    "    def __init__(self):\n",
    "        self.root = Node()\n",
    "\n",
    "    # Return True if Lexicon contains word, otherwise return False\n",
    "    def find(self, word):\n",
    "        curr = self.root \n",
    "        for letter in word:\n",
    "            if curr.children[ord(letter) - ord('A')] is None:\n",
    "                return False\n",
    "            else:\n",
    "                curr = curr.children[ord(letter) - ord('A')]\n",
    "        if curr.is_word:\n",
    "            return True \n",
    "        else:\n",
    "            return False\n",
    "\n",
    "    # Insert word into Lexicon (return nothing)\n",
    "    def insert(self, word):\n",
    "        curr = self.root\n",
    "        for letter in word:\n",
    "            if curr.children[ord(letter) - ord('A')] is None:\n",
    "                curr.children[ord(letter) - ord('A')] = Node()\n",
    "            curr = curr.children[ord(letter) - ord('A')]\n",
    "        if not curr.is_word:\n",
    "            curr.is_word = True\n",
    "\n",
    "    # Remove word from Lexicon (return nothing)\n",
    "    def remove(self, word):\n",
    "        curr = self.root\n",
    "        for letter in word:\n",
    "            if curr.children[ord(letter) - ord('A')] is None:\n",
    "                return\n",
    "            else:\n",
    "                curr = curr.children[ord(letter) - ord('A')]\n",
    "        if curr.is_word:\n",
    "            curr.is_word = False"
   ]
  },
  {
   "cell_type": "code",
   "execution_count": 62,
   "metadata": {},
   "outputs": [],
   "source": [
    "class Lexicon:\n",
    "    def __init__(self):\n",
    "        self.mwt = MultiwayTrie()\n",
    "\n",
    "    # Return True if Lexicon contains word, otherwise return False\n",
    "    def find(self, word):\n",
    "        return self.mwt.find(word)\n",
    "\n",
    "    # Insert word into Lexicon (return nothing)\n",
    "    def insert(self, word):\n",
    "        self.mwt.insert(word)\n",
    "\n",
    "    # Remove word from Lexicon (return nothing)\n",
    "    def remove(self, word):\n",
    "        self.mwt.remove(word)"
   ]
  },
  {
   "cell_type": "code",
   "execution_count": 63,
   "metadata": {},
   "outputs": [
    {
     "output_type": "execute_result",
     "data": {
      "text/plain": [
       "True"
      ]
     },
     "metadata": {},
     "execution_count": 63
    }
   ],
   "source": [
    "my_multi_lexicon = Lexicon()\n",
    "\n",
    "my_multi_lexicon.insert('NIEMA')\n",
    "my_multi_lexicon.find('NIEMA')"
   ]
  },
  {
   "source": [
    "## Lexicon via Ternary Search Trees \n",
    "\n"
   ],
   "cell_type": "markdown",
   "metadata": {}
  },
  {
   "source": [
    "* Ternary Search Tree = a data structure that serves as a middle-ground between the Binary Search Tree and the Multiway Trie. \n",
    "\n",
    "* The Ternary Search Tree is a type of trie, structured in a fashion similar to Binary Search Trees, that was first described in 1979 by Jon Bentley and James Saxe.\n",
    "\n",
    "* \"find\", \"insert\", \"remove\": `O(log n)` average-case time complexity\n",
    "* \"find\", \"insert\", \"remove\": `O(n)` worst-case time complexity\n",
    "* a bit slower than Multiway Tries, but significantly more space-efficient\n",
    "\n",
    "> nice middle-ground between the time-efficiency of a Multiway Tries and the space-efficiency of a Binary Search Tree."
   ],
   "cell_type": "markdown",
   "metadata": {}
  },
  {
   "source": [
    "The Trie is a tree structure in which the elements that are being stored are not represented by the value of a single node.\n",
    "\n",
    "Instead, elements stored in a Trie are denoted by the concatenation of the labels on the path from the root to the node representing the corresponding element. \n",
    "\n",
    "The Ternary Search Tree (TST) is a type of trie in which nodes are arranged in a manner similar to a Binary Search Tree, but with up to three children rather than the binary tree's limit of two.\n",
    "\n",
    "Each node of a Ternary Search Tree stores a single character from our alphabet Σ and can have three children: a middle child, left child, and right child. \n",
    "\n",
    "Furthermore, just like in a Multiway Trie, nodes that represent keys are labeled as \"word nodes\" in some way (for our purposes, we will color them blue). \n",
    "\n",
    "Just like in a Binary Search Tree, for every node u, the left child of u must have a value less than u, and the right child of u must have a value greater than u. The middle child of u represents the next character in the current word.\n",
    "\n",
    "Below is an example of a Ternary Search Tree that contains the words call, me, mind, and mid\n",
    "\n",
    "<center><img src=\"https://ucarecdn.com/1349d75d-a32c-4ccb-b4ba-dffe57cb3067/\" width=300/></center>"
   ],
   "cell_type": "markdown",
   "metadata": {}
  },
  {
   "source": [
    "In a Multiway Trie, a word was defined as the concatenation of edge labels along the path from the root to a \"word node.\" In a Ternary Search Tree, the definition of a word is a bit more complicated:\n",
    "\n",
    "For a given \"word node,\" define the path from the root to the \"word node\" as path, and define S as the set of all nodes in path that have a middle child also in path. The word represented by the \"word node\" is defined as the concatenation of the labels of each node in S, along with the label of the \"word node\" itself.\n",
    "\n",
    "## Find \n",
    "\n",
    "To find a word key, we start our tree traversal at the root of the the Ternary Search Tree. Let's denote the current node as node and the current letter of key as letter:\n",
    "\n",
    "* If letter is less than node's label: If node has a left child, traverse down to node's left child. Otherwise, we have failed (key does not exist in this Ternary Search Tree)\n",
    "\n",
    "* If letter is greater than node's label: If node has a right child, traverse down to node's right child. Otherwise, we have failed (key does not exist in this Ternary Search Tree)\n",
    "\n",
    "* If letter is equal to node's label: If letter is the last letter of key and if node is labeled as a \"word node,\" we have successfully found key in our Ternary Search Tree; if not, we have failed. \n",
    "\n",
    "* Otherwise, if node has a middle child, traverse down to node's middle child and set letter to the next character of key; if not, we have failed (key does not exist in this Ternary Search Tree)\n",
    "\n",
    "Below is formal pseudocode for the find algorithm of the Ternary Search Tree:\n",
    "\n",
    "```\n",
    "find(key): // return True if key exists in this TST, otherwise return False\n",
    "    node = root node of the TST\n",
    "    letter = first letter of key\n",
    "    loop infinitely:\n",
    "        // left child\n",
    "        if letter < node.label:\n",
    "            if node has a left child:\n",
    "                node = node.leftChild\n",
    "            else:\n",
    "                return False     // key cannot exist in this TST\n",
    "\n",
    "        // right child\n",
    "        else if letter > node.label:\n",
    "            if node has a right child:\n",
    "                node = node.rightChild\n",
    "            else:\n",
    "                return False     // key cannot exist in this TST\n",
    "\n",
    "        // middle child\n",
    "        else:\n",
    "            if letter is the last letter of key and node is a word-node:\n",
    "                return True      // we found key in this TST!\n",
    "            else:\n",
    "                if node has a middle child:\n",
    "                    node = node.middleChild\n",
    "                    letter = next letter of key\n",
    "                else:\n",
    "                    return False // key cannot exist in this TST\n",
    "```\n"
   ],
   "cell_type": "markdown",
   "metadata": {}
  },
  {
   "source": [
    "### Find mid word\n",
    "\n",
    "<center><img src=\"https://ucarecdn.com/6aba1a9b-3bec-44d3-9ac1-f02eb8607b66/\" width=300/></center>\n",
    "\n",
    "1. We start with node as the root node ('c') and letter as the first letter of mid ('m')\n",
    "2. letter ('m') is greater than the label of node ('c'), so set node to the right child of node ('m')\n",
    "3. letter ('m') is equal to the label of node ('m'), so set node to the middle child of node ('e') and set letter to the next letter of mid ('i')\n",
    "4. letter ('i') is greater than the label of node ('e'), so set node to the right child of node ('i')\n",
    "5. letter ('i') is equal to the label of node ('i'), so set node to the middle child of node ('n') and set letter to the next letter of mid ('d')\n",
    "6. letter ('d') is less than the label of node ('n'), so set node to the left child of node ('d')\n",
    "7. letter ('d') is equal to the label of node ('d'), letter is already on the last letter of mid ('d'), and node is a \"word node,\" so success!"
   ],
   "cell_type": "markdown",
   "metadata": {}
  },
  {
   "source": [
    "### Find cme word\n",
    "\n",
    "<center><img src=\"https://ucarecdn.com/6aba1a9b-3bec-44d3-9ac1-f02eb8607b66/\" width=300/></center>\n",
    "\n",
    "1. We start with node as the root node ('c') and letter as the first letter of cme ('c')\n",
    "2. letter ('c') is equal to the label of node ('c'), so set node to the middle child of node ('a') and set letter to the next letter of cme ('m')\n",
    "3. letter ('m') is greater than the label of node ('a'), but node does not have a right child, so we failed"
   ],
   "cell_type": "markdown",
   "metadata": {}
  },
  {
   "source": [
    "## Remove \n",
    "\n",
    "```\n",
    "remove(key): // remove key if it exists in this TST\n",
    "    node = root node of the TST\n",
    "    letter = first letter of key\n",
    "    loop infinitely:\n",
    "        // left child\n",
    "        if letter < node.label:\n",
    "            if node has a left child:\n",
    "                node = node.leftChild\n",
    "            else:\n",
    "                return                               // key cannot exist in this TST\n",
    "\n",
    "        // right child\n",
    "        else if letter > node.label:\n",
    "            if node has a right child:\n",
    "                node = node.rightChild\n",
    "            else:\n",
    "                return                               // key cannot exist in this TST\n",
    "\n",
    "        // middle child\n",
    "        else:\n",
    "            if letter is the last letter of key and node is a word-node:\n",
    "                remove the word-node label from node // found key, so remove it from the TST\n",
    "                return\n",
    "            else:\n",
    "                if node has a middle child:\n",
    "                    node = node.middleChild\n",
    "                    letter = next letter of key\n",
    "                else:\n",
    "                    return                           // key cannot exist in this TST\n",
    "```"
   ],
   "cell_type": "markdown",
   "metadata": {}
  },
  {
   "source": [
    "### Remove mid word \n",
    "\n",
    "<center><img src=\"https://ucarecdn.com/78791ffc-151c-40b0-a879-306366b27780/\" width=800/></center>\n",
    "\n",
    "1. We start with node as the root node ('c') and letter as the first letter of mid ('m')\n",
    "2. letter ('m') is greater than the label of node ('c'), so set node to the right child of node ('m')\n",
    "3. letter ('m') is equal to the label of node ('m'), so set node to the middle child of node ('e') and set letter to the next letter of mid ('i')\n",
    "5. letter ('i') is greater than the label of node ('e'), so set node to the right child of node ('i')\n",
    "6. letter ('i') is equal to the label of node ('i'), so set node to the middle child of node ('n') and set letter to the next letter of mid ('d')\n",
    "8. letter ('d') is less than the label of node ('n'), so set node to the left child of node ('d')\n",
    "letter ('d') is equal to the label of node ('d'), letter is already on the last letter of mid, and node is a \"word node,\" so mid exists in the tree!\n",
    "9. Remove the \"word node\" label from node"
   ],
   "cell_type": "markdown",
   "metadata": {}
  },
  {
   "source": [
    "## Insert \n",
    "\n",
    "* If you're able to legally traverse through the tree for every letter of key (which implies key is a prefix of another word in the tree), simply label the node at which you end up as a \"word node\"\n",
    "\n",
    "* If you are performing the tree traversal and run into a case where you want to traverse left or right, but no such child exists, create a new left/right child labeled by the current letter of key, and then create middle children labeled by each of the remaining letters of key\n",
    "\n",
    "* If you run into a case where you want to traverse down to a middle child, but no such child exists, simply create middle children labeled by each of the remaining letters of key\n",
    "\n",
    "Ю Note that, for the same reasons insertion order affected the shape of a Binary Search Tree, the order in which we insert keys into a Ternary Search Tree affects the shape of the tree. For example, just like in a Binary Search Tree, the root node is determined by the first element inserted into a Ternary Search Tree.\n",
    "\n",
    "Below is formal pseudocode for the insert algorithm of the Ternary Search Tree:\n",
    "\n",
    "```\n",
    "insert(key): // insert key into this TST\n",
    "    node = root node of the TST\n",
    "    letter = first letter of key\n",
    "\n",
    "    loop infinitely:\n",
    "        // left child\n",
    "        if letter < node.label:\n",
    "            if node has a left child:\n",
    "                node = node.leftChild\n",
    "\n",
    "            else:\n",
    "                node.leftChild = new node labeled by letter\n",
    "                node = node.leftChild\n",
    "\n",
    "                iterate letter over the remaining letters of key:\n",
    "                    node.middleChild = new node labeled by letter\n",
    "                    node = node.middleChild\n",
    "\n",
    "                label node as a word-node\n",
    "                break\n",
    "\n",
    "        // right child\n",
    "        else if letter > node.label:\n",
    "            if node has a right child:\n",
    "                node = node.rightChild\n",
    "\n",
    "            else:\n",
    "                node.rightChild = new node labeled by letter\n",
    "                node = node.rightChild\n",
    "\n",
    "                iterate letter over the remaining letters of key:\n",
    "                    node.middleChild = new node labeled by letter\n",
    "                    node = node.middleChild\n",
    "\n",
    "                label node as a word-node\n",
    "                break\n",
    "\n",
    "        // middle child\n",
    "        else:\n",
    "            if letter is the last letter of key:\n",
    "                label node as a word-node\n",
    "                return true\n",
    "\n",
    "            else:\n",
    "                if node has a middle child:\n",
    "                    node = node.middleChild\n",
    "                    letter = next letter of key\n",
    "                else:\n",
    "                    iterate letter over the remaining letters of key:\n",
    "                        node.middleChild = new node labeled by letter\n",
    "                        node = node.middleChild\n",
    "\n",
    "                    label node as a word-node\n",
    "                    break\n",
    "```"
   ],
   "cell_type": "markdown",
   "metadata": {}
  },
  {
   "source": [
    "### Insert cabs \n",
    "\n",
    "<center><img src=\"https://ucarecdn.com/61d1284c-6849-4101-8e99-405a2779a286/\" width=800/></center>\n",
    "\n",
    "1. We start with node as the root node ('c') and letter as the first letter of cabs ('c')\n",
    "2. letter ('c') is equal to the label of node ('c'), so set node to the middle child of node ('a') and set letter to the next letter of cabs ('a')\n",
    "3. letter ('a') is equal to the label of node ('a'), so set node to the middle child of node ('l') and set letter to the next letter of cabs ('b')\n",
    "4. letter ('b') is less than the label of node ('l'), but node does not have a left child:\n",
    "5. Create a new node as the left child of node, and label the new node with letter ('b')\n",
    "6. Set node to the left child of node ('b') and set letter to the next letter of cabs ('s')\n",
    "7. Create a new node as the middle child of node ('s'), and label the new node with letter ('s')\n",
    "8. Set node to the middle child of node ('s')\n",
    "9. letter is already on the last letter of cabs, so label node as a \"word node\" and we're done!"
   ],
   "cell_type": "markdown",
   "metadata": {}
  },
  {
   "source": [
    "```\n",
    "ascendingInOrder(node): // Recursively iterate over the words in ascending order\n",
    "    for left child of node (in ascending order):\n",
    "        ascendingInOrder(child)\n",
    "    if node is a word-node:\n",
    "        output the word labeled by path from root to node\n",
    "    for middle child of node (in ascending order):\n",
    "        ascendingInOrder(child)\n",
    "    for right child of node (in ascending order):\n",
    "        ascendingInOrder(child)\n",
    "```"
   ],
   "cell_type": "markdown",
   "metadata": {}
  },
  {
   "source": [
    "```\n",
    "descendingInOrder(node): // Recursively iterate over the words in descending order\n",
    "    for right child of node (in descending order):\n",
    "        descendingInOrder(child)\n",
    "    if node is a word-node:\n",
    "        output the word labeled by path from root to node\n",
    "    for middle child of node (in descending order):\n",
    "        descendingInOrder(child)\n",
    "    for left child of node (in descending order):\n",
    "        descendingInOrder(child)\n",
    "```"
   ],
   "cell_type": "markdown",
   "metadata": {}
  },
  {
   "source": [
    "We can use this recursive in-order traversal technique to provide another useful function to our Ternary Search Tree: **auto-complete**. \n",
    "\n",
    "If we were given a prefix and we wanted to output all words in our Ternary Search Tree that start with this prefix, we can traverse down the trie along the path labeled by the prefix, and we can then call the recursive in-order traversal function on the node we reached."
   ],
   "cell_type": "markdown",
   "metadata": {}
  },
  {
   "cell_type": "code",
   "execution_count": null,
   "metadata": {},
   "outputs": [],
   "source": []
  }
 ]
}