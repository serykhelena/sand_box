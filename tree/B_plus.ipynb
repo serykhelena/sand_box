{
 "metadata": {
  "language_info": {
   "codemirror_mode": {
    "name": "ipython",
    "version": 3
   },
   "file_extension": ".py",
   "mimetype": "text/x-python",
   "name": "python",
   "nbconvert_exporter": "python",
   "pygments_lexer": "ipython3",
   "version": 3
  },
  "orig_nbformat": 2
 },
 "nbformat": 4,
 "nbformat_minor": 2,
 "cells": [
  {
   "source": [
    "# B+ Tree"
   ],
   "cell_type": "markdown",
   "metadata": {}
  },
  {
   "source": [
    "* self-balancing \n",
    "\n",
    "* Common Usage: store LARGE data sets \n",
    "\n",
    "* grows UPWARD \n",
    "\n",
    "* Duplicates of data record are not allowed! \n",
    "\n",
    "* Different data records can share the same key (Linked List)"
   ],
   "cell_type": "markdown",
   "metadata": {}
  },
  {
   "source": [
    "* black = keys \n",
    "\n",
    "* purple = leaves with ALL data records \n",
    "\n",
    "> some integeres are repeated twice, one = key, another = data (e.g. 7 and 7)\n",
    "\n",
    "<center><img src=\"https://ucarecdn.com/884bf22a-77b8-4ad6-ae54-c4d5ab630328/\" width=\"600\" height=\"300\"/></center>\n",
    "\n",
    "* leaves connected and sorted (Linked List)"
   ],
   "cell_type": "markdown",
   "metadata": {}
  },
  {
   "source": [
    "* Definition of B+ Tree: M = max number of children a node can have; L = max number of data records in leaf node "
   ],
   "cell_type": "markdown",
   "metadata": {}
  },
  {
   "source": [
    "### Properties of B+ Tree \n",
    "\n",
    "1. Every node has at most M children\n",
    "2. Every internal node (except the root) has at least ⌈M/2⌉ children\n",
    "3. The root has at least 2 children if it is not a leaf\n",
    "4. An internal node with k children contains k−1 keys\n",
    "5. All leaves appear on the same level of the tree\n",
    "6. Internal nodes contain only search keys (i.e., no data records)\n",
    "7. The smallest data record between search keys x and y equals x\n",
    "\n",
    "> 6 and 7 = main difference between B Tree and B+ Tree \n",
    "\n",
    "> e.g. the data record 7 is stored between the keys 7 and 20. The data record 20 is stored between the keys 20 and NULL."
   ],
   "cell_type": "markdown",
   "metadata": {}
  },
  {
   "source": [
    "### Insert new element\n",
    "\n",
    "> M = 3, L = 3 (i.e., the leaves can have a maximum of 3 data records and the internal nodes can have a maximum of 2 keys and 3 child pointers)\n",
    "\n",
    "<center><img src=\"https://ucarecdn.com/27d6753c-a321-4bf2-bf57-31b6809fdd70/\" width=\"500\" height=\"300\"/></center>\n",
    "\n",
    "<center><img src=\"https://ucarecdn.com/14f3a575-2531-4a64-8dfb-c361daf29039/\" width=\"500\" height=\"300\"/></center>\n",
    "\n",
    "* new root = 7 = the smallest data record of the second part (property #7)\n",
    "\n",
    "* initially inserted elements into data record nodes (the purple nodes).\n",
    "\n",
    "* all data record must be in the same level.\n",
    "\n",
    "* create a key node (the black node) containing the key 7 and used it to grow the tree upward.\n",
    "\n",
    "> B+ Tree with M = 3, L = 3 = 2-3 Tree (the internal nodes can have a maximum of 2 keys and the leaves can have a maximum of 3 data records.)"
   ],
   "cell_type": "markdown",
   "metadata": {}
  },
  {
   "source": [
    "> new B+ tree \n",
    "\n",
    "<center><img src=\"https://ucarecdn.com/9489d511-8a1e-48cc-9f3a-699d35feee0b/\" width=\"700\" height=\"300\"/></center>\n",
    "\n",
    "<center><img src=\"https://ucarecdn.com/20970bb2-212c-4c8f-a462-c7be3dbec5bf/\" width=\"700\" height=\"300\"/></center>\n",
    "\n",
    "* because no data record nodes nor key nodes face an overflow - data record 57 can be safely inserted.\n",
    "\n",
    "<center><img src=\"https://ucarecdn.com/73d171d2-f7fd-406f-a192-ccf2fd1e3434/\" width=\"700\" height=\"400\"/></center>\n",
    "\n",
    "<center><img src=\"https://ucarecdn.com/5dafc87e-3261-42a1-88df-c42b60aee527/\" width=\"700\" height=\"200\"/></center>\n",
    "\n",
    "<center><img src=\"https://ucarecdn.com/46232fe8-5f2c-4d03-ae0e-fdd49baae0e8/\" width=\"700\" height=\"300\"/></center>\n",
    "\n",
    "<center><img src=\"https://ucarecdn.com/04093904-3c3b-4200-80ca-cf9f3e17a2bc/\" width=\"700\" height=\"300\"/></center>\n",
    "\n",
    "<center><img src=\"https://ucarecdn.com/62c1620c-b597-427e-8262-13a12cd50a1d/\" width=\"700\" height=\"300\"/></center>\n",
    "\n",
    "<center><img src=\"https://ucarecdn.com/fe7b4c02-f22f-4259-9333-3a5950355658/\" width=\"700\" height=\"300\"/></center>\n",
    "\n",
    "<center><img src=\"https://ucarecdn.com/2719fd43-289a-41ea-a149-cad686b61e7c/\" width=\"700\" height=\"300\"/></center>\n",
    "\n",
    "<center><img src=\"https://ucarecdn.com/01bff600-0af8-4e6e-8686-ca48a757ee28/\" width=\"700\" height=\"300\"/></center>\n",
    "\n",
    "* When growing upward directly from the leaves, we grow a key (i.e., we do not move the actual data record up a level)! \n",
    "\n",
    "<center><img src=\"https://ucarecdn.com/36b40a33-ae8a-4635-9bab-0b8f15aea454/\" width=\"700\" height=\"300\"/></center>"
   ],
   "cell_type": "markdown",
   "metadata": {}
  },
  {
   "source": [
    "| Operation                | Worst Time Complexity       | Worst Time Complexity (memory) |\n",
    "|:------------------------:|:---------------------------:|:------------------------------:|\n",
    "| Insert new element       | $ O(M * \\log_M n + L ) $    | $ O(M * \\log_M n + L ) $       |\n",
    "| Find key (binary search) | $ O(\\log_2 n + \\log_2 L ) $ | $ O(M * \\log_M n + L ) $       |\n",
    "| Delete key               | $ O(M * \\log_M n + L ) $    | $ O(M * \\log_M n + L ) $       |\n",
    "|<img width=\"250\"/>        |<img width=\"250\"/>           |<img width=\"250\"/>              |"
   ],
   "cell_type": "markdown",
   "metadata": {}
  },
  {
   "source": [
    "* [visualization](https://www.cs.usfca.edu/~galles/visualization/BPlusTree.html)"
   ],
   "cell_type": "markdown",
   "metadata": {}
  },
  {
   "cell_type": "code",
   "execution_count": null,
   "metadata": {},
   "outputs": [],
   "source": []
  },
  {
   "cell_type": "code",
   "execution_count": null,
   "metadata": {},
   "outputs": [],
   "source": []
  },
  {
   "cell_type": "code",
   "execution_count": null,
   "metadata": {},
   "outputs": [],
   "source": []
  }
 ]
}