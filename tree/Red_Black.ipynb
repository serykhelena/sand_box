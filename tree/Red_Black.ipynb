{
 "metadata": {
  "language_info": {
   "codemirror_mode": {
    "name": "ipython",
    "version": 3
   },
   "file_extension": ".py",
   "mimetype": "text/x-python",
   "name": "python",
   "nbconvert_exporter": "python",
   "pygments_lexer": "ipython3",
   "version": 3
  },
  "orig_nbformat": 2
 },
 "nbformat": 4,
 "nbformat_minor": 2,
 "cells": [
  {
   "source": [
    "## Red Black Tree "
   ],
   "cell_type": "markdown",
   "metadata": {}
  },
  {
   "source": [
    "* self-balancing Binary Search Tree \n",
    "* worst-case time complexity **O(log n)**\n",
    "* AVL Tree are more balanced than Rad-Black Tree \n"
   ],
   "cell_type": "markdown",
   "metadata": {}
  },
  {
   "source": [
    "### Properties\n",
    "\n",
    "1. All nodes must be \"colored\" either red or black\n",
    "2. The root of the tree must be black\n",
    "3. If a node is red, all of its children must be black (i.e., we can’t have a red node with a red child)\n",
    "4. For any given node u, every possible path from u to a \"null reference\" (i.e., an empty left or right child) must contain the same number of black nodes\n",
    "\n",
    "> \"null references\" are colored black \n",
    "\n",
    "> (In other words, if some node has a right child but no left child, we assume this \"phantom\" left child is colored black.)"
   ],
   "cell_type": "markdown",
   "metadata": {}
  },
  {
   "source": [
    "<center><img src=\"https://ucarecdn.com/f38e1e1c-bb00-4983-aed3-c86e2b0b8d0d/\" width=700/></center>\n",
    "\n",
    "<center><img src=\"https://ucarecdn.com/16fa2537-57ec-4476-a4a3-5f617abb23a0/\" width=700/></center>\n",
    "\n"
   ],
   "cell_type": "markdown",
   "metadata": {}
  },
  {
   "source": [
    "### Red-Black Tree Rotation\n",
    "\n",
    "<center><img src=\"https://ucarecdn.com/50a4e08f-c978-4e37-83dc-5414d14b4c54/\" width=1000/></center>\n",
    "\n",
    "<center><img src=\"https://ucarecdn.com/25d46740-23fa-497e-89df-a2df34b11b0d/\" width=1000/></center>\n",
    "\n",
    "<center><img src=\"https://ucarecdn.com/6b4ed040-5612-471a-8c36-f5a4f86f9741/\" width=1000/></center>\n"
   ],
   "cell_type": "markdown",
   "metadata": {}
  },
  {
   "source": [
    "### Red-Black Tree Insertion\n",
    "\n",
    "<center><img src=\"https://ucarecdn.com/a7c90c6e-5ca0-4b09-8605-0a88742165be/\" width=400/></center>\n",
    "\n",
    "<center><img src=\"https://ucarecdn.com/5ab7920d-2b12-4718-bfbb-a41c36f089e2/\" width=500/></center>\n",
    "\n",
    "> if the newly-inserted node is the child of a black node \n",
    "\n",
    "<center><img src=\"https://ucarecdn.com/3cdeab64-a600-448d-be81-87e8fdd5f739/\" width=700/></center>\n",
    "\n",
    "> if the new node is the child of a red node, if the nodes are in a straight line -> single rotation and a recoloring\n",
    "\n",
    "<center><img src=\"https://ucarecdn.com/f6a085dd-b78c-4380-ac49-be0850e7ef9d/\" width=900/></center>\n",
    "\n",
    "> if the new node is the child of a red node, if the nodea are in a kink -> sigle rotation to transform them into a straight line\n",
    "\n",
    "<center><img src=\"https://ucarecdn.com/6050241c-a008-48df-ab28-1fbe09edecbe/\" width=900/></center>"
   ],
   "cell_type": "markdown",
   "metadata": {}
  },
  {
   "source": [
    "| Operation                | Worst Time Complexity       | Worst Time Complexity (memory) |\n",
    "|:------------------------:|:---------------------------:|:------------------------------:|\n",
    "| Insert new element       | $ O(\\log n ) $              | $ O(\\log n) $                  |\n",
    "| Find key (binary search) | $ O(\\log n ) $              | $ O(\\log n ) $                 |\n",
    "| Delete key               | $ O(\\log n ) $              | $ O(\\log n ) $                 |\n",
    "|<img width=\"250\"/>        |<img width=\"250\"/>           |<img width=\"250\"/>              |\n",
    "\n",
    "[visualization](https://www.cs.usfca.edu/~galles/visualization/RedBlack.html)"
   ],
   "cell_type": "markdown",
   "metadata": {}
  },
  {
   "cell_type": "code",
   "execution_count": null,
   "metadata": {},
   "outputs": [],
   "source": []
  }
 ]
}