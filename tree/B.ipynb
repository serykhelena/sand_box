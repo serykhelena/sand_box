{
 "metadata": {
  "language_info": {
   "codemirror_mode": {
    "name": "ipython",
    "version": 3
   },
   "file_extension": ".py",
   "mimetype": "text/x-python",
   "name": "python",
   "nbconvert_exporter": "python",
   "pygments_lexer": "ipython3",
   "version": "3.8.5-final"
  },
  "orig_nbformat": 2,
  "kernelspec": {
   "name": "python3",
   "display_name": "Python 3"
  }
 },
 "nbformat": 4,
 "nbformat_minor": 2,
 "cells": [
  {
   "source": [
    "# B Tree"
   ],
   "cell_type": "markdown",
   "metadata": {}
  },
  {
   "source": [
    "* self-balancing tree \n",
    "\n",
    "* the goal: to get fast access to elements (minimizing node traversals)\n",
    "\n",
    "* Common usage: databases, filesystems"
   ],
   "cell_type": "markdown",
   "metadata": {}
  },
  {
   "source": [
    "* grows UPWARD (horiz)\n",
    "\n",
    "* a node can have more than two children (tree grows faster in width than in heights)\n",
    "\n",
    "* keeps multiple keys in one node \n",
    "\n",
    "* min number of children any node us allowed to have = b \n",
    "\n",
    "* max number of children any node us allowed to have = 2*b \n",
    "\n",
    "* a node can store up to (2*b - 1)\n",
    "\n",
    "<center><img src=\"https://ucarecdn.com/16dad929-3cf5-43f7-abd8-23d3fed13dcc/\" width=\"700\" height=\"300\"/></center>"
   ],
   "cell_type": "markdown",
   "metadata": {}
  },
  {
   "source": [
    "* b = 2, max_b = 4 -> \n",
    "\n",
    "* each integer = key \n",
    "\n",
    "* left keys are smaller than the current key (7 > (2, 3, 6))\n",
    "\n",
    "* right keys are greater than the current key (7 < 13)\n"
   ],
   "cell_type": "markdown",
   "metadata": {}
  },
  {
   "source": [
    "### Properties of B Tree \n",
    "\n",
    "1. Every node has at most 2*b children\n",
    "2. Every internal node (except root) has at least b children\n",
    "3. The root has at least 2 children if it is not a leaf node\n",
    "4. An internal node with k children contains k–1 keys\n",
    "5. All keys of a node must be sorted in ascending order\n",
    "6. The child between two keys $ k_1 $ and $ k_2 $ contains all keys in the range $ [k_1, k_2] $\n",
    "7. All leaves appear in the same level !!"
   ],
   "cell_type": "markdown",
   "metadata": {}
  },
  {
   "source": [
    "### Insert new element \n",
    "\n",
    "<center><img src=\"https://ucarecdn.com/94ab1756-32cc-432b-aea3-a3e29fe3904a/\" width=\"400\" height=\"300\"/></center>\n",
    "<center><img src=\"https://ucarecdn.com/adea16b1-298e-4606-a548-b0cacd5f981e/\" width=\"400\" height=\"300\"/></center>\n",
    "\n",
    "* root = the largest key of the first half -> new root = 4 \n",
    "\n",
    "<center><img src=\"https://ucarecdn.com/7bc80fac-aa06-4fd4-bab6-a25e39bea8f2/\" width=\"400\" height=\"300\"/></center>\n",
    "<center><img src=\"https://ucarecdn.com/6d6fb385-a394-4b9d-bf49-982ea525df56/\" width=\"400\" height=\"150\"/></center>\n",
    "\n",
    "* because root is not full, 10 became a part of the root (the same for 12)\n",
    "\n",
    "<center><img src=\"https://ucarecdn.com/3587a97e-61b1-4ada-8554-f27727e0ebb3/\" width=\"400\" height=\"200\"/></center>\n",
    "<center><img src=\"https://ucarecdn.com/fc080953-6eff-4c0c-80f2-c29bba4661e2/\" width=\"400\" height=\"200\"/></center>\n",
    "<center><img src=\"https://ucarecdn.com/3b3e0cc1-376d-4760-994b-266e950ccb44/\" width=\"400\" height=\"300\"/></center>"
   ],
   "cell_type": "markdown",
   "metadata": {}
  },
  {
   "source": [
    "### Delete key \n",
    "\n",
    "* if do not cary about memory - mark key as 'deleted', do not use in find operation, but do not remove from memory (unnecessary new levels of nodes) = bad method (= \n",
    "\n",
    "* Delete a key at a leaf\n",
    "\n",
    "<center><img src=\"https://ucarecdn.com/e6adb0c8-1f8b-4986-8416-acc52f752fad/\" width=\"400\" height=\"300\"/></center>\n",
    "\n",
    "* Delete non-leaf key\n",
    "\n",
    "<center><img src=\"https://ucarecdn.com/3aea775a-4745-4727-9988-e1eb2cbc8880/\" width=\"400\" height=\"300\"/></center>\n",
    "\n",
    "* Filling the empty key\n",
    "1. The largest key from the left subtree\n",
    "2. The smallest key from the right subtree\n",
    "\n",
    "> If the node from which we took a key now also has an empty \"slot\" that needs to be filled (i.e., it wasn't a leaf)\n",
    "\n",
    "* Delete leaf-key (rich siblings)\n",
    "\n",
    "<center><img src=\"https://ucarecdn.com/0889ab24-0c09-417c-bb5b-747c5a1a20ba/\" width=\"400\" height=\"300\"/></center>\n",
    "\n",
    "<center><img src=\"https://ucarecdn.com/e28d04dd-a33b-40fa-8387-a887af07a854/\" width=\"400\" height=\"250\"/></center>\n",
    "\n",
    "* Delete leaf-key (poor siblings)\n",
    "\n",
    "<center><img src=\"https://ucarecdn.com/8686292f-18de-4135-96bb-41b49d6d8b8d/\" width=\"400\" height=\"300\"/></center>\n",
    "\n",
    "<center><img src=\"https://ucarecdn.com/fbae87f7-72fc-498a-a1f2-dc2dd0a59844/\" width=\"400\" height=\"250\"/></center>\n",
    "\n"
   ],
   "cell_type": "markdown",
   "metadata": {}
  },
  {
   "source": [
    "| Operation                | Worst Time Complexity | Worst Time Complexity (memory) |\n",
    "|:------------------------:|:---------------------:|:------------------------------:|\n",
    "| Insert new element       | $ O(b * \\log_b n ) $  | $ O(b * \\log_b n ) $           |\n",
    "| Find key (binary search) | $ O(\\log n ) $        | $ O(b * \\log_b n ) $           |\n",
    "| Delete key               | $ O(b * \\log_b n ) $  | $ O(b * \\log_b n ) $           |\n",
    "|<img width=\"250\"/>        |<img width=\"250\"/>     |<img width=\"250\"/>              |"
   ],
   "cell_type": "markdown",
   "metadata": {}
  },
  {
   "source": [
    "* [visualization](https://www.cs.usfca.edu/~galles/visualization/BTree.html)"
   ],
   "cell_type": "markdown",
   "metadata": {}
  },
  {
   "cell_type": "code",
   "execution_count": null,
   "metadata": {},
   "outputs": [],
   "source": []
  },
  {
   "cell_type": "code",
   "execution_count": null,
   "metadata": {},
   "outputs": [],
   "source": []
  },
  {
   "cell_type": "code",
   "execution_count": null,
   "metadata": {},
   "outputs": [],
   "source": []
  }
 ]
}