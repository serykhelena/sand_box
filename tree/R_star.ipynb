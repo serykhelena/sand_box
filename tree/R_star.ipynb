{
 "metadata": {
  "language_info": {
   "codemirror_mode": {
    "name": "ipython",
    "version": 3
   },
   "file_extension": ".py",
   "mimetype": "text/x-python",
   "name": "python",
   "nbconvert_exporter": "python",
   "pygments_lexer": "ipython3",
   "version": "3.8.5-final"
  },
  "orig_nbformat": 2,
  "kernelspec": {
   "name": "python3",
   "display_name": "Python 3"
  }
 },
 "nbformat": 4,
 "nbformat_minor": 2,
 "cells": [
  {
   "source": [
    "# R* Tree"
   ],
   "cell_type": "markdown",
   "metadata": {}
  },
  {
   "source": [
    "* R* tree creation - LONGER than R tree creation \n",
    "\n",
    "* R* tree query - FASTER the R tree query "
   ],
   "cell_type": "markdown",
   "metadata": {}
  },
  {
   "source": [
    "### R Tree \n",
    "\n",
    "* similar to B+ Tree \n",
    "\n",
    "* consist of a root, internal nodes, leaf nodes \n",
    "\n",
    "* root  - pointer reference to **largest** region(s) \n",
    "\n",
    "* internal nodes - hierarchically store pointers to child nodes (data bounded within parent's area)\n",
    "\n",
    "* leaf nodes - actual data within respective MBR \n",
    "\n",
    "> MBR = Minimun Bounding Regions = sub-reqions within entire space that group data as efficiently as possible \n",
    "\n",
    "\n",
    "<center><img src=\"https://cglab.ca/~cdillaba/comp5409_project/images/rtree.png\" width=\"500\" height=\"500\"/></center>\n",
    "\n",
    "\n",
    "\n",
    "\n"
   ],
   "cell_type": "markdown",
   "metadata": {}
  },
  {
   "source": [
    "> R = rectangle \n",
    "\n",
    "* the key idea - to group nearby objects and represent them with their minimum bounding rectangle in the next higher level of the tree \n",
    "\n",
    "* query object is compared only with objects within the bounding rectagle \n",
    "\n",
    "> kind of \"rough\" approximation \n",
    "\n",
    "\n",
    "<center><img src=\"https://github.com/emilrezanina/RTree/blob/master/screenshots/visualizationRTree.PNG?raw=true\" width=\"700\" height=\"500\"/></center>"
   ],
   "cell_type": "markdown",
   "metadata": {}
  },
  {
   "source": [
    "### Insert element \n",
    "\n",
    "* no need to augment MBR \n",
    "\n",
    "<center><img src=\"https://sun9-60.userapi.com/impf/48ut9bI82d4xNQQuT8bRbaOQ90TnTwJYr4Pe_w/j1xpaz-yJRc.jpg?size=762x555&quality=96&proxy=1&sign=8e9429f029e9a8735d94de220ad8821d\" width=\"700\" height=\"500\"/></center>\n",
    "\n",
    "* need to augment MBR (make bigger)\n",
    "\n",
    "<center><img src=\"https://sun9-11.userapi.com/impf/nZvtnMkX0n2ZJ9WHKWjCEmF5Im9qqZ2-Ju3YPg/R_fwyPdE-v0.jpg?size=1127x431&quality=96&proxy=1&sign=239150e75bb5003de11436156c010394\" width=\"900\" height=\"400\"/></center>\n",
    "\n",
    "* need to partition box \n",
    "\n",
    "|    |    |\n",
    "|:--:|:--:|\n",
    "|<center><img src=\"https://www.mathcs.emory.edu/~cheung/Courses/554/Syllabus/3-index/FIGS/R-tree/R-tree11a.gif\" width=\"500\" height=\"400\"/></center> | <center><img src=\"https://www.mathcs.emory.edu/~cheung/Courses/554/Syllabus/3-index/FIGS/R-tree/R-tree11c.gif\" width=\"500\" height=\"400\"/></center> |\n"
   ],
   "cell_type": "markdown",
   "metadata": {}
  },
  {
   "cell_type": "code",
   "execution_count": null,
   "metadata": {},
   "outputs": [],
   "source": []
  },
  {
   "cell_type": "code",
   "execution_count": 12,
   "metadata": {},
   "outputs": [],
   "source": [
    "# IMPORTANT! pip3 install with bunch  of errors \n",
    "# IMPORTANT! sudo apt install python3-rtree - without errors \n",
    "from rtree import index"
   ]
  },
  {
   "cell_type": "code",
   "execution_count": 13,
   "metadata": {},
   "outputs": [],
   "source": [
    "idx = index.Index()"
   ]
  },
  {
   "cell_type": "code",
   "execution_count": 18,
   "metadata": {},
   "outputs": [],
   "source": [
    "# create bounding box \n",
    "left, bottom, right, top = (0.0, 0.0, 1.0, 1.0)\n",
    "bounding_box = (left, bottom, right, top)"
   ]
  },
  {
   "cell_type": "code",
   "execution_count": 37,
   "metadata": {},
   "outputs": [],
   "source": [
    "# idx.insert(new_user, bounding_box)\n",
    "# 0 - ????????????????????????????\n",
    "# idx.insert(0, (left, bottom, right, top), obj=data)\n",
    "# idx.intersection() ?????"
   ]
  },
  {
   "cell_type": "code",
   "execution_count": null,
   "metadata": {},
   "outputs": [],
   "source": []
  },
  {
   "cell_type": "code",
   "execution_count": 29,
   "metadata": {},
   "outputs": [],
   "source": [
    "# https://pypi.org/project/rtreelib/\n",
    "from rtreelib import RTree, Rect "
   ]
  },
  {
   "cell_type": "code",
   "execution_count": 30,
   "metadata": {},
   "outputs": [],
   "source": [
    "rtree = RTree()"
   ]
  },
  {
   "cell_type": "code",
   "execution_count": 38,
   "metadata": {},
   "outputs": [],
   "source": [
    "# ???????????\n",
    "# rtree.insert(data[0], Rect(0, 0, 3, 3))"
   ]
  },
  {
   "cell_type": "code",
   "execution_count": 39,
   "metadata": {},
   "outputs": [],
   "source": [
    "# ???????????????\n",
    "# entries = rtree.query(list(new_user[0]))"
   ]
  },
  {
   "cell_type": "code",
   "execution_count": null,
   "metadata": {},
   "outputs": [],
   "source": []
  }
 ]
}