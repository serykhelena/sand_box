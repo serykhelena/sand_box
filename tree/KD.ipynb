{
 "metadata": {
  "language_info": {
   "codemirror_mode": {
    "name": "ipython",
    "version": 3
   },
   "file_extension": ".py",
   "mimetype": "text/x-python",
   "name": "python",
   "nbconvert_exporter": "python",
   "pygments_lexer": "ipython3",
   "version": "3.8.5-final"
  },
  "orig_nbformat": 2,
  "kernelspec": {
   "name": "Python 3.8.5 64-bit",
   "display_name": "Python 3.8.5 64-bit",
   "metadata": {
    "interpreter": {
     "hash": "31f2aee4e71d21fbe5cf8b01ff0e069b9275f58929596ceb00d14d90e3e16cd6"
    }
   }
  }
 },
 "nbformat": 4,
 "nbformat_minor": 2,
 "cells": [
  {
   "source": [
    "# KD-Tree"
   ],
   "cell_type": "markdown",
   "metadata": {}
  },
  {
   "source": [
    "* each level of the tree organizes the data along different dimension (cycling through each dimention repeatedly). \n",
    "\n",
    "<center> (7, 2) -> (5, 4) -> (9, 6) -> (4, 7) -> (2, 3) -> (8, 1) </center>\n",
    "\n",
    "red - along x; blue - along y; "
   ],
   "cell_type": "markdown",
   "metadata": {}
  },
  {
   "source": [
    "Structure                                                   | Plot\n",
    ":----------------------------------------------------------:|:----------------------------------------------------------:\n",
    "<center><img src=\"https://ucarecdn.com/c8cf11d9-4ef1-4fcf-a1e8-8f8aa49288d8/\" width=\"500\" height=\"350\"/></center>| <center><img src=\"https://ucarecdn.com/18563484-639c-433d-a478-4da33b704da8/\" width=\"500\" height=\"350\"/></center>"
   ],
   "cell_type": "markdown",
   "metadata": {}
  },
  {
   "source": [
    "* first point = root -> unbalanced tree"
   ],
   "cell_type": "markdown",
   "metadata": {}
  },
  {
   "source": [
    "> ???? How to find median with binary data \n",
    "\n",
    "* median value = root -> balanced tree\n",
    "\n",
    "x:              2, 4, 5, 7, 8, 9 -> 7 \n",
    "\n",
    "left subtree y: 3, 4, 7 -> 4 "
   ],
   "cell_type": "markdown",
   "metadata": {}
  },
  {
   "source": [
    "### Build the tree from a set of points \n",
    "\n",
    "1. if points is empty return None \n",
    "2. if dimention to split == 0 -> sort along x \n",
    "   else sort along y \n",
    "4. med = median of sorted points \n",
    "5. root = med \n",
    "6. left_subtree = buildTree(left points from med, other dim)\n",
    "7. right_subtree = buildTree(right points from med, other dim)\n",
    "8. return root \n"
   ],
   "cell_type": "markdown",
   "metadata": {}
  },
  {
   "source": [
    "### Find nearest neighbor \n",
    "\n",
    "1. search for query point, until we reach a leaf  (not always the nearest -> radius within the nearest point must be found)\n",
    "2. euclidian distance between this leaf-point and query-point \n",
    "\n"
   ],
   "cell_type": "markdown",
   "metadata": {}
  },
  {
   "source": [
    "<center><img src=\"https://ucarecdn.com/c8cf11d9-4ef1-4fcf-a1e8-8f8aa49288d8/\" width=\"500\" height=\"350\"/></center>\n",
    "\n",
    "* find the nearest to (5, 5) `[5 < 7; 5 > 4]`\n",
    "\n",
    "* leaf (4, 7)\n",
    "\n",
    "$$ dist = \\sqrt{ (4 - 5)^2 + (7 - 5)^2 }  = \\sqrt{5} $$\n",
    "\n",
    "(4, 7) -> current the nearest neighbor (the nearest neightbor can be NO more than distance $ \\sqrt{5} $)\n",
    "\n",
    "<center><img src=\"https://ucarecdn.com/90eacce4-df32-4c35-8dff-7aac0771ea1b/\" width=\"500\" height=\"350\"/></center>            \n"
   ],
   "cell_type": "markdown",
   "metadata": {}
  },
  {
   "source": [
    "* back up the tree (unwinding the recursion) - goes up and check all sides (partly)\n",
    "\n",
    "1. if the node is close to the current nearest neighbor \n",
    "\n",
    "    1.1. If it is, new node = the nearest \n",
    "\n",
    "2. check the other subtree (check distance)\n",
    "\n",
    "    2.1. If it is, new node = the nearest \n",
    "\n",
    "<center><img src=\"https://ucarecdn.com/c8cf11d9-4ef1-4fcf-a1e8-8f8aa49288d8/\" width=\"500\" height=\"350\"/></center>\n",
    "\n",
    "* current nearest = (4, 7), dist = $ \\sqrt{5} $ \n",
    "* check (5, 4), dist = $ \\sqrt{1} = 1 $ \n",
    "* current nearest = (5, 4)\n",
    "* decide if we need to check left subtree - all y < 4 -> (y = 5) - (y = 4) = 1 not less dist = 1 -> DO NOT EXPLORE \n",
    "\n",
    "<center><img src=\"https://ucarecdn.com/6788235e-42b7-437b-8ae9-36467f00c435/\" width=\"500\" height=\"350\"/></center>"
   ],
   "cell_type": "markdown",
   "metadata": {}
  },
  {
   "source": [
    "* return to the root (7, 2), $ dist = \\sqrt{13} > 1 $ \n",
    "* (5, 4) - the nearest (still) \n",
    "* check distance from (5, 5) to x = 7, d = 2 > 1 -> DO NOT EXPLORE right subtree \n",
    "* (5, 4) - the nearest neighbor \n",
    "\n",
    "* [visualization](http://lti.cs.vt.edu/LTI_ruby/AV/Development/kd-treeAV.html)"
   ],
   "cell_type": "markdown",
   "metadata": {}
  },
  {
   "cell_type": "code",
   "execution_count": 1,
   "metadata": {},
   "outputs": [],
   "source": [
    "import numpy as np \n",
    "import pandas as pd \n",
    "import random "
   ]
  },
  {
   "cell_type": "code",
   "execution_count": 2,
   "metadata": {},
   "outputs": [],
   "source": [
    "number_of_users = 10 \n",
    "number_of_options = 8"
   ]
  },
  {
   "cell_type": "code",
   "execution_count": 3,
   "metadata": {},
   "outputs": [
    {
     "output_type": "execute_result",
     "data": {
      "text/plain": [
       "(array([[1, 1, 0, 1, 0, 1, 1, 0],\n",
       "        [1, 1, 0, 1, 1, 0, 0, 1],\n",
       "        [0, 0, 0, 0, 0, 1, 0, 0],\n",
       "        [1, 1, 0, 0, 1, 0, 0, 1],\n",
       "        [0, 0, 0, 1, 1, 0, 1, 1],\n",
       "        [1, 1, 1, 0, 1, 0, 0, 0],\n",
       "        [0, 1, 0, 1, 1, 1, 0, 1],\n",
       "        [0, 1, 1, 0, 1, 0, 0, 1],\n",
       "        [0, 0, 0, 1, 1, 0, 0, 0],\n",
       "        [1, 0, 1, 1, 0, 1, 1, 0]]),\n",
       " (10, 8))"
      ]
     },
     "metadata": {},
     "execution_count": 3
    }
   ],
   "source": [
    "np.random.seed(10)\n",
    "\n",
    "data = np.random.randint(0, 2, size=(number_of_users, number_of_options))\n",
    "data, data.shape"
   ]
  },
  {
   "cell_type": "code",
   "execution_count": 4,
   "metadata": {},
   "outputs": [
    {
     "output_type": "execute_result",
     "data": {
      "text/plain": [
       "   f0  f1  f2  f3  f4  f5  f6  f7\n",
       "0   1   1   0   1   0   1   1   0\n",
       "1   1   1   0   1   1   0   0   1\n",
       "2   0   0   0   0   0   1   0   0\n",
       "3   1   1   0   0   1   0   0   1\n",
       "4   0   0   0   1   1   0   1   1\n",
       "5   1   1   1   0   1   0   0   0\n",
       "6   0   1   0   1   1   1   0   1\n",
       "7   0   1   1   0   1   0   0   1\n",
       "8   0   0   0   1   1   0   0   0\n",
       "9   1   0   1   1   0   1   1   0"
      ],
      "text/html": "<div>\n<style scoped>\n    .dataframe tbody tr th:only-of-type {\n        vertical-align: middle;\n    }\n\n    .dataframe tbody tr th {\n        vertical-align: top;\n    }\n\n    .dataframe thead th {\n        text-align: right;\n    }\n</style>\n<table border=\"1\" class=\"dataframe\">\n  <thead>\n    <tr style=\"text-align: right;\">\n      <th></th>\n      <th>f0</th>\n      <th>f1</th>\n      <th>f2</th>\n      <th>f3</th>\n      <th>f4</th>\n      <th>f5</th>\n      <th>f6</th>\n      <th>f7</th>\n    </tr>\n  </thead>\n  <tbody>\n    <tr>\n      <th>0</th>\n      <td>1</td>\n      <td>1</td>\n      <td>0</td>\n      <td>1</td>\n      <td>0</td>\n      <td>1</td>\n      <td>1</td>\n      <td>0</td>\n    </tr>\n    <tr>\n      <th>1</th>\n      <td>1</td>\n      <td>1</td>\n      <td>0</td>\n      <td>1</td>\n      <td>1</td>\n      <td>0</td>\n      <td>0</td>\n      <td>1</td>\n    </tr>\n    <tr>\n      <th>2</th>\n      <td>0</td>\n      <td>0</td>\n      <td>0</td>\n      <td>0</td>\n      <td>0</td>\n      <td>1</td>\n      <td>0</td>\n      <td>0</td>\n    </tr>\n    <tr>\n      <th>3</th>\n      <td>1</td>\n      <td>1</td>\n      <td>0</td>\n      <td>0</td>\n      <td>1</td>\n      <td>0</td>\n      <td>0</td>\n      <td>1</td>\n    </tr>\n    <tr>\n      <th>4</th>\n      <td>0</td>\n      <td>0</td>\n      <td>0</td>\n      <td>1</td>\n      <td>1</td>\n      <td>0</td>\n      <td>1</td>\n      <td>1</td>\n    </tr>\n    <tr>\n      <th>5</th>\n      <td>1</td>\n      <td>1</td>\n      <td>1</td>\n      <td>0</td>\n      <td>1</td>\n      <td>0</td>\n      <td>0</td>\n      <td>0</td>\n    </tr>\n    <tr>\n      <th>6</th>\n      <td>0</td>\n      <td>1</td>\n      <td>0</td>\n      <td>1</td>\n      <td>1</td>\n      <td>1</td>\n      <td>0</td>\n      <td>1</td>\n    </tr>\n    <tr>\n      <th>7</th>\n      <td>0</td>\n      <td>1</td>\n      <td>1</td>\n      <td>0</td>\n      <td>1</td>\n      <td>0</td>\n      <td>0</td>\n      <td>1</td>\n    </tr>\n    <tr>\n      <th>8</th>\n      <td>0</td>\n      <td>0</td>\n      <td>0</td>\n      <td>1</td>\n      <td>1</td>\n      <td>0</td>\n      <td>0</td>\n      <td>0</td>\n    </tr>\n    <tr>\n      <th>9</th>\n      <td>1</td>\n      <td>0</td>\n      <td>1</td>\n      <td>1</td>\n      <td>0</td>\n      <td>1</td>\n      <td>1</td>\n      <td>0</td>\n    </tr>\n  </tbody>\n</table>\n</div>"
     },
     "metadata": {},
     "execution_count": 4
    }
   ],
   "source": [
    "pd_data = pd.DataFrame(\n",
    "    data=data, \n",
    "    index=[i for i in range(number_of_users)],\n",
    "    columns=['f'+str(j) for j in range(number_of_options)]\n",
    ")\n",
    "pd_data"
   ]
  },
  {
   "cell_type": "code",
   "execution_count": 5,
   "metadata": {},
   "outputs": [],
   "source": [
    "# https://scikit-learn.org/stable/modules/generated/sklearn.neighbors.KDTree.html\n",
    "# no inteface to modify kdtree (?!)\n",
    "from sklearn.neighbors import KDTree"
   ]
  },
  {
   "cell_type": "code",
   "execution_count": 6,
   "metadata": {},
   "outputs": [],
   "source": [
    "# leaf_size \n",
    "# Number of points at which to switch to brute-force.\n",
    "# Changing leaf_size will not affect the results of a query, \n",
    "# but can significantly impact the speed of a query\n",
    "# and the memory required to store the constructed tree.\n",
    "kd_tree_l2 = KDTree(data, leaf_size=number_of_options, metric='l2')"
   ]
  },
  {
   "cell_type": "code",
   "execution_count": 7,
   "metadata": {},
   "outputs": [
    {
     "output_type": "execute_result",
     "data": {
      "text/plain": [
       "['euclidean',\n",
       " 'l2',\n",
       " 'minkowski',\n",
       " 'p',\n",
       " 'manhattan',\n",
       " 'cityblock',\n",
       " 'l1',\n",
       " 'chebyshev',\n",
       " 'infinity']"
      ]
     },
     "metadata": {},
     "execution_count": 7
    }
   ],
   "source": [
    "# minkowski - the last element in array has the biggest value of similarity \n",
    "# manhattan - the first element in array has the biggest values of similarity [+]\n",
    "kd_tree_l2.valid_metrics"
   ]
  },
  {
   "source": [
    "| Euclidean                                | L2                                       | Minkowski (p = 2 => Euclidean)              |\n",
    "|:----------------------------------------:|:----------------------------------------:|:-------------------------------------------:|\n",
    "| $ \\sqrt{(x_1 - x_2)^2 + (y_1 - y_2)^2} $ | $ \\sqrt{(x_1 - x_2)^2 + (y_1 - y_2)^2} $ | $ \\sqrt[p]{(x_1 - x_2)^p + (y_1 - y_2)^p} $ |\n",
    "|<img width=\"250\"/>|<img width=\"250\"/>|<img width=\"250\"/>|\n"
   ],
   "cell_type": "markdown",
   "metadata": {}
  },
  {
   "source": [
    "| Manhattan                                    | Cityblock (= Manhattan)                     | L1                                            |\n",
    "|:--------------------------------------------:|:-------------------------------------------:|:---------------------------------------------:|\n",
    "| $ \\mid x_1 -x_2 \\mid + \\mid y_1 - y_2 \\mid $ | $ \\mid x_1 -x_2 \\mid + \\mid y_1 - y_2 \\mid $ | $ \\mid x_1 -x_2 \\mid + \\mid y_1 - y_2 \\mid $ |\n",
    "|<img width=\"250\"/>|<img width=\"250\"/>|<img width=\"250\"/>|\n",
    "\n"
   ],
   "cell_type": "markdown",
   "metadata": {}
  },
  {
   "source": [
    "| Chebyshev                                           | Infinity (= Chebyshev)                              |\n",
    "|:---------------------------------------------------:|:---------------------------------------------------:|\n",
    "| $ max( \\mid x_1 - x_2 \\mid, \\mid y_1 - y_2 \\mid ) $ | $ max( \\mid x_1 - x_2 \\mid, \\mid y_1 - y_2 \\mid ) $ |\n",
    "|<img width=\"250\"/>|<img width=\"250\"/>|"
   ],
   "cell_type": "markdown",
   "metadata": {}
  },
  {
   "cell_type": "code",
   "execution_count": 8,
   "metadata": {},
   "outputs": [
    {
     "output_type": "execute_result",
     "data": {
      "text/plain": [
       "array([[1, 1, 0, 1, 0, 1, 1, 0]])"
      ]
     },
     "metadata": {},
     "execution_count": 8
    }
   ],
   "source": [
    "np.random.seed(10)\n",
    "new_user = np.random.randint(0, 2, size=(1, number_of_options))\n",
    "new_user"
   ]
  },
  {
   "cell_type": "code",
   "execution_count": 9,
   "metadata": {},
   "outputs": [
    {
     "output_type": "stream",
     "name": "stdout",
     "text": [
      "L2 Indeces [[0 9 1]]\nL2 Dist [[0.         1.41421356 2.        ]]\n"
     ]
    }
   ],
   "source": [
    "# L2 \n",
    "# the last element in array - the biggest similarity \n",
    "dist_l2, ind_l2 = kd_tree_l2.query(new_user, k=3)\n",
    "print(f\"L2 Indeces {ind_l2}\\nL2 Dist {dist_l2}\")"
   ]
  },
  {
   "cell_type": "code",
   "execution_count": 10,
   "metadata": {},
   "outputs": [],
   "source": [
    "def print_tree_compare(query_data, dat, d, indexes):\n",
    "    print(f\"Query user:\\t{query_data[0]}\\n\")\n",
    "    for i, user_i in enumerate(indexes[0]):\n",
    "        print(f\"User {user_i}:\\t\\t{dat[user_i]}\\t D:\\t{d[0][i]}\")"
   ]
  },
  {
   "cell_type": "code",
   "execution_count": 11,
   "metadata": {},
   "outputs": [
    {
     "output_type": "stream",
     "name": "stdout",
     "text": [
      "Query user:\t[1 1 0 1 0 1 1 0]\n\nUser 0:\t\t[1 1 0 1 0 1 1 0]\t D:\t0.0\nUser 9:\t\t[1 0 1 1 0 1 1 0]\t D:\t1.4142135623730951\nUser 1:\t\t[1 1 0 1 1 0 0 1]\t D:\t2.0\n"
     ]
    }
   ],
   "source": [
    "print_tree_compare(new_user, data, dist_l2, ind_l2)"
   ]
  },
  {
   "cell_type": "code",
   "execution_count": 12,
   "metadata": {},
   "outputs": [
    {
     "output_type": "stream",
     "name": "stdout",
     "text": [
      "L1 Indeces [[0 9 1]]\nL2 Dist [[0. 2. 4.]]\n"
     ]
    }
   ],
   "source": [
    "kd_tree_l1 = KDTree(data, leaf_size=number_of_options, metric='l1')\n",
    "# L1 \n",
    "# the FIRST element in array - the biggest similarity [+]\n",
    "dist_l1, ind_l1 = kd_tree_l1.query(new_user, k=3)\n",
    "print(f\"L1 Indeces {ind_l1}\\nL1 Dist {dist_l1}\")"
   ]
  },
  {
   "cell_type": "code",
   "execution_count": 13,
   "metadata": {},
   "outputs": [
    {
     "output_type": "stream",
     "name": "stdout",
     "text": [
      "Query user:\t[1 1 0 1 0 1 1 0]\n\nUser 0:\t\t[1 1 0 1 0 1 1 0]\t D:\t0.0\nUser 9:\t\t[1 0 1 1 0 1 1 0]\t D:\t2.0\nUser 1:\t\t[1 1 0 1 1 0 0 1]\t D:\t4.0\n"
     ]
    }
   ],
   "source": [
    "print_tree_compare(new_user, data, dist_l1, ind_l1)"
   ]
  },
  {
   "cell_type": "code",
   "execution_count": 14,
   "metadata": {},
   "outputs": [
    {
     "output_type": "stream",
     "name": "stdout",
     "text": [
      "INF Indeces [[0 2 1]]\nL2 Dist [[0. 1. 1.]]\n"
     ]
    }
   ],
   "source": [
    "kd_tree_inf = KDTree(data, leaf_size=number_of_options, metric='infinity')\n",
    "# inf \n",
    "# ?????????????????????\n",
    "dist_inf, ind_inf = kd_tree_inf.query(new_user, k=3)\n",
    "print(f\"INF Indeces {ind_inf}\\nL2 Dist {dist_inf}\")"
   ]
  },
  {
   "cell_type": "code",
   "execution_count": 15,
   "metadata": {},
   "outputs": [
    {
     "output_type": "stream",
     "name": "stdout",
     "text": [
      "Query user:\t[1 1 0 1 0 1 1 0]\n\nUser 0:\t\t[1 1 0 1 0 1 1 0]\t D:\t0.0\nUser 2:\t\t[0 0 0 0 0 1 0 0]\t D:\t1.0\nUser 1:\t\t[1 1 0 1 1 0 0 1]\t D:\t1.0\n"
     ]
    }
   ],
   "source": [
    "print_tree_compare(new_user, data, dist_inf, ind_inf)"
   ]
  },
  {
   "cell_type": "code",
   "execution_count": 16,
   "metadata": {},
   "outputs": [
    {
     "output_type": "stream",
     "name": "stdout",
     "text": [
      "User 0\tCos Similarity: 1.0\nUser 1\tCos Similarity: 0.6\nUser 2\tCos Similarity: 0.4472\nUser 3\tCos Similarity: 0.4472\nUser 4\tCos Similarity: 0.4472\nUser 5\tCos Similarity: 0.4472\nUser 6\tCos Similarity: 0.6\nUser 7\tCos Similarity: 0.2236\nUser 8\tCos Similarity: 0.3162\nUser 9\tCos Similarity: 0.8\n"
     ]
    }
   ],
   "source": [
    "from sklearn.metrics.pairwise import cosine_similarity\n",
    "\n",
    "cos_similarities = np.zeros((data.shape[0],))\n",
    "for i in range(data.shape[0]):\n",
    "    if i == data.shape[0] - 1:\n",
    "        cos_similarities[i] = cosine_similarity(new_user, data[i:])\n",
    "        print(f\"User {i}\\tCos Similarity: {round(cos_similarities[i], 4)}\")\n",
    "        break \n",
    "    cos_similarities[i] = cosine_similarity(new_user, data[i:i+1])\n",
    "    print(f\"User {i}\\tCos Similarity: {round(cos_similarities[i], 4)}\")"
   ]
  },
  {
   "cell_type": "code",
   "execution_count": 17,
   "metadata": {},
   "outputs": [
    {
     "output_type": "stream",
     "name": "stdout",
     "text": [
      "User 0\tEuc Similarity: 0.0\nUser 1\tEuc Similarity: 2.0\nUser 2\tEuc Similarity: 2.0\nUser 3\tEuc Similarity: 2.2361\nUser 4\tEuc Similarity: 2.2361\nUser 5\tEuc Similarity: 2.2361\nUser 6\tEuc Similarity: 2.0\nUser 7\tEuc Similarity: 2.6458\nUser 8\tEuc Similarity: 2.2361\nUser 9\tEuc Similarity: 1.4142\n"
     ]
    }
   ],
   "source": [
    "from sklearn.metrics.pairwise import euclidean_distances\n",
    "\n",
    "euc_similarities = np.zeros((data.shape[0],))\n",
    "for i in range(data.shape[0]):\n",
    "    if i == data.shape[0] - 1:\n",
    "        euc_similarities[i] = euclidean_distances(new_user, data[i:])\n",
    "        print(f\"User {i}\\tEuc Similarity: {round(euc_similarities[i], 4)}\")\n",
    "        break \n",
    "    euc_similarities[i] = euclidean_distances(new_user, data[i:i+1])\n",
    "    print(f\"User {i}\\tEuc Similarity: {round(euc_similarities[i], 4)}\")"
   ]
  },
  {
   "cell_type": "code",
   "execution_count": null,
   "metadata": {},
   "outputs": [],
   "source": []
  },
  {
   "cell_type": "code",
   "execution_count": 18,
   "metadata": {},
   "outputs": [],
   "source": [
    "# https://github.com/stefankoegl/kdtree\n",
    "import kdtree"
   ]
  },
  {
   "cell_type": "code",
   "execution_count": 19,
   "metadata": {},
   "outputs": [],
   "source": [
    "empty_tree = kdtree.create(dimensions=number_of_users)"
   ]
  },
  {
   "cell_type": "code",
   "execution_count": 20,
   "metadata": {},
   "outputs": [
    {
     "output_type": "execute_result",
     "data": {
      "text/plain": [
       "<KDNode - array([1, 1, 0, 1, 0, 1, 1, 0])>"
      ]
     },
     "metadata": {},
     "execution_count": 20
    }
   ],
   "source": [
    "new_tree = kdtree.create(list(data))\n",
    "new_tree\n"
   ]
  },
  {
   "cell_type": "code",
   "execution_count": 21,
   "metadata": {},
   "outputs": [
    {
     "output_type": "stream",
     "name": "stdout",
     "text": [
      "Value [1 1 0 1 0 1 1 0]\nDist 0.0\n[0, 9, 1]\n"
     ]
    }
   ],
   "source": [
    "# do not return index )= \n",
    "# L1 Norm for distance \n",
    "neighbors = new_tree.search_knn(new_user[0], 3)\n",
    "\n",
    "print(f\"Value {neighbors[0][0].data}\")\n",
    "print(f\"Dist {neighbors[0][1]}\")\n",
    "\n",
    "indeces = [] \n",
    "for neighbor in neighbors:\n",
    "    for i, d in enumerate(data):\n",
    "        if (d == neighbor[0].data).all():\n",
    "            indeces.append(i)\n",
    "\n",
    "print(indeces)\n",
    "\n",
    "\n"
   ]
  },
  {
   "cell_type": "code",
   "execution_count": 22,
   "metadata": {},
   "outputs": [
    {
     "output_type": "stream",
     "name": "stdout",
     "text": [
      "\n\n                                     [1 1 0 1 0 1 1 0]                                 \n\n                 [0 0 0 1 1 0 0 0]                        [1 1 0 0 1 0 0 1]             \n\n       [0 0 0 1 1 0 1 1]    [0 1 1 0 1 0 0 1]    [1 0 1 1 0 1 1 0]    [1 1 1 0 1 0 0 0]   \n\n      [0 0 0 0 0 1 0 0]            [0 1 0 1 1 1 0 1]            [1 1 0 1 1 0 0 1]                                  \n\n"
     ]
    }
   ],
   "source": [
    "kdtree.visualize(new_tree)"
   ]
  },
  {
   "cell_type": "code",
   "execution_count": 23,
   "metadata": {},
   "outputs": [
    {
     "output_type": "execute_result",
     "data": {
      "text/plain": [
       "array([[1, 1, 0, 1, 0, 1, 1, 0]])"
      ]
     },
     "metadata": {},
     "execution_count": 23
    }
   ],
   "source": [
    "new_user"
   ]
  },
  {
   "cell_type": "code",
   "execution_count": 24,
   "metadata": {},
   "outputs": [
    {
     "output_type": "execute_result",
     "data": {
      "text/plain": [
       "<KDNode - array([1, 1, 0, 1, 0, 1, 1, 0])>"
      ]
     },
     "metadata": {},
     "execution_count": 24
    }
   ],
   "source": [
    "# can add new node to kdtree\n",
    "new_tree.add(new_user[0])"
   ]
  },
  {
   "cell_type": "code",
   "execution_count": 25,
   "metadata": {},
   "outputs": [
    {
     "output_type": "stream",
     "name": "stdout",
     "text": [
      "[(<KDNode - array([1, 1, 0, 1, 0, 1, 1, 0])>, 0.0), (<KDNode - array([1, 1, 0, 1, 0, 1, 1, 0])>, 0.0), (<KDNode - array([1, 0, 1, 1, 0, 1, 1, 0])>, 2.0)]\nValue [1 1 0 1 0 1 1 0]\nDist 0.0\n{0, 9, 10}\n"
     ]
    }
   ],
   "source": [
    "# do not return index )= \n",
    "# L1 Norm for distance \n",
    "neighbors = new_tree.search_knn(new_user[0], 3)\n",
    "\n",
    "print(neighbors)\n",
    "print(f\"Value {neighbors[0][0].data}\")\n",
    "print(f\"Dist {neighbors[0][1]}\")\n",
    "data = np.vstack((data, new_user[0]))\n",
    "indeces = set()\n",
    "\n",
    "for neighbor in neighbors:\n",
    "    for i, d in enumerate(data):\n",
    "        if (d == neighbor[0].data).all():\n",
    "            indeces.add(i)\n",
    "\n",
    "print(indeces)"
   ]
  },
  {
   "source": [
    "## Short Summary \n",
    "\n",
    "* KD Tree is suitable to develope recommedation system \n",
    "\n",
    "| Methods                  | sklearn.neighbors.KDTree | kdtree           |\n",
    "|:------------------------:|:------------------------:|:----------------:|\n",
    "| Create tree              |     +                    |    +             |\n",
    "| Add new node             |     -                    |    +             |\n",
    "| Index of neighbors       |     +                    |    -             |\n",
    "| Different distances      |     +                    |    -             |\n",
    "| Standart types of output |     +                    |    -             |\n",
    "|<img width=\"250\"/>        |<img width=\"250\"/>        |<img width=\"250\"/>|"
   ],
   "cell_type": "markdown",
   "metadata": {}
  },
  {
   "cell_type": "code",
   "execution_count": null,
   "metadata": {},
   "outputs": [],
   "source": []
  },
  {
   "cell_type": "code",
   "execution_count": null,
   "metadata": {},
   "outputs": [],
   "source": []
  }
 ]
}