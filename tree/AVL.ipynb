{
 "metadata": {
  "language_info": {
   "codemirror_mode": {
    "name": "ipython",
    "version": 3
   },
   "file_extension": ".py",
   "mimetype": "text/x-python",
   "name": "python",
   "nbconvert_exporter": "python",
   "pygments_lexer": "ipython3",
   "version": 3
  },
  "orig_nbformat": 2
 },
 "nbformat": 4,
 "nbformat_minor": 2,
 "cells": [
  {
   "source": [
    "# AVL Tree (**A**delson-**V**elsky and **L**andis Tree)"
   ],
   "cell_type": "markdown",
   "metadata": {}
  },
  {
   "source": [
    "* Binary Search Tree \n",
    "* wost-case time complexity **O(log n)**\n",
    "* heights of two child subtrees of the node differ by at most one "
   ],
   "cell_type": "markdown",
   "metadata": {}
  },
  {
   "source": [
    "* The **balance factor** of a node u is equal to the height of u's right subtree minus the height of u's left subtree\n",
    "* A **Binary Search Tree** is an **AVL Tree** if, for all nodes u in the tree, the balance factor of u is either -1, 0, or 1"
   ],
   "cell_type": "markdown",
   "metadata": {}
  },
  {
   "source": [
    "<center><img src=\"https://ucarecdn.com/684cb94a-58a0-4be6-a2b8-398b636f6a01/\" width=500 /></center>\n"
   ],
   "cell_type": "markdown",
   "metadata": {}
  },
  {
   "source": [
    "> Binary Search Tree, bot not AVL Tree \n",
    "\n",
    "<center><img src=\"https://ucarecdn.com/acfe4aeb-dee2-40e7-af03-25802a3e9cfd/\" width=400 /></center>\n"
   ],
   "cell_type": "markdown",
   "metadata": {}
  },
  {
   "source": [
    "### AVL Rotation\n",
    "\n",
    "<center><img src=\"https://ucarecdn.com/b914f856-4d54-4cc1-91f6-4a603a18802f/\" width=700/></center>"
   ],
   "cell_type": "markdown",
   "metadata": {}
  },
  {
   "source": [
    "### AVL Double Rotation \n",
    "\n",
    "<center><img src=\"https://ucarecdn.com/6b1058ad-6c61-4a6c-b88b-271389cbda81/\" width=450/></center>\n",
    "\n",
    "<center><img src=\"https://ucarecdn.com/5fdc3547-c65f-4750-8797-97a469397be5/\" width=700/></center>\n",
    "\n"
   ],
   "cell_type": "markdown",
   "metadata": {}
  },
  {
   "source": [
    "### AVL Insertion\n",
    "\n",
    "<center><img src=\"https://ucarecdn.com/d7d67eaa-2537-4c4f-a57d-5729f8026575/\" width=700/></center>\n",
    "\n",
    "> more complex example\n",
    "\n",
    "<center><img src=\"https://ucarecdn.com/e2a6c427-9bbe-4b6b-a17a-77f1d15d06da/\" width=450/></center>\n",
    "\n",
    "<center><img src=\"https://ucarecdn.com/5469a2f7-1e9d-4d31-98bf-6e38961991d2/\" width=450/></center>\n",
    "\n",
    "<center><img src=\"https://ucarecdn.com/9a7ad844-bf9c-4f45-859e-aee8d2edadad/\" width=700/></center>\n"
   ],
   "cell_type": "markdown",
   "metadata": {}
  },
  {
   "source": [
    "> even more complex example\n",
    "\n",
    "<center><img src=\"https://ucarecdn.com/624dd670-79c2-46b3-b572-f8f69ba96b56/\" width=500/></center>\n",
    "\n",
    "<center><img src=\"https://ucarecdn.com/cf23416c-1777-4d11-8b27-060798ab6651/\" width=500/></center>\n",
    "\n",
    "<center><img src=\"https://ucarecdn.com/3d439caf-248c-42d6-92cc-ee3862c07364/\" width=700/></center>\n",
    "\n",
    "<center><img src=\"https://ucarecdn.com/33a81d45-5ecc-4e18-94ef-17686428b43a/\" width=700/></center>\n",
    "\n",
    "\n",
    "\n",
    "\n",
    "\n"
   ],
   "cell_type": "markdown",
   "metadata": {}
  },
  {
   "source": [
    "### AVL Removal \n",
    "\n",
    "<center><img src=\"https://ucarecdn.com/2ad0bf54-72ce-417d-99eb-3e7a881fb20f/\" width=700/></center>\n",
    "\n"
   ],
   "cell_type": "markdown",
   "metadata": {}
  },
  {
   "source": [
    "| Operation                | Worst Time Complexity       | Worst Time Complexity (memory) |\n",
    "|:------------------------:|:---------------------------:|:------------------------------:|\n",
    "| Insert new element       | $ O(2 *\\log n ) $           | $ O(2 *\\log n) $               |\n",
    "| Find key (binary search) | $ O(\\log n ) $              | $ O(\\log n ) $                 |\n",
    "| Delete key               | $ O(2 *\\log n ) $           | $ O(2 *\\log n ) $              |\n",
    "|<img width=\"250\"/>        |<img width=\"250\"/>           |<img width=\"250\"/>              |\n",
    "\n",
    "[visualization](https://www.cs.usfca.edu/~galles/visualization/AVLtree.html)"
   ],
   "cell_type": "markdown",
   "metadata": {}
  },
  {
   "cell_type": "code",
   "execution_count": null,
   "metadata": {},
   "outputs": [],
   "source": []
  },
  {
   "cell_type": "code",
   "execution_count": null,
   "metadata": {},
   "outputs": [],
   "source": []
  }
 ]
}