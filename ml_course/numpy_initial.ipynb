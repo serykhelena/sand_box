{
 "metadata": {
  "language_info": {
   "codemirror_mode": {
    "name": "ipython",
    "version": 3
   },
   "file_extension": ".py",
   "mimetype": "text/x-python",
   "name": "python",
   "nbconvert_exporter": "python",
   "pygments_lexer": "ipython3",
   "version": "3.8.5-final"
  },
  "orig_nbformat": 2,
  "kernelspec": {
   "name": "Python 3.8.5 64-bit",
   "display_name": "Python 3.8.5 64-bit",
   "metadata": {
    "interpreter": {
     "hash": "31f2aee4e71d21fbe5cf8b01ff0e069b9275f58929596ceb00d14d90e3e16cd6"
    }
   }
  }
 },
 "nbformat": 4,
 "nbformat_minor": 2,
 "cells": [
  {
   "cell_type": "code",
   "execution_count": 1,
   "metadata": {},
   "outputs": [],
   "source": [
    "import numpy as np"
   ]
  },
  {
   "cell_type": "code",
   "execution_count": 58,
   "metadata": {},
   "outputs": [
    {
     "output_type": "stream",
     "name": "stdout",
     "text": [
      "1D array:\t[1 2 3]\n\nData type inside array:\n<class 'numpy.ndarray'>\n\nArray shape:\t(3,)\n\nThe first element: 1\n\nThe third element: 3\n\nThe last element: 3\n"
     ]
    }
   ],
   "source": [
    "arr_1d = np.array([1, 2, 3])\n",
    "\n",
    "print(f\"1D array:\\t{arr_1d}\\n\")\n",
    "print(f\"Data type inside array:\\n{type(arr_1d)}\\n\")\n",
    "print(f\"Array shape:\\t{arr_1d.shape}\\n\")\n",
    "print(f\"The first element: {arr_1d[0]}\\n\")\n",
    "print(f\"The third element: {arr_1d[2]}\\n\")\n",
    "print(f\"The last element: {arr_1d[-1]}\")"
   ]
  },
  {
   "cell_type": "code",
   "execution_count": 59,
   "metadata": {},
   "outputs": [
    {
     "output_type": "stream",
     "name": "stdout",
     "text": [
      "2D array (matrix):\n[[1 2 3]\n [4 5 6]]\n\nData type inside array:\n<class 'numpy.ndarray'>\n\nArray shape:\t(2, 3)\nElement of the first row and first column:\n1\n\nElement of the second row and the third column:\n6\n\nElement of the second row and the first column:\n4\n"
     ]
    }
   ],
   "source": [
    "arr_2d = np.array([[1, 2, 3], [4, 5, 6]])\n",
    "\n",
    "print(f\"2D array (matrix):\\n{arr_2d}\\n\")\n",
    "print(f\"Data type inside array:\\n{type(arr_2d)}\\n\")\n",
    "print(f\"Array shape:\\t{arr_2d.shape}\")\n",
    "print(f\"Element of the first row and first column:\\n{arr_2d[0, 0]}\\n\")\n",
    "print(f\"Element of the second row and the third column:\\n{arr_2d[1, 2]}\\n\")\n",
    "print(f\"Element of the second row and the first column:\\n{arr_2d[1, 0]}\")"
   ]
  },
  {
   "cell_type": "code",
   "execution_count": 6,
   "metadata": {},
   "outputs": [
    {
     "output_type": "execute_result",
     "data": {
      "text/plain": [
       "array([[2.2538437e-316, 0.0000000e+000, 0.0000000e+000],\n",
       "       [0.0000000e+000, 0.0000000e+000, 0.0000000e+000],\n",
       "       [0.0000000e+000, 0.0000000e+000, 0.0000000e+000],\n",
       "       [0.0000000e+000, 0.0000000e+000, 0.0000000e+000],\n",
       "       [0.0000000e+000, 0.0000000e+000, 0.0000000e+000]])"
      ]
     },
     "metadata": {},
     "execution_count": 6
    }
   ],
   "source": [
    "np.ndarray((5, 3))"
   ]
  },
  {
   "cell_type": "code",
   "execution_count": 7,
   "metadata": {},
   "outputs": [
    {
     "output_type": "execute_result",
     "data": {
      "text/plain": [
       "array([[0., 0., 0.],\n",
       "       [0., 0., 0.]])"
      ]
     },
     "metadata": {},
     "execution_count": 7
    }
   ],
   "source": [
    "np.zeros((2, 3))"
   ]
  },
  {
   "cell_type": "code",
   "execution_count": 8,
   "metadata": {},
   "outputs": [
    {
     "output_type": "execute_result",
     "data": {
      "text/plain": [
       "array([[1., 1.],\n",
       "       [1., 1.],\n",
       "       [1., 1.]])"
      ]
     },
     "metadata": {},
     "execution_count": 8
    }
   ],
   "source": [
    "np.ones((3, 2))"
   ]
  },
  {
   "cell_type": "code",
   "execution_count": 9,
   "metadata": {},
   "outputs": [
    {
     "output_type": "execute_result",
     "data": {
      "text/plain": [
       "array([[5, 5, 5, 5],\n",
       "       [5, 5, 5, 5],\n",
       "       [5, 5, 5, 5]])"
      ]
     },
     "metadata": {},
     "execution_count": 9
    }
   ],
   "source": [
    "np.full((3, 4), 5)"
   ]
  },
  {
   "cell_type": "code",
   "execution_count": 10,
   "metadata": {},
   "outputs": [
    {
     "output_type": "execute_result",
     "data": {
      "text/plain": [
       "array([[1., 0.],\n",
       "       [0., 1.],\n",
       "       [0., 0.]])"
      ]
     },
     "metadata": {},
     "execution_count": 10
    }
   ],
   "source": [
    "np.eye(3, 2)"
   ]
  },
  {
   "cell_type": "code",
   "execution_count": 11,
   "metadata": {},
   "outputs": [
    {
     "output_type": "execute_result",
     "data": {
      "text/plain": [
       "array([[0, 0, 0],\n",
       "       [0, 0, 0]])"
      ]
     },
     "metadata": {},
     "execution_count": 11
    }
   ],
   "source": [
    "arr_2d = np.array([[1, 2, 3], [4, 5, 6]])\n",
    "\n",
    "np.zeros_like(arr_2d)"
   ]
  },
  {
   "cell_type": "code",
   "execution_count": 12,
   "metadata": {},
   "outputs": [
    {
     "output_type": "execute_result",
     "data": {
      "text/plain": [
       "array([[1, 1, 1],\n",
       "       [1, 1, 1]])"
      ]
     },
     "metadata": {},
     "execution_count": 12
    }
   ],
   "source": [
    "arr_2d = np.array([[1, 2, 3], [4, 5, 6]])\n",
    "\n",
    "np.ones_like(arr_2d)"
   ]
  },
  {
   "cell_type": "code",
   "execution_count": 13,
   "metadata": {},
   "outputs": [
    {
     "output_type": "execute_result",
     "data": {
      "text/plain": [
       "array([[0.55964829, 0.40418317],\n",
       "       [0.56850836, 0.61742336]])"
      ]
     },
     "metadata": {},
     "execution_count": 13
    }
   ],
   "source": [
    "np.random.random((2,2))"
   ]
  },
  {
   "cell_type": "code",
   "execution_count": 14,
   "metadata": {},
   "outputs": [
    {
     "output_type": "execute_result",
     "data": {
      "text/plain": [
       "array([1. , 2.5, 4. , 5.5, 7. , 8.5])"
      ]
     },
     "metadata": {},
     "execution_count": 14
    }
   ],
   "source": [
    "np.arange(start=1, stop=10, step=1.5)"
   ]
  },
  {
   "cell_type": "code",
   "execution_count": 15,
   "metadata": {},
   "outputs": [
    {
     "output_type": "execute_result",
     "data": {
      "text/plain": [
       "array([1.        , 1.11111111, 1.22222222, 1.33333333, 1.44444444,\n",
       "       1.55555556, 1.66666667, 1.77777778, 1.88888889, 2.        ])"
      ]
     },
     "metadata": {},
     "execution_count": 15
    }
   ],
   "source": [
    "np.linspace(start=1, stop=2, num=10)"
   ]
  },
  {
   "cell_type": "code",
   "execution_count": 60,
   "metadata": {},
   "outputs": [
    {
     "output_type": "stream",
     "name": "stdout",
     "text": [
      "Row vector: [1, 2, 3, 4, 5, 6, 7, 8, 9, 10]\n\nThe first element: 1\n\nThe last second element: 9\n\nThe sixth element: 6\n"
     ]
    }
   ],
   "source": [
    "arr = list(range(1, 11))\n",
    "print(f\"Row vector: {arr}\\n\")\n",
    "print(f\"The first element: {arr[0]}\\n\")\n",
    "print(f\"The last second element: {arr[-2]}\\n\")\n",
    "print(f\"The sixth element: {arr[5]}\")"
   ]
  },
  {
   "cell_type": "code",
   "execution_count": 61,
   "metadata": {},
   "outputs": [
    {
     "output_type": "stream",
     "name": "stdout",
     "text": [
      "[3, 5, 7]\n"
     ]
    }
   ],
   "source": [
    "print(arr[2:8:2])"
   ]
  },
  {
   "cell_type": "code",
   "execution_count": 20,
   "metadata": {},
   "outputs": [
    {
     "output_type": "stream",
     "name": "stdout",
     "text": [
      "[3, 4, 5, 6, 7, 8]\n"
     ]
    }
   ],
   "source": [
    "print(arr[2:8])"
   ]
  },
  {
   "cell_type": "code",
   "execution_count": 21,
   "metadata": {},
   "outputs": [
    {
     "output_type": "stream",
     "name": "stdout",
     "text": [
      "[9, 8, 7, 6, 5, 4]\n"
     ]
    }
   ],
   "source": [
    "print(arr[8:2:-1])"
   ]
  },
  {
   "cell_type": "code",
   "execution_count": 22,
   "metadata": {},
   "outputs": [
    {
     "output_type": "stream",
     "name": "stdout",
     "text": [
      "[3, 4, 5, 6, 7, 8, 9, 10]\n[1, 2, 3, 4, 5, 6, 7, 8]\n"
     ]
    }
   ],
   "source": [
    "print(arr[2:])\n",
    "print(arr[:8])"
   ]
  },
  {
   "cell_type": "code",
   "execution_count": 23,
   "metadata": {},
   "outputs": [
    {
     "output_type": "stream",
     "name": "stdout",
     "text": [
      "[3, 5, 7, 9]\n[1, 4, 7]\n"
     ]
    }
   ],
   "source": [
    "print(arr[2::2])\n",
    "print(arr[:8:3])"
   ]
  },
  {
   "cell_type": "code",
   "execution_count": 24,
   "metadata": {},
   "outputs": [
    {
     "output_type": "stream",
     "name": "stdout",
     "text": [
      "[1, 1, 2, 3, 4, 6, 7, 8, 9, 10]\n"
     ]
    }
   ],
   "source": [
    "new_arr = list(range(1, 11))\n",
    "\n",
    "new_arr[1:5] = arr[:4]\n",
    "print(new_arr)"
   ]
  },
  {
   "cell_type": "code",
   "execution_count": 26,
   "metadata": {},
   "outputs": [
    {
     "output_type": "stream",
     "name": "stdout",
     "text": [
      "[1, 2, 3, 4, 5, 6, 7, 8, 9, 10]\n[10, 8]\n"
     ]
    }
   ],
   "source": [
    "# Task 1 \n",
    "print(arr)\n",
    "print(arr[:5:-2])"
   ]
  },
  {
   "cell_type": "code",
   "execution_count": 27,
   "metadata": {},
   "outputs": [
    {
     "output_type": "stream",
     "name": "stdout",
     "text": [
      "[0, 1, 2, 3, 4, 5, 6, 7, 8, 9]\n[9, 8, 7, 6, 5, 4, 3, 2, 1, 0]\n"
     ]
    }
   ],
   "source": [
    "# Task 2 \n",
    "data = list(range(10))\n",
    "print(data)\n",
    "print(data[::-1])"
   ]
  },
  {
   "cell_type": "code",
   "execution_count": 118,
   "metadata": {},
   "outputs": [
    {
     "output_type": "stream",
     "name": "stdout",
     "text": [
      "[0, 1, 2, 3, 4, 5, 6, 7, 8, 9]\n"
     ]
    },
    {
     "output_type": "error",
     "ename": "AttributeError",
     "evalue": "'list' object has no attribute 'shape'",
     "traceback": [
      "\u001b[0;31m---------------------------------------------------------------------------\u001b[0m",
      "\u001b[0;31mAttributeError\u001b[0m                            Traceback (most recent call last)",
      "\u001b[0;32m<ipython-input-118-0f98480c1e1f>\u001b[0m in \u001b[0;36m<module>\u001b[0;34m\u001b[0m\n\u001b[1;32m      2\u001b[0m \u001b[0mdata\u001b[0m \u001b[0;34m=\u001b[0m \u001b[0mlist\u001b[0m\u001b[0;34m(\u001b[0m\u001b[0mrange\u001b[0m\u001b[0;34m(\u001b[0m\u001b[0;36m10\u001b[0m\u001b[0;34m)\u001b[0m\u001b[0;34m)\u001b[0m\u001b[0;34m\u001b[0m\u001b[0;34m\u001b[0m\u001b[0m\n\u001b[1;32m      3\u001b[0m \u001b[0mprint\u001b[0m\u001b[0;34m(\u001b[0m\u001b[0mdata\u001b[0m\u001b[0;34m)\u001b[0m\u001b[0;34m\u001b[0m\u001b[0;34m\u001b[0m\u001b[0m\n\u001b[0;32m----> 4\u001b[0;31m \u001b[0mprint\u001b[0m\u001b[0;34m(\u001b[0m\u001b[0mdata\u001b[0m\u001b[0;34m[\u001b[0m\u001b[0;36m1\u001b[0m\u001b[0;34m:\u001b[0m\u001b[0mdata\u001b[0m\u001b[0;34m.\u001b[0m\u001b[0mshape\u001b[0m\u001b[0;34m[\u001b[0m\u001b[0;36m0\u001b[0m\u001b[0;34m]\u001b[0m\u001b[0;34m-\u001b[0m\u001b[0;36m2\u001b[0m\u001b[0;34m]\u001b[0m\u001b[0;34m)\u001b[0m\u001b[0;34m\u001b[0m\u001b[0;34m\u001b[0m\u001b[0m\n\u001b[0m",
      "\u001b[0;31mAttributeError\u001b[0m: 'list' object has no attribute 'shape'"
     ]
    }
   ],
   "source": [
    "# Task 3\n",
    "data = list(range(10))\n",
    "print(data)\n",
    "print(data[1:len(data)-2])"
   ]
  },
  {
   "cell_type": "code",
   "execution_count": 64,
   "metadata": {},
   "outputs": [
    {
     "output_type": "stream",
     "name": "stdout",
     "text": [
      "[[ 1  2  3  4]\n [ 5  6  7  8]\n [ 9 10 11 12]]\n"
     ]
    }
   ],
   "source": [
    "arr = np.array([[1, 2, 3, 4], [5, 6, 7, 8], [9, 10, 11, 12]])\n",
    "print(arr)"
   ]
  },
  {
   "cell_type": "code",
   "execution_count": 65,
   "metadata": {},
   "outputs": [
    {
     "output_type": "stream",
     "name": "stdout",
     "text": [
      "[ 9 10 11 12]\n[ 9 10 11 12]\n"
     ]
    }
   ],
   "source": [
    "# Получим вторую строку массива\n",
    "print(arr[2])\n",
    "print(arr[2, :])"
   ]
  },
  {
   "cell_type": "code",
   "execution_count": 66,
   "metadata": {},
   "outputs": [
    {
     "output_type": "stream",
     "name": "stdout",
     "text": [
      "[[ 2]\n [ 6]\n [10]]\n"
     ]
    }
   ],
   "source": [
    "# Получим первую колонку массива\n",
    "print(arr[:, 1][..., None])"
   ]
  },
  {
   "cell_type": "code",
   "execution_count": 67,
   "metadata": {},
   "outputs": [
    {
     "output_type": "stream",
     "name": "stdout",
     "text": [
      "[5 6]\n"
     ]
    }
   ],
   "source": [
    "# Получить первые два элемента (первые две колонки) первого ряда\n",
    "print(arr[1, :2])"
   ]
  },
  {
   "cell_type": "code",
   "execution_count": 69,
   "metadata": {},
   "outputs": [
    {
     "output_type": "stream",
     "name": "stdout",
     "text": [
      "original matrix:\n[[ 1  2  3  4]\n [ 5  6  7  8]\n [ 9 10 11 12]]\n\nmodified matrix:\n[[1 2 3 4]\n [5 6 7 8]\n [5 6 7 8]]\n"
     ]
    }
   ],
   "source": [
    "# Можно повторять целые части массива\n",
    "#   (но при этом должны соотноситься размерности)\n",
    "# ndarray.copy() - функция копирования массива\n",
    "# Копируем, чтобы не изменить оригинальный\n",
    "arr = np.array([[1, 2, 3, 4], [5, 6, 7, 8], [9, 10, 11, 12]])\n",
    "new_arr = arr.copy()\n",
    "print(f\"original matrix:\\n{arr}\\n\")\n",
    "\n",
    "new_arr[2, :] = arr[1, :]\n",
    "print(f\"modified matrix:\\n{new_arr}\")"
   ]
  },
  {
   "cell_type": "code",
   "execution_count": 70,
   "metadata": {},
   "outputs": [
    {
     "output_type": "stream",
     "name": "stdout",
     "text": [
      "New matrix:\n[[1 2]\n [5 6]]\n\nNew shape: (2, 2)\n"
     ]
    }
   ],
   "source": [
    "# При этом, такая индексация - это новый массив со своей размерностью.\n",
    "print(f\"New matrix:\\n{arr[:2, :2]}\\n\")\n",
    "print(f\"New shape: {arr[:2, :2].shape}\")"
   ]
  },
  {
   "cell_type": "code",
   "execution_count": 37,
   "metadata": {},
   "outputs": [
    {
     "output_type": "stream",
     "name": "stdout",
     "text": [
      "[[ 1  4]\n [ 5  8]\n [ 9 12]]\n"
     ]
    }
   ],
   "source": [
    "# В качестве индексов можно также задавать другие массивы\n",
    "# Получаем первую и последнюю колонки\n",
    "print(arr[:, [0, -1]])"
   ]
  },
  {
   "cell_type": "code",
   "execution_count": 38,
   "metadata": {},
   "outputs": [
    {
     "output_type": "stream",
     "name": "stdout",
     "text": [
      "[[ 9 10 11 12]\n [ 1  2  3  4]\n [ 5  6  7  8]]\n"
     ]
    }
   ],
   "source": [
    "# И таким образом никто не заставляет писать в том же порядке индексы\n",
    "# Перемешаем ряды\n",
    "print(arr[[2, 0, 1], :])"
   ]
  },
  {
   "cell_type": "code",
   "execution_count": 39,
   "metadata": {},
   "outputs": [
    {
     "output_type": "stream",
     "name": "stdout",
     "text": [
      "[10  4]\n10 4\n"
     ]
    }
   ],
   "source": [
    "# Также, можно комбинировать способы задания\n",
    "print(arr[[2, 0], [1, 3]])\n",
    "# То же самое, только первая запись дает массив\n",
    "print(arr[2, 1], arr[0, 3])"
   ]
  },
  {
   "cell_type": "code",
   "execution_count": 44,
   "metadata": {},
   "outputs": [
    {
     "output_type": "stream",
     "name": "stdout",
     "text": [
      "arr shape: (3, 4)\nrow indices:\n[0, 1, 2]\nreversed row indices:\n[2, 1, 0]\n----------------\nreversed arr:\n[[ 9 10 11 12]\n [ 5  6  7  8]\n [ 1  2  3  4]]\n"
     ]
    }
   ],
   "source": [
    "# Создаем список возможных индексов для рядов массива\n",
    "print(f\"arr shape: {arr.shape}\")\n",
    "row_indices = list(range(arr.shape[0]))\n",
    "print(f\"row indices:\\n{row_indices}\")\n",
    "\n",
    "# Переворачиваем его\n",
    "row_indices = list(reversed(row_indices))\n",
    "print(f\"reversed row indices:\\n{row_indices}\")\n",
    "\n",
    "# Используем для индексации\n",
    "print('----------------')\n",
    "print(f\"reversed arr:\\n{arr[row_indices]}\")"
   ]
  },
  {
   "cell_type": "code",
   "execution_count": 50,
   "metadata": {},
   "outputs": [
    {
     "output_type": "stream",
     "name": "stdout",
     "text": [
      "original matrix:\n[[4 6 9 8 9 4]\n [3 2 8 2 4 7]\n [4 8 2 2 4 1]\n [0 4 9 2 7 8]\n [9 4 5 9 9 1]]\noriginal shape:(5, 6)\n\none side cutted matrix:\n[[2 8 2 4 7]\n [8 2 2 4 1]\n [4 9 2 7 8]\n [4 5 9 9 1]]\none side shape: (4, 5)\n\ncutted matrix:\n[[2 8 2 4]\n [8 2 2 4]\n [4 9 2 7]]\ncutted matrix shape: (3, 4)\n"
     ]
    }
   ],
   "source": [
    "# Task 4 \n",
    "data = np.random.randint(low=0, high=10, size=(5, 6))\n",
    "print(f\"original matrix:\\n{data}\\noriginal shape:{data.shape}\\n\")\n",
    "\n",
    "cut_one_data = data[1:, 1:]\n",
    "print(f\"one side cutted matrix:\\n{cut_one_data}\\none side shape: {cut_one_data.shape}\\n\")\n",
    "\n",
    "cut_both_data = data[1:len(data)-1, 1:len(data[0])-1]\n",
    "print(f\"cutted matrix:\\n{cut_both_data}\\ncutted matrix shape: {cut_both_data.shape}\")"
   ]
  },
  {
   "cell_type": "code",
   "execution_count": 53,
   "metadata": {},
   "outputs": [
    {
     "output_type": "stream",
     "name": "stdout",
     "text": [
      "original data:\n[[2 3 0 1 0 4]\n [9 6 6 5 9 7]\n [4 1 3 5 8 5]]\ndata shape: (3, 6)\n\ncolumn-mixed data:\n[[0 4 1 2 3 0]\n [9 7 5 9 6 6]\n [8 5 5 4 1 3]]\ncolumn-mixed data shape: (3, 6)\n"
     ]
    }
   ],
   "source": [
    "# Task 5 \n",
    "data = np.random.randint(low=0, high=10, size=(3, 6))\n",
    "print(f\"original data:\\n{data}\\ndata shape: {data.shape}\\n\")\n",
    "\n",
    "mixed_col_data = data[:, np.random.permutation(data.shape[1])]\n",
    "print(f\"column-mixed data:\\n{mixed_col_data}\\ncolumn-mixed data shape: {mixed_col_data.shape}\")"
   ]
  },
  {
   "cell_type": "code",
   "execution_count": 73,
   "metadata": {},
   "outputs": [
    {
     "output_type": "stream",
     "name": "stdout",
     "text": [
      "Default type of elements in matrix: int64\n"
     ]
    }
   ],
   "source": [
    "# Создадим массив без задания типа - тип будет определен автоматически\n",
    "arr = np.array([[1, 2, 3, 4], [5, 6, 7, 8], [9, 10, 11, 12]])\n",
    "print(f\"Default type of elements in matrix: {arr.dtype}\")"
   ]
  },
  {
   "cell_type": "code",
   "execution_count": 74,
   "metadata": {},
   "outputs": [
    {
     "output_type": "stream",
     "name": "stdout",
     "text": [
      "Default type of elements in matrix: float64\n"
     ]
    }
   ],
   "source": [
    "# Изменим один элемент на вещественный\n",
    "arr = np.array([[1.5, 2, 3, 4], [5, 6, 7, 8], [9, 10, 11, 12]])\n",
    "print(f\"Default type of elements in matrix: {arr.dtype}\")"
   ]
  },
  {
   "cell_type": "code",
   "execution_count": 75,
   "metadata": {},
   "outputs": [
    {
     "output_type": "stream",
     "name": "stdout",
     "text": [
      "Original matrix:\n[[ 1  1  2]\n [-1  2 -1]]\n\nType of element: int64\n"
     ]
    }
   ],
   "source": [
    "# Зададим явно тип массива\n",
    "# Хоть массив и содержит вещественные числа\n",
    "# мы создаем массив целочисленных, что приводит\n",
    "# к округлению\n",
    "arr = np.array([[1.1, 1.6, 2.4], [-1.7, 2.6, -1.2]], dtype=int)\n",
    "print(f\"Original matrix:\\n{arr}\\n\")\n",
    "print(f\"Type of element: {arr.dtype}\")"
   ]
  },
  {
   "cell_type": "code",
   "execution_count": 76,
   "metadata": {},
   "outputs": [
    {
     "output_type": "stream",
     "name": "stdout",
     "text": [
      "Orignal matrix with float elements:\n[[ 1.1  1.6  2.4]\n [-1.7  2.6 -1.2]]\n\nDefault type of elements: float64\n----------\nCasted matrix:\n[[ 1  1  2]\n [-1  2 -1]]\n\nNew type of elements: int64\n"
     ]
    }
   ],
   "source": [
    "# Создаем массив вещественных\n",
    "arr = np.array([[1.1, 1.6, 2.4], [-1.7, 2.6, -1.2]])\n",
    "print(f\"Orignal matrix with float elements:\\n{arr}\\n\")\n",
    "print(f\"Default type of elements: {arr.dtype}\")\n",
    "print('----------')\n",
    "# Но в какой-то момент нам нужно привести массив к целочисленным\n",
    "# Воспользуемся методом ndarray.astype()\n",
    "arr = arr.astype(int)\n",
    "print(f\"Casted matrix:\\n{arr}\\n\")\n",
    "print(f\"New type of elements: {arr.dtype}\")"
   ]
  },
  {
   "cell_type": "code",
   "execution_count": 78,
   "metadata": {},
   "outputs": [
    {
     "output_type": "stream",
     "name": "stdout",
     "text": [
      "Orignal matrix:\n[[ 1  1  2]\n [-1  2 -1]]\n\nAttempt to use float values:\n[[ 1 10  2]\n [-1  2 -1]]\n"
     ]
    }
   ],
   "source": [
    "# При этом попытки записать в целочисленный массив \n",
    "# вещественное число приводят к округлению\n",
    "arr = np.array([[1.1, 1.6, 2.4], [-1.7, 2.6, -1.2]], dtype=int)\n",
    "print(f\"Orignal matrix:\\n{arr}\\n\")\n",
    "\n",
    "arr[0, 1] = 10.12\n",
    "print(f\"Attempt to use float values:\\n{arr}\")"
   ]
  },
  {
   "cell_type": "code",
   "execution_count": 81,
   "metadata": {},
   "outputs": [
    {
     "output_type": "stream",
     "name": "stdout",
     "text": [
      "Original matrix:\n[[ 1  2  3  4]\n [ 5  6  7  8]\n [ 9 10 11 12]]\n\nBollean mask:\n[[False False False False]\n [False False  True  True]\n [ True  True  True  True]]\n\nType of elements in mask: bool\n"
     ]
    }
   ],
   "source": [
    "arr = np.array([[1, 2, 3, 4], [5, 6, 7, 8], [9, 10, 11, 12]])\n",
    "print(f\"Original matrix:\\n{arr}\\n\")\n",
    "\n",
    "result = arr > 6\n",
    "print(f\"Bollean mask:\\n{result}\\n\")\n",
    "print(f\"Type of elements in mask: {result.dtype}\")"
   ]
  },
  {
   "cell_type": "code",
   "execution_count": 82,
   "metadata": {},
   "outputs": [
    {
     "output_type": "stream",
     "name": "stdout",
     "text": [
      "The first mask '> 6':\n[[False False False False]\n [False False  True  True]\n [ True  True  True  True]]\n\nThe second maks '< 10':\n[[ True  True  True  True]\n [ True  True  True  True]\n [ True False False False]]\n----------\nLogic AND:\n[[False False False False]\n [False False  True  True]\n [ True False False False]]\n\nLogic AND:\n[[False False False False]\n [False False  True  True]\n [ True False False False]]\n"
     ]
    }
   ],
   "source": [
    "result_1 = arr > 6\n",
    "result_2 = arr < 10\n",
    "print(f\"The first mask '> 6':\\n{result_1}\\n\")\n",
    "print(f\"The second maks '< 10':\\n{result_2}\")\n",
    "\n",
    "print('----------')\n",
    "# Следующие две операции идентичны, но для второй скобки обязательны!\n",
    "print(f\"Logic AND:\\n{result_1 & result_2}\\n\")\n",
    "print(f\"Logic AND:\\n{(arr > 6) & (arr < 10)}\")"
   ]
  },
  {
   "cell_type": "code",
   "execution_count": 85,
   "metadata": {},
   "outputs": [
    {
     "output_type": "stream",
     "name": "stdout",
     "text": [
      "Original matrix:\n[[ 1  2  3  4]\n [ 5  6  7  8]\n [ 9 10 11 12]]\n\nExistance of element '> 5' and '< 8': True\n"
     ]
    }
   ],
   "source": [
    "# Task 6 \n",
    "arr = np.array([[1, 2, 3, 4], [5, 6, 7, 8], [9, 10, 11, 12]])\n",
    "print(f\"Original matrix:\\n{arr}\\n\")\n",
    "\n",
    "# TODO - определить, имеется ли в массиве хотя бы один элемент, \n",
    "#           отвечающий условию больше пяти и меньше восьми\n",
    "print(f\"Existance of element '> 5' and '< 8': {np.any((arr > 5) & (arr < 8))}\")"
   ]
  },
  {
   "cell_type": "code",
   "execution_count": 88,
   "metadata": {},
   "outputs": [
    {
     "output_type": "stream",
     "name": "stdout",
     "text": [
      "The mask '> 6':\n[[False False False False]\n [False False  True  True]\n [ True  True  True  True]]\n\nElements from true-mask: [ 7  8  9 10 11 12]\n"
     ]
    }
   ],
   "source": [
    "arr = np.array([[1, 2, 3, 4], [5, 6, 7, 8], [9, 10, 11, 12]])\n",
    "# Получим маску и воспользуемся ею для индексации\n",
    "mask = arr > 6\n",
    "print(f\"The mask '> 6':\\n{mask}\\n\")\n",
    "print(f\"Elements from true-mask: {arr[mask]}\")"
   ]
  },
  {
   "cell_type": "code",
   "execution_count": 90,
   "metadata": {},
   "outputs": [
    {
     "output_type": "stream",
     "name": "stdout",
     "text": [
      "Original matrix:\n[[1 2 3 4]\n [5 6 7 8]]\n\nFlattened matrix:\n[1 2 3 4 5 6 7 8]\n"
     ]
    }
   ],
   "source": [
    "arr = np.array([[1, 2, 3, 4], [5, 6, 7, 8]])\n",
    "print(f\"Original matrix:\\n{arr}\\n\")\n",
    "print(f\"Flattened matrix:\\n{arr.flatten()}\")"
   ]
  },
  {
   "cell_type": "code",
   "execution_count": 91,
   "metadata": {},
   "outputs": [],
   "source": [
    "x = np.array([[1,2],[3,4]], dtype=np.float64)\n",
    "y = np.array([[5,6],[7,8]], dtype=np.float64)"
   ]
  },
  {
   "cell_type": "code",
   "execution_count": 93,
   "metadata": {},
   "outputs": [
    {
     "output_type": "stream",
     "name": "stdout",
     "text": [
      "Addition method 1:\n[[ 6.  8.]\n [10. 12.]]\n\nAddition method 2:\n[[ 6.  8.]\n [10. 12.]]\n"
     ]
    }
   ],
   "source": [
    "# Сложение\n",
    "print(f\"Addition method 1:\\n{x + y}\\n\")\n",
    "print(f\"Addition method 2:\\n{np.add(x, y)}\")"
   ]
  },
  {
   "cell_type": "code",
   "execution_count": 94,
   "metadata": {},
   "outputs": [
    {
     "output_type": "stream",
     "name": "stdout",
     "text": [
      "Substraction method 1:\n[[-4. -4.]\n [-4. -4.]]\n\nSubstraction method 2:\n[[-4. -4.]\n [-4. -4.]]\n"
     ]
    }
   ],
   "source": [
    "# Вычитание\n",
    "print(f\"Substraction method 1:\\n{x - y}\\n\")\n",
    "print(f\"Substraction method 2:\\n{np.subtract(x, y)}\")"
   ]
  },
  {
   "cell_type": "code",
   "execution_count": 96,
   "metadata": {},
   "outputs": [
    {
     "output_type": "stream",
     "name": "stdout",
     "text": [
      "Element-wise multiplication method 1:\n[[ 5. 12.]\n [21. 32.]]\n\nElement-wise multiplication method 2:\n[[ 5. 12.]\n [21. 32.]]\n"
     ]
    }
   ],
   "source": [
    "# Поэлементное умножение\n",
    "print(f\"Element-wise multiplication method 1:\\n{x * y}\\n\")\n",
    "print(f\"Element-wise multiplication method 2:\\n{np.multiply(x, y)}\")"
   ]
  },
  {
   "cell_type": "code",
   "execution_count": 97,
   "metadata": {},
   "outputs": [
    {
     "output_type": "stream",
     "name": "stdout",
     "text": [
      "Element-wise division method 1:\n[[0.2        0.33333333]\n [0.42857143 0.5       ]]\n\nElement-wise division method 2:\n[[0.2        0.33333333]\n [0.42857143 0.5       ]]\n"
     ]
    }
   ],
   "source": [
    "# Поэлементное деление\n",
    "print(f\"Element-wise division method 1:\\n{x / y}\\n\")\n",
    "print(f\"Element-wise division method 2:\\n{np.divide(x, y)}\")"
   ]
  },
  {
   "cell_type": "code",
   "execution_count": 98,
   "metadata": {},
   "outputs": [
    {
     "output_type": "stream",
     "name": "stdout",
     "text": [
      "Element-wise square root:\n[[1.         1.41421356]\n [1.73205081 2.        ]]\n"
     ]
    }
   ],
   "source": [
    "# Вычисление корня каждого элемента\n",
    "print(f\"Element-wise square root:\\n{np.sqrt(x)}\")"
   ]
  },
  {
   "cell_type": "code",
   "execution_count": 100,
   "metadata": {},
   "outputs": [
    {
     "output_type": "stream",
     "name": "stdout",
     "text": [
      "Multiplication by constant:\n[[1.5 3. ]\n [4.5 6. ]]\n"
     ]
    }
   ],
   "source": [
    "k = 1.5\n",
    "\n",
    "print(f\"Multiplication by constant:\\n{k*x}\")"
   ]
  },
  {
   "cell_type": "code",
   "execution_count": 101,
   "metadata": {},
   "outputs": [],
   "source": [
    "v = np.array([1, 2])"
   ]
  },
  {
   "cell_type": "code",
   "execution_count": 105,
   "metadata": {},
   "outputs": [
    {
     "output_type": "stream",
     "name": "stdout",
     "text": [
      "Matrix-vector multiplication @-method:\n[ 5. 11.]\n\nMatrix-vector multiplication .dot-method:\n[ 5. 11.]\n\nMatrix-vector multiplication np.dot-method:\n[ 5. 11.]\n"
     ]
    }
   ],
   "source": [
    "# Матричное умножение реализуется через оператор @ или функцию np.dot() \n",
    "# или метод ndarray.dot()\n",
    "# Для умножения матрица-вектор\n",
    "\n",
    "print(f\"Matrix-vector multiplication @-method:\\n{x @ v}\\n\")\n",
    "print(f\"Matrix-vector multiplication .dot-method:\\n{x.dot(v)}\\n\")\n",
    "print(f\"Matrix-vector multiplication np.dot-method:\\n{np.dot(x, v)}\")"
   ]
  },
  {
   "cell_type": "code",
   "execution_count": 103,
   "metadata": {},
   "outputs": [
    {
     "output_type": "stream",
     "name": "stdout",
     "text": [
      "Vector multiplication @-method:\n11\n\nVector-multiplication .dot-method:\n11\n\nVector-multiplication np.dot-method:\n11\n"
     ]
    }
   ],
   "source": [
    "# Двух векторов\n",
    "w = np.array([3, 4])\n",
    "\n",
    "print(f\"Vector multiplication @-method:\\n{w @ v}\\n\")\n",
    "print(f\"Vector-multiplication .dot-method:\\n{w.dot(v)}\\n\")\n",
    "print(f\"Vector-multiplication np.dot-method:\\n{np.dot(w, v)}\")"
   ]
  },
  {
   "cell_type": "code",
   "execution_count": 104,
   "metadata": {},
   "outputs": [
    {
     "output_type": "stream",
     "name": "stdout",
     "text": [
      "Matrix multiplication @-method:\n[[19. 22.]\n [43. 50.]]\n\nMatrix multiplication .dot-method:\n[[19. 22.]\n [43. 50.]]\n\nMatrix multiplication np.dot-method:\n[[19. 22.]\n [43. 50.]]\n"
     ]
    }
   ],
   "source": [
    "print(f\"Matrix multiplication @-method:\\n{x @ y}\\n\")\n",
    "print(f\"Matrix multiplication .dot-method:\\n{x.dot(y)}\\n\")\n",
    "print(f\"Matrix multiplication np.dot-method:\\n{np.dot(x, y)}\")"
   ]
  },
  {
   "cell_type": "code",
   "execution_count": 108,
   "metadata": {},
   "outputs": [
    {
     "output_type": "stream",
     "name": "stdout",
     "text": [
      "Original matrix:\n[[1 2 3]\n [4 5 6]]\n\nShape of original matrix: (2, 3)\n--------\nTranspose matrix (np.transpose):\n[[1 4]\n [2 5]\n [3 6]]\n\nTranspose matrix (.T):\n[[1 4]\n [2 5]\n [3 6]]\n\nShape of transpose matrix: (3, 2)\n"
     ]
    }
   ],
   "source": [
    "# Для транспонирования можно воспользоваться атрибутом ndarray.T\n",
    "# или функцией np.transpose()\n",
    "x = np.array([[1, 2, 3], [4, 5, 6]])\n",
    "print(f\"Original matrix:\\n{x}\\n\")\n",
    "print(f\"Shape of original matrix: {x.shape}\")\n",
    "print('--------')\n",
    "print(f\"Transpose matrix (np.transpose):\\n{np.transpose(x)}\\n\")\n",
    "print(f\"Transpose matrix (.T):\\n{x.T}\\n\")\n",
    "print(f\"Shape of transpose matrix: {x.T.shape}\")"
   ]
  },
  {
   "cell_type": "code",
   "execution_count": 109,
   "metadata": {},
   "outputs": [
    {
     "output_type": "stream",
     "name": "stdout",
     "text": [
      "Matrix x:\n[[1 2 3]\n [5 4 3]]\n"
     ]
    }
   ],
   "source": [
    "x = np.array([[1, 2, 3], [5, 4, 3]])\n",
    "print(f\"Matrix x:\\n{x}\")"
   ]
  },
  {
   "cell_type": "code",
   "execution_count": 110,
   "metadata": {},
   "outputs": [
    {
     "output_type": "stream",
     "name": "stdout",
     "text": [
      "Mean value of all matrix: 3.0\n\nMean value of all matrix: 3.0\n"
     ]
    }
   ],
   "source": [
    "# Возьмем среднее значение всего массива\n",
    "print(f\"Mean value of all matrix: {np.mean(x)}\\n\")\n",
    "print(f\"Mean value of all matrix: {np.mean(x, axis=None)}\")"
   ]
  },
  {
   "cell_type": "code",
   "execution_count": 111,
   "metadata": {},
   "outputs": [
    {
     "output_type": "stream",
     "name": "stdout",
     "text": [
      "Sum of all matrix values: 18\n\nSum of all matrix values: 18\n"
     ]
    }
   ],
   "source": [
    "# Получим сумму значений всего массива\n",
    "print(f\"Sum of all matrix values: {np.sum(x)}\\n\")\n",
    "print(f\"Sum of all matrix values: {np.sum(x, axis=None)}\")"
   ]
  },
  {
   "cell_type": "code",
   "execution_count": 112,
   "metadata": {},
   "outputs": [
    {
     "output_type": "stream",
     "name": "stdout",
     "text": [
      "Maen along each colimn: [3. 3. 3.]\n"
     ]
    }
   ],
   "source": [
    "# Получим среднее по каждому столбцу\n",
    "print(f\"Maen along each colimn: {np.mean(x, axis=0)}\")"
   ]
  },
  {
   "cell_type": "code",
   "execution_count": 113,
   "metadata": {},
   "outputs": [
    {
     "output_type": "stream",
     "name": "stdout",
     "text": [
      "Mean along each row: [2. 4.]\n"
     ]
    }
   ],
   "source": [
    "# Получим среднее по каждой строке\n",
    "print(f\"Mean along each row: {np.mean(x, axis=1)}\")"
   ]
  },
  {
   "cell_type": "code",
   "execution_count": 115,
   "metadata": {},
   "outputs": [
    {
     "output_type": "stream",
     "name": "stdout",
     "text": [
      "Original matrix:\n[[3 1 1 2 3 1]\n [4 4 4 1 2 0]\n [1 1 0 0 0 3]]\n\nSum of each column: [8 6 5 3 5 4]\n"
     ]
    }
   ],
   "source": [
    "# Task 7 \n",
    "data = np.random.randint(low=0, high=5, size=(3, 6))\n",
    "print(f\"Original matrix:\\n{data}\\n\")\n",
    "\n",
    "# TODO - вектор сумм элементов по каждому столбцу\n",
    "print(f\"Sum of each column: {np.sum(data, axis=0)}\")"
   ]
  },
  {
   "cell_type": "code",
   "execution_count": 116,
   "metadata": {},
   "outputs": [
    {
     "output_type": "stream",
     "name": "stdout",
     "text": [
      "Row-vector: [0 1 2 3]\n\nOriginal matrix:\n[[1. 1. 1. 1.]\n [1. 1. 1. 1.]\n [1. 1. 1. 1.]]\n"
     ]
    }
   ],
   "source": [
    "vec = np.arange(4)\n",
    "mtrx = np.ones((3, 4))\n",
    "print(f\"Row-vector: {vec}\\n\")\n",
    "print(f\"Original matrix:\\n{mtrx}\")"
   ]
  },
  {
   "cell_type": "code",
   "execution_count": 117,
   "metadata": {},
   "outputs": [
    {
     "output_type": "stream",
     "name": "stdout",
     "text": [
      "Multiplication of vector by each row of matrix:\n[[0. 1. 2. 3.]\n [0. 1. 2. 3.]\n [0. 1. 2. 3.]]\n"
     ]
    }
   ],
   "source": [
    "result = np.empty_like(mtrx)\n",
    "\n",
    "for i_row in range(mtrx.shape[0]):\n",
    "    result[i_row,:] = mtrx[i_row,:] * vec\n",
    "\n",
    "print(f\"Multiplication of vector by each row of matrix:\\n{result}\")"
   ]
  },
  {
   "cell_type": "code",
   "execution_count": 120,
   "metadata": {},
   "outputs": [
    {
     "output_type": "stream",
     "name": "stdout",
     "text": [
      "Matrix with repetition from row-vector:\n[[0 1 2 3]\n [0 1 2 3]\n [0 1 2 3]]\n\nMatrix multiplication:\n[[0. 1. 2. 3.]\n [0. 1. 2. 3.]\n [0. 1. 2. 3.]]\n"
     ]
    }
   ],
   "source": [
    "# Функция np.tile() повторяет массив то количество раз и по тем осям,\n",
    "#   которые заданы в аргументе reps\n",
    "vec_m = np.tile(vec, reps=(3, 1))\n",
    "print(f\"Matrix with repetition from row-vector:\\n{vec_m}\\n\")\n",
    "print(f\"Matrix multiplication:\\n{vec_m * mtrx}\")"
   ]
  },
  {
   "cell_type": "code",
   "execution_count": 121,
   "metadata": {},
   "outputs": [
    {
     "output_type": "stream",
     "name": "stdout",
     "text": [
      "Broadcasting multiplication:\n[[0. 1. 2. 3.]\n [0. 1. 2. 3.]\n [0. 1. 2. 3.]]\n"
     ]
    }
   ],
   "source": [
    "# Умножение, используя броадкастинг\n",
    "print(f\"Broadcasting multiplication:\\n{vec * mtrx}\")"
   ]
  },
  {
   "cell_type": "code",
   "execution_count": 128,
   "metadata": {},
   "outputs": [
    {
     "output_type": "stream",
     "name": "stdout",
     "text": [
      "x shape: (4, 1, 1)\n\ny shape: (4, 3, 2)\n\nShape after broadcasting multiplication:\n(4, 3, 2)\n"
     ]
    }
   ],
   "source": [
    "x = np.ones((4, 1, 1))\n",
    "y = np.random.randint(0, 5, size=(4, 3, 2))\n",
    "\n",
    "print(f\"x shape: {x.shape}\\n\")\n",
    "print(f\"y shape: {y.shape}\\n\")\n",
    "\n",
    "print(f\"Shape after broadcasting multiplication:\\n{(x*y).shape}\")"
   ]
  },
  {
   "cell_type": "code",
   "execution_count": 129,
   "metadata": {},
   "outputs": [
    {
     "output_type": "stream",
     "name": "stdout",
     "text": [
      "x shape: (3, 1)\n\ny shape: (4, 3, 2)\n\nShape after broadcasting multiplication:\n(4, 3, 2)\n"
     ]
    }
   ],
   "source": [
    "x = np.ones((3, 1))\n",
    "y = np.random.randint(0, 5, size=(4, 3, 2))\n",
    "\n",
    "print(f\"x shape: {x.shape}\\n\")\n",
    "print(f\"y shape: {y.shape}\\n\")\n",
    "\n",
    "print(f\"Shape after broadcasting multiplication:\\n{(x*y).shape}\")"
   ]
  },
  {
   "cell_type": "code",
   "execution_count": 130,
   "metadata": {},
   "outputs": [
    {
     "output_type": "stream",
     "name": "stdout",
     "text": [
      "x shape: (1, 3, 2)\n\ny shape: (5, 1, 2)\n\nShape after broadcasting multiplication:\n(5, 3, 2)\n"
     ]
    }
   ],
   "source": [
    "x = np.ones((1, 3, 2))\n",
    "y = np.random.randint(0, 5, size=(5, 1, 2))\n",
    "\n",
    "print(f\"x shape: {x.shape}\\n\")\n",
    "print(f\"y shape: {y.shape}\\n\")\n",
    "\n",
    "print(f\"Shape after broadcasting multiplication:\\n{(x*y).shape}\")"
   ]
  },
  {
   "cell_type": "code",
   "execution_count": null,
   "metadata": {},
   "outputs": [],
   "source": []
  }
 ]
}