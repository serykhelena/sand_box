{
 "metadata": {
  "language_info": {
   "codemirror_mode": {
    "name": "ipython",
    "version": 3
   },
   "file_extension": ".py",
   "mimetype": "text/x-python",
   "name": "python",
   "nbconvert_exporter": "python",
   "pygments_lexer": "ipython3",
   "version": "3.8.5-final"
  },
  "orig_nbformat": 2,
  "kernelspec": {
   "name": "Python 3.8.5 64-bit",
   "display_name": "Python 3.8.5 64-bit",
   "metadata": {
    "interpreter": {
     "hash": "31f2aee4e71d21fbe5cf8b01ff0e069b9275f58929596ceb00d14d90e3e16cd6"
    }
   }
  }
 },
 "nbformat": 4,
 "nbformat_minor": 2,
 "cells": [
  {
   "cell_type": "code",
   "execution_count": 1,
   "metadata": {},
   "outputs": [],
   "source": [
    "import pandas as pd"
   ]
  },
  {
   "cell_type": "code",
   "execution_count": 2,
   "metadata": {},
   "outputs": [
    {
     "output_type": "stream",
     "name": "stdout",
     "text": [
      "[[9 5 9]\n [1 9 4]\n [9 1 5]\n [7 1 4]\n [7 4 0]]\n"
     ]
    }
   ],
   "source": [
    "import numpy as np\n",
    "\n",
    "arr = np.random.randint(0, 10, size=(5, 3))\n",
    "print(arr)"
   ]
  },
  {
   "cell_type": "code",
   "execution_count": 3,
   "metadata": {},
   "outputs": [
    {
     "output_type": "execute_result",
     "data": {
      "text/plain": [
       "   0  1  2\n",
       "0  9  5  9\n",
       "1  1  9  4\n",
       "2  9  1  5\n",
       "3  7  1  4\n",
       "4  7  4  0"
      ],
      "text/html": "<div>\n<style scoped>\n    .dataframe tbody tr th:only-of-type {\n        vertical-align: middle;\n    }\n\n    .dataframe tbody tr th {\n        vertical-align: top;\n    }\n\n    .dataframe thead th {\n        text-align: right;\n    }\n</style>\n<table border=\"1\" class=\"dataframe\">\n  <thead>\n    <tr style=\"text-align: right;\">\n      <th></th>\n      <th>0</th>\n      <th>1</th>\n      <th>2</th>\n    </tr>\n  </thead>\n  <tbody>\n    <tr>\n      <th>0</th>\n      <td>9</td>\n      <td>5</td>\n      <td>9</td>\n    </tr>\n    <tr>\n      <th>1</th>\n      <td>1</td>\n      <td>9</td>\n      <td>4</td>\n    </tr>\n    <tr>\n      <th>2</th>\n      <td>9</td>\n      <td>1</td>\n      <td>5</td>\n    </tr>\n    <tr>\n      <th>3</th>\n      <td>7</td>\n      <td>1</td>\n      <td>4</td>\n    </tr>\n    <tr>\n      <th>4</th>\n      <td>7</td>\n      <td>4</td>\n      <td>0</td>\n    </tr>\n  </tbody>\n</table>\n</div>"
     },
     "metadata": {},
     "execution_count": 3
    }
   ],
   "source": [
    "# Создание фрейма - просто вызвать конструктор\n",
    "df = pd.DataFrame(data=arr)\n",
    "# Фреймы удобнее отображать с помощью встроенных средств Jupyter\n",
    "df"
   ]
  },
  {
   "cell_type": "code",
   "execution_count": 5,
   "metadata": {},
   "outputs": [
    {
     "output_type": "execute_result",
     "data": {
      "text/plain": [
       "   col_1  col_2  col_3\n",
       "A      6      5      2\n",
       "B      8      4      4\n",
       "C      8      8      8\n",
       "D      8      6      7\n",
       "E      1      1      9"
      ],
      "text/html": "<div>\n<style scoped>\n    .dataframe tbody tr th:only-of-type {\n        vertical-align: middle;\n    }\n\n    .dataframe tbody tr th {\n        vertical-align: top;\n    }\n\n    .dataframe thead th {\n        text-align: right;\n    }\n</style>\n<table border=\"1\" class=\"dataframe\">\n  <thead>\n    <tr style=\"text-align: right;\">\n      <th></th>\n      <th>col_1</th>\n      <th>col_2</th>\n      <th>col_3</th>\n    </tr>\n  </thead>\n  <tbody>\n    <tr>\n      <th>A</th>\n      <td>6</td>\n      <td>5</td>\n      <td>2</td>\n    </tr>\n    <tr>\n      <th>B</th>\n      <td>8</td>\n      <td>4</td>\n      <td>4</td>\n    </tr>\n    <tr>\n      <th>C</th>\n      <td>8</td>\n      <td>8</td>\n      <td>8</td>\n    </tr>\n    <tr>\n      <th>D</th>\n      <td>8</td>\n      <td>6</td>\n      <td>7</td>\n    </tr>\n    <tr>\n      <th>E</th>\n      <td>1</td>\n      <td>1</td>\n      <td>9</td>\n    </tr>\n  </tbody>\n</table>\n</div>"
     },
     "metadata": {},
     "execution_count": 5
    }
   ],
   "source": [
    "# Task 1 \n",
    "arr = np.random.randint(0, 10, size=(5, 3))\n",
    "df = pd.DataFrame(data=arr, columns=['col_1', 'col_2', 'col_3'], index=['A', 'B', 'C', 'D', 'E'])\n",
    "df"
   ]
  },
  {
   "cell_type": "code",
   "execution_count": 6,
   "metadata": {},
   "outputs": [
    {
     "output_type": "execute_result",
     "data": {
      "text/plain": [
       "   test_1_mark  test_2_mark\n",
       "0          4.6          5.0\n",
       "1          3.8          3.9\n",
       "2          5.0          4.7\n",
       "3          4.5          4.5"
      ],
      "text/html": "<div>\n<style scoped>\n    .dataframe tbody tr th:only-of-type {\n        vertical-align: middle;\n    }\n\n    .dataframe tbody tr th {\n        vertical-align: top;\n    }\n\n    .dataframe thead th {\n        text-align: right;\n    }\n</style>\n<table border=\"1\" class=\"dataframe\">\n  <thead>\n    <tr style=\"text-align: right;\">\n      <th></th>\n      <th>test_1_mark</th>\n      <th>test_2_mark</th>\n    </tr>\n  </thead>\n  <tbody>\n    <tr>\n      <th>0</th>\n      <td>4.6</td>\n      <td>5.0</td>\n    </tr>\n    <tr>\n      <th>1</th>\n      <td>3.8</td>\n      <td>3.9</td>\n    </tr>\n    <tr>\n      <th>2</th>\n      <td>5.0</td>\n      <td>4.7</td>\n    </tr>\n    <tr>\n      <th>3</th>\n      <td>4.5</td>\n      <td>4.5</td>\n    </tr>\n  </tbody>\n</table>\n</div>"
     },
     "metadata": {},
     "execution_count": 6
    }
   ],
   "source": [
    "# Создается словарь, в котором ключи будут названиями колонок,\n",
    "#   а значения - данные по этим колонкам\n",
    "data = {\n",
    "    'test_1_mark': [4.6, 3.8, 5.0, 4.5],\n",
    "    'test_2_mark': [5.0, 3.9, 4.7, 4.5]\n",
    "}\n",
    "\n",
    "pd.DataFrame(data)"
   ]
  },
  {
   "cell_type": "code",
   "execution_count": 7,
   "metadata": {},
   "outputs": [
    {
     "output_type": "execute_result",
     "data": {
      "text/plain": [
       "   test_1_mark  test_2_mark\n",
       "0          4.6          5.0\n",
       "1          3.8          3.9\n",
       "2          5.0          NaN"
      ],
      "text/html": "<div>\n<style scoped>\n    .dataframe tbody tr th:only-of-type {\n        vertical-align: middle;\n    }\n\n    .dataframe tbody tr th {\n        vertical-align: top;\n    }\n\n    .dataframe thead th {\n        text-align: right;\n    }\n</style>\n<table border=\"1\" class=\"dataframe\">\n  <thead>\n    <tr style=\"text-align: right;\">\n      <th></th>\n      <th>test_1_mark</th>\n      <th>test_2_mark</th>\n    </tr>\n  </thead>\n  <tbody>\n    <tr>\n      <th>0</th>\n      <td>4.6</td>\n      <td>5.0</td>\n    </tr>\n    <tr>\n      <th>1</th>\n      <td>3.8</td>\n      <td>3.9</td>\n    </tr>\n    <tr>\n      <th>2</th>\n      <td>5.0</td>\n      <td>NaN</td>\n    </tr>\n  </tbody>\n</table>\n</div>"
     },
     "metadata": {},
     "execution_count": 7
    }
   ],
   "source": [
    "# Создается список записей, каждая запись представлена словарем\n",
    "# В словаре ключи - названия колонок\n",
    "# При создании фрейма pandas просмотри все возможные ключи словарей в списке\n",
    "#   и создаст колонок по их названиям\n",
    "data = [\n",
    "    {\n",
    "        'test_1_mark': 4.6,\n",
    "        'test_2_mark': 5.0\n",
    "    },\n",
    "    {\n",
    "        'test_1_mark': 3.8,\n",
    "        'test_2_mark': 3.9\n",
    "    },\n",
    "    {\n",
    "        'test_1_mark': 5.0\n",
    "    },\n",
    "]\n",
    "\n",
    "pd.DataFrame(data)"
   ]
  },
  {
   "cell_type": "code",
   "execution_count": 8,
   "metadata": {},
   "outputs": [
    {
     "output_type": "execute_result",
     "data": {
      "text/plain": [
       "     A          B    C  D      E    F\n",
       "0  1.0 2013-01-02  2.0  3   test  foo\n",
       "1  1.0 2013-01-02  2.0  3  train  foo\n",
       "2  1.0 2013-01-02  2.0  3   test  foo\n",
       "3  1.0 2013-01-02  2.0  3  train  foo"
      ],
      "text/html": "<div>\n<style scoped>\n    .dataframe tbody tr th:only-of-type {\n        vertical-align: middle;\n    }\n\n    .dataframe tbody tr th {\n        vertical-align: top;\n    }\n\n    .dataframe thead th {\n        text-align: right;\n    }\n</style>\n<table border=\"1\" class=\"dataframe\">\n  <thead>\n    <tr style=\"text-align: right;\">\n      <th></th>\n      <th>A</th>\n      <th>B</th>\n      <th>C</th>\n      <th>D</th>\n      <th>E</th>\n      <th>F</th>\n    </tr>\n  </thead>\n  <tbody>\n    <tr>\n      <th>0</th>\n      <td>1.0</td>\n      <td>2013-01-02</td>\n      <td>2.0</td>\n      <td>3</td>\n      <td>test</td>\n      <td>foo</td>\n    </tr>\n    <tr>\n      <th>1</th>\n      <td>1.0</td>\n      <td>2013-01-02</td>\n      <td>2.0</td>\n      <td>3</td>\n      <td>train</td>\n      <td>foo</td>\n    </tr>\n    <tr>\n      <th>2</th>\n      <td>1.0</td>\n      <td>2013-01-02</td>\n      <td>2.0</td>\n      <td>3</td>\n      <td>test</td>\n      <td>foo</td>\n    </tr>\n    <tr>\n      <th>3</th>\n      <td>1.0</td>\n      <td>2013-01-02</td>\n      <td>2.0</td>\n      <td>3</td>\n      <td>train</td>\n      <td>foo</td>\n    </tr>\n  </tbody>\n</table>\n</div>"
     },
     "metadata": {},
     "execution_count": 8
    }
   ],
   "source": [
    "df = pd.DataFrame({'A': 1.,\n",
    "                   'B': pd.Timestamp('20130102'),\n",
    "                   'C': np.array([2.] * 4, dtype='float32'),\n",
    "                   'D': np.array([3] * 4, dtype='int32'),\n",
    "                   'E': pd.Categorical([\"test\", \"train\", \"test\", \"train\"]),\n",
    "                   'F': 'foo'})\n",
    "df"
   ]
  },
  {
   "cell_type": "code",
   "execution_count": 9,
   "metadata": {},
   "outputs": [
    {
     "output_type": "stream",
     "name": "stdout",
     "text": [
      "<class 'pandas.core.frame.DataFrame'>\nRangeIndex: 4 entries, 0 to 3\nData columns (total 6 columns):\n #   Column  Non-Null Count  Dtype         \n---  ------  --------------  -----         \n 0   A       4 non-null      float64       \n 1   B       4 non-null      datetime64[ns]\n 2   C       4 non-null      float32       \n 3   D       4 non-null      int32         \n 4   E       4 non-null      category      \n 5   F       4 non-null      object        \ndtypes: category(1), datetime64[ns](1), float32(1), float64(1), int32(1), object(1)\nmemory usage: 356.0+ bytes\n"
     ]
    }
   ],
   "source": [
    "df.info()"
   ]
  },
  {
   "cell_type": "code",
   "execution_count": 10,
   "metadata": {},
   "outputs": [
    {
     "output_type": "execute_result",
     "data": {
      "text/plain": [
       "   x1  x2  x3\n",
       "0  -1  -2   4\n",
       "1  -9  -2  -2\n",
       "2   5   3   3\n",
       "3  -5   7  -7"
      ],
      "text/html": "<div>\n<style scoped>\n    .dataframe tbody tr th:only-of-type {\n        vertical-align: middle;\n    }\n\n    .dataframe tbody tr th {\n        vertical-align: top;\n    }\n\n    .dataframe thead th {\n        text-align: right;\n    }\n</style>\n<table border=\"1\" class=\"dataframe\">\n  <thead>\n    <tr style=\"text-align: right;\">\n      <th></th>\n      <th>x1</th>\n      <th>x2</th>\n      <th>x3</th>\n    </tr>\n  </thead>\n  <tbody>\n    <tr>\n      <th>0</th>\n      <td>-1</td>\n      <td>-2</td>\n      <td>4</td>\n    </tr>\n    <tr>\n      <th>1</th>\n      <td>-9</td>\n      <td>-2</td>\n      <td>-2</td>\n    </tr>\n    <tr>\n      <th>2</th>\n      <td>5</td>\n      <td>3</td>\n      <td>3</td>\n    </tr>\n    <tr>\n      <th>3</th>\n      <td>-5</td>\n      <td>7</td>\n      <td>-7</td>\n    </tr>\n  </tbody>\n</table>\n</div>"
     },
     "metadata": {},
     "execution_count": 10
    }
   ],
   "source": [
    "df = pd.DataFrame(\n",
    "    data=np.random.randint(-10, 10, size=(15, 3)), \n",
    "    columns=['x1', 'x2', 'x3']\n",
    ")\n",
    "\n",
    "# Функция получения первых записей фрейма\n",
    "# Аргументом задается количество выводимых данных\n",
    "#   Если не задано - 5 по-умолчанию\n",
    "df.head(4)"
   ]
  },
  {
   "cell_type": "code",
   "execution_count": 11,
   "metadata": {},
   "outputs": [
    {
     "output_type": "execute_result",
     "data": {
      "text/plain": [
       "    x1  x2  x3\n",
       "11 -10  -3   8\n",
       "12   0  -1  -6\n",
       "13  -2   6   1\n",
       "14  -3  -1  -5"
      ],
      "text/html": "<div>\n<style scoped>\n    .dataframe tbody tr th:only-of-type {\n        vertical-align: middle;\n    }\n\n    .dataframe tbody tr th {\n        vertical-align: top;\n    }\n\n    .dataframe thead th {\n        text-align: right;\n    }\n</style>\n<table border=\"1\" class=\"dataframe\">\n  <thead>\n    <tr style=\"text-align: right;\">\n      <th></th>\n      <th>x1</th>\n      <th>x2</th>\n      <th>x3</th>\n    </tr>\n  </thead>\n  <tbody>\n    <tr>\n      <th>11</th>\n      <td>-10</td>\n      <td>-3</td>\n      <td>8</td>\n    </tr>\n    <tr>\n      <th>12</th>\n      <td>0</td>\n      <td>-1</td>\n      <td>-6</td>\n    </tr>\n    <tr>\n      <th>13</th>\n      <td>-2</td>\n      <td>6</td>\n      <td>1</td>\n    </tr>\n    <tr>\n      <th>14</th>\n      <td>-3</td>\n      <td>-1</td>\n      <td>-5</td>\n    </tr>\n  </tbody>\n</table>\n</div>"
     },
     "metadata": {},
     "execution_count": 11
    }
   ],
   "source": [
    "# Функция получения последних записей фрейма\n",
    "# Аргументом задается количество выводимых данных\n",
    "#   Если не задано - 5 по-умолчанию\n",
    "df.tail(4)"
   ]
  },
  {
   "cell_type": "code",
   "execution_count": 12,
   "metadata": {},
   "outputs": [
    {
     "output_type": "stream",
     "name": "stdout",
     "text": [
      "<class 'pandas.core.frame.DataFrame'>\nRangeIndex: 15 entries, 0 to 14\nData columns (total 3 columns):\n #   Column  Non-Null Count  Dtype\n---  ------  --------------  -----\n 0   x1      15 non-null     int64\n 1   x2      15 non-null     int64\n 2   x3      15 non-null     int64\ndtypes: int64(3)\nmemory usage: 488.0 bytes\n"
     ]
    }
   ],
   "source": [
    "# Функция отображения основной информации о фрейме:\n",
    "#   Количество записей\n",
    "#   Типы колонок\n",
    "#   Количество ненулевых значений\n",
    "#   Тип индекса\n",
    "df.info()"
   ]
  },
  {
   "cell_type": "code",
   "execution_count": 13,
   "metadata": {},
   "outputs": [
    {
     "output_type": "execute_result",
     "data": {
      "text/plain": [
       "              x1         x2         x3\n",
       "count  15.000000  15.000000  15.000000\n",
       "mean   -1.800000   0.533333  -1.000000\n",
       "std     5.361237   5.054936   6.023762\n",
       "min   -10.000000  -8.000000 -10.000000\n",
       "25%    -5.500000  -2.000000  -6.500000\n",
       "50%    -2.000000  -1.000000   0.000000\n",
       "75%     2.000000   5.000000   3.500000\n",
       "max     8.000000   8.000000   8.000000"
      ],
      "text/html": "<div>\n<style scoped>\n    .dataframe tbody tr th:only-of-type {\n        vertical-align: middle;\n    }\n\n    .dataframe tbody tr th {\n        vertical-align: top;\n    }\n\n    .dataframe thead th {\n        text-align: right;\n    }\n</style>\n<table border=\"1\" class=\"dataframe\">\n  <thead>\n    <tr style=\"text-align: right;\">\n      <th></th>\n      <th>x1</th>\n      <th>x2</th>\n      <th>x3</th>\n    </tr>\n  </thead>\n  <tbody>\n    <tr>\n      <th>count</th>\n      <td>15.000000</td>\n      <td>15.000000</td>\n      <td>15.000000</td>\n    </tr>\n    <tr>\n      <th>mean</th>\n      <td>-1.800000</td>\n      <td>0.533333</td>\n      <td>-1.000000</td>\n    </tr>\n    <tr>\n      <th>std</th>\n      <td>5.361237</td>\n      <td>5.054936</td>\n      <td>6.023762</td>\n    </tr>\n    <tr>\n      <th>min</th>\n      <td>-10.000000</td>\n      <td>-8.000000</td>\n      <td>-10.000000</td>\n    </tr>\n    <tr>\n      <th>25%</th>\n      <td>-5.500000</td>\n      <td>-2.000000</td>\n      <td>-6.500000</td>\n    </tr>\n    <tr>\n      <th>50%</th>\n      <td>-2.000000</td>\n      <td>-1.000000</td>\n      <td>0.000000</td>\n    </tr>\n    <tr>\n      <th>75%</th>\n      <td>2.000000</td>\n      <td>5.000000</td>\n      <td>3.500000</td>\n    </tr>\n    <tr>\n      <th>max</th>\n      <td>8.000000</td>\n      <td>8.000000</td>\n      <td>8.000000</td>\n    </tr>\n  </tbody>\n</table>\n</div>"
     },
     "metadata": {},
     "execution_count": 13
    }
   ],
   "source": [
    "# Функция отображения статистики по численным колонкам\n",
    "df.describe()"
   ]
  },
  {
   "cell_type": "code",
   "execution_count": 14,
   "metadata": {},
   "outputs": [
    {
     "output_type": "execute_result",
     "data": {
      "text/plain": [
       "RangeIndex(start=0, stop=15, step=1)"
      ]
     },
     "metadata": {},
     "execution_count": 14
    }
   ],
   "source": [
    "# Атрибут получения индексов фрейма\n",
    "df.index"
   ]
  },
  {
   "cell_type": "code",
   "execution_count": 15,
   "metadata": {},
   "outputs": [
    {
     "output_type": "execute_result",
     "data": {
      "text/plain": [
       "[0, 1, 2, 3, 4, 5, 6, 7, 8, 9, 10, 11, 12, 13, 14]"
      ]
     },
     "metadata": {},
     "execution_count": 15
    }
   ],
   "source": [
    "# Или чтобы представить в виде списка\n",
    "list(df.index)"
   ]
  },
  {
   "cell_type": "code",
   "execution_count": 16,
   "metadata": {},
   "outputs": [
    {
     "output_type": "execute_result",
     "data": {
      "text/plain": [
       "Index(['x1', 'x2', 'x3'], dtype='object')"
      ]
     },
     "metadata": {},
     "execution_count": 16
    }
   ],
   "source": [
    "# Атрибут получения имен колонок фрейма\n",
    "df.columns"
   ]
  },
  {
   "cell_type": "code",
   "execution_count": 17,
   "metadata": {},
   "outputs": [
    {
     "output_type": "execute_result",
     "data": {
      "text/plain": [
       "(15, 3)"
      ]
     },
     "metadata": {},
     "execution_count": 17
    }
   ],
   "source": [
    "df.shape"
   ]
  },
  {
   "cell_type": "code",
   "execution_count": 18,
   "metadata": {},
   "outputs": [
    {
     "output_type": "execute_result",
     "data": {
      "text/plain": [
       "array([[ -1,  -2,   4],\n",
       "       [ -9,  -2,  -2],\n",
       "       [  5,   3,   3],\n",
       "       [ -5,   7,  -7],\n",
       "       [ -8,   8,   0],\n",
       "       [  8,   1,   6],\n",
       "       [ -6,  -2,   2],\n",
       "       [  1,  -8,  -7],\n",
       "       [  4,   4, -10],\n",
       "       [  3,   6,   7],\n",
       "       [ -4,  -8,  -9],\n",
       "       [-10,  -3,   8],\n",
       "       [  0,  -1,  -6],\n",
       "       [ -2,   6,   1],\n",
       "       [ -3,  -1,  -5]])"
      ]
     },
     "metadata": {},
     "execution_count": 18
    }
   ],
   "source": [
    "df.to_numpy()"
   ]
  },
  {
   "cell_type": "code",
   "execution_count": 19,
   "metadata": {},
   "outputs": [
    {
     "output_type": "execute_result",
     "data": {
      "text/plain": [
       "    0   1   2   3   4   5   6   7   8   9   10  11  12  13  14\n",
       "x1  -1  -9   5  -5  -8   8  -6   1   4   3  -4 -10   0  -2  -3\n",
       "x2  -2  -2   3   7   8   1  -2  -8   4   6  -8  -3  -1   6  -1\n",
       "x3   4  -2   3  -7   0   6   2  -7 -10   7  -9   8  -6   1  -5"
      ],
      "text/html": "<div>\n<style scoped>\n    .dataframe tbody tr th:only-of-type {\n        vertical-align: middle;\n    }\n\n    .dataframe tbody tr th {\n        vertical-align: top;\n    }\n\n    .dataframe thead th {\n        text-align: right;\n    }\n</style>\n<table border=\"1\" class=\"dataframe\">\n  <thead>\n    <tr style=\"text-align: right;\">\n      <th></th>\n      <th>0</th>\n      <th>1</th>\n      <th>2</th>\n      <th>3</th>\n      <th>4</th>\n      <th>5</th>\n      <th>6</th>\n      <th>7</th>\n      <th>8</th>\n      <th>9</th>\n      <th>10</th>\n      <th>11</th>\n      <th>12</th>\n      <th>13</th>\n      <th>14</th>\n    </tr>\n  </thead>\n  <tbody>\n    <tr>\n      <th>x1</th>\n      <td>-1</td>\n      <td>-9</td>\n      <td>5</td>\n      <td>-5</td>\n      <td>-8</td>\n      <td>8</td>\n      <td>-6</td>\n      <td>1</td>\n      <td>4</td>\n      <td>3</td>\n      <td>-4</td>\n      <td>-10</td>\n      <td>0</td>\n      <td>-2</td>\n      <td>-3</td>\n    </tr>\n    <tr>\n      <th>x2</th>\n      <td>-2</td>\n      <td>-2</td>\n      <td>3</td>\n      <td>7</td>\n      <td>8</td>\n      <td>1</td>\n      <td>-2</td>\n      <td>-8</td>\n      <td>4</td>\n      <td>6</td>\n      <td>-8</td>\n      <td>-3</td>\n      <td>-1</td>\n      <td>6</td>\n      <td>-1</td>\n    </tr>\n    <tr>\n      <th>x3</th>\n      <td>4</td>\n      <td>-2</td>\n      <td>3</td>\n      <td>-7</td>\n      <td>0</td>\n      <td>6</td>\n      <td>2</td>\n      <td>-7</td>\n      <td>-10</td>\n      <td>7</td>\n      <td>-9</td>\n      <td>8</td>\n      <td>-6</td>\n      <td>1</td>\n      <td>-5</td>\n    </tr>\n  </tbody>\n</table>\n</div>"
     },
     "metadata": {},
     "execution_count": 19
    }
   ],
   "source": [
    "# Получение транспонированного представления\n",
    "# Колонки -> ряды, ряды -> колонки\n",
    "df.T\n",
    "\n",
    "# (*) Транспонирование вряд ли часто понадобится при анализе, но учитывать стоит"
   ]
  },
  {
   "cell_type": "code",
   "execution_count": 20,
   "metadata": {},
   "outputs": [
    {
     "output_type": "execute_result",
     "data": {
      "text/plain": [
       "   x1  x2  x3\n",
       "0   7   0   2\n",
       "1   8   3   8\n",
       "2   0   9   7\n",
       "3   7   4   9\n",
       "4   9   4   6"
      ],
      "text/html": "<div>\n<style scoped>\n    .dataframe tbody tr th:only-of-type {\n        vertical-align: middle;\n    }\n\n    .dataframe tbody tr th {\n        vertical-align: top;\n    }\n\n    .dataframe thead th {\n        text-align: right;\n    }\n</style>\n<table border=\"1\" class=\"dataframe\">\n  <thead>\n    <tr style=\"text-align: right;\">\n      <th></th>\n      <th>x1</th>\n      <th>x2</th>\n      <th>x3</th>\n    </tr>\n  </thead>\n  <tbody>\n    <tr>\n      <th>0</th>\n      <td>7</td>\n      <td>0</td>\n      <td>2</td>\n    </tr>\n    <tr>\n      <th>1</th>\n      <td>8</td>\n      <td>3</td>\n      <td>8</td>\n    </tr>\n    <tr>\n      <th>2</th>\n      <td>0</td>\n      <td>9</td>\n      <td>7</td>\n    </tr>\n    <tr>\n      <th>3</th>\n      <td>7</td>\n      <td>4</td>\n      <td>9</td>\n    </tr>\n    <tr>\n      <th>4</th>\n      <td>9</td>\n      <td>4</td>\n      <td>6</td>\n    </tr>\n  </tbody>\n</table>\n</div>"
     },
     "metadata": {},
     "execution_count": 20
    }
   ],
   "source": [
    "df = pd.DataFrame(\n",
    "    data=np.random.randint(0, 10, size=(5, 3)), \n",
    "    columns=['x1', 'x2', 'x3']\n",
    ")\n",
    "\n",
    "df"
   ]
  },
  {
   "cell_type": "code",
   "execution_count": 22,
   "metadata": {},
   "outputs": [
    {
     "output_type": "stream",
     "name": "stdout",
     "text": [
      "Column 'x1':\n0    7\n1    8\n2    0\n3    7\n4    9\nName: x1, dtype: int64\n\n<class 'pandas.core.series.Series'>\n"
     ]
    }
   ],
   "source": [
    "print(f\"Column 'x1':\\n{df['x1']}\\n\")\n",
    "print(type(df['x1']))"
   ]
  },
  {
   "cell_type": "code",
   "execution_count": 23,
   "metadata": {},
   "outputs": [
    {
     "output_type": "execute_result",
     "data": {
      "text/plain": [
       "   feature1  feature2 feature3\n",
       "A         0  0.000000   string\n",
       "B         1  0.714286   string\n",
       "C         2  1.428571   string\n",
       "D         3  2.142857   string\n",
       "E         4  2.857143   string"
      ],
      "text/html": "<div>\n<style scoped>\n    .dataframe tbody tr th:only-of-type {\n        vertical-align: middle;\n    }\n\n    .dataframe tbody tr th {\n        vertical-align: top;\n    }\n\n    .dataframe thead th {\n        text-align: right;\n    }\n</style>\n<table border=\"1\" class=\"dataframe\">\n  <thead>\n    <tr style=\"text-align: right;\">\n      <th></th>\n      <th>feature1</th>\n      <th>feature2</th>\n      <th>feature3</th>\n    </tr>\n  </thead>\n  <tbody>\n    <tr>\n      <th>A</th>\n      <td>0</td>\n      <td>0.000000</td>\n      <td>string</td>\n    </tr>\n    <tr>\n      <th>B</th>\n      <td>1</td>\n      <td>0.714286</td>\n      <td>string</td>\n    </tr>\n    <tr>\n      <th>C</th>\n      <td>2</td>\n      <td>1.428571</td>\n      <td>string</td>\n    </tr>\n    <tr>\n      <th>D</th>\n      <td>3</td>\n      <td>2.142857</td>\n      <td>string</td>\n    </tr>\n    <tr>\n      <th>E</th>\n      <td>4</td>\n      <td>2.857143</td>\n      <td>string</td>\n    </tr>\n  </tbody>\n</table>\n</div>"
     },
     "metadata": {},
     "execution_count": 23
    }
   ],
   "source": [
    "data = {\n",
    "    'feature1': np.arange(15),\n",
    "    'feature2': np.linspace(0, 10, 15),\n",
    "    'feature3': 'string',\n",
    "}\n",
    "df = pd.DataFrame(data, index=list('ABCDEFGHIJKLMNO'))\n",
    "df.head()"
   ]
  },
  {
   "cell_type": "code",
   "execution_count": 24,
   "metadata": {},
   "outputs": [
    {
     "output_type": "execute_result",
     "data": {
      "text/plain": [
       "feature1          2\n",
       "feature2    1.42857\n",
       "feature3     string\n",
       "Name: C, dtype: object"
      ]
     },
     "metadata": {},
     "execution_count": 24
    }
   ],
   "source": [
    "df.iloc[2]"
   ]
  },
  {
   "cell_type": "code",
   "execution_count": 25,
   "metadata": {},
   "outputs": [
    {
     "output_type": "execute_result",
     "data": {
      "text/plain": [
       "feature1          2\n",
       "feature2    1.42857\n",
       "feature3     string\n",
       "Name: C, dtype: object"
      ]
     },
     "metadata": {},
     "execution_count": 25
    }
   ],
   "source": [
    "df.loc['C']"
   ]
  },
  {
   "cell_type": "code",
   "execution_count": 26,
   "metadata": {},
   "outputs": [
    {
     "output_type": "execute_result",
     "data": {
      "text/plain": [
       "1.4285714285714286"
      ]
     },
     "metadata": {},
     "execution_count": 26
    }
   ],
   "source": [
    "df.iloc[2, 1]"
   ]
  },
  {
   "cell_type": "code",
   "execution_count": 27,
   "metadata": {},
   "outputs": [
    {
     "output_type": "execute_result",
     "data": {
      "text/plain": [
       "1.4285714285714286"
      ]
     },
     "metadata": {},
     "execution_count": 27
    }
   ],
   "source": [
    "df.loc['C', 'feature2']"
   ]
  },
  {
   "cell_type": "code",
   "execution_count": 28,
   "metadata": {},
   "outputs": [
    {
     "output_type": "execute_result",
     "data": {
      "text/plain": [
       "   feature1  feature2 feature3\n",
       "A         0  0.000000   string\n",
       "B         1  0.714286   string\n",
       "C         2  1.428571   string\n",
       "D         3  2.142857   string\n",
       "E         4  2.857143   string"
      ],
      "text/html": "<div>\n<style scoped>\n    .dataframe tbody tr th:only-of-type {\n        vertical-align: middle;\n    }\n\n    .dataframe tbody tr th {\n        vertical-align: top;\n    }\n\n    .dataframe thead th {\n        text-align: right;\n    }\n</style>\n<table border=\"1\" class=\"dataframe\">\n  <thead>\n    <tr style=\"text-align: right;\">\n      <th></th>\n      <th>feature1</th>\n      <th>feature2</th>\n      <th>feature3</th>\n    </tr>\n  </thead>\n  <tbody>\n    <tr>\n      <th>A</th>\n      <td>0</td>\n      <td>0.000000</td>\n      <td>string</td>\n    </tr>\n    <tr>\n      <th>B</th>\n      <td>1</td>\n      <td>0.714286</td>\n      <td>string</td>\n    </tr>\n    <tr>\n      <th>C</th>\n      <td>2</td>\n      <td>1.428571</td>\n      <td>string</td>\n    </tr>\n    <tr>\n      <th>D</th>\n      <td>3</td>\n      <td>2.142857</td>\n      <td>string</td>\n    </tr>\n    <tr>\n      <th>E</th>\n      <td>4</td>\n      <td>2.857143</td>\n      <td>string</td>\n    </tr>\n  </tbody>\n</table>\n</div>"
     },
     "metadata": {},
     "execution_count": 28
    }
   ],
   "source": [
    "# Task 2 \n",
    "data = {\n",
    "    'feature1': np.arange(15),\n",
    "    'feature2': np.linspace(0, 10, 15),\n",
    "    'feature3': 'string',\n",
    "}\n",
    "df = pd.DataFrame(data, index=list('ABCDEFGHIJKLMNO'))\n",
    "df.head()"
   ]
  },
  {
   "cell_type": "code",
   "execution_count": 29,
   "metadata": {},
   "outputs": [
    {
     "output_type": "execute_result",
     "data": {
      "text/plain": [
       "   feature1  feature2\n",
       "C         2  1.428571\n",
       "D         3  2.142857\n",
       "E         4  2.857143\n",
       "F         5  3.571429\n",
       "G         6  4.285714\n",
       "H         7  5.000000\n",
       "I         8  5.714286"
      ],
      "text/html": "<div>\n<style scoped>\n    .dataframe tbody tr th:only-of-type {\n        vertical-align: middle;\n    }\n\n    .dataframe tbody tr th {\n        vertical-align: top;\n    }\n\n    .dataframe thead th {\n        text-align: right;\n    }\n</style>\n<table border=\"1\" class=\"dataframe\">\n  <thead>\n    <tr style=\"text-align: right;\">\n      <th></th>\n      <th>feature1</th>\n      <th>feature2</th>\n    </tr>\n  </thead>\n  <tbody>\n    <tr>\n      <th>C</th>\n      <td>2</td>\n      <td>1.428571</td>\n    </tr>\n    <tr>\n      <th>D</th>\n      <td>3</td>\n      <td>2.142857</td>\n    </tr>\n    <tr>\n      <th>E</th>\n      <td>4</td>\n      <td>2.857143</td>\n    </tr>\n    <tr>\n      <th>F</th>\n      <td>5</td>\n      <td>3.571429</td>\n    </tr>\n    <tr>\n      <th>G</th>\n      <td>6</td>\n      <td>4.285714</td>\n    </tr>\n    <tr>\n      <th>H</th>\n      <td>7</td>\n      <td>5.000000</td>\n    </tr>\n    <tr>\n      <th>I</th>\n      <td>8</td>\n      <td>5.714286</td>\n    </tr>\n  </tbody>\n</table>\n</div>"
     },
     "metadata": {},
     "execution_count": 29
    }
   ],
   "source": [
    "df.loc['C':'I', ['feature1', 'feature2']]"
   ]
  },
  {
   "cell_type": "code",
   "execution_count": 31,
   "metadata": {},
   "outputs": [
    {
     "output_type": "execute_result",
     "data": {
      "text/plain": [
       "   feature1 feature3\n",
       "C         2   string\n",
       "D         3   string\n",
       "E         4   string\n",
       "F         5   string\n",
       "G         6   string\n",
       "H         7   string\n",
       "I         8   string"
      ],
      "text/html": "<div>\n<style scoped>\n    .dataframe tbody tr th:only-of-type {\n        vertical-align: middle;\n    }\n\n    .dataframe tbody tr th {\n        vertical-align: top;\n    }\n\n    .dataframe thead th {\n        text-align: right;\n    }\n</style>\n<table border=\"1\" class=\"dataframe\">\n  <thead>\n    <tr style=\"text-align: right;\">\n      <th></th>\n      <th>feature1</th>\n      <th>feature3</th>\n    </tr>\n  </thead>\n  <tbody>\n    <tr>\n      <th>C</th>\n      <td>2</td>\n      <td>string</td>\n    </tr>\n    <tr>\n      <th>D</th>\n      <td>3</td>\n      <td>string</td>\n    </tr>\n    <tr>\n      <th>E</th>\n      <td>4</td>\n      <td>string</td>\n    </tr>\n    <tr>\n      <th>F</th>\n      <td>5</td>\n      <td>string</td>\n    </tr>\n    <tr>\n      <th>G</th>\n      <td>6</td>\n      <td>string</td>\n    </tr>\n    <tr>\n      <th>H</th>\n      <td>7</td>\n      <td>string</td>\n    </tr>\n    <tr>\n      <th>I</th>\n      <td>8</td>\n      <td>string</td>\n    </tr>\n  </tbody>\n</table>\n</div>"
     },
     "metadata": {},
     "execution_count": 31
    }
   ],
   "source": [
    "df.iloc[2:9, [0, 2]]"
   ]
  },
  {
   "cell_type": "code",
   "execution_count": 32,
   "metadata": {},
   "outputs": [
    {
     "output_type": "execute_result",
     "data": {
      "text/plain": [
       "   x1  x2  x3\n",
       "0   3   4   6\n",
       "1   7   0   9\n",
       "2   9   6   6"
      ],
      "text/html": "<div>\n<style scoped>\n    .dataframe tbody tr th:only-of-type {\n        vertical-align: middle;\n    }\n\n    .dataframe tbody tr th {\n        vertical-align: top;\n    }\n\n    .dataframe thead th {\n        text-align: right;\n    }\n</style>\n<table border=\"1\" class=\"dataframe\">\n  <thead>\n    <tr style=\"text-align: right;\">\n      <th></th>\n      <th>x1</th>\n      <th>x2</th>\n      <th>x3</th>\n    </tr>\n  </thead>\n  <tbody>\n    <tr>\n      <th>0</th>\n      <td>3</td>\n      <td>4</td>\n      <td>6</td>\n    </tr>\n    <tr>\n      <th>1</th>\n      <td>7</td>\n      <td>0</td>\n      <td>9</td>\n    </tr>\n    <tr>\n      <th>2</th>\n      <td>9</td>\n      <td>6</td>\n      <td>6</td>\n    </tr>\n  </tbody>\n</table>\n</div>"
     },
     "metadata": {},
     "execution_count": 32
    }
   ],
   "source": [
    "df = pd.DataFrame(\n",
    "    data=np.random.randint(0, 10, size=(15, 3)), \n",
    "    columns=['x1', 'x2', 'x3']\n",
    ")\n",
    "df.head(3)"
   ]
  },
  {
   "cell_type": "code",
   "execution_count": 33,
   "metadata": {},
   "outputs": [
    {
     "output_type": "execute_result",
     "data": {
      "text/plain": [
       "0     False\n",
       "1      True\n",
       "2      True\n",
       "3      True\n",
       "4      True\n",
       "5      True\n",
       "6     False\n",
       "7      True\n",
       "8     False\n",
       "9      True\n",
       "10    False\n",
       "11    False\n",
       "12    False\n",
       "13     True\n",
       "14     True\n",
       "Name: x1, dtype: bool"
      ]
     },
     "metadata": {},
     "execution_count": 33
    }
   ],
   "source": [
    "df['x1'] > 5"
   ]
  },
  {
   "cell_type": "code",
   "execution_count": 34,
   "metadata": {},
   "outputs": [
    {
     "output_type": "execute_result",
     "data": {
      "text/plain": [
       "    x1  x2  x3\n",
       "1    7   0   9\n",
       "2    9   6   6\n",
       "3    7   9   4\n",
       "4    6   8   3\n",
       "5    6   1   3\n",
       "7    6   5   4\n",
       "9    8   3   0\n",
       "13   9   0   5\n",
       "14   7   3   8"
      ],
      "text/html": "<div>\n<style scoped>\n    .dataframe tbody tr th:only-of-type {\n        vertical-align: middle;\n    }\n\n    .dataframe tbody tr th {\n        vertical-align: top;\n    }\n\n    .dataframe thead th {\n        text-align: right;\n    }\n</style>\n<table border=\"1\" class=\"dataframe\">\n  <thead>\n    <tr style=\"text-align: right;\">\n      <th></th>\n      <th>x1</th>\n      <th>x2</th>\n      <th>x3</th>\n    </tr>\n  </thead>\n  <tbody>\n    <tr>\n      <th>1</th>\n      <td>7</td>\n      <td>0</td>\n      <td>9</td>\n    </tr>\n    <tr>\n      <th>2</th>\n      <td>9</td>\n      <td>6</td>\n      <td>6</td>\n    </tr>\n    <tr>\n      <th>3</th>\n      <td>7</td>\n      <td>9</td>\n      <td>4</td>\n    </tr>\n    <tr>\n      <th>4</th>\n      <td>6</td>\n      <td>8</td>\n      <td>3</td>\n    </tr>\n    <tr>\n      <th>5</th>\n      <td>6</td>\n      <td>1</td>\n      <td>3</td>\n    </tr>\n    <tr>\n      <th>7</th>\n      <td>6</td>\n      <td>5</td>\n      <td>4</td>\n    </tr>\n    <tr>\n      <th>9</th>\n      <td>8</td>\n      <td>3</td>\n      <td>0</td>\n    </tr>\n    <tr>\n      <th>13</th>\n      <td>9</td>\n      <td>0</td>\n      <td>5</td>\n    </tr>\n    <tr>\n      <th>14</th>\n      <td>7</td>\n      <td>3</td>\n      <td>8</td>\n    </tr>\n  </tbody>\n</table>\n</div>"
     },
     "metadata": {},
     "execution_count": 34
    }
   ],
   "source": [
    "mask = df['x1'] > 5\n",
    "df[mask]\n",
    "\n",
    "# Или df[df['x1'] > 5]"
   ]
  },
  {
   "cell_type": "code",
   "execution_count": 35,
   "metadata": {},
   "outputs": [
    {
     "output_type": "execute_result",
     "data": {
      "text/plain": [
       "    x1  x2  x3\n",
       "0    3   4   6\n",
       "6    0   9   0\n",
       "8    1   6   8\n",
       "10   3   5   4\n",
       "11   4   6   9\n",
       "12   5   3   5"
      ],
      "text/html": "<div>\n<style scoped>\n    .dataframe tbody tr th:only-of-type {\n        vertical-align: middle;\n    }\n\n    .dataframe tbody tr th {\n        vertical-align: top;\n    }\n\n    .dataframe thead th {\n        text-align: right;\n    }\n</style>\n<table border=\"1\" class=\"dataframe\">\n  <thead>\n    <tr style=\"text-align: right;\">\n      <th></th>\n      <th>x1</th>\n      <th>x2</th>\n      <th>x3</th>\n    </tr>\n  </thead>\n  <tbody>\n    <tr>\n      <th>0</th>\n      <td>3</td>\n      <td>4</td>\n      <td>6</td>\n    </tr>\n    <tr>\n      <th>6</th>\n      <td>0</td>\n      <td>9</td>\n      <td>0</td>\n    </tr>\n    <tr>\n      <th>8</th>\n      <td>1</td>\n      <td>6</td>\n      <td>8</td>\n    </tr>\n    <tr>\n      <th>10</th>\n      <td>3</td>\n      <td>5</td>\n      <td>4</td>\n    </tr>\n    <tr>\n      <th>11</th>\n      <td>4</td>\n      <td>6</td>\n      <td>9</td>\n    </tr>\n    <tr>\n      <th>12</th>\n      <td>5</td>\n      <td>3</td>\n      <td>5</td>\n    </tr>\n  </tbody>\n</table>\n</div>"
     },
     "metadata": {},
     "execution_count": 35
    }
   ],
   "source": [
    "df[~(df['x1'] > 5)]"
   ]
  },
  {
   "cell_type": "code",
   "execution_count": 36,
   "metadata": {},
   "outputs": [
    {
     "output_type": "execute_result",
     "data": {
      "text/plain": [
       "   x1  x2  x3\n",
       "0   9   4   2\n",
       "1   8   0   0\n",
       "2   8   0   1"
      ],
      "text/html": "<div>\n<style scoped>\n    .dataframe tbody tr th:only-of-type {\n        vertical-align: middle;\n    }\n\n    .dataframe tbody tr th {\n        vertical-align: top;\n    }\n\n    .dataframe thead th {\n        text-align: right;\n    }\n</style>\n<table border=\"1\" class=\"dataframe\">\n  <thead>\n    <tr style=\"text-align: right;\">\n      <th></th>\n      <th>x1</th>\n      <th>x2</th>\n      <th>x3</th>\n    </tr>\n  </thead>\n  <tbody>\n    <tr>\n      <th>0</th>\n      <td>9</td>\n      <td>4</td>\n      <td>2</td>\n    </tr>\n    <tr>\n      <th>1</th>\n      <td>8</td>\n      <td>0</td>\n      <td>0</td>\n    </tr>\n    <tr>\n      <th>2</th>\n      <td>8</td>\n      <td>0</td>\n      <td>1</td>\n    </tr>\n  </tbody>\n</table>\n</div>"
     },
     "metadata": {},
     "execution_count": 36
    }
   ],
   "source": [
    "# Task 3\n",
    "df = pd.DataFrame(\n",
    "    data=np.random.randint(0, 10, size=(15, 3)), \n",
    "    columns=['x1', 'x2', 'x3']\n",
    ")\n",
    "df.head(3)"
   ]
  },
  {
   "cell_type": "code",
   "execution_count": 48,
   "metadata": {},
   "outputs": [
    {
     "output_type": "execute_result",
     "data": {
      "text/plain": [
       "    x1  x2\n",
       "0    9   4\n",
       "1    8   0\n",
       "2    8   0\n",
       "4    5   8\n",
       "5    5   4\n",
       "10   8   2\n",
       "14   7   0"
      ],
      "text/html": "<div>\n<style scoped>\n    .dataframe tbody tr th:only-of-type {\n        vertical-align: middle;\n    }\n\n    .dataframe tbody tr th {\n        vertical-align: top;\n    }\n\n    .dataframe thead th {\n        text-align: right;\n    }\n</style>\n<table border=\"1\" class=\"dataframe\">\n  <thead>\n    <tr style=\"text-align: right;\">\n      <th></th>\n      <th>x1</th>\n      <th>x2</th>\n    </tr>\n  </thead>\n  <tbody>\n    <tr>\n      <th>0</th>\n      <td>9</td>\n      <td>4</td>\n    </tr>\n    <tr>\n      <th>1</th>\n      <td>8</td>\n      <td>0</td>\n    </tr>\n    <tr>\n      <th>2</th>\n      <td>8</td>\n      <td>0</td>\n    </tr>\n    <tr>\n      <th>4</th>\n      <td>5</td>\n      <td>8</td>\n    </tr>\n    <tr>\n      <th>5</th>\n      <td>5</td>\n      <td>4</td>\n    </tr>\n    <tr>\n      <th>10</th>\n      <td>8</td>\n      <td>2</td>\n    </tr>\n    <tr>\n      <th>14</th>\n      <td>7</td>\n      <td>0</td>\n    </tr>\n  </tbody>\n</table>\n</div>"
     },
     "metadata": {},
     "execution_count": 48
    }
   ],
   "source": [
    "masked_df = df[(df['x1'] > 3) & (df['x3'] < 8)]\n",
    "masked_df.loc[:, ['x1', 'x2']]"
   ]
  },
  {
   "cell_type": "code",
   "execution_count": 49,
   "metadata": {},
   "outputs": [
    {
     "output_type": "execute_result",
     "data": {
      "text/plain": [
       "   x1  x2  x3\n",
       "1   5   1   1\n",
       "2   8   4   6\n",
       "3   4   1   1\n",
       "4   9   9   0"
      ],
      "text/html": "<div>\n<style scoped>\n    .dataframe tbody tr th:only-of-type {\n        vertical-align: middle;\n    }\n\n    .dataframe tbody tr th {\n        vertical-align: top;\n    }\n\n    .dataframe thead th {\n        text-align: right;\n    }\n</style>\n<table border=\"1\" class=\"dataframe\">\n  <thead>\n    <tr style=\"text-align: right;\">\n      <th></th>\n      <th>x1</th>\n      <th>x2</th>\n      <th>x3</th>\n    </tr>\n  </thead>\n  <tbody>\n    <tr>\n      <th>1</th>\n      <td>5</td>\n      <td>1</td>\n      <td>1</td>\n    </tr>\n    <tr>\n      <th>2</th>\n      <td>8</td>\n      <td>4</td>\n      <td>6</td>\n    </tr>\n    <tr>\n      <th>3</th>\n      <td>4</td>\n      <td>1</td>\n      <td>1</td>\n    </tr>\n    <tr>\n      <th>4</th>\n      <td>9</td>\n      <td>9</td>\n      <td>0</td>\n    </tr>\n  </tbody>\n</table>\n</div>"
     },
     "metadata": {},
     "execution_count": 49
    }
   ],
   "source": [
    "# Task 4 \n",
    "df = pd.DataFrame(\n",
    "    [[1, 2, 6], [5, 1, 1], [8, 4, 6], [4, 1, 1], [9, 9, 0], [-1, 2, 1], [5, 5, 5]],\n",
    "    columns = ['x1', 'x2', 'x3']\n",
    ")\n",
    "df.query('x1 > x3')"
   ]
  },
  {
   "cell_type": "code",
   "execution_count": 50,
   "metadata": {},
   "outputs": [
    {
     "output_type": "execute_result",
     "data": {
      "text/plain": [
       "   x1  x2  x3\n",
       "1   5   1   1\n",
       "2   8   4   6\n",
       "3   4   1   1\n",
       "4   9   9   0"
      ],
      "text/html": "<div>\n<style scoped>\n    .dataframe tbody tr th:only-of-type {\n        vertical-align: middle;\n    }\n\n    .dataframe tbody tr th {\n        vertical-align: top;\n    }\n\n    .dataframe thead th {\n        text-align: right;\n    }\n</style>\n<table border=\"1\" class=\"dataframe\">\n  <thead>\n    <tr style=\"text-align: right;\">\n      <th></th>\n      <th>x1</th>\n      <th>x2</th>\n      <th>x3</th>\n    </tr>\n  </thead>\n  <tbody>\n    <tr>\n      <th>1</th>\n      <td>5</td>\n      <td>1</td>\n      <td>1</td>\n    </tr>\n    <tr>\n      <th>2</th>\n      <td>8</td>\n      <td>4</td>\n      <td>6</td>\n    </tr>\n    <tr>\n      <th>3</th>\n      <td>4</td>\n      <td>1</td>\n      <td>1</td>\n    </tr>\n    <tr>\n      <th>4</th>\n      <td>9</td>\n      <td>9</td>\n      <td>0</td>\n    </tr>\n  </tbody>\n</table>\n</div>"
     },
     "metadata": {},
     "execution_count": 50
    }
   ],
   "source": [
    "df[df['x1'] > df['x3']]"
   ]
  },
  {
   "cell_type": "code",
   "execution_count": 51,
   "metadata": {},
   "outputs": [
    {
     "output_type": "execute_result",
     "data": {
      "text/plain": [
       "   x1  x2  x3\n",
       "0   4   5   2\n",
       "1   5   1   4\n",
       "2   6   2   3"
      ],
      "text/html": "<div>\n<style scoped>\n    .dataframe tbody tr th:only-of-type {\n        vertical-align: middle;\n    }\n\n    .dataframe tbody tr th {\n        vertical-align: top;\n    }\n\n    .dataframe thead th {\n        text-align: right;\n    }\n</style>\n<table border=\"1\" class=\"dataframe\">\n  <thead>\n    <tr style=\"text-align: right;\">\n      <th></th>\n      <th>x1</th>\n      <th>x2</th>\n      <th>x3</th>\n    </tr>\n  </thead>\n  <tbody>\n    <tr>\n      <th>0</th>\n      <td>4</td>\n      <td>5</td>\n      <td>2</td>\n    </tr>\n    <tr>\n      <th>1</th>\n      <td>5</td>\n      <td>1</td>\n      <td>4</td>\n    </tr>\n    <tr>\n      <th>2</th>\n      <td>6</td>\n      <td>2</td>\n      <td>3</td>\n    </tr>\n  </tbody>\n</table>\n</div>"
     },
     "metadata": {},
     "execution_count": 51
    }
   ],
   "source": [
    "df = pd.DataFrame(\n",
    "    data=np.random.randint(0, 10, size=(15, 3)), \n",
    "    columns=['x1', 'x2', 'x3']\n",
    ")\n",
    "df.head(3)"
   ]
  },
  {
   "cell_type": "code",
   "execution_count": 52,
   "metadata": {},
   "outputs": [
    {
     "output_type": "execute_result",
     "data": {
      "text/plain": [
       "   x1  x2  x3  x1+x2\n",
       "0   4   5   2      9\n",
       "1   5   1   4      6\n",
       "2   6   2   3      8"
      ],
      "text/html": "<div>\n<style scoped>\n    .dataframe tbody tr th:only-of-type {\n        vertical-align: middle;\n    }\n\n    .dataframe tbody tr th {\n        vertical-align: top;\n    }\n\n    .dataframe thead th {\n        text-align: right;\n    }\n</style>\n<table border=\"1\" class=\"dataframe\">\n  <thead>\n    <tr style=\"text-align: right;\">\n      <th></th>\n      <th>x1</th>\n      <th>x2</th>\n      <th>x3</th>\n      <th>x1+x2</th>\n    </tr>\n  </thead>\n  <tbody>\n    <tr>\n      <th>0</th>\n      <td>4</td>\n      <td>5</td>\n      <td>2</td>\n      <td>9</td>\n    </tr>\n    <tr>\n      <th>1</th>\n      <td>5</td>\n      <td>1</td>\n      <td>4</td>\n      <td>6</td>\n    </tr>\n    <tr>\n      <th>2</th>\n      <td>6</td>\n      <td>2</td>\n      <td>3</td>\n      <td>8</td>\n    </tr>\n  </tbody>\n</table>\n</div>"
     },
     "metadata": {},
     "execution_count": 52
    }
   ],
   "source": [
    "# Создать новую колонку можно по аналогии с новым ключем в словаре\n",
    "# Сложение нескольких Series и запись в новую колонку\n",
    "df['x1+x2'] = df['x1'] + df['x2']\n",
    "df.head(3)"
   ]
  },
  {
   "cell_type": "code",
   "execution_count": 53,
   "metadata": {},
   "outputs": [
    {
     "output_type": "execute_result",
     "data": {
      "text/plain": [
       "   x1  x2  x3  x1+x2  x1*x3\n",
       "0   4   5   2      9      8\n",
       "1   5   1   4      6     20\n",
       "2   6   2   3      8     18"
      ],
      "text/html": "<div>\n<style scoped>\n    .dataframe tbody tr th:only-of-type {\n        vertical-align: middle;\n    }\n\n    .dataframe tbody tr th {\n        vertical-align: top;\n    }\n\n    .dataframe thead th {\n        text-align: right;\n    }\n</style>\n<table border=\"1\" class=\"dataframe\">\n  <thead>\n    <tr style=\"text-align: right;\">\n      <th></th>\n      <th>x1</th>\n      <th>x2</th>\n      <th>x3</th>\n      <th>x1+x2</th>\n      <th>x1*x3</th>\n    </tr>\n  </thead>\n  <tbody>\n    <tr>\n      <th>0</th>\n      <td>4</td>\n      <td>5</td>\n      <td>2</td>\n      <td>9</td>\n      <td>8</td>\n    </tr>\n    <tr>\n      <th>1</th>\n      <td>5</td>\n      <td>1</td>\n      <td>4</td>\n      <td>6</td>\n      <td>20</td>\n    </tr>\n    <tr>\n      <th>2</th>\n      <td>6</td>\n      <td>2</td>\n      <td>3</td>\n      <td>8</td>\n      <td>18</td>\n    </tr>\n  </tbody>\n</table>\n</div>"
     },
     "metadata": {},
     "execution_count": 53
    }
   ],
   "source": [
    "# Поэлементное умножение\n",
    "df['x1*x3'] = df['x1'] * df['x3']\n",
    "df.head(3)"
   ]
  },
  {
   "cell_type": "code",
   "execution_count": 54,
   "metadata": {},
   "outputs": [
    {
     "output_type": "execute_result",
     "data": {
      "text/plain": [
       "4.4"
      ]
     },
     "metadata": {},
     "execution_count": 54
    }
   ],
   "source": [
    "# Взятие среднего по колонке (метод Series.mean())\n",
    "df['x1'].mean()"
   ]
  },
  {
   "cell_type": "code",
   "execution_count": 55,
   "metadata": {},
   "outputs": [
    {
     "output_type": "execute_result",
     "data": {
      "text/plain": [
       "   x1  x2  x3  x1+x2  x1*x3      x2_exp\n",
       "0   4   5   2      9      8  148.413159\n",
       "1   5   1   4      6     20    2.718282\n",
       "2   6   2   3      8     18    7.389056"
      ],
      "text/html": "<div>\n<style scoped>\n    .dataframe tbody tr th:only-of-type {\n        vertical-align: middle;\n    }\n\n    .dataframe tbody tr th {\n        vertical-align: top;\n    }\n\n    .dataframe thead th {\n        text-align: right;\n    }\n</style>\n<table border=\"1\" class=\"dataframe\">\n  <thead>\n    <tr style=\"text-align: right;\">\n      <th></th>\n      <th>x1</th>\n      <th>x2</th>\n      <th>x3</th>\n      <th>x1+x2</th>\n      <th>x1*x3</th>\n      <th>x2_exp</th>\n    </tr>\n  </thead>\n  <tbody>\n    <tr>\n      <th>0</th>\n      <td>4</td>\n      <td>5</td>\n      <td>2</td>\n      <td>9</td>\n      <td>8</td>\n      <td>148.413159</td>\n    </tr>\n    <tr>\n      <th>1</th>\n      <td>5</td>\n      <td>1</td>\n      <td>4</td>\n      <td>6</td>\n      <td>20</td>\n      <td>2.718282</td>\n    </tr>\n    <tr>\n      <th>2</th>\n      <td>6</td>\n      <td>2</td>\n      <td>3</td>\n      <td>8</td>\n      <td>18</td>\n      <td>7.389056</td>\n    </tr>\n  </tbody>\n</table>\n</div>"
     },
     "metadata": {},
     "execution_count": 55
    }
   ],
   "source": [
    "# Использование функций numpy для работы с колонками\n",
    "df['x2_exp'] = np.exp(df['x2'])\n",
    "df.head(3)"
   ]
  },
  {
   "cell_type": "code",
   "execution_count": 56,
   "metadata": {},
   "outputs": [
    {
     "output_type": "execute_result",
     "data": {
      "text/plain": [
       "   x1  x2  x3\n",
       "0   9   3   5\n",
       "1   8   2   1\n",
       "2   0   8   1"
      ],
      "text/html": "<div>\n<style scoped>\n    .dataframe tbody tr th:only-of-type {\n        vertical-align: middle;\n    }\n\n    .dataframe tbody tr th {\n        vertical-align: top;\n    }\n\n    .dataframe thead th {\n        text-align: right;\n    }\n</style>\n<table border=\"1\" class=\"dataframe\">\n  <thead>\n    <tr style=\"text-align: right;\">\n      <th></th>\n      <th>x1</th>\n      <th>x2</th>\n      <th>x3</th>\n    </tr>\n  </thead>\n  <tbody>\n    <tr>\n      <th>0</th>\n      <td>9</td>\n      <td>3</td>\n      <td>5</td>\n    </tr>\n    <tr>\n      <th>1</th>\n      <td>8</td>\n      <td>2</td>\n      <td>1</td>\n    </tr>\n    <tr>\n      <th>2</th>\n      <td>0</td>\n      <td>8</td>\n      <td>1</td>\n    </tr>\n  </tbody>\n</table>\n</div>"
     },
     "metadata": {},
     "execution_count": 56
    }
   ],
   "source": [
    "df = pd.DataFrame(\n",
    "    data=np.random.randint(0, 10, size=(3, 3)), \n",
    "    columns=['x1', 'x2', 'x3']\n",
    ")\n",
    "df"
   ]
  },
  {
   "cell_type": "code",
   "execution_count": 57,
   "metadata": {},
   "outputs": [
    {
     "output_type": "stream",
     "name": "stdout",
     "text": [
      "<class 'int'>\n9\n<class 'int'>\n8\n<class 'int'>\n0\n"
     ]
    },
    {
     "output_type": "execute_result",
     "data": {
      "text/plain": [
       "   x1  x2  x3  result\n",
       "0   9   3   5      18\n",
       "1   8   2   1      16\n",
       "2   0   8   1       0"
      ],
      "text/html": "<div>\n<style scoped>\n    .dataframe tbody tr th:only-of-type {\n        vertical-align: middle;\n    }\n\n    .dataframe tbody tr th {\n        vertical-align: top;\n    }\n\n    .dataframe thead th {\n        text-align: right;\n    }\n</style>\n<table border=\"1\" class=\"dataframe\">\n  <thead>\n    <tr style=\"text-align: right;\">\n      <th></th>\n      <th>x1</th>\n      <th>x2</th>\n      <th>x3</th>\n      <th>result</th>\n    </tr>\n  </thead>\n  <tbody>\n    <tr>\n      <th>0</th>\n      <td>9</td>\n      <td>3</td>\n      <td>5</td>\n      <td>18</td>\n    </tr>\n    <tr>\n      <th>1</th>\n      <td>8</td>\n      <td>2</td>\n      <td>1</td>\n      <td>16</td>\n    </tr>\n    <tr>\n      <th>2</th>\n      <td>0</td>\n      <td>8</td>\n      <td>1</td>\n      <td>0</td>\n    </tr>\n  </tbody>\n</table>\n</div>"
     },
     "metadata": {},
     "execution_count": 57
    }
   ],
   "source": [
    "# Обязательно требование к функции - один аргумент\n",
    "# Эта функция будет передана в apply() и pandas\n",
    "#   будет вызывать ее и передавать в нее \n",
    "#   по одному элементу из ряда\n",
    "# Возвращать функция должна результат операции над элементом\n",
    "def my_func(x):\n",
    "    print(type(x))\n",
    "    print(x)\n",
    "    return x*2\n",
    "\n",
    "df['result'] = df['x1'].apply(my_func)\n",
    "df"
   ]
  },
  {
   "cell_type": "code",
   "execution_count": 58,
   "metadata": {},
   "outputs": [
    {
     "output_type": "execute_result",
     "data": {
      "text/plain": [
       "   x1  x2  x3\n",
       "0   8   5   2\n",
       "1   7   6   2\n",
       "2   8   0   0"
      ],
      "text/html": "<div>\n<style scoped>\n    .dataframe tbody tr th:only-of-type {\n        vertical-align: middle;\n    }\n\n    .dataframe tbody tr th {\n        vertical-align: top;\n    }\n\n    .dataframe thead th {\n        text-align: right;\n    }\n</style>\n<table border=\"1\" class=\"dataframe\">\n  <thead>\n    <tr style=\"text-align: right;\">\n      <th></th>\n      <th>x1</th>\n      <th>x2</th>\n      <th>x3</th>\n    </tr>\n  </thead>\n  <tbody>\n    <tr>\n      <th>0</th>\n      <td>8</td>\n      <td>5</td>\n      <td>2</td>\n    </tr>\n    <tr>\n      <th>1</th>\n      <td>7</td>\n      <td>6</td>\n      <td>2</td>\n    </tr>\n    <tr>\n      <th>2</th>\n      <td>8</td>\n      <td>0</td>\n      <td>0</td>\n    </tr>\n  </tbody>\n</table>\n</div>"
     },
     "metadata": {},
     "execution_count": 58
    }
   ],
   "source": [
    "df = pd.DataFrame(\n",
    "    data=np.random.randint(0, 10, size=(15, 3)), \n",
    "    columns=['x1', 'x2', 'x3']\n",
    ")\n",
    "df.head(3)"
   ]
  },
  {
   "cell_type": "code",
   "execution_count": 59,
   "metadata": {},
   "outputs": [
    {
     "output_type": "execute_result",
     "data": {
      "text/plain": [
       "   new_name_for_x1  x2  that_not_x3\n",
       "0                8   5            2\n",
       "1                7   6            2\n",
       "2                8   0            0"
      ],
      "text/html": "<div>\n<style scoped>\n    .dataframe tbody tr th:only-of-type {\n        vertical-align: middle;\n    }\n\n    .dataframe tbody tr th {\n        vertical-align: top;\n    }\n\n    .dataframe thead th {\n        text-align: right;\n    }\n</style>\n<table border=\"1\" class=\"dataframe\">\n  <thead>\n    <tr style=\"text-align: right;\">\n      <th></th>\n      <th>new_name_for_x1</th>\n      <th>x2</th>\n      <th>that_not_x3</th>\n    </tr>\n  </thead>\n  <tbody>\n    <tr>\n      <th>0</th>\n      <td>8</td>\n      <td>5</td>\n      <td>2</td>\n    </tr>\n    <tr>\n      <th>1</th>\n      <td>7</td>\n      <td>6</td>\n      <td>2</td>\n    </tr>\n    <tr>\n      <th>2</th>\n      <td>8</td>\n      <td>0</td>\n      <td>0</td>\n    </tr>\n  </tbody>\n</table>\n</div>"
     },
     "metadata": {},
     "execution_count": 59
    }
   ],
   "source": [
    "# Методу передается в аргумент columns словарь, \n",
    "#   в котором ключи - имена колонок,\n",
    "#   значения - новые имена для переименования\n",
    "df.rename(\n",
    "    columns={\n",
    "        'x1': 'new_name_for_x1',\n",
    "        'x3': 'that_not_x3' \n",
    "    },\n",
    "    inplace=True\n",
    ")\n",
    "df.head(3)"
   ]
  },
  {
   "cell_type": "code",
   "execution_count": 65,
   "metadata": {},
   "outputs": [],
   "source": [
    "df_renamed = df.rename(columns={\n",
    "    'x1': 'new_name_for_x1',\n",
    "    'x3': 'that_not_x3'\n",
    "})"
   ]
  },
  {
   "cell_type": "code",
   "execution_count": 78,
   "metadata": {},
   "outputs": [
    {
     "output_type": "execute_result",
     "data": {
      "text/plain": [
       "   x1  x2  x3\n",
       "A   0   6   4\n",
       "B   4   2   5\n",
       "C   8   2   8\n",
       "D   8   6   1\n",
       "E   8   9   9"
      ],
      "text/html": "<div>\n<style scoped>\n    .dataframe tbody tr th:only-of-type {\n        vertical-align: middle;\n    }\n\n    .dataframe tbody tr th {\n        vertical-align: top;\n    }\n\n    .dataframe thead th {\n        text-align: right;\n    }\n</style>\n<table border=\"1\" class=\"dataframe\">\n  <thead>\n    <tr style=\"text-align: right;\">\n      <th></th>\n      <th>x1</th>\n      <th>x2</th>\n      <th>x3</th>\n    </tr>\n  </thead>\n  <tbody>\n    <tr>\n      <th>A</th>\n      <td>0</td>\n      <td>6</td>\n      <td>4</td>\n    </tr>\n    <tr>\n      <th>B</th>\n      <td>4</td>\n      <td>2</td>\n      <td>5</td>\n    </tr>\n    <tr>\n      <th>C</th>\n      <td>8</td>\n      <td>2</td>\n      <td>8</td>\n    </tr>\n    <tr>\n      <th>D</th>\n      <td>8</td>\n      <td>6</td>\n      <td>1</td>\n    </tr>\n    <tr>\n      <th>E</th>\n      <td>8</td>\n      <td>9</td>\n      <td>9</td>\n    </tr>\n  </tbody>\n</table>\n</div>"
     },
     "metadata": {},
     "execution_count": 78
    }
   ],
   "source": [
    "# Task 5 \n",
    "df = pd.DataFrame(\n",
    "    data=np.random.randint(0, 10, size=(5, 3)), \n",
    "    index=['A', 'B', 'C', 'D', 'E'], \n",
    "    columns=['x1', 'x2', 'x3']\n",
    ")\n",
    "df"
   ]
  },
  {
   "cell_type": "code",
   "execution_count": 76,
   "metadata": {},
   "outputs": [
    {
     "output_type": "execute_result",
     "data": {
      "text/plain": [
       "      new1  new2  new3\n",
       "indA     9     5     7\n",
       "indB     3     0     4\n",
       "indC     4     8     8\n",
       "indD     0     0     3\n",
       "indE     1     4     5"
      ],
      "text/html": "<div>\n<style scoped>\n    .dataframe tbody tr th:only-of-type {\n        vertical-align: middle;\n    }\n\n    .dataframe tbody tr th {\n        vertical-align: top;\n    }\n\n    .dataframe thead th {\n        text-align: right;\n    }\n</style>\n<table border=\"1\" class=\"dataframe\">\n  <thead>\n    <tr style=\"text-align: right;\">\n      <th></th>\n      <th>new1</th>\n      <th>new2</th>\n      <th>new3</th>\n    </tr>\n  </thead>\n  <tbody>\n    <tr>\n      <th>indA</th>\n      <td>9</td>\n      <td>5</td>\n      <td>7</td>\n    </tr>\n    <tr>\n      <th>indB</th>\n      <td>3</td>\n      <td>0</td>\n      <td>4</td>\n    </tr>\n    <tr>\n      <th>indC</th>\n      <td>4</td>\n      <td>8</td>\n      <td>8</td>\n    </tr>\n    <tr>\n      <th>indD</th>\n      <td>0</td>\n      <td>0</td>\n      <td>3</td>\n    </tr>\n    <tr>\n      <th>indE</th>\n      <td>1</td>\n      <td>4</td>\n      <td>5</td>\n    </tr>\n  </tbody>\n</table>\n</div>"
     },
     "metadata": {},
     "execution_count": 76
    }
   ],
   "source": [
    "df.rename(\n",
    "    columns={\n",
    "        'x1': 'new1',\n",
    "        'x2': 'new2',\n",
    "        'x3': 'new3'\n",
    "    },\n",
    "    index={\n",
    "        'A': 'indA',\n",
    "        'B': 'indB',\n",
    "        'C': 'indC', \n",
    "        'D': 'indD',\n",
    "        'E': 'indE'\n",
    "    },\n",
    "    inplace=True\n",
    ")\n",
    "df.head()"
   ]
  },
  {
   "cell_type": "code",
   "execution_count": 79,
   "metadata": {},
   "outputs": [
    {
     "output_type": "execute_result",
     "data": {
      "text/plain": [
       "      new1  x2  new3\n",
       "indA     0   6     4\n",
       "B        4   2     5\n",
       "indC     8   2     8\n",
       "D        8   6     1\n",
       "E        8   9     9"
      ],
      "text/html": "<div>\n<style scoped>\n    .dataframe tbody tr th:only-of-type {\n        vertical-align: middle;\n    }\n\n    .dataframe tbody tr th {\n        vertical-align: top;\n    }\n\n    .dataframe thead th {\n        text-align: right;\n    }\n</style>\n<table border=\"1\" class=\"dataframe\">\n  <thead>\n    <tr style=\"text-align: right;\">\n      <th></th>\n      <th>new1</th>\n      <th>x2</th>\n      <th>new3</th>\n    </tr>\n  </thead>\n  <tbody>\n    <tr>\n      <th>indA</th>\n      <td>0</td>\n      <td>6</td>\n      <td>4</td>\n    </tr>\n    <tr>\n      <th>B</th>\n      <td>4</td>\n      <td>2</td>\n      <td>5</td>\n    </tr>\n    <tr>\n      <th>indC</th>\n      <td>8</td>\n      <td>2</td>\n      <td>8</td>\n    </tr>\n    <tr>\n      <th>D</th>\n      <td>8</td>\n      <td>6</td>\n      <td>1</td>\n    </tr>\n    <tr>\n      <th>E</th>\n      <td>8</td>\n      <td>9</td>\n      <td>9</td>\n    </tr>\n  </tbody>\n</table>\n</div>"
     },
     "metadata": {},
     "execution_count": 79
    }
   ],
   "source": [
    "df.rename(\n",
    "    index={\n",
    "        'A': 'indA',\n",
    "        'C': 'indC',\n",
    "    },\n",
    "    columns={\n",
    "        'x1': 'new1',\n",
    "        'x3': 'new3' \n",
    "    },\n",
    "    inplace=True\n",
    ")\n",
    "\n",
    "df"
   ]
  },
  {
   "cell_type": "code",
   "execution_count": 80,
   "metadata": {},
   "outputs": [
    {
     "output_type": "execute_result",
     "data": {
      "text/plain": [
       "   x1  x2  x3\n",
       "0   4   1   1\n",
       "1   3   1   3\n",
       "2   3   8   9"
      ],
      "text/html": "<div>\n<style scoped>\n    .dataframe tbody tr th:only-of-type {\n        vertical-align: middle;\n    }\n\n    .dataframe tbody tr th {\n        vertical-align: top;\n    }\n\n    .dataframe thead th {\n        text-align: right;\n    }\n</style>\n<table border=\"1\" class=\"dataframe\">\n  <thead>\n    <tr style=\"text-align: right;\">\n      <th></th>\n      <th>x1</th>\n      <th>x2</th>\n      <th>x3</th>\n    </tr>\n  </thead>\n  <tbody>\n    <tr>\n      <th>0</th>\n      <td>4</td>\n      <td>1</td>\n      <td>1</td>\n    </tr>\n    <tr>\n      <th>1</th>\n      <td>3</td>\n      <td>1</td>\n      <td>3</td>\n    </tr>\n    <tr>\n      <th>2</th>\n      <td>3</td>\n      <td>8</td>\n      <td>9</td>\n    </tr>\n  </tbody>\n</table>\n</div>"
     },
     "metadata": {},
     "execution_count": 80
    }
   ],
   "source": [
    "df = pd.DataFrame(\n",
    "    data=np.random.randint(0, 10, size=(15, 3)), \n",
    "    columns=['x1', 'x2', 'x3']\n",
    ")\n",
    "df.head(3)"
   ]
  },
  {
   "cell_type": "code",
   "execution_count": 81,
   "metadata": {},
   "outputs": [
    {
     "output_type": "execute_result",
     "data": {
      "text/plain": [
       "   x1  x3\n",
       "0   4   1\n",
       "1   3   3\n",
       "2   3   9"
      ],
      "text/html": "<div>\n<style scoped>\n    .dataframe tbody tr th:only-of-type {\n        vertical-align: middle;\n    }\n\n    .dataframe tbody tr th {\n        vertical-align: top;\n    }\n\n    .dataframe thead th {\n        text-align: right;\n    }\n</style>\n<table border=\"1\" class=\"dataframe\">\n  <thead>\n    <tr style=\"text-align: right;\">\n      <th></th>\n      <th>x1</th>\n      <th>x3</th>\n    </tr>\n  </thead>\n  <tbody>\n    <tr>\n      <th>0</th>\n      <td>4</td>\n      <td>1</td>\n    </tr>\n    <tr>\n      <th>1</th>\n      <td>3</td>\n      <td>3</td>\n    </tr>\n    <tr>\n      <th>2</th>\n      <td>3</td>\n      <td>9</td>\n    </tr>\n  </tbody>\n</table>\n</div>"
     },
     "metadata": {},
     "execution_count": 81
    }
   ],
   "source": [
    "df.drop(columns=['x2'], inplace=True)\n",
    "df.head(3)"
   ]
  },
  {
   "cell_type": "code",
   "execution_count": 82,
   "metadata": {},
   "outputs": [
    {
     "output_type": "execute_result",
     "data": {
      "text/plain": [
       "    x1   x2   x3\n",
       "0  NaN  NaN  7.0\n",
       "1  0.0  0.0  3.0\n",
       "2  1.0  NaN  NaN\n",
       "3  1.0  9.0  9.0\n",
       "4  8.0  0.0  2.0"
      ],
      "text/html": "<div>\n<style scoped>\n    .dataframe tbody tr th:only-of-type {\n        vertical-align: middle;\n    }\n\n    .dataframe tbody tr th {\n        vertical-align: top;\n    }\n\n    .dataframe thead th {\n        text-align: right;\n    }\n</style>\n<table border=\"1\" class=\"dataframe\">\n  <thead>\n    <tr style=\"text-align: right;\">\n      <th></th>\n      <th>x1</th>\n      <th>x2</th>\n      <th>x3</th>\n    </tr>\n  </thead>\n  <tbody>\n    <tr>\n      <th>0</th>\n      <td>NaN</td>\n      <td>NaN</td>\n      <td>7.0</td>\n    </tr>\n    <tr>\n      <th>1</th>\n      <td>0.0</td>\n      <td>0.0</td>\n      <td>3.0</td>\n    </tr>\n    <tr>\n      <th>2</th>\n      <td>1.0</td>\n      <td>NaN</td>\n      <td>NaN</td>\n    </tr>\n    <tr>\n      <th>3</th>\n      <td>1.0</td>\n      <td>9.0</td>\n      <td>9.0</td>\n    </tr>\n    <tr>\n      <th>4</th>\n      <td>8.0</td>\n      <td>0.0</td>\n      <td>2.0</td>\n    </tr>\n  </tbody>\n</table>\n</div>"
     },
     "metadata": {},
     "execution_count": 82
    }
   ],
   "source": [
    "df = pd.DataFrame(\n",
    "    data=np.random.randint(0, 10, size=(5, 3)), \n",
    "    columns=['x1', 'x2', 'x3']\n",
    ")\n",
    "df.iloc[0, :2] = np.nan\n",
    "df.iloc[2, 1:] = np.nan\n",
    "\n",
    "df"
   ]
  },
  {
   "cell_type": "code",
   "execution_count": 83,
   "metadata": {},
   "outputs": [
    {
     "output_type": "execute_result",
     "data": {
      "text/plain": [
       "      x1     x2     x3\n",
       "0   True   True  False\n",
       "1  False  False  False\n",
       "2  False   True   True\n",
       "3  False  False  False\n",
       "4  False  False  False"
      ],
      "text/html": "<div>\n<style scoped>\n    .dataframe tbody tr th:only-of-type {\n        vertical-align: middle;\n    }\n\n    .dataframe tbody tr th {\n        vertical-align: top;\n    }\n\n    .dataframe thead th {\n        text-align: right;\n    }\n</style>\n<table border=\"1\" class=\"dataframe\">\n  <thead>\n    <tr style=\"text-align: right;\">\n      <th></th>\n      <th>x1</th>\n      <th>x2</th>\n      <th>x3</th>\n    </tr>\n  </thead>\n  <tbody>\n    <tr>\n      <th>0</th>\n      <td>True</td>\n      <td>True</td>\n      <td>False</td>\n    </tr>\n    <tr>\n      <th>1</th>\n      <td>False</td>\n      <td>False</td>\n      <td>False</td>\n    </tr>\n    <tr>\n      <th>2</th>\n      <td>False</td>\n      <td>True</td>\n      <td>True</td>\n    </tr>\n    <tr>\n      <th>3</th>\n      <td>False</td>\n      <td>False</td>\n      <td>False</td>\n    </tr>\n    <tr>\n      <th>4</th>\n      <td>False</td>\n      <td>False</td>\n      <td>False</td>\n    </tr>\n  </tbody>\n</table>\n</div>"
     },
     "metadata": {},
     "execution_count": 83
    }
   ],
   "source": [
    "df.isna()"
   ]
  },
  {
   "cell_type": "code",
   "execution_count": 84,
   "metadata": {},
   "outputs": [
    {
     "output_type": "execute_result",
     "data": {
      "text/plain": [
       "x1    1\n",
       "x2    2\n",
       "x3    1\n",
       "dtype: int64"
      ]
     },
     "metadata": {},
     "execution_count": 84
    }
   ],
   "source": [
    "df.isna().sum()"
   ]
  },
  {
   "cell_type": "code",
   "execution_count": 85,
   "metadata": {},
   "outputs": [
    {
     "output_type": "execute_result",
     "data": {
      "text/plain": [
       "    x1   x2   x3\n",
       "0  NaN  3.0  7.0\n",
       "1  0.0  0.0  3.0\n",
       "2  1.0  3.0  NaN\n",
       "3  1.0  9.0  9.0\n",
       "4  8.0  0.0  2.0"
      ],
      "text/html": "<div>\n<style scoped>\n    .dataframe tbody tr th:only-of-type {\n        vertical-align: middle;\n    }\n\n    .dataframe tbody tr th {\n        vertical-align: top;\n    }\n\n    .dataframe thead th {\n        text-align: right;\n    }\n</style>\n<table border=\"1\" class=\"dataframe\">\n  <thead>\n    <tr style=\"text-align: right;\">\n      <th></th>\n      <th>x1</th>\n      <th>x2</th>\n      <th>x3</th>\n    </tr>\n  </thead>\n  <tbody>\n    <tr>\n      <th>0</th>\n      <td>NaN</td>\n      <td>3.0</td>\n      <td>7.0</td>\n    </tr>\n    <tr>\n      <th>1</th>\n      <td>0.0</td>\n      <td>0.0</td>\n      <td>3.0</td>\n    </tr>\n    <tr>\n      <th>2</th>\n      <td>1.0</td>\n      <td>3.0</td>\n      <td>NaN</td>\n    </tr>\n    <tr>\n      <th>3</th>\n      <td>1.0</td>\n      <td>9.0</td>\n      <td>9.0</td>\n    </tr>\n    <tr>\n      <th>4</th>\n      <td>8.0</td>\n      <td>0.0</td>\n      <td>2.0</td>\n    </tr>\n  </tbody>\n</table>\n</div>"
     },
     "metadata": {},
     "execution_count": 85
    }
   ],
   "source": [
    "df['x2'].fillna(3, inplace=True)\n",
    "df"
   ]
  },
  {
   "cell_type": "code",
   "execution_count": 86,
   "metadata": {},
   "outputs": [
    {
     "output_type": "execute_result",
     "data": {
      "text/plain": [
       "   col1  col2\n",
       "0  high     0\n",
       "1  high     1\n",
       "2   low     1\n",
       "3   med     2\n",
       "4   low     3\n",
       "5   low     1\n",
       "6   med     1\n",
       "7   low     2\n",
       "8   low     2\n",
       "9  high     2"
      ],
      "text/html": "<div>\n<style scoped>\n    .dataframe tbody tr th:only-of-type {\n        vertical-align: middle;\n    }\n\n    .dataframe tbody tr th {\n        vertical-align: top;\n    }\n\n    .dataframe thead th {\n        text-align: right;\n    }\n</style>\n<table border=\"1\" class=\"dataframe\">\n  <thead>\n    <tr style=\"text-align: right;\">\n      <th></th>\n      <th>col1</th>\n      <th>col2</th>\n    </tr>\n  </thead>\n  <tbody>\n    <tr>\n      <th>0</th>\n      <td>high</td>\n      <td>0</td>\n    </tr>\n    <tr>\n      <th>1</th>\n      <td>high</td>\n      <td>1</td>\n    </tr>\n    <tr>\n      <th>2</th>\n      <td>low</td>\n      <td>1</td>\n    </tr>\n    <tr>\n      <th>3</th>\n      <td>med</td>\n      <td>2</td>\n    </tr>\n    <tr>\n      <th>4</th>\n      <td>low</td>\n      <td>3</td>\n    </tr>\n    <tr>\n      <th>5</th>\n      <td>low</td>\n      <td>1</td>\n    </tr>\n    <tr>\n      <th>6</th>\n      <td>med</td>\n      <td>1</td>\n    </tr>\n    <tr>\n      <th>7</th>\n      <td>low</td>\n      <td>2</td>\n    </tr>\n    <tr>\n      <th>8</th>\n      <td>low</td>\n      <td>2</td>\n    </tr>\n    <tr>\n      <th>9</th>\n      <td>high</td>\n      <td>2</td>\n    </tr>\n  </tbody>\n</table>\n</div>"
     },
     "metadata": {},
     "execution_count": 86
    }
   ],
   "source": [
    "df = pd.DataFrame({\n",
    "    'col1': ['high', 'high', 'low', 'med', 'low', 'low', 'med', 'low', 'low', 'high'],\n",
    "    'col2': [0, 1, 1, 2, 3, 1, 1, 2, 2, 2]\n",
    "})\n",
    "df"
   ]
  },
  {
   "cell_type": "code",
   "execution_count": 87,
   "metadata": {},
   "outputs": [
    {
     "output_type": "execute_result",
     "data": {
      "text/plain": [
       "col1    3\n",
       "col2    4\n",
       "dtype: int64"
      ]
     },
     "metadata": {},
     "execution_count": 87
    }
   ],
   "source": [
    "# Метод DataFrame.nunique() позволяет вывести \n",
    "#   количество уникальных значений в каждой колонке\n",
    "# Результат - Series с индексами - названиями колонок\n",
    "df.nunique()"
   ]
  },
  {
   "cell_type": "code",
   "execution_count": 88,
   "metadata": {},
   "outputs": [
    {
     "output_type": "execute_result",
     "data": {
      "text/plain": [
       "low     5\n",
       "high    3\n",
       "med     2\n",
       "Name: col1, dtype: int64"
      ]
     },
     "metadata": {},
     "execution_count": 88
    }
   ],
   "source": [
    "# Метод Series.value_counts() показывает уникальные значения в ряду\n",
    "#   и указывает их количество\n",
    "df['col1'].value_counts()"
   ]
  },
  {
   "cell_type": "code",
   "execution_count": 89,
   "metadata": {},
   "outputs": [
    {
     "output_type": "execute_result",
     "data": {
      "text/plain": [
       "2    4\n",
       "1    4\n",
       "3    1\n",
       "0    1\n",
       "Name: col2, dtype: int64"
      ]
     },
     "metadata": {},
     "execution_count": 89
    }
   ],
   "source": [
    "# Результат - Series с индексами - уникальными значениями\n",
    "df['col2'].value_counts()"
   ]
  },
  {
   "cell_type": "code",
   "execution_count": 90,
   "metadata": {},
   "outputs": [
    {
     "output_type": "execute_result",
     "data": {
      "text/plain": [
       "        col_one  col_two  col_three\n",
       "mouse         1        2          3\n",
       "rabbit        4        5          6"
      ],
      "text/html": "<div>\n<style scoped>\n    .dataframe tbody tr th:only-of-type {\n        vertical-align: middle;\n    }\n\n    .dataframe tbody tr th {\n        vertical-align: top;\n    }\n\n    .dataframe thead th {\n        text-align: right;\n    }\n</style>\n<table border=\"1\" class=\"dataframe\">\n  <thead>\n    <tr style=\"text-align: right;\">\n      <th></th>\n      <th>col_one</th>\n      <th>col_two</th>\n      <th>col_three</th>\n    </tr>\n  </thead>\n  <tbody>\n    <tr>\n      <th>mouse</th>\n      <td>1</td>\n      <td>2</td>\n      <td>3</td>\n    </tr>\n    <tr>\n      <th>rabbit</th>\n      <td>4</td>\n      <td>5</td>\n      <td>6</td>\n    </tr>\n  </tbody>\n</table>\n</div>"
     },
     "metadata": {},
     "execution_count": 90
    }
   ],
   "source": [
    "df = pd.DataFrame(np.array(([1, 2, 3], [4, 5, 6])),\n",
    "                  index=['mouse', 'rabbit'],\n",
    "                  columns=['col_one', 'col_two', 'col_three'])\n",
    "df"
   ]
  },
  {
   "cell_type": "code",
   "execution_count": 91,
   "metadata": {},
   "outputs": [
    {
     "output_type": "execute_result",
     "data": {
      "text/plain": [
       "        col_one  col_three\n",
       "mouse         1          3\n",
       "rabbit        4          6"
      ],
      "text/html": "<div>\n<style scoped>\n    .dataframe tbody tr th:only-of-type {\n        vertical-align: middle;\n    }\n\n    .dataframe tbody tr th {\n        vertical-align: top;\n    }\n\n    .dataframe thead th {\n        text-align: right;\n    }\n</style>\n<table border=\"1\" class=\"dataframe\">\n  <thead>\n    <tr style=\"text-align: right;\">\n      <th></th>\n      <th>col_one</th>\n      <th>col_three</th>\n    </tr>\n  </thead>\n  <tbody>\n    <tr>\n      <th>mouse</th>\n      <td>1</td>\n      <td>3</td>\n    </tr>\n    <tr>\n      <th>rabbit</th>\n      <td>4</td>\n      <td>6</td>\n    </tr>\n  </tbody>\n</table>\n</div>"
     },
     "metadata": {},
     "execution_count": 91
    }
   ],
   "source": [
    "# Отфильтровать по именам колонок\n",
    "# Аналогично df[['col_one', 'col_three']]\n",
    "df.filter(items=['col_one', 'col_three'], axis='columns')"
   ]
  },
  {
   "cell_type": "code",
   "execution_count": 92,
   "metadata": {},
   "outputs": [
    {
     "output_type": "execute_result",
     "data": {
      "text/plain": [
       "        col_two\n",
       "mouse         2\n",
       "rabbit        5"
      ],
      "text/html": "<div>\n<style scoped>\n    .dataframe tbody tr th:only-of-type {\n        vertical-align: middle;\n    }\n\n    .dataframe tbody tr th {\n        vertical-align: top;\n    }\n\n    .dataframe thead th {\n        text-align: right;\n    }\n</style>\n<table border=\"1\" class=\"dataframe\">\n  <thead>\n    <tr style=\"text-align: right;\">\n      <th></th>\n      <th>col_two</th>\n    </tr>\n  </thead>\n  <tbody>\n    <tr>\n      <th>mouse</th>\n      <td>2</td>\n    </tr>\n    <tr>\n      <th>rabbit</th>\n      <td>5</td>\n    </tr>\n  </tbody>\n</table>\n</div>"
     },
     "metadata": {},
     "execution_count": 92
    }
   ],
   "source": [
    "# Отфильтровать по регулярному выражению\n",
    "# Оставить только те колонки, которые оканчиваются на букву \"o\"\n",
    "df.filter(regex='o$', axis='columns')"
   ]
  },
  {
   "cell_type": "code",
   "execution_count": 93,
   "metadata": {},
   "outputs": [
    {
     "output_type": "execute_result",
     "data": {
      "text/plain": [
       "              x1  x2  x3\n",
       "dog in house   1   2   3\n",
       "cat in house   4   5   6\n",
       "pig in farm    7   8   9"
      ],
      "text/html": "<div>\n<style scoped>\n    .dataframe tbody tr th:only-of-type {\n        vertical-align: middle;\n    }\n\n    .dataframe tbody tr th {\n        vertical-align: top;\n    }\n\n    .dataframe thead th {\n        text-align: right;\n    }\n</style>\n<table border=\"1\" class=\"dataframe\">\n  <thead>\n    <tr style=\"text-align: right;\">\n      <th></th>\n      <th>x1</th>\n      <th>x2</th>\n      <th>x3</th>\n    </tr>\n  </thead>\n  <tbody>\n    <tr>\n      <th>dog in house</th>\n      <td>1</td>\n      <td>2</td>\n      <td>3</td>\n    </tr>\n    <tr>\n      <th>cat in house</th>\n      <td>4</td>\n      <td>5</td>\n      <td>6</td>\n    </tr>\n    <tr>\n      <th>pig in farm</th>\n      <td>7</td>\n      <td>8</td>\n      <td>9</td>\n    </tr>\n  </tbody>\n</table>\n</div>"
     },
     "metadata": {},
     "execution_count": 93
    }
   ],
   "source": [
    "# Task 6 \n",
    "df = pd.DataFrame(np.array(([1, 2, 3], [4, 5, 6], [7, 8, 9])),\n",
    "                  index=['dog in house', 'cat in house', 'pig in farm'],\n",
    "                  columns=['x1', 'x2', 'x3'])\n",
    "df"
   ]
  },
  {
   "cell_type": "code",
   "execution_count": 96,
   "metadata": {},
   "outputs": [
    {
     "output_type": "execute_result",
     "data": {
      "text/plain": [
       "              x1  x2  x3\n",
       "dog in house   1   2   3\n",
       "cat in house   4   5   6"
      ],
      "text/html": "<div>\n<style scoped>\n    .dataframe tbody tr th:only-of-type {\n        vertical-align: middle;\n    }\n\n    .dataframe tbody tr th {\n        vertical-align: top;\n    }\n\n    .dataframe thead th {\n        text-align: right;\n    }\n</style>\n<table border=\"1\" class=\"dataframe\">\n  <thead>\n    <tr style=\"text-align: right;\">\n      <th></th>\n      <th>x1</th>\n      <th>x2</th>\n      <th>x3</th>\n    </tr>\n  </thead>\n  <tbody>\n    <tr>\n      <th>dog in house</th>\n      <td>1</td>\n      <td>2</td>\n      <td>3</td>\n    </tr>\n    <tr>\n      <th>cat in house</th>\n      <td>4</td>\n      <td>5</td>\n      <td>6</td>\n    </tr>\n  </tbody>\n</table>\n</div>"
     },
     "metadata": {},
     "execution_count": 96
    }
   ],
   "source": [
    "df.filter(like='house', axis='rows')"
   ]
  },
  {
   "cell_type": "code",
   "execution_count": 97,
   "metadata": {},
   "outputs": [
    {
     "output_type": "execute_result",
     "data": {
      "text/plain": [
       "  col1  col2  col3 col4\n",
       "A    A     2     0    a\n",
       "B    A     1     1    B\n",
       "C    B     9     9    c\n",
       "D  NaN     8     4    D\n",
       "E    D     7     2    e\n",
       "F    C     4     3    F"
      ],
      "text/html": "<div>\n<style scoped>\n    .dataframe tbody tr th:only-of-type {\n        vertical-align: middle;\n    }\n\n    .dataframe tbody tr th {\n        vertical-align: top;\n    }\n\n    .dataframe thead th {\n        text-align: right;\n    }\n</style>\n<table border=\"1\" class=\"dataframe\">\n  <thead>\n    <tr style=\"text-align: right;\">\n      <th></th>\n      <th>col1</th>\n      <th>col2</th>\n      <th>col3</th>\n      <th>col4</th>\n    </tr>\n  </thead>\n  <tbody>\n    <tr>\n      <th>A</th>\n      <td>A</td>\n      <td>2</td>\n      <td>0</td>\n      <td>a</td>\n    </tr>\n    <tr>\n      <th>B</th>\n      <td>A</td>\n      <td>1</td>\n      <td>1</td>\n      <td>B</td>\n    </tr>\n    <tr>\n      <th>C</th>\n      <td>B</td>\n      <td>9</td>\n      <td>9</td>\n      <td>c</td>\n    </tr>\n    <tr>\n      <th>D</th>\n      <td>NaN</td>\n      <td>8</td>\n      <td>4</td>\n      <td>D</td>\n    </tr>\n    <tr>\n      <th>E</th>\n      <td>D</td>\n      <td>7</td>\n      <td>2</td>\n      <td>e</td>\n    </tr>\n    <tr>\n      <th>F</th>\n      <td>C</td>\n      <td>4</td>\n      <td>3</td>\n      <td>F</td>\n    </tr>\n  </tbody>\n</table>\n</div>"
     },
     "metadata": {},
     "execution_count": 97
    }
   ],
   "source": [
    "df = pd.DataFrame({\n",
    "    'col1': ['A', 'A', 'B', np.nan, 'D', 'C'],\n",
    "    'col2': [2, 1, 9, 8, 7, 4],\n",
    "    'col3': [0, 1, 9, 4, 2, 3],\n",
    "    'col4': ['a', 'B', 'c', 'D', 'e', 'F']\n",
    "}, index=['A', 'B', 'C', 'D', 'E', 'F'])\n",
    "df"
   ]
  },
  {
   "cell_type": "code",
   "execution_count": 98,
   "metadata": {},
   "outputs": [
    {
     "output_type": "execute_result",
     "data": {
      "text/plain": [
       "  col1  col2  col3 col4\n",
       "B    A     1     1    B\n",
       "A    A     2     0    a\n",
       "F    C     4     3    F\n",
       "E    D     7     2    e\n",
       "D  NaN     8     4    D\n",
       "C    B     9     9    c"
      ],
      "text/html": "<div>\n<style scoped>\n    .dataframe tbody tr th:only-of-type {\n        vertical-align: middle;\n    }\n\n    .dataframe tbody tr th {\n        vertical-align: top;\n    }\n\n    .dataframe thead th {\n        text-align: right;\n    }\n</style>\n<table border=\"1\" class=\"dataframe\">\n  <thead>\n    <tr style=\"text-align: right;\">\n      <th></th>\n      <th>col1</th>\n      <th>col2</th>\n      <th>col3</th>\n      <th>col4</th>\n    </tr>\n  </thead>\n  <tbody>\n    <tr>\n      <th>B</th>\n      <td>A</td>\n      <td>1</td>\n      <td>1</td>\n      <td>B</td>\n    </tr>\n    <tr>\n      <th>A</th>\n      <td>A</td>\n      <td>2</td>\n      <td>0</td>\n      <td>a</td>\n    </tr>\n    <tr>\n      <th>F</th>\n      <td>C</td>\n      <td>4</td>\n      <td>3</td>\n      <td>F</td>\n    </tr>\n    <tr>\n      <th>E</th>\n      <td>D</td>\n      <td>7</td>\n      <td>2</td>\n      <td>e</td>\n    </tr>\n    <tr>\n      <th>D</th>\n      <td>NaN</td>\n      <td>8</td>\n      <td>4</td>\n      <td>D</td>\n    </tr>\n    <tr>\n      <th>C</th>\n      <td>B</td>\n      <td>9</td>\n      <td>9</td>\n      <td>c</td>\n    </tr>\n  </tbody>\n</table>\n</div>"
     },
     "metadata": {},
     "execution_count": 98
    }
   ],
   "source": [
    "# Отсортируем записи колонки col2\n",
    "# Именно поэтому в axis ставится rows, так как\n",
    "#   операция производится в колонке по каждому ряду\n",
    "df.sort_values(by='col2', axis='rows')"
   ]
  },
  {
   "cell_type": "code",
   "execution_count": 99,
   "metadata": {},
   "outputs": [
    {
     "output_type": "execute_result",
     "data": {
      "text/plain": [
       "   col1  col2  col3  col4  col5\n",
       "0     2     6     1     3     8\n",
       "1     3    19    16    18     7\n",
       "2    16    11    10     7     8\n",
       "3     8    16     5    14     7\n",
       "4     5    17    19    18     3"
      ],
      "text/html": "<div>\n<style scoped>\n    .dataframe tbody tr th:only-of-type {\n        vertical-align: middle;\n    }\n\n    .dataframe tbody tr th {\n        vertical-align: top;\n    }\n\n    .dataframe thead th {\n        text-align: right;\n    }\n</style>\n<table border=\"1\" class=\"dataframe\">\n  <thead>\n    <tr style=\"text-align: right;\">\n      <th></th>\n      <th>col1</th>\n      <th>col2</th>\n      <th>col3</th>\n      <th>col4</th>\n      <th>col5</th>\n    </tr>\n  </thead>\n  <tbody>\n    <tr>\n      <th>0</th>\n      <td>2</td>\n      <td>6</td>\n      <td>1</td>\n      <td>3</td>\n      <td>8</td>\n    </tr>\n    <tr>\n      <th>1</th>\n      <td>3</td>\n      <td>19</td>\n      <td>16</td>\n      <td>18</td>\n      <td>7</td>\n    </tr>\n    <tr>\n      <th>2</th>\n      <td>16</td>\n      <td>11</td>\n      <td>10</td>\n      <td>7</td>\n      <td>8</td>\n    </tr>\n    <tr>\n      <th>3</th>\n      <td>8</td>\n      <td>16</td>\n      <td>5</td>\n      <td>14</td>\n      <td>7</td>\n    </tr>\n    <tr>\n      <th>4</th>\n      <td>5</td>\n      <td>17</td>\n      <td>19</td>\n      <td>18</td>\n      <td>3</td>\n    </tr>\n  </tbody>\n</table>\n</div>"
     },
     "metadata": {},
     "execution_count": 99
    }
   ],
   "source": [
    "# Task 7\n",
    "df = pd.DataFrame(\n",
    "    np.random.randint(0, 20, size=(5, 5)), \n",
    "    columns=['col1', 'col2', 'col3', 'col4', 'col5']\n",
    ")\n",
    "df"
   ]
  },
  {
   "cell_type": "code",
   "execution_count": 100,
   "metadata": {},
   "outputs": [
    {
     "output_type": "execute_result",
     "data": {
      "text/plain": [
       "   col2  col4  col1  col5  col3\n",
       "0     6     3     2     8     1\n",
       "1    19    18     3     7    16\n",
       "2    11     7    16     8    10\n",
       "3    16    14     8     7     5\n",
       "4    17    18     5     3    19"
      ],
      "text/html": "<div>\n<style scoped>\n    .dataframe tbody tr th:only-of-type {\n        vertical-align: middle;\n    }\n\n    .dataframe tbody tr th {\n        vertical-align: top;\n    }\n\n    .dataframe thead th {\n        text-align: right;\n    }\n</style>\n<table border=\"1\" class=\"dataframe\">\n  <thead>\n    <tr style=\"text-align: right;\">\n      <th></th>\n      <th>col2</th>\n      <th>col4</th>\n      <th>col1</th>\n      <th>col5</th>\n      <th>col3</th>\n    </tr>\n  </thead>\n  <tbody>\n    <tr>\n      <th>0</th>\n      <td>6</td>\n      <td>3</td>\n      <td>2</td>\n      <td>8</td>\n      <td>1</td>\n    </tr>\n    <tr>\n      <th>1</th>\n      <td>19</td>\n      <td>18</td>\n      <td>3</td>\n      <td>7</td>\n      <td>16</td>\n    </tr>\n    <tr>\n      <th>2</th>\n      <td>11</td>\n      <td>7</td>\n      <td>16</td>\n      <td>8</td>\n      <td>10</td>\n    </tr>\n    <tr>\n      <th>3</th>\n      <td>16</td>\n      <td>14</td>\n      <td>8</td>\n      <td>7</td>\n      <td>5</td>\n    </tr>\n    <tr>\n      <th>4</th>\n      <td>17</td>\n      <td>18</td>\n      <td>5</td>\n      <td>3</td>\n      <td>19</td>\n    </tr>\n  </tbody>\n</table>\n</div>"
     },
     "metadata": {},
     "execution_count": 100
    }
   ],
   "source": [
    "df.sort_values(by=3, axis='columns', ascending=False)"
   ]
  },
  {
   "cell_type": "code",
   "execution_count": 101,
   "metadata": {},
   "outputs": [
    {
     "output_type": "execute_result",
     "data": {
      "text/plain": [
       "   temp\n",
       "0    59\n",
       "1    22\n",
       "2   -10\n",
       "3    38\n",
       "4    20"
      ],
      "text/html": "<div>\n<style scoped>\n    .dataframe tbody tr th:only-of-type {\n        vertical-align: middle;\n    }\n\n    .dataframe tbody tr th {\n        vertical-align: top;\n    }\n\n    .dataframe thead th {\n        text-align: right;\n    }\n</style>\n<table border=\"1\" class=\"dataframe\">\n  <thead>\n    <tr style=\"text-align: right;\">\n      <th></th>\n      <th>temp</th>\n    </tr>\n  </thead>\n  <tbody>\n    <tr>\n      <th>0</th>\n      <td>59</td>\n    </tr>\n    <tr>\n      <th>1</th>\n      <td>22</td>\n    </tr>\n    <tr>\n      <th>2</th>\n      <td>-10</td>\n    </tr>\n    <tr>\n      <th>3</th>\n      <td>38</td>\n    </tr>\n    <tr>\n      <th>4</th>\n      <td>20</td>\n    </tr>\n  </tbody>\n</table>\n</div>"
     },
     "metadata": {},
     "execution_count": 101
    }
   ],
   "source": [
    "df = pd.DataFrame({\n",
    "    'temp': [59, 22, -10, 38, 20, 40, 38, 47, 20, 15, 13, 44, 57, 32, 38]\n",
    "})\n",
    "df.head()"
   ]
  },
  {
   "cell_type": "code",
   "execution_count": 102,
   "metadata": {},
   "outputs": [
    {
     "output_type": "execute_result",
     "data": {
      "text/plain": [
       "   temp temp_cat\n",
       "0    59     high\n",
       "1    22   medium\n",
       "2   -10      low\n",
       "3    38     high\n",
       "4    20   medium"
      ],
      "text/html": "<div>\n<style scoped>\n    .dataframe tbody tr th:only-of-type {\n        vertical-align: middle;\n    }\n\n    .dataframe tbody tr th {\n        vertical-align: top;\n    }\n\n    .dataframe thead th {\n        text-align: right;\n    }\n</style>\n<table border=\"1\" class=\"dataframe\">\n  <thead>\n    <tr style=\"text-align: right;\">\n      <th></th>\n      <th>temp</th>\n      <th>temp_cat</th>\n    </tr>\n  </thead>\n  <tbody>\n    <tr>\n      <th>0</th>\n      <td>59</td>\n      <td>high</td>\n    </tr>\n    <tr>\n      <th>1</th>\n      <td>22</td>\n      <td>medium</td>\n    </tr>\n    <tr>\n      <th>2</th>\n      <td>-10</td>\n      <td>low</td>\n    </tr>\n    <tr>\n      <th>3</th>\n      <td>38</td>\n      <td>high</td>\n    </tr>\n    <tr>\n      <th>4</th>\n      <td>20</td>\n      <td>medium</td>\n    </tr>\n  </tbody>\n</table>\n</div>"
     },
     "metadata": {},
     "execution_count": 102
    }
   ],
   "source": [
    "# Можно задать свои границы диапазона и названия категорий\n",
    "# Если планируется три категории, то границ должно быть на одну больше - \n",
    "#   так задаются диапазоны для категорий\n",
    "df['temp_cat'] = pd.cut(\n",
    "    x=df['temp'],\n",
    "    bins=[-10, 10, 25, 60],\n",
    "    labels=['low', 'medium', 'high'],\n",
    "    # Флаг, чтобы самое левое значение границы входило в первый диапазон\n",
    "    include_lowest=True\n",
    ")\n",
    "df.head()"
   ]
  },
  {
   "cell_type": "code",
   "execution_count": 103,
   "metadata": {},
   "outputs": [
    {
     "output_type": "execute_result",
     "data": {
      "text/plain": [
       "CategoricalDtype(categories=['low', 'medium', 'high'], ordered=True)"
      ]
     },
     "metadata": {},
     "execution_count": 103
    }
   ],
   "source": [
    "df['temp_cat'].dtype"
   ]
  },
  {
   "cell_type": "code",
   "execution_count": 104,
   "metadata": {},
   "outputs": [
    {
     "output_type": "execute_result",
     "data": {
      "text/plain": [
       "[(25.0, 60.0], (10.0, 25.0], (-10.001, 10.0]]\n",
       "Categories (3, interval[float64]): [(-10.001, 10.0] < (10.0, 25.0] < (25.0, 60.0]]"
      ]
     },
     "metadata": {},
     "execution_count": 104
    }
   ],
   "source": [
    "# Можно не задавать имена категориям, тогда он сам их назовет\n",
    "result_after_cut = pd.cut(\n",
    "    x=df['temp'],\n",
    "    bins=[-10, 10, 25, 60],\n",
    "    include_lowest=True\n",
    ")\n",
    "# Взглянем на имена\n",
    "result_after_cut.unique()"
   ]
  },
  {
   "cell_type": "code",
   "execution_count": 105,
   "metadata": {},
   "outputs": [
    {
     "output_type": "execute_result",
     "data": {
      "text/plain": [
       "[(36.0, 59.0], (13.0, 36.0], (-10.069, 13.0]]\n",
       "Categories (3, interval[float64]): [(-10.069, 13.0] < (13.0, 36.0] < (36.0, 59.0]]"
      ]
     },
     "metadata": {},
     "execution_count": 105
    }
   ],
   "source": [
    "# Можно не задавать границы, лишь количество категорий - \n",
    "#   разделение будет на категории с одинаковой шириной диапазонов\n",
    "result_after_cut = pd.cut(\n",
    "    x=df['temp'],\n",
    "    bins=3\n",
    ")\n",
    "result_after_cut.unique()"
   ]
  },
  {
   "cell_type": "code",
   "execution_count": 106,
   "metadata": {},
   "outputs": [
    {
     "output_type": "execute_result",
     "data": {
      "text/plain": [
       "   quality\n",
       "0        7\n",
       "1       67\n",
       "2       21\n",
       "3       38\n",
       "4        2"
      ],
      "text/html": "<div>\n<style scoped>\n    .dataframe tbody tr th:only-of-type {\n        vertical-align: middle;\n    }\n\n    .dataframe tbody tr th {\n        vertical-align: top;\n    }\n\n    .dataframe thead th {\n        text-align: right;\n    }\n</style>\n<table border=\"1\" class=\"dataframe\">\n  <thead>\n    <tr style=\"text-align: right;\">\n      <th></th>\n      <th>quality</th>\n    </tr>\n  </thead>\n  <tbody>\n    <tr>\n      <th>0</th>\n      <td>7</td>\n    </tr>\n    <tr>\n      <th>1</th>\n      <td>67</td>\n    </tr>\n    <tr>\n      <th>2</th>\n      <td>21</td>\n    </tr>\n    <tr>\n      <th>3</th>\n      <td>38</td>\n    </tr>\n    <tr>\n      <th>4</th>\n      <td>2</td>\n    </tr>\n  </tbody>\n</table>\n</div>"
     },
     "metadata": {},
     "execution_count": 106
    }
   ],
   "source": [
    "# Task 8 \n",
    "df = pd.DataFrame({\n",
    "    'quality': [ 7, 67, 21, 38,  2, -2, 79, 22,  5, 31, 77, 72, 23, 64, 99]\n",
    "})\n",
    "df.head()"
   ]
  },
  {
   "cell_type": "code",
   "execution_count": 111,
   "metadata": {},
   "outputs": [
    {
     "output_type": "execute_result",
     "data": {
      "text/plain": [
       "   quality   q_cat\n",
       "0        7     bad\n",
       "1       67    good\n",
       "2       21  medium\n",
       "3       38  medium\n",
       "4        2     bad"
      ],
      "text/html": "<div>\n<style scoped>\n    .dataframe tbody tr th:only-of-type {\n        vertical-align: middle;\n    }\n\n    .dataframe tbody tr th {\n        vertical-align: top;\n    }\n\n    .dataframe thead th {\n        text-align: right;\n    }\n</style>\n<table border=\"1\" class=\"dataframe\">\n  <thead>\n    <tr style=\"text-align: right;\">\n      <th></th>\n      <th>quality</th>\n      <th>q_cat</th>\n    </tr>\n  </thead>\n  <tbody>\n    <tr>\n      <th>0</th>\n      <td>7</td>\n      <td>bad</td>\n    </tr>\n    <tr>\n      <th>1</th>\n      <td>67</td>\n      <td>good</td>\n    </tr>\n    <tr>\n      <th>2</th>\n      <td>21</td>\n      <td>medium</td>\n    </tr>\n    <tr>\n      <th>3</th>\n      <td>38</td>\n      <td>medium</td>\n    </tr>\n    <tr>\n      <th>4</th>\n      <td>2</td>\n      <td>bad</td>\n    </tr>\n  </tbody>\n</table>\n</div>"
     },
     "metadata": {},
     "execution_count": 111
    }
   ],
   "source": [
    "df['q_cat'] = pd.cut(\n",
    "    x=df['quality'],\n",
    "    bins=[0, 20, 45, 85, 100],\n",
    "    labels=['bad', 'medium', 'good', 'excellent'],\n",
    "    include_lowest=True\n",
    ")\n",
    "df.head()"
   ]
  },
  {
   "cell_type": "code",
   "execution_count": 112,
   "metadata": {},
   "outputs": [
    {
     "output_type": "execute_result",
     "data": {
      "text/plain": [
       "     A    B    C\n",
       "0  1.0  2.0  3.0\n",
       "1  4.0  5.0  6.0\n",
       "2  7.0  8.0  9.0\n",
       "3  NaN  NaN  NaN"
      ],
      "text/html": "<div>\n<style scoped>\n    .dataframe tbody tr th:only-of-type {\n        vertical-align: middle;\n    }\n\n    .dataframe tbody tr th {\n        vertical-align: top;\n    }\n\n    .dataframe thead th {\n        text-align: right;\n    }\n</style>\n<table border=\"1\" class=\"dataframe\">\n  <thead>\n    <tr style=\"text-align: right;\">\n      <th></th>\n      <th>A</th>\n      <th>B</th>\n      <th>C</th>\n    </tr>\n  </thead>\n  <tbody>\n    <tr>\n      <th>0</th>\n      <td>1.0</td>\n      <td>2.0</td>\n      <td>3.0</td>\n    </tr>\n    <tr>\n      <th>1</th>\n      <td>4.0</td>\n      <td>5.0</td>\n      <td>6.0</td>\n    </tr>\n    <tr>\n      <th>2</th>\n      <td>7.0</td>\n      <td>8.0</td>\n      <td>9.0</td>\n    </tr>\n    <tr>\n      <th>3</th>\n      <td>NaN</td>\n      <td>NaN</td>\n      <td>NaN</td>\n    </tr>\n  </tbody>\n</table>\n</div>"
     },
     "metadata": {},
     "execution_count": 112
    }
   ],
   "source": [
    "df = pd.DataFrame([[1, 2, 3],\n",
    "                   [4, 5, 6],\n",
    "                   [7, 8, 9],\n",
    "                   [np.nan, np.nan, np.nan]],\n",
    "                  columns=['A', 'B', 'C'])\n",
    "df"
   ]
  },
  {
   "cell_type": "code",
   "execution_count": 113,
   "metadata": {},
   "outputs": [
    {
     "output_type": "execute_result",
     "data": {
      "text/plain": [
       "        A    B    C\n",
       "min   1.0  2.0  3.0\n",
       "mean  4.0  5.0  6.0"
      ],
      "text/html": "<div>\n<style scoped>\n    .dataframe tbody tr th:only-of-type {\n        vertical-align: middle;\n    }\n\n    .dataframe tbody tr th {\n        vertical-align: top;\n    }\n\n    .dataframe thead th {\n        text-align: right;\n    }\n</style>\n<table border=\"1\" class=\"dataframe\">\n  <thead>\n    <tr style=\"text-align: right;\">\n      <th></th>\n      <th>A</th>\n      <th>B</th>\n      <th>C</th>\n    </tr>\n  </thead>\n  <tbody>\n    <tr>\n      <th>min</th>\n      <td>1.0</td>\n      <td>2.0</td>\n      <td>3.0</td>\n    </tr>\n    <tr>\n      <th>mean</th>\n      <td>4.0</td>\n      <td>5.0</td>\n      <td>6.0</td>\n    </tr>\n  </tbody>\n</table>\n</div>"
     },
     "metadata": {},
     "execution_count": 113
    }
   ],
   "source": [
    "# Получим значения минимумов и средних по всем колонкам\n",
    "# Принцип аналогичен операциям в numpy - \n",
    "#   для агрегации по колонка операция должна пройти по рядам,\n",
    "#   соответсвенно, axis='rows'\n",
    "df.aggregate(['min', 'mean'], axis='rows')"
   ]
  },
  {
   "cell_type": "code",
   "execution_count": 114,
   "metadata": {},
   "outputs": [
    {
     "output_type": "execute_result",
     "data": {
      "text/plain": [
       "         A    B     C\n",
       "max    NaN  8.0   NaN\n",
       "mean   NaN  NaN   6.0\n",
       "min    1.0  2.0   NaN\n",
       "sum   12.0  NaN  18.0"
      ],
      "text/html": "<div>\n<style scoped>\n    .dataframe tbody tr th:only-of-type {\n        vertical-align: middle;\n    }\n\n    .dataframe tbody tr th {\n        vertical-align: top;\n    }\n\n    .dataframe thead th {\n        text-align: right;\n    }\n</style>\n<table border=\"1\" class=\"dataframe\">\n  <thead>\n    <tr style=\"text-align: right;\">\n      <th></th>\n      <th>A</th>\n      <th>B</th>\n      <th>C</th>\n    </tr>\n  </thead>\n  <tbody>\n    <tr>\n      <th>max</th>\n      <td>NaN</td>\n      <td>8.0</td>\n      <td>NaN</td>\n    </tr>\n    <tr>\n      <th>mean</th>\n      <td>NaN</td>\n      <td>NaN</td>\n      <td>6.0</td>\n    </tr>\n    <tr>\n      <th>min</th>\n      <td>1.0</td>\n      <td>2.0</td>\n      <td>NaN</td>\n    </tr>\n    <tr>\n      <th>sum</th>\n      <td>12.0</td>\n      <td>NaN</td>\n      <td>18.0</td>\n    </tr>\n  </tbody>\n</table>\n</div>"
     },
     "metadata": {},
     "execution_count": 114
    }
   ],
   "source": [
    "# Зададим правила агрегации для каждой колонки\n",
    "# Операции можно задавать строками или функциями numpy\n",
    "df.aggregate({\n",
    "    'A': ['sum', 'min'],\n",
    "    'B': ['max', 'min'],\n",
    "    'C': [np.sum, np.mean],\n",
    "})"
   ]
  },
  {
   "cell_type": "code",
   "execution_count": 115,
   "metadata": {},
   "outputs": [
    {
     "output_type": "execute_result",
     "data": {
      "text/plain": [
       "   x1  x2  x3\n",
       "0   1   2   3\n",
       "1   4   5   6\n",
       "2   7   8   9"
      ],
      "text/html": "<div>\n<style scoped>\n    .dataframe tbody tr th:only-of-type {\n        vertical-align: middle;\n    }\n\n    .dataframe tbody tr th {\n        vertical-align: top;\n    }\n\n    .dataframe thead th {\n        text-align: right;\n    }\n</style>\n<table border=\"1\" class=\"dataframe\">\n  <thead>\n    <tr style=\"text-align: right;\">\n      <th></th>\n      <th>x1</th>\n      <th>x2</th>\n      <th>x3</th>\n    </tr>\n  </thead>\n  <tbody>\n    <tr>\n      <th>0</th>\n      <td>1</td>\n      <td>2</td>\n      <td>3</td>\n    </tr>\n    <tr>\n      <th>1</th>\n      <td>4</td>\n      <td>5</td>\n      <td>6</td>\n    </tr>\n    <tr>\n      <th>2</th>\n      <td>7</td>\n      <td>8</td>\n      <td>9</td>\n    </tr>\n  </tbody>\n</table>\n</div>"
     },
     "metadata": {},
     "execution_count": 115
    }
   ],
   "source": [
    "# Task 9\n",
    "df = pd.DataFrame(\n",
    "    ([1, 2, 3], [4, 5, 6], [7, 8, 9]), \n",
    "    columns=['x1', 'x2', 'x3'])\n",
    "df"
   ]
  },
  {
   "cell_type": "code",
   "execution_count": 119,
   "metadata": {},
   "outputs": [
    {
     "output_type": "execute_result",
     "data": {
      "text/plain": [
       "0    2.0\n",
       "1    5.0\n",
       "2    8.0\n",
       "dtype: float64"
      ]
     },
     "metadata": {},
     "execution_count": 119
    }
   ],
   "source": [
    "df.aggregate(\n",
    "    np.mean, axis='columns'\n",
    ")"
   ]
  },
  {
   "cell_type": "code",
   "execution_count": 120,
   "metadata": {},
   "outputs": [
    {
     "output_type": "execute_result",
     "data": {
      "text/plain": [
       "   Grade  Test_Mark  Time\n",
       "0      1        4.7    60\n",
       "1      3        4.5    45\n",
       "2      4        4.8    40\n",
       "3      1        4.9    58\n",
       "4      2        4.1    50\n",
       "5      2        4.2    49\n",
       "6      2        4.4    49\n",
       "7      3        4.9    46\n",
       "8      4        4.3    33"
      ],
      "text/html": "<div>\n<style scoped>\n    .dataframe tbody tr th:only-of-type {\n        vertical-align: middle;\n    }\n\n    .dataframe tbody tr th {\n        vertical-align: top;\n    }\n\n    .dataframe thead th {\n        text-align: right;\n    }\n</style>\n<table border=\"1\" class=\"dataframe\">\n  <thead>\n    <tr style=\"text-align: right;\">\n      <th></th>\n      <th>Grade</th>\n      <th>Test_Mark</th>\n      <th>Time</th>\n    </tr>\n  </thead>\n  <tbody>\n    <tr>\n      <th>0</th>\n      <td>1</td>\n      <td>4.7</td>\n      <td>60</td>\n    </tr>\n    <tr>\n      <th>1</th>\n      <td>3</td>\n      <td>4.5</td>\n      <td>45</td>\n    </tr>\n    <tr>\n      <th>2</th>\n      <td>4</td>\n      <td>4.8</td>\n      <td>40</td>\n    </tr>\n    <tr>\n      <th>3</th>\n      <td>1</td>\n      <td>4.9</td>\n      <td>58</td>\n    </tr>\n    <tr>\n      <th>4</th>\n      <td>2</td>\n      <td>4.1</td>\n      <td>50</td>\n    </tr>\n    <tr>\n      <th>5</th>\n      <td>2</td>\n      <td>4.2</td>\n      <td>49</td>\n    </tr>\n    <tr>\n      <th>6</th>\n      <td>2</td>\n      <td>4.4</td>\n      <td>49</td>\n    </tr>\n    <tr>\n      <th>7</th>\n      <td>3</td>\n      <td>4.9</td>\n      <td>46</td>\n    </tr>\n    <tr>\n      <th>8</th>\n      <td>4</td>\n      <td>4.3</td>\n      <td>33</td>\n    </tr>\n  </tbody>\n</table>\n</div>"
     },
     "metadata": {},
     "execution_count": 120
    }
   ],
   "source": [
    "data = [\n",
    "    [1, 4.7, 60],\n",
    "    [3, 4.5, 45],\n",
    "    [4, 4.8, 40],\n",
    "    [1, 4.9, 58],\n",
    "    [2, 4.1, 50],\n",
    "    [2, 4.2, 49],\n",
    "    [2, 4.4, 49],\n",
    "    [3, 4.9, 46],\n",
    "    [4, 4.3, 33],\n",
    "]\n",
    "\n",
    "stud_df = pd.DataFrame(data, columns=['Grade', 'Test_Mark', 'Time'])\n",
    "stud_df"
   ]
  },
  {
   "cell_type": "code",
   "execution_count": 121,
   "metadata": {},
   "outputs": [
    {
     "output_type": "stream",
     "name": "stdout",
     "text": [
      "<class 'pandas.core.groupby.generic.DataFrameGroupBy'>\n"
     ]
    },
    {
     "output_type": "execute_result",
     "data": {
      "text/plain": [
       "{1: [0, 3], 2: [4, 5, 6], 3: [1, 7], 4: [2, 8]}"
      ]
     },
     "metadata": {},
     "execution_count": 121
    }
   ],
   "source": [
    "gr_stud_df = stud_df.groupby(by='Grade')\n",
    "\n",
    "# Тип результата - pd.DataFrameGroupBy\n",
    "print(type(gr_stud_df))\n",
    "\n",
    "# Таким образом увидим словарь:\n",
    "#   Ключи - названия групп\n",
    "#   Значения - индексы из данных для группы\n",
    "gr_stud_df.groups"
   ]
  },
  {
   "cell_type": "code",
   "execution_count": 122,
   "metadata": {},
   "outputs": [
    {
     "output_type": "execute_result",
     "data": {
      "text/plain": [
       "       Test_Mark       Time\n",
       "Grade                      \n",
       "1       4.800000  59.000000\n",
       "2       4.233333  49.333333\n",
       "3       4.700000  45.500000\n",
       "4       4.550000  36.500000"
      ],
      "text/html": "<div>\n<style scoped>\n    .dataframe tbody tr th:only-of-type {\n        vertical-align: middle;\n    }\n\n    .dataframe tbody tr th {\n        vertical-align: top;\n    }\n\n    .dataframe thead th {\n        text-align: right;\n    }\n</style>\n<table border=\"1\" class=\"dataframe\">\n  <thead>\n    <tr style=\"text-align: right;\">\n      <th></th>\n      <th>Test_Mark</th>\n      <th>Time</th>\n    </tr>\n    <tr>\n      <th>Grade</th>\n      <th></th>\n      <th></th>\n    </tr>\n  </thead>\n  <tbody>\n    <tr>\n      <th>1</th>\n      <td>4.800000</td>\n      <td>59.000000</td>\n    </tr>\n    <tr>\n      <th>2</th>\n      <td>4.233333</td>\n      <td>49.333333</td>\n    </tr>\n    <tr>\n      <th>3</th>\n      <td>4.700000</td>\n      <td>45.500000</td>\n    </tr>\n    <tr>\n      <th>4</th>\n      <td>4.550000</td>\n      <td>36.500000</td>\n    </tr>\n  </tbody>\n</table>\n</div>"
     },
     "metadata": {},
     "execution_count": 122
    }
   ],
   "source": [
    "gr_stud_df.agg('mean')"
   ]
  },
  {
   "cell_type": "code",
   "execution_count": 123,
   "metadata": {},
   "outputs": [
    {
     "output_type": "execute_result",
     "data": {
      "text/plain": [
       "      Test_Mark            Time    \n",
       "           mean  min       mean min\n",
       "Grade                              \n",
       "1      4.800000  4.7  59.000000  58\n",
       "2      4.233333  4.1  49.333333  49\n",
       "3      4.700000  4.5  45.500000  45\n",
       "4      4.550000  4.3  36.500000  33"
      ],
      "text/html": "<div>\n<style scoped>\n    .dataframe tbody tr th:only-of-type {\n        vertical-align: middle;\n    }\n\n    .dataframe tbody tr th {\n        vertical-align: top;\n    }\n\n    .dataframe thead tr th {\n        text-align: left;\n    }\n\n    .dataframe thead tr:last-of-type th {\n        text-align: right;\n    }\n</style>\n<table border=\"1\" class=\"dataframe\">\n  <thead>\n    <tr>\n      <th></th>\n      <th colspan=\"2\" halign=\"left\">Test_Mark</th>\n      <th colspan=\"2\" halign=\"left\">Time</th>\n    </tr>\n    <tr>\n      <th></th>\n      <th>mean</th>\n      <th>min</th>\n      <th>mean</th>\n      <th>min</th>\n    </tr>\n    <tr>\n      <th>Grade</th>\n      <th></th>\n      <th></th>\n      <th></th>\n      <th></th>\n    </tr>\n  </thead>\n  <tbody>\n    <tr>\n      <th>1</th>\n      <td>4.800000</td>\n      <td>4.7</td>\n      <td>59.000000</td>\n      <td>58</td>\n    </tr>\n    <tr>\n      <th>2</th>\n      <td>4.233333</td>\n      <td>4.1</td>\n      <td>49.333333</td>\n      <td>49</td>\n    </tr>\n    <tr>\n      <th>3</th>\n      <td>4.700000</td>\n      <td>4.5</td>\n      <td>45.500000</td>\n      <td>45</td>\n    </tr>\n    <tr>\n      <th>4</th>\n      <td>4.550000</td>\n      <td>4.3</td>\n      <td>36.500000</td>\n      <td>33</td>\n    </tr>\n  </tbody>\n</table>\n</div>"
     },
     "metadata": {},
     "execution_count": 123
    }
   ],
   "source": [
    "# Более сложный вариант - найдем средние и минимальные время и оценку \n",
    "\n",
    "gr_stud_df.agg(['mean', 'min'])"
   ]
  },
  {
   "cell_type": "code",
   "execution_count": 124,
   "metadata": {},
   "outputs": [
    {
     "output_type": "stream",
     "name": "stdout",
     "text": [
      "<class 'pandas.core.frame.DataFrame'>\n"
     ]
    },
    {
     "output_type": "execute_result",
     "data": {
      "text/plain": [
       "      Test_Mark      Time\n",
       "           mean  min  min\n",
       "Grade                    \n",
       "1      4.800000  4.7   58\n",
       "2      4.233333  4.1   49\n",
       "3      4.700000  4.5   45\n",
       "4      4.550000  4.3   33"
      ],
      "text/html": "<div>\n<style scoped>\n    .dataframe tbody tr th:only-of-type {\n        vertical-align: middle;\n    }\n\n    .dataframe tbody tr th {\n        vertical-align: top;\n    }\n\n    .dataframe thead tr th {\n        text-align: left;\n    }\n\n    .dataframe thead tr:last-of-type th {\n        text-align: right;\n    }\n</style>\n<table border=\"1\" class=\"dataframe\">\n  <thead>\n    <tr>\n      <th></th>\n      <th colspan=\"2\" halign=\"left\">Test_Mark</th>\n      <th>Time</th>\n    </tr>\n    <tr>\n      <th></th>\n      <th>mean</th>\n      <th>min</th>\n      <th>min</th>\n    </tr>\n    <tr>\n      <th>Grade</th>\n      <th></th>\n      <th></th>\n      <th></th>\n    </tr>\n  </thead>\n  <tbody>\n    <tr>\n      <th>1</th>\n      <td>4.800000</td>\n      <td>4.7</td>\n      <td>58</td>\n    </tr>\n    <tr>\n      <th>2</th>\n      <td>4.233333</td>\n      <td>4.1</td>\n      <td>49</td>\n    </tr>\n    <tr>\n      <th>3</th>\n      <td>4.700000</td>\n      <td>4.5</td>\n      <td>45</td>\n    </tr>\n    <tr>\n      <th>4</th>\n      <td>4.550000</td>\n      <td>4.3</td>\n      <td>33</td>\n    </tr>\n  </tbody>\n</table>\n</div>"
     },
     "metadata": {},
     "execution_count": 124
    }
   ],
   "source": [
    "# Или зададим правила для каждого признака по отдельности\n",
    "\n",
    "res = gr_stud_df.agg({\n",
    "    'Test_Mark': ['mean', 'min'],\n",
    "    'Time': ['min']\n",
    "})\n",
    "\n",
    "print(type(res))\n",
    "res"
   ]
  },
  {
   "cell_type": "code",
   "execution_count": 125,
   "metadata": {},
   "outputs": [
    {
     "output_type": "execute_result",
     "data": {
      "text/plain": [
       "Grade\n",
       "1    4.800000\n",
       "2    4.233333\n",
       "3    4.700000\n",
       "4    4.550000\n",
       "Name: mean, dtype: float64"
      ]
     },
     "metadata": {},
     "execution_count": 125
    }
   ],
   "source": [
    "# Для обращения к данным просто используем несколько индексов, \n",
    "#   так как это DataFrame\n",
    "res['Test_Mark']['mean']"
   ]
  },
  {
   "cell_type": "code",
   "execution_count": 126,
   "metadata": {},
   "outputs": [
    {
     "output_type": "execute_result",
     "data": {
      "text/plain": [
       "   x1      x2  x3\n",
       "0  38  medium   7\n",
       "1  75  medium -12\n",
       "2  98  medium  28\n",
       "3  16     low   3\n",
       "4  61     low   1"
      ],
      "text/html": "<div>\n<style scoped>\n    .dataframe tbody tr th:only-of-type {\n        vertical-align: middle;\n    }\n\n    .dataframe tbody tr th {\n        vertical-align: top;\n    }\n\n    .dataframe thead th {\n        text-align: right;\n    }\n</style>\n<table border=\"1\" class=\"dataframe\">\n  <thead>\n    <tr style=\"text-align: right;\">\n      <th></th>\n      <th>x1</th>\n      <th>x2</th>\n      <th>x3</th>\n    </tr>\n  </thead>\n  <tbody>\n    <tr>\n      <th>0</th>\n      <td>38</td>\n      <td>medium</td>\n      <td>7</td>\n    </tr>\n    <tr>\n      <th>1</th>\n      <td>75</td>\n      <td>medium</td>\n      <td>-12</td>\n    </tr>\n    <tr>\n      <th>2</th>\n      <td>98</td>\n      <td>medium</td>\n      <td>28</td>\n    </tr>\n    <tr>\n      <th>3</th>\n      <td>16</td>\n      <td>low</td>\n      <td>3</td>\n    </tr>\n    <tr>\n      <th>4</th>\n      <td>61</td>\n      <td>low</td>\n      <td>1</td>\n    </tr>\n  </tbody>\n</table>\n</div>"
     },
     "metadata": {},
     "execution_count": 126
    }
   ],
   "source": [
    "# Task 10\n",
    "df = pd.DataFrame({\n",
    "    'x1': np.random.randint(10, 100, size=(200, )),\n",
    "    'x2': np.random.choice(['low', 'high', 'medium'], size=(200, )),\n",
    "    'x3': np.random.randint(-20, 30, size=(200, )),\n",
    "})\n",
    "df.head()"
   ]
  },
  {
   "cell_type": "code",
   "execution_count": 132,
   "metadata": {},
   "outputs": [
    {
     "output_type": "execute_result",
     "data": {
      "text/plain": [
       "           x1         x3    \n",
       "       median max median max\n",
       "x2                          \n",
       "high     57.5  99    7.5  29\n",
       "low      49.0  99    4.0  27\n",
       "medium   62.0  98    6.0  28"
      ],
      "text/html": "<div>\n<style scoped>\n    .dataframe tbody tr th:only-of-type {\n        vertical-align: middle;\n    }\n\n    .dataframe tbody tr th {\n        vertical-align: top;\n    }\n\n    .dataframe thead tr th {\n        text-align: left;\n    }\n\n    .dataframe thead tr:last-of-type th {\n        text-align: right;\n    }\n</style>\n<table border=\"1\" class=\"dataframe\">\n  <thead>\n    <tr>\n      <th></th>\n      <th colspan=\"2\" halign=\"left\">x1</th>\n      <th colspan=\"2\" halign=\"left\">x3</th>\n    </tr>\n    <tr>\n      <th></th>\n      <th>median</th>\n      <th>max</th>\n      <th>median</th>\n      <th>max</th>\n    </tr>\n    <tr>\n      <th>x2</th>\n      <th></th>\n      <th></th>\n      <th></th>\n      <th></th>\n    </tr>\n  </thead>\n  <tbody>\n    <tr>\n      <th>high</th>\n      <td>57.5</td>\n      <td>99</td>\n      <td>7.5</td>\n      <td>29</td>\n    </tr>\n    <tr>\n      <th>low</th>\n      <td>49.0</td>\n      <td>99</td>\n      <td>4.0</td>\n      <td>27</td>\n    </tr>\n    <tr>\n      <th>medium</th>\n      <td>62.0</td>\n      <td>98</td>\n      <td>6.0</td>\n      <td>28</td>\n    </tr>\n  </tbody>\n</table>\n</div>"
     },
     "metadata": {},
     "execution_count": 132
    }
   ],
   "source": [
    "df.groupby(by='x2').agg(['median', 'max'])"
   ]
  },
  {
   "cell_type": "code",
   "execution_count": 133,
   "metadata": {},
   "outputs": [
    {
     "output_type": "execute_result",
     "data": {
      "text/plain": [
       "   x1  x2  x3\n",
       "A   9   8   8\n",
       "B   5   2   4\n",
       "C   0   9   6"
      ],
      "text/html": "<div>\n<style scoped>\n    .dataframe tbody tr th:only-of-type {\n        vertical-align: middle;\n    }\n\n    .dataframe tbody tr th {\n        vertical-align: top;\n    }\n\n    .dataframe thead th {\n        text-align: right;\n    }\n</style>\n<table border=\"1\" class=\"dataframe\">\n  <thead>\n    <tr style=\"text-align: right;\">\n      <th></th>\n      <th>x1</th>\n      <th>x2</th>\n      <th>x3</th>\n    </tr>\n  </thead>\n  <tbody>\n    <tr>\n      <th>A</th>\n      <td>9</td>\n      <td>8</td>\n      <td>8</td>\n    </tr>\n    <tr>\n      <th>B</th>\n      <td>5</td>\n      <td>2</td>\n      <td>4</td>\n    </tr>\n    <tr>\n      <th>C</th>\n      <td>0</td>\n      <td>9</td>\n      <td>6</td>\n    </tr>\n  </tbody>\n</table>\n</div>"
     },
     "metadata": {},
     "execution_count": 133
    }
   ],
   "source": [
    "import string\n",
    "\n",
    "df = pd.DataFrame(\n",
    "    data=np.random.randint(0, 10, size=(15, 3)), \n",
    "    columns=['x1', 'x2', 'x3'],\n",
    "    index=list(string.ascii_uppercase)[:15]\n",
    ")\n",
    "df.head(3)"
   ]
  },
  {
   "cell_type": "code",
   "execution_count": 134,
   "metadata": {},
   "outputs": [],
   "source": [
    "# Для сохранения задается путь до файла\n",
    "df.to_csv('my_first_file.csv')"
   ]
  },
  {
   "cell_type": "code",
   "execution_count": 136,
   "metadata": {},
   "outputs": [
    {
     "output_type": "execute_result",
     "data": {
      "text/plain": [
       "   x1  x2  x3\n",
       "A   9   8   8\n",
       "B   5   2   4\n",
       "C   0   9   6"
      ],
      "text/html": "<div>\n<style scoped>\n    .dataframe tbody tr th:only-of-type {\n        vertical-align: middle;\n    }\n\n    .dataframe tbody tr th {\n        vertical-align: top;\n    }\n\n    .dataframe thead th {\n        text-align: right;\n    }\n</style>\n<table border=\"1\" class=\"dataframe\">\n  <thead>\n    <tr style=\"text-align: right;\">\n      <th></th>\n      <th>x1</th>\n      <th>x2</th>\n      <th>x3</th>\n    </tr>\n  </thead>\n  <tbody>\n    <tr>\n      <th>A</th>\n      <td>9</td>\n      <td>8</td>\n      <td>8</td>\n    </tr>\n    <tr>\n      <th>B</th>\n      <td>5</td>\n      <td>2</td>\n      <td>4</td>\n    </tr>\n    <tr>\n      <th>C</th>\n      <td>0</td>\n      <td>9</td>\n      <td>6</td>\n    </tr>\n  </tbody>\n</table>\n</div>"
     },
     "metadata": {},
     "execution_count": 136
    }
   ],
   "source": [
    "df = pd.read_csv('my_first_file.csv', index_col=0)\n",
    "df.head(3)"
   ]
  },
  {
   "cell_type": "code",
   "execution_count": 138,
   "metadata": {},
   "outputs": [],
   "source": [
    "# Task 11\n",
    "df = pd.DataFrame(\n",
    "    data=np.random.randint(0, 10, size=(15, 3)), \n",
    "    columns=['x1', 'x2', 'x3'],\n",
    "    index=list(string.ascii_uppercase)[:15]\n",
    ")\n",
    "df.head(3)\n",
    "\n",
    "# TODO - сохранить в файл no_index.csv без индексов\n",
    "df.to_csv('no_index.csv', index=False)"
   ]
  },
  {
   "cell_type": "code",
   "execution_count": 142,
   "metadata": {},
   "outputs": [
    {
     "output_type": "execute_result",
     "data": {
      "text/plain": [
       "   Name  work exp  age  colour\n",
       "0  Lena       2.7   26    grey\n",
       "1  Alex       4.5   25  yellow\n",
       "2   Bob       5.6   37    navy"
      ],
      "text/html": "<div>\n<style scoped>\n    .dataframe tbody tr th:only-of-type {\n        vertical-align: middle;\n    }\n\n    .dataframe tbody tr th {\n        vertical-align: top;\n    }\n\n    .dataframe thead th {\n        text-align: right;\n    }\n</style>\n<table border=\"1\" class=\"dataframe\">\n  <thead>\n    <tr style=\"text-align: right;\">\n      <th></th>\n      <th>Name</th>\n      <th>work exp</th>\n      <th>age</th>\n      <th>colour</th>\n    </tr>\n  </thead>\n  <tbody>\n    <tr>\n      <th>0</th>\n      <td>Lena</td>\n      <td>2.7</td>\n      <td>26</td>\n      <td>grey</td>\n    </tr>\n    <tr>\n      <th>1</th>\n      <td>Alex</td>\n      <td>4.5</td>\n      <td>25</td>\n      <td>yellow</td>\n    </tr>\n    <tr>\n      <th>2</th>\n      <td>Bob</td>\n      <td>5.6</td>\n      <td>37</td>\n      <td>navy</td>\n    </tr>\n  </tbody>\n</table>\n</div>"
     },
     "metadata": {},
     "execution_count": 142
    }
   ],
   "source": [
    "# Task 12 \n",
    "df = pd.DataFrame(\n",
    "    {\n",
    "        'Name': ['Lena', 'Alex', 'Bob'], \n",
    "        'work exp': [2.7, 4.5, 5.6],\n",
    "        'age': [26, 25, 37],\n",
    "        'colour': pd.Categorical(['grey', 'yellow', 'navy'])\n",
    "    }\n",
    ")\n",
    "df.head()"
   ]
  },
  {
   "cell_type": "code",
   "execution_count": 143,
   "metadata": {},
   "outputs": [
    {
     "output_type": "stream",
     "name": "stdout",
     "text": [
      "<class 'pandas.core.frame.DataFrame'>\nRangeIndex: 3 entries, 0 to 2\nData columns (total 4 columns):\n #   Column    Non-Null Count  Dtype   \n---  ------    --------------  -----   \n 0   Name      3 non-null      object  \n 1   work exp  3 non-null      float64 \n 2   age       3 non-null      int64   \n 3   colour    3 non-null      category\ndtypes: category(1), float64(1), int64(1), object(1)\nmemory usage: 307.0+ bytes\n"
     ]
    }
   ],
   "source": [
    "df.info()"
   ]
  },
  {
   "cell_type": "code",
   "execution_count": 152,
   "metadata": {},
   "outputs": [
    {
     "output_type": "execute_result",
     "data": {
      "text/plain": [
       "1    2\n",
       "2    3\n",
       "dtype: int64"
      ]
     },
     "metadata": {},
     "execution_count": 152
    }
   ],
   "source": [
    "# Task 13\n",
    "ds1 = pd.Series([1, 2, 3, 4, 5])\n",
    "ds2 = pd.Series([4, 5, 6, 7, 8, 1, 9])\n",
    "\n",
    "# TODO - выберите значения в ds1, которых нет в ds2: \n",
    "# [2, 3]\n",
    "ds1[(~ds1.isin(ds2))]"
   ]
  },
  {
   "cell_type": "code",
   "execution_count": 157,
   "metadata": {},
   "outputs": [
    {
     "output_type": "execute_result",
     "data": {
      "text/plain": [
       "0     Другое\n",
       "1     Другое\n",
       "2     Другое\n",
       "3          4\n",
       "4          4\n",
       "5          4\n",
       "6     Другое\n",
       "7          1\n",
       "8          1\n",
       "9          1\n",
       "10         1\n",
       "11         4\n",
       "dtype: object"
      ]
     },
     "metadata": {},
     "execution_count": 157
    }
   ],
   "source": [
    "# Task 14\n",
    "ds = pd.Series([2, 2, 2, 4, 4, 4, 3, 1, 1, 1, 1, 4])\n",
    "\n",
    "# TODO - определите два наиболее частых значения в ряду (1, 4),\n",
    "#           остальные замените значением 'Другое'\n",
    "# ['Другое', 'Другое', 'Другое', 4, 4, 4, 'Другое', 1, 1, 1, 1, 4]\n",
    "ds[~ds.isin((ds.value_counts().index[:2]))] = 'Другое'\n",
    "ds"
   ]
  },
  {
   "cell_type": "code",
   "execution_count": 159,
   "metadata": {},
   "outputs": [
    {
     "output_type": "execute_result",
     "data": {
      "text/plain": [
       "0        How\n",
       "1         To\n",
       "2        Use\n",
       "3    Pandas?\n",
       "dtype: object"
      ]
     },
     "metadata": {},
     "execution_count": 159
    }
   ],
   "source": [
    "# Task 15\n",
    "ds = pd.Series(['how', 'to', 'use', 'pandas?'])\n",
    "\n",
    "# TODO - сделайте каждую первую букву заглавной с помощью Series.apply()\n",
    "ds.apply(lambda x: x[0].upper() + x[1:])"
   ]
  },
  {
   "cell_type": "code",
   "execution_count": 167,
   "metadata": {},
   "outputs": [
    {
     "output_type": "execute_result",
     "data": {
      "text/plain": [
       "    x1  x2  x3\n",
       "0    3   1   1\n",
       "2    3   1   2\n",
       "7    3   3   2\n",
       "12   3   2   0"
      ],
      "text/html": "<div>\n<style scoped>\n    .dataframe tbody tr th:only-of-type {\n        vertical-align: middle;\n    }\n\n    .dataframe tbody tr th {\n        vertical-align: top;\n    }\n\n    .dataframe thead th {\n        text-align: right;\n    }\n</style>\n<table border=\"1\" class=\"dataframe\">\n  <thead>\n    <tr style=\"text-align: right;\">\n      <th></th>\n      <th>x1</th>\n      <th>x2</th>\n      <th>x3</th>\n    </tr>\n  </thead>\n  <tbody>\n    <tr>\n      <th>0</th>\n      <td>3</td>\n      <td>1</td>\n      <td>1</td>\n    </tr>\n    <tr>\n      <th>2</th>\n      <td>3</td>\n      <td>1</td>\n      <td>2</td>\n    </tr>\n    <tr>\n      <th>7</th>\n      <td>3</td>\n      <td>3</td>\n      <td>2</td>\n    </tr>\n    <tr>\n      <th>12</th>\n      <td>3</td>\n      <td>2</td>\n      <td>0</td>\n    </tr>\n  </tbody>\n</table>\n</div>"
     },
     "metadata": {},
     "execution_count": 167
    }
   ],
   "source": [
    "# Task 16\n",
    "df = pd.DataFrame(\n",
    "    np.random.randint(0, 4, size=(15, 3)), \n",
    "    columns=['x1', 'x2', 'x3']\n",
    ")\n",
    "\n",
    "# TODO - выберите те записи, которые имеют x1 равный \n",
    "#           максимальному значению в колонке x1\n",
    "df[df['x1'] == df['x1'].max()]"
   ]
  },
  {
   "cell_type": "code",
   "execution_count": 169,
   "metadata": {},
   "outputs": [
    {
     "output_type": "execute_result",
     "data": {
      "text/plain": [
       "Manufacturer           4\n",
       "Model                  1\n",
       "Type                   3\n",
       "Min.Price              7\n",
       "Price                  2\n",
       "Max.Price              5\n",
       "MPG.city               9\n",
       "MPG.highway            2\n",
       "AirBags                6\n",
       "DriveTrain             7\n",
       "Cylinders              5\n",
       "EngineSize             2\n",
       "Horsepower             7\n",
       "RPM                    3\n",
       "Rev.per.mile           6\n",
       "Man.trans.avail        5\n",
       "Fuel.tank.capacity     8\n",
       "Passengers             2\n",
       "Length                 4\n",
       "Wheelbase              1\n",
       "Width                  6\n",
       "Turn.circle            5\n",
       "Rear.seat.room         4\n",
       "Luggage.room          19\n",
       "Weight                 7\n",
       "Origin                 5\n",
       "Make                   3\n",
       "dtype: int64"
      ]
     },
     "metadata": {},
     "execution_count": 169
    }
   ],
   "source": [
    "# Task 17\n",
    "df = pd.read_csv('https://raw.githubusercontent.com/Kail4eK/ml_edu/master/datasets/Cars93_miss.csv')\n",
    "\n",
    "# TODO - отобразите количество пропусков в данных по каждой колонке\n",
    "df.isna().sum()"
   ]
  },
  {
   "cell_type": "code",
   "execution_count": 173,
   "metadata": {},
   "outputs": [],
   "source": [
    "df = pd.read_csv('https://raw.githubusercontent.com/Kail4eK/ml_edu/master/datasets/Cars93_miss.csv')\n",
    "\n",
    "# TODO - заполните NaN в колонке Min.Price средним значением по этой колонке\n",
    "# NOTE - после заполнения убедитесь, что в этой колонке нет пропущенных\n",
    "df['Min.Price'].fillna(df['Min.Price'].mean(), inplace=True)"
   ]
  },
  {
   "cell_type": "code",
   "execution_count": 176,
   "metadata": {},
   "outputs": [
    {
     "output_type": "execute_result",
     "data": {
      "text/plain": [
       "0"
      ]
     },
     "metadata": {},
     "execution_count": 176
    }
   ],
   "source": [
    "df['Min.Price'].isna().sum()"
   ]
  },
  {
   "cell_type": "code",
   "execution_count": 179,
   "metadata": {},
   "outputs": [
    {
     "output_type": "execute_result",
     "data": {
      "text/plain": [
       "   f  e  d  c  b  a\n",
       "0  2  1  3  5  1  5\n",
       "1  5  1  2  6  7  1\n",
       "2  0  9  6  3  4  9\n",
       "3  6  7  6  5  4  8\n",
       "4  3  8  4  3  5  0"
      ],
      "text/html": "<div>\n<style scoped>\n    .dataframe tbody tr th:only-of-type {\n        vertical-align: middle;\n    }\n\n    .dataframe tbody tr th {\n        vertical-align: top;\n    }\n\n    .dataframe thead th {\n        text-align: right;\n    }\n</style>\n<table border=\"1\" class=\"dataframe\">\n  <thead>\n    <tr style=\"text-align: right;\">\n      <th></th>\n      <th>f</th>\n      <th>e</th>\n      <th>d</th>\n      <th>c</th>\n      <th>b</th>\n      <th>a</th>\n    </tr>\n  </thead>\n  <tbody>\n    <tr>\n      <th>0</th>\n      <td>2</td>\n      <td>1</td>\n      <td>3</td>\n      <td>5</td>\n      <td>1</td>\n      <td>5</td>\n    </tr>\n    <tr>\n      <th>1</th>\n      <td>5</td>\n      <td>1</td>\n      <td>2</td>\n      <td>6</td>\n      <td>7</td>\n      <td>1</td>\n    </tr>\n    <tr>\n      <th>2</th>\n      <td>0</td>\n      <td>9</td>\n      <td>6</td>\n      <td>3</td>\n      <td>4</td>\n      <td>9</td>\n    </tr>\n    <tr>\n      <th>3</th>\n      <td>6</td>\n      <td>7</td>\n      <td>6</td>\n      <td>5</td>\n      <td>4</td>\n      <td>8</td>\n    </tr>\n    <tr>\n      <th>4</th>\n      <td>3</td>\n      <td>8</td>\n      <td>4</td>\n      <td>3</td>\n      <td>5</td>\n      <td>0</td>\n    </tr>\n  </tbody>\n</table>\n</div>"
     },
     "metadata": {},
     "execution_count": 179
    }
   ],
   "source": [
    "# Taask 18\n",
    "df = pd.DataFrame(np.random.randint(0, 10, size=(5, 6)), columns=list('fbecda'))\n",
    "\n",
    "# TODO - получите фрейм с отсортированными по именам колонкам (f e d c b a)\n",
    "# NOTE - сортировка должна быть автоматической\n",
    "df.sort_index(axis=1, ascending=False)"
   ]
  },
  {
   "cell_type": "code",
   "execution_count": 180,
   "metadata": {},
   "outputs": [],
   "source": [
    "# Task 19 \n",
    "df = pd.read_csv('https://raw.githubusercontent.com/Kail4eK/ml_edu/master/datasets/Cars93_miss.csv')\n",
    "\n",
    "# TODO - отобразите запись с периодичностью во фрейме и определенные колонки"
   ]
  },
  {
   "cell_type": "code",
   "execution_count": 183,
   "metadata": {},
   "outputs": [
    {
     "output_type": "execute_result",
     "data": {
      "text/plain": [
       "   Manufacturer    Model     Type\n",
       "0         Acura  Integra    Small\n",
       "20     Chrysler  LeBaron  Compact\n",
       "40        Honda  Prelude   Sporty\n",
       "60      Mercury   Cougar  Midsize\n",
       "80       Subaru   Loyale    Small"
      ],
      "text/html": "<div>\n<style scoped>\n    .dataframe tbody tr th:only-of-type {\n        vertical-align: middle;\n    }\n\n    .dataframe tbody tr th {\n        vertical-align: top;\n    }\n\n    .dataframe thead th {\n        text-align: right;\n    }\n</style>\n<table border=\"1\" class=\"dataframe\">\n  <thead>\n    <tr style=\"text-align: right;\">\n      <th></th>\n      <th>Manufacturer</th>\n      <th>Model</th>\n      <th>Type</th>\n    </tr>\n  </thead>\n  <tbody>\n    <tr>\n      <th>0</th>\n      <td>Acura</td>\n      <td>Integra</td>\n      <td>Small</td>\n    </tr>\n    <tr>\n      <th>20</th>\n      <td>Chrysler</td>\n      <td>LeBaron</td>\n      <td>Compact</td>\n    </tr>\n    <tr>\n      <th>40</th>\n      <td>Honda</td>\n      <td>Prelude</td>\n      <td>Sporty</td>\n    </tr>\n    <tr>\n      <th>60</th>\n      <td>Mercury</td>\n      <td>Cougar</td>\n      <td>Midsize</td>\n    </tr>\n    <tr>\n      <th>80</th>\n      <td>Subaru</td>\n      <td>Loyale</td>\n      <td>Small</td>\n    </tr>\n  </tbody>\n</table>\n</div>"
     },
     "metadata": {},
     "execution_count": 183
    }
   ],
   "source": [
    "df.iloc[::20][['Manufacturer', 'Model', 'Type']]"
   ]
  },
  {
   "cell_type": "code",
   "execution_count": 184,
   "metadata": {},
   "outputs": [
    {
     "output_type": "execute_result",
     "data": {
      "text/plain": [
       "0    3\n",
       "1    2\n",
       "2    3\n",
       "3    7\n",
       "dtype: int64"
      ]
     },
     "metadata": {},
     "execution_count": 184
    }
   ],
   "source": [
    "ds = pd.Series(['how', 'to', 'use', 'pandas?'])\n",
    "\n",
    "# TODO - создайте ряд, содержащий длины строк:\n",
    "# 0    3\n",
    "# 1    2\n",
    "# 2    3\n",
    "# 3    7\n",
    "# dtype: int64\n",
    "ds.apply(lambda x: len(x))"
   ]
  },
  {
   "cell_type": "code",
   "execution_count": null,
   "metadata": {},
   "outputs": [],
   "source": []
  }
 ]
}