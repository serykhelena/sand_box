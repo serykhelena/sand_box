{
 "metadata": {
  "language_info": {
   "codemirror_mode": {
    "name": "ipython",
    "version": 3
   },
   "file_extension": ".py",
   "mimetype": "text/x-python",
   "name": "python",
   "nbconvert_exporter": "python",
   "pygments_lexer": "ipython3",
   "version": "3.8.5-final"
  },
  "orig_nbformat": 2,
  "kernelspec": {
   "name": "venv",
   "display_name": "venv"
  }
 },
 "nbformat": 4,
 "nbformat_minor": 2,
 "cells": [
  {
   "cell_type": "code",
   "execution_count": 1,
   "metadata": {},
   "outputs": [],
   "source": [
    "import math \n",
    "import numpy as np \n",
    "import pandas as pd \n",
    "import random\n",
    "from scipy.optimize import linprog"
   ]
  },
  {
   "cell_type": "code",
   "execution_count": 2,
   "metadata": {},
   "outputs": [
    {
     "output_type": "error",
     "ename": "SyntaxError",
     "evalue": "invalid syntax (<ipython-input-2-a04f08a09106>, line 6)",
     "traceback": [
      "\u001b[0;36m  File \u001b[0;32m\"<ipython-input-2-a04f08a09106>\"\u001b[0;36m, line \u001b[0;32m6\u001b[0m\n\u001b[0;31m    'B2':[\"f\", \"h\", \"h\"],\u001b[0m\n\u001b[0m    ^\u001b[0m\n\u001b[0;31mSyntaxError\u001b[0m\u001b[0;31m:\u001b[0m invalid syntax\n"
     ]
    }
   ],
   "source": [
    "# class_prices = np.array([10, 20, 10, 5, 10, 30, 2, 23, 14, 31], dtype=np.int16).reshape(1, 10)\n",
    "class_prices = np.ones((1, 10), dtype=np.int16)\n",
    "classes = np.array([\"a\", \"b\", \"c\", \"d\", \"e\", \"f\", \"g\", \"h\", \"i\", \"j\"])\n",
    "bundles = {\n",
    "    'B1':[\"a\", \"b\", \"c\"],\n",
    "    'B2':[\"f\", \"h\", \"h\"],\n",
    "    'B3':[\"j\", \"j\", \"j\"],\n",
    "    'B4':[\"d\", \"e\", \"i\"],\n",
    "    'B5':[\"f\", \"f\", \"g\"],\n",
    "    'B6':[\"a\", \"e\", \"i\"],\n",
    "    'B7':[\"b\", \"c\", \"d\"],\n",
    "    'B8':[\"g\", \"i\", \"j\"]\n",
    "}\n",
    "bundles_discounts = {\n",
    "    'B1': 0.1,\n",
    "    'B2': 0.2,\n",
    "    'B3':0.25,\n",
    "    'B4':0.05,\n",
    "    'B5':0.15,\n",
    "    'B6': 0.35,\n",
    "    'B7': 0.1,\n",
    "    'B8':0.33\n",
    "}"
   ]
  },
  {
   "cell_type": "code",
   "execution_count": 5,
   "metadata": {},
   "outputs": [
    {
     "output_type": "execute_result",
     "data": {
      "text/plain": [
       "array([[0.9 ],\n",
       "       [0.8 ],\n",
       "       [0.75],\n",
       "       [0.95],\n",
       "       [0.85],\n",
       "       [0.65],\n",
       "       [0.9 ],\n",
       "       [0.67]])"
      ]
     },
     "metadata": {},
     "execution_count": 5
    }
   ],
   "source": [
    "bundle_discounts_arr = (1 - np.fromiter(bundles_discounts.values(), dtype=float)).reshape(8, 1)\n",
    "bundle_discounts_arr"
   ]
  },
  {
   "cell_type": "code",
   "execution_count": 6,
   "metadata": {},
   "outputs": [
    {
     "output_type": "execute_result",
     "data": {
      "text/plain": [
       "array([3, 0, 6, 4, 1, 2, 7, 5])"
      ]
     },
     "metadata": {},
     "execution_count": 6
    }
   ],
   "source": [
    "# not used for now \n",
    "# sorted bundle discounts (descending)\n",
    "bundles_sorted_indices = np.argsort(np.fromiter(bundles_discounts.values(), dtype=float))\n",
    "bundles_sorted_indices"
   ]
  },
  {
   "cell_type": "code",
   "execution_count": 7,
   "metadata": {},
   "outputs": [
    {
     "output_type": "execute_result",
     "data": {
      "text/plain": [
       "array([ 8, 19,  3,  7, 17, 12,  5, 10,  3, 13])"
      ]
     },
     "metadata": {},
     "execution_count": 7
    }
   ],
   "source": [
    "basket_product_number = np.random.random_integers(1, 20, size=(10, ))\n",
    "basket_product_number"
   ]
  },
  {
   "cell_type": "code",
   "execution_count": 8,
   "metadata": {},
   "outputs": [],
   "source": [
    "from collections import Counter\n",
    "\n",
    "def get_bundle_vector(bundle):\n",
    "    vector = []\n",
    "    for class_ in classes:\n",
    "        if class_ in bundle:\n",
    "            vector.append(Counter(bundle)[class_])\n",
    "        else:\n",
    "            vector.append(0)\n",
    "    return vector"
   ]
  },
  {
   "cell_type": "code",
   "execution_count": 9,
   "metadata": {},
   "outputs": [
    {
     "output_type": "execute_result",
     "data": {
      "text/plain": [
       "{'B1': [1, 1, 1, 0, 0, 0, 0, 0, 0, 0],\n",
       " 'B2': [0, 0, 0, 0, 0, 1, 0, 2, 0, 0],\n",
       " 'B3': [0, 0, 0, 0, 0, 0, 0, 0, 0, 3],\n",
       " 'B4': [0, 0, 0, 1, 1, 0, 0, 0, 1, 0],\n",
       " 'B5': [0, 0, 0, 0, 0, 2, 1, 0, 0, 0],\n",
       " 'B6': [1, 0, 0, 0, 1, 0, 0, 0, 1, 0],\n",
       " 'B7': [0, 1, 1, 1, 0, 0, 0, 0, 0, 0],\n",
       " 'B8': [0, 0, 0, 0, 0, 0, 1, 0, 1, 1]}"
      ]
     },
     "metadata": {},
     "execution_count": 9
    }
   ],
   "source": [
    "bundle_dict = {k: get_bundle_vector(v) for k, v in bundles.items()}\n",
    "bundle_dict"
   ]
  },
  {
   "cell_type": "code",
   "execution_count": 10,
   "metadata": {},
   "outputs": [
    {
     "output_type": "execute_result",
     "data": {
      "text/plain": [
       "array([[1, 1, 1, 0, 0, 0, 0, 0, 0, 0],\n",
       "       [0, 0, 0, 0, 0, 1, 0, 2, 0, 0],\n",
       "       [0, 0, 0, 0, 0, 0, 0, 0, 0, 3],\n",
       "       [0, 0, 0, 1, 1, 0, 0, 0, 1, 0],\n",
       "       [0, 0, 0, 0, 0, 2, 1, 0, 0, 0],\n",
       "       [1, 0, 0, 0, 1, 0, 0, 0, 1, 0],\n",
       "       [0, 1, 1, 1, 0, 0, 0, 0, 0, 0],\n",
       "       [0, 0, 0, 0, 0, 0, 1, 0, 1, 1]])"
      ]
     },
     "metadata": {},
     "execution_count": 10
    }
   ],
   "source": [
    "bundle_matrix = pd.DataFrame.from_dict(bundle_dict, orient='index').values\n",
    "bundle_matrix"
   ]
  },
  {
   "cell_type": "code",
   "execution_count": 11,
   "metadata": {},
   "outputs": [
    {
     "output_type": "execute_result",
     "data": {
      "text/plain": [
       "array([[0, 0, 0, 1, 1, 0, 0, 0, 1, 0],\n",
       "       [1, 1, 1, 0, 0, 0, 0, 0, 0, 0],\n",
       "       [0, 1, 1, 1, 0, 0, 0, 0, 0, 0],\n",
       "       [0, 0, 0, 0, 0, 2, 1, 0, 0, 0],\n",
       "       [0, 0, 0, 0, 0, 1, 0, 2, 0, 0],\n",
       "       [0, 0, 0, 0, 0, 0, 0, 0, 0, 3],\n",
       "       [0, 0, 0, 0, 0, 0, 1, 0, 1, 1],\n",
       "       [1, 0, 0, 0, 1, 0, 0, 0, 1, 0]])"
      ]
     },
     "metadata": {},
     "execution_count": 11
    }
   ],
   "source": [
    "# not used for now \n",
    "# if discount if bigger bungle goes first (descending)\n",
    "bundle_sorted_matrix = bundle_matrix[bundles_sorted_indices][:]\n",
    "bundle_sorted_matrix"
   ]
  },
  {
   "cell_type": "code",
   "execution_count": 12,
   "metadata": {},
   "outputs": [
    {
     "output_type": "execute_result",
     "data": {
      "text/plain": [
       "array([[0.9 ],\n",
       "       [0.8 ],\n",
       "       [0.75],\n",
       "       [0.95],\n",
       "       [0.85],\n",
       "       [0.65],\n",
       "       [0.9 ],\n",
       "       [0.67]])"
      ]
     },
     "metadata": {},
     "execution_count": 12
    }
   ],
   "source": [
    "bundle_discounts_arr = (1 - np.fromiter(bundles_discounts.values(), dtype=float)).reshape(8, 1)\n",
    "bundle_discounts_arr"
   ]
  },
  {
   "cell_type": "code",
   "execution_count": 178,
   "metadata": {},
   "outputs": [
    {
     "output_type": "execute_result",
     "data": {
      "text/plain": [
       "array([[0.9 , 0.9 , 0.9 , 0.9 , 0.9 , 0.9 , 0.9 , 0.9 , 0.9 , 0.9 ],\n",
       "       [0.8 , 0.8 , 0.8 , 0.8 , 0.8 , 0.8 , 0.8 , 0.8 , 0.8 , 0.8 ],\n",
       "       [0.75, 0.75, 0.75, 0.75, 0.75, 0.75, 0.75, 0.75, 0.75, 0.75],\n",
       "       [0.95, 0.95, 0.95, 0.95, 0.95, 0.95, 0.95, 0.95, 0.95, 0.95],\n",
       "       [0.85, 0.85, 0.85, 0.85, 0.85, 0.85, 0.85, 0.85, 0.85, 0.85],\n",
       "       [0.65, 0.65, 0.65, 0.65, 0.65, 0.65, 0.65, 0.65, 0.65, 0.65],\n",
       "       [0.9 , 0.9 , 0.9 , 0.9 , 0.9 , 0.9 , 0.9 , 0.9 , 0.9 , 0.9 ],\n",
       "       [0.67, 0.67, 0.67, 0.67, 0.67, 0.67, 0.67, 0.67, 0.67, 0.67]])"
      ]
     },
     "metadata": {},
     "execution_count": 178
    }
   ],
   "source": [
    "# Not used for now\n",
    "# prices for ALL classes with discounts  \n",
    "# one row = one discount value \n",
    "# one column = one class\n",
    "discounted_prices = bundle_discounts_arr * class_prices\n",
    "discounted_prices"
   ]
  },
  {
   "cell_type": "code",
   "execution_count": 14,
   "metadata": {},
   "outputs": [
    {
     "output_type": "execute_result",
     "data": {
      "text/plain": [
       "array([[0.],\n",
       "       [0.],\n",
       "       [0.],\n",
       "       [0.],\n",
       "       [0.],\n",
       "       [0.],\n",
       "       [0.],\n",
       "       [0.]])"
      ]
     },
     "metadata": {},
     "execution_count": 14
    }
   ],
   "source": [
    "bundle_number = np.zeros((8, 1))\n",
    "# [1,2,3,4,5,6,7,8]\n",
    "# a = np.array(a).reshape((1,8))bundle_number\n",
    "bundle_number"
   ]
  },
  {
   "cell_type": "code",
   "execution_count": 391,
   "metadata": {},
   "outputs": [],
   "source": [
    "# TODO: add arguments \n",
    "def get_bundle_cost(bundel_num):\n",
    "    current_discounts = (bundel_num > 0) * bundle_discounts_arr\n",
    "    bundle_cost = np.asscalar(sum((bundel_num * bundle_matrix).dot(class_prices.T) * current_discounts))\n",
    "    return bundle_cost\n"
   ]
  },
  {
   "cell_type": "code",
   "execution_count": 392,
   "metadata": {},
   "outputs": [],
   "source": [
    "# TODO: add arguments \n",
    "def get_no_bundled_cost(bundel_num):\n",
    "    no_bundled_product_number = basket_product_number - bundel_num.T.dot(bundle_matrix)\n",
    "\n",
    "    not_enough_product_in_basket = ((basket_product_number - bundel_num.T.dot(bundle_matrix))< 0).any()\n",
    "    if not_enough_product_in_basket:\n",
    "        print('ALARM! NOT ENOUGHT PRODUCTS IN BASKET')\n",
    "\n",
    "    return np.asscalar(\n",
    "        (basket_product_number - bundel_num.T.dot(bundle_matrix)).dot(class_prices.T)\n",
    "    )"
   ]
  },
  {
   "cell_type": "code",
   "execution_count": 393,
   "metadata": {},
   "outputs": [],
   "source": [
    "# TODO: add arguments \n",
    "def get_total_cost(bundel_num):\n",
    "    return round(get_no_bundled_cost(bundel_num) + get_bundle_cost(bundel_num), 2)"
   ]
  },
  {
   "cell_type": "code",
   "execution_count": 394,
   "metadata": {},
   "outputs": [
    {
     "output_type": "stream",
     "name": "stdout",
     "text": [
      "Success! Total cost without bundles is 97.0\n"
     ]
    }
   ],
   "source": [
    "# bundle number = 0, no bundles \n",
    "bundle_number = np.zeros((8, 1))\n",
    "\n",
    "total_cost_without_discount = get_total_cost(bundle_number)\n",
    "\n",
    "manual_cost_without_discount = np.asscalar(class_prices.dot(basket_product_number.T))\n",
    "\n",
    "assert total_cost_without_discount == manual_cost_without_discount, \\\n",
    "f'cost without discount is wrong, expected {manual_cost_without_discount}, got {total_cost_without_discount} '\n",
    "\n",
    "print(f'Success! Total cost without bundles is {total_cost_without_discount}')"
   ]
  },
  {
   "cell_type": "code",
   "execution_count": 395,
   "metadata": {},
   "outputs": [
    {
     "output_type": "stream",
     "name": "stdout",
     "text": [
      "Success! Total cost with 1 bundle is 94.0\n"
     ]
    }
   ],
   "source": [
    "# Cost without 1 bundle calculation \n",
    "# bundle number = 1, b1 is working \n",
    "bundle_number = np.vstack(([[1]], np.zeros((7, 1))))\n",
    "\n",
    "total_cost_with_1_discount = get_no_bundled_cost(bundle_number)\n",
    "\n",
    "manual_cost_with_1_discount = np.asscalar(class_prices.dot((basket_product_number - bundle_matrix[0]).T))\n",
    "\n",
    "assert total_cost_with_1_discount == manual_cost_with_1_discount, \\\n",
    "f'cost with 1 bundle is wrong, expected {manual_cost_with_1_discount}, got {total_cost_with_1_discount} '\n",
    "\n",
    "print(f'Success! Total cost with 1 bundle is {total_cost_with_1_discount}')"
   ]
  },
  {
   "cell_type": "code",
   "execution_count": 396,
   "metadata": {},
   "outputs": [
    {
     "output_type": "stream",
     "name": "stdout",
     "text": [
      "Success! 1 bundle cost is 2.7\n"
     ]
    }
   ],
   "source": [
    "# Only discount (bundle) cost calculating\n",
    "# bundle number = 1, b1 is working \n",
    "bundle_number = np.vstack(([[1]], np.zeros((7, 1))))\n",
    "\n",
    "one_bundle_cost = get_bundle_cost(bundle_number)\n",
    "manual_1_bundle_cost = np.asscalar(bundle_matrix[0].T.dot(class_prices.T) * bundle_discounts_arr[0])\n",
    "\n",
    "assert one_bundle_cost == manual_1_bundle_cost, \\\n",
    "f'1 bundle cost is wrong, expected {one_bundle_cost}, got {one_bundle_cost} '\n",
    "\n",
    "print(f'Success! 1 bundle cost is {one_bundle_cost}')"
   ]
  },
  {
   "cell_type": "code",
   "execution_count": 397,
   "metadata": {},
   "outputs": [
    {
     "output_type": "stream",
     "name": "stdout",
     "text": [
      "Success! 1 bundle cost is 5.1\n"
     ]
    }
   ],
   "source": [
    "# Only discount (bundle) cost calculating\n",
    "# bundle number = 2, b1 and b2 are working \n",
    "bundle_number = np.vstack(([[1], [1]], np.zeros((6, 1))))\n",
    "\n",
    "two_bundle_cost = get_bundle_cost(bundle_number)\n",
    "\n",
    "manual_2_bundle_cost = np.asscalar(sum(bundle_matrix[:2].dot(class_prices.T) * bundle_discounts_arr[:2]))\n",
    "\n",
    "assert two_bundle_cost == manual_2_bundle_cost, \\\n",
    "f'2 bundle cost is wrong, expected {two_bundle_cost}, got {manual_2_bundle_cost} '\n",
    "\n",
    "print(f'Success! 1 bundle cost is {round(two_bundle_cost, 1)}')"
   ]
  },
  {
   "cell_type": "code",
   "execution_count": 398,
   "metadata": {},
   "outputs": [
    {
     "output_type": "stream",
     "name": "stdout",
     "text": [
      "Success! Total cost with 2 bundles is 96.1\n"
     ]
    }
   ],
   "source": [
    "# Total cost calculation \n",
    "# bundle number = 2, b1 and b2 are working\n",
    "bundle_number = np.vstack(([[1], [1]], np.zeros((6, 1))))\n",
    "\n",
    "cost = get_total_cost(bundle_number)\n",
    "\n",
    "number_left = basket_product_number - bundle_number.T.dot(bundle_matrix)\n",
    "manual_without_2_bundle_cost = np.asscalar(class_prices.dot(number_left.T))\n",
    "manual_2_bundle_cost = np.asscalar(sum(bundle_matrix[:2].dot(class_prices.T) * bundle_discounts_arr[:2]))\n",
    "manual_cost = manual_without_2_bundle_cost + manual_2_bundle_cost\n",
    "\n",
    "assert cost == manual_cost, \\\n",
    "f'Total cost with 2 bundles is wrong, expected {manual_cost}, got {cost} '\n",
    "\n",
    "print(f'Success! Total cost with 2 bundles is {round(cost, 1)}')"
   ]
  },
  {
   "cell_type": "code",
   "execution_count": 288,
   "metadata": {},
   "outputs": [
    {
     "output_type": "stream",
     "name": "stdout",
     "text": [
      "[[ 0. inf]\n [ 0. inf]\n [ 0. inf]\n [ 0. inf]\n [ 0. inf]\n [ 0. inf]\n [ 0. inf]\n [ 0. inf]]\nPhase Iteration Minimum Slack       Constraint Residual Objective          \n1     0         3.0                 0.0                 0.0                 \nPhase Iteration Minimum Slack       Constraint Residual Objective          \n2     0         3.0                 0.0                 0.0                 \n2     1         0.0                 0.0                 -3.0                \n2     2         0.0                 0.0                 -8.0                \n2     3         0.0                 0.0                 -12.33333333333     \n2     4         0.0                 0.0                 -15.33333333333     \n2     5         0.0                 0.0                 -18.83333333333     \nOptimization terminated successfully.\n         Current function value: -18.833333  \n         Iterations: 5\n"
     ]
    },
    {
     "output_type": "execute_result",
     "data": {
      "text/plain": [
       "     con: array([], dtype=float64)\n",
       "     fun: -18.833333333333332\n",
       " message: 'Optimization terminated successfully.'\n",
       "     nit: 5\n",
       "   slack: array([ 5. , 16. ,  0. ,  4. , 14. ,  0. ,  1.5,  0. ,  0. ,  0. ])\n",
       "  status: 0\n",
       " success: True\n",
       "       x: array([3.        , 5.        , 4.33333333, 3.        , 3.5       ,\n",
       "       0.        , 0.        , 0.        ])"
      ]
     },
     "metadata": {},
     "execution_count": 288
    }
   ],
   "source": [
    "# MAX -> z = k1 * x1 + k2 * x2 + ... + kn * xn \n",
    "# xn - number of bundles\n",
    "# kn = 1 (?????)\n",
    "obj = np.ones(bundle_number.shape)\n",
    "\n",
    "# print(basket_product_number)\n",
    "# print(bundle_number.T.dot(bundle_matrix))\n",
    "# print(bundle_number.T.dot(bundle_matrix) <= basket_product_number)\n",
    "\n",
    "\n",
    "# left-side coefficients from inequality \n",
    "# sum(kn * xn * bundle_matrix[n]) <= basket_product_number\n",
    "# N.T.dot(X) <= M.T \n",
    "# k = ones \n",
    "product_number_for_bundles = bundle_number.T.dot(bundle_matrix)\n",
    "lhs_ineq = bundle_matrix.T\n",
    "\n",
    "rhs_ineq = basket_product_number.T\n",
    "\n",
    "# xn >= 0 \n",
    "bnd = np.array([(0, np.inf) for _ in range(bundle_number.shape[0])])\n",
    "print(bnd)\n",
    "# min(f(x)) = -max(-f(x))\n",
    "opt = linprog(\n",
    "    c=-obj, A_ub=lhs_ineq, b_ub=rhs_ineq, bounds=bnd, method='revised simplex', options={\"disp\": True}\n",
    "    )\n",
    "opt\n"
   ]
  },
  {
   "cell_type": "code",
   "execution_count": 256,
   "metadata": {},
   "outputs": [
    {
     "output_type": "stream",
     "name": "stdout",
     "text": [
      "Primal Feasibility  Dual Feasibility    Duality Gap         Step             Path Parameter      Objective          \n1.0                 1.0                 1.0                 -                1.0                 -8.0                \n0.2663333735582     0.2663333735582     0.2663333735582     0.7490021987658  0.2663333735582     -10.12916199003     \n0.06344590492189    0.06344590492187    0.06344590492186    0.7777472339424  0.06344590492187    -13.61213206473     \n0.01028983893067    0.01028983893067    0.01028983893067    0.8489405954292  0.01028983893067    -17.88648477847     \n0.0006864660552709  0.0006864660552706  0.0006864660552705  0.9388791378118  0.0006864660552705  -18.75183767436     \n3.346321523001e-07  3.346321522801e-07  3.34632152464e-07   0.9997597664385  3.34632152263e-07   -18.83330645011     \n1.673143793307e-11  1.673159401948e-11  1.673150507031e-11  0.9999500000286  1.673161742878e-11  -18.83333333199     \nOptimization terminated successfully.\n         Current function value: -18.833333  \n         Iterations: 6\n"
     ]
    },
    {
     "output_type": "execute_result",
     "data": {
      "text/plain": [
       "     con: array([], dtype=float64)\n",
       "     fun: -18.833333331989177\n",
       " message: 'Optimization terminated successfully.'\n",
       "     nit: 6\n",
       "   slack: array([4.93965487e+00, 1.60000000e+01, 2.13876916e-10, 4.06034513e+00,\n",
       "       1.40000000e+01, 6.62170763e-10, 1.50000000e+00, 1.12392229e-09,\n",
       "       9.48245926e-11, 1.05011999e-09])\n",
       "  status: 0\n",
       " success: True\n",
       "       x: array([1.54627737e+00, 5.00000000e+00, 4.33333333e+00, 1.48593224e+00,\n",
       "       3.50000000e+00, 1.51406776e+00, 1.45372263e+00, 2.20054083e-10])"
      ]
     },
     "metadata": {},
     "execution_count": 256
    }
   ],
   "source": [
    "opt = linprog(\n",
    "    c=-obj, A_ub=lhs_ineq, b_ub=rhs_ineq, bounds=bnd, method='interior-point', options={\"disp\": True}\n",
    "    )\n",
    "opt"
   ]
  },
  {
   "cell_type": "code",
   "execution_count": 251,
   "metadata": {},
   "outputs": [
    {
     "output_type": "stream",
     "name": "stdout",
     "text": [
      "Optimization terminated successfully.\n         Current function value: -18.833333  \n         Iterations: 11\n"
     ]
    },
    {
     "output_type": "execute_result",
     "data": {
      "text/plain": [
       "     con: array([], dtype=float64)\n",
       "     fun: -18.833333333333332\n",
       " message: 'Optimization terminated successfully.'\n",
       "     nit: 11\n",
       "   slack: array([ 8. , 16. ,  0. ,  1. , 14. ,  0. ,  1.5,  0. ,  0. ,  0. ])\n",
       "  status: 0\n",
       " success: True\n",
       "       x: array([0.        , 5.        , 4.33333333, 3.        , 3.5       ,\n",
       "       0.        , 3.        , 0.        ])"
      ]
     },
     "metadata": {},
     "execution_count": 251
    }
   ],
   "source": [
    "opt = linprog(\n",
    "    c=-obj, A_ub=lhs_ineq, b_ub=rhs_ineq, bounds=bnd, method='simplex', options={\"disp\": True}\n",
    "    )\n",
    "opt"
   ]
  },
  {
   "cell_type": "code",
   "execution_count": 295,
   "metadata": {},
   "outputs": [
    {
     "output_type": "execute_result",
     "data": {
      "text/plain": [
       "{'B1': [1, 1, 1, 0, 0, 0, 0, 0, 0, 0],\n",
       " 'B2': [0, 0, 0, 0, 0, 1, 0, 2, 0, 0],\n",
       " 'B3': [0, 0, 0, 0, 0, 0, 0, 0, 0, 3],\n",
       " 'B4': [0, 0, 0, 1, 1, 0, 0, 0, 1, 0],\n",
       " 'B5': [0, 0, 0, 0, 0, 2, 1, 0, 0, 0],\n",
       " 'B6': [1, 0, 0, 0, 1, 0, 0, 0, 1, 0],\n",
       " 'B7': [0, 1, 1, 1, 0, 0, 0, 0, 0, 0],\n",
       " 'B8': [0, 0, 0, 0, 0, 0, 1, 0, 1, 1]}"
      ]
     },
     "metadata": {},
     "execution_count": 295
    }
   ],
   "source": [
    "bundle_dict"
   ]
  },
  {
   "cell_type": "code",
   "execution_count": 399,
   "metadata": {},
   "outputs": [
    {
     "output_type": "execute_result",
     "data": {
      "text/plain": [
       "Find_max_bundles_problem:\n",
       "MAXIMIZE\n",
       "1*x_B1 + 1*x_B2 + 1*x_B3 + 1*x_B4 + 1*x_B5 + 1*x_B6 + 1*x_B7 + 1*x_B8 + 0\n",
       "SUBJECT TO\n",
       "_C1: x_B1 + x_B6 <= 8\n",
       "\n",
       "_C2: x_B1 + x_B7 <= 19\n",
       "\n",
       "_C3: x_B1 + x_B7 <= 3\n",
       "\n",
       "_C4: x_B4 + x_B7 <= 7\n",
       "\n",
       "_C5: x_B4 + x_B6 <= 17\n",
       "\n",
       "_C6: x_B2 + 2 x_B5 <= 12\n",
       "\n",
       "_C7: x_B5 + x_B8 <= 5\n",
       "\n",
       "_C8: 2 x_B2 <= 10\n",
       "\n",
       "_C9: x_B4 + x_B6 + x_B8 <= 3\n",
       "\n",
       "_C10: 3 x_B3 + x_B8 <= 13\n",
       "\n",
       "VARIABLES\n",
       "0 <= x_B1 Integer\n",
       "0 <= x_B2 Integer\n",
       "0 <= x_B3 Integer\n",
       "0 <= x_B4 Integer\n",
       "0 <= x_B5 Integer\n",
       "0 <= x_B6 Integer\n",
       "0 <= x_B7 Integer\n",
       "0 <= x_B8 Integer"
      ]
     },
     "metadata": {},
     "execution_count": 399
    }
   ],
   "source": [
    "from pulp import LpMaximize, LpProblem, LpStatus, lpSum, LpVariable\n",
    "\n",
    "# bundle_number = np.ones((1, 8))\n",
    "\n",
    "bundle_n = [0, 1, 2, 3, 4, 5, 6, 7]\n",
    "\n",
    "# list of decision varioables\n",
    "bundle_lp = ['B1', 'B2', 'B3', 'B4', 'B5', 'B6', 'B7', 'B8']\n",
    "\n",
    "bundle_dict = {k: get_bundle_vector(v) for k, v in bundles.items()}\n",
    "\n",
    "discounts = {\n",
    "    'B1': 0.9, \n",
    "    'B2': 0.8,\n",
    "    'B3': 0.75,\n",
    "    'B4': 0.95, \n",
    "    'B5': 0.85, \n",
    "    'B6': 0.65,\n",
    "    'B7': 0.9, \n",
    "    'B8': 0.67\n",
    "}\n",
    "\n",
    "bun = np.zeros((8, 1))\n",
    "\n",
    "raw_cost = get_no_bundled_cost(bun)\n",
    "\n",
    "\n",
    "# MAXIMIZE number of bundels \n",
    "# Create the model\n",
    "model = LpProblem(name=\"Find max bundles problem\", sense=LpMaximize)\n",
    "# Initialize the decision variables\n",
    "x_vars = LpVariable.dicts('x', bundle_lp, lowBound=0, cat='Integer')\n",
    "\n",
    "# Z = sum(b_i)\n",
    "model += lpSum([x_vars[i] for i in bundle_lp])\n",
    "# Restriction \n",
    "# number of products in bundles must be less or equal with product number in basket \n",
    "for p in range(len(classes)):\n",
    "    model += lpSum([bundle_dict[b][p] * x_vars[b] for b in bundle_lp]) <= basket_product_number[p]\n",
    "\n",
    "model"
   ]
  },
  {
   "cell_type": "code",
   "execution_count": 400,
   "metadata": {},
   "outputs": [
    {
     "output_type": "stream",
     "name": "stdout",
     "text": [
      "Status: Optimal\nx_B1 = 3.0\nx_B2 = 5.0\nx_B3 = 4.0\nx_B4 = 3.0\nx_B5 = 3.0\nx_B6 = 0.0\nx_B7 = 0.0\nx_B8 = 0.0\n"
     ]
    }
   ],
   "source": [
    "model.solve() \n",
    "print(f\"Status: {LpStatus[model.status]}\")\n",
    "\n",
    "\n",
    "check_bundle = np.array([])\n",
    "\n",
    "for x in model.variables():\n",
    "    print(f\"{x.name} = {x.varValue}\")\n",
    "    check_bundle = np.append(check_bundle, x.varValue)"
   ]
  },
  {
   "cell_type": "code",
   "execution_count": 300,
   "metadata": {},
   "outputs": [
    {
     "output_type": "execute_result",
     "data": {
      "text/plain": [
       "array([ 8, 19,  3,  7, 17, 12,  5, 10,  3, 13])"
      ]
     },
     "metadata": {},
     "execution_count": 300
    }
   ],
   "source": [
    "basket_product_number"
   ]
  },
  {
   "cell_type": "code",
   "execution_count": 301,
   "metadata": {},
   "outputs": [
    {
     "output_type": "execute_result",
     "data": {
      "text/plain": [
       "{'B1': [1, 1, 1, 0, 0, 0, 0, 0, 0, 0],\n",
       " 'B2': [0, 0, 0, 0, 0, 1, 0, 2, 0, 0],\n",
       " 'B3': [0, 0, 0, 0, 0, 0, 0, 0, 0, 3],\n",
       " 'B4': [0, 0, 0, 1, 1, 0, 0, 0, 1, 0],\n",
       " 'B5': [0, 0, 0, 0, 0, 2, 1, 0, 0, 0],\n",
       " 'B6': [1, 0, 0, 0, 1, 0, 0, 0, 1, 0],\n",
       " 'B7': [0, 1, 1, 1, 0, 0, 0, 0, 0, 0],\n",
       " 'B8': [0, 0, 0, 0, 0, 0, 1, 0, 1, 1]}"
      ]
     },
     "metadata": {},
     "execution_count": 301
    }
   ],
   "source": [
    "bundle_dict"
   ]
  },
  {
   "cell_type": "code",
   "execution_count": 382,
   "metadata": {},
   "outputs": [
    {
     "output_type": "stream",
     "name": "stdout",
     "text": [
      "[[0.9 ]\n [0.8 ]\n [0.75]\n [0.95]\n [0.85]\n [0.65]\n [0.9 ]\n [0.67]] (8, 1)\n[[1 1 1 1 1 1 1 1 1 1]] (1, 10)\n"
     ]
    }
   ],
   "source": [
    "print(bundle_discounts_arr, bundle_discounts_arr.shape)\n",
    "print(class_prices, class_prices.shape)"
   ]
  },
  {
   "cell_type": "code",
   "execution_count": 402,
   "metadata": {},
   "outputs": [
    {
     "output_type": "execute_result",
     "data": {
      "text/plain": [
       "88.3"
      ]
     },
     "metadata": {},
     "execution_count": 402
    }
   ],
   "source": [
    "check_bundle = check_bundle.reshape(1, 8).T\n",
    "check_cost = get_total_cost(check_bundle)\n",
    "\n",
    "check_cost"
   ]
  },
  {
   "cell_type": "code",
   "execution_count": 403,
   "metadata": {},
   "outputs": [
    {
     "output_type": "stream",
     "name": "stdout",
     "text": [
      "97.0\n97\n"
     ]
    }
   ],
   "source": [
    "bun = np.zeros((8, 1))\n",
    "\n",
    "print(get_no_bundled_cost(bun))"
   ]
  },
  {
   "cell_type": "code",
   "execution_count": null,
   "metadata": {},
   "outputs": [],
   "source": []
  }
 ]
}