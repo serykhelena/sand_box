{
 "metadata": {
  "language_info": {
   "codemirror_mode": {
    "name": "ipython",
    "version": 3
   },
   "file_extension": ".py",
   "mimetype": "text/x-python",
   "name": "python",
   "nbconvert_exporter": "python",
   "pygments_lexer": "ipython3",
   "version": "3.8.5-final"
  },
  "orig_nbformat": 2,
  "kernelspec": {
   "name": "python3",
   "display_name": "Python 3"
  }
 },
 "nbformat": 4,
 "nbformat_minor": 2,
 "cells": [
  {
   "cell_type": "code",
   "execution_count": 3,
   "metadata": {},
   "outputs": [],
   "source": [
    "import numpy as np \n",
    "import pandas as pd \n",
    "from pulp import LpMaximize, LpProblem, LpStatus, lpSum, LpVariable"
   ]
  },
  {
   "cell_type": "code",
   "execution_count": 4,
   "metadata": {},
   "outputs": [],
   "source": [
    "from collections import Counter\n",
    "\n",
    "def get_bundle_vector(bundle, classes):\n",
    "    vector = []\n",
    "    for class_ in classes:\n",
    "        if class_ in bundle:\n",
    "            vector.append(Counter(bundle)[class_])\n",
    "        else:\n",
    "            vector.append(0)\n",
    "    return vector"
   ]
  },
  {
   "cell_type": "code",
   "execution_count": 5,
   "metadata": {},
   "outputs": [],
   "source": [
    "bundles = {\n",
    "    'B1':[\"a\", \"b\", \"c\"],\n",
    "    'B2':[\"f\", \"h\", \"h\"],\n",
    "    'B3':[\"j\", \"j\", \"j\"],\n",
    "    'B4':[\"d\", \"e\", \"i\"],\n",
    "    'B5':[\"f\", \"f\", \"g\"],\n",
    "    'B6':[\"a\", \"e\", \"i\"],\n",
    "    'B7':[\"b\", \"c\", \"d\"],\n",
    "    'B8':[\"g\", \"i\", \"j\"]\n",
    "}"
   ]
  },
  {
   "cell_type": "code",
   "execution_count": 6,
   "metadata": {},
   "outputs": [],
   "source": [
    "class_prices = np.ones((1, 10), dtype=np.int16)\n",
    "classes = np.array([\"a\", \"b\", \"c\", \"d\", \"e\", \"f\", \"g\", \"h\", \"i\", \"j\"])"
   ]
  },
  {
   "cell_type": "code",
   "execution_count": 7,
   "metadata": {},
   "outputs": [],
   "source": [
    "bundles_discounts = {\n",
    "    'B1': 0.1,\n",
    "    'B2': 0.2,\n",
    "    'B3':0.25,\n",
    "    'B4':0.05,\n",
    "    'B5':0.15,\n",
    "    'B6': 0.35,\n",
    "    'B7': 0.1,\n",
    "    'B8':0.33\n",
    "}"
   ]
  },
  {
   "cell_type": "code",
   "execution_count": 8,
   "metadata": {},
   "outputs": [
    {
     "output_type": "execute_result",
     "data": {
      "text/plain": [
       "{'B1': 0.9,\n",
       " 'B2': 0.8,\n",
       " 'B3': 0.75,\n",
       " 'B4': 0.95,\n",
       " 'B5': 0.85,\n",
       " 'B6': 0.65,\n",
       " 'B7': 0.9,\n",
       " 'B8': 0.67}"
      ]
     },
     "metadata": {},
     "execution_count": 8
    }
   ],
   "source": [
    "discounts = {key: round(1 - val, 2) for key, val in bundles_discounts.items()}\n",
    "discounts"
   ]
  },
  {
   "cell_type": "code",
   "execution_count": 9,
   "metadata": {},
   "outputs": [
    {
     "output_type": "execute_result",
     "data": {
      "text/plain": [
       "array([[0.9 ],\n",
       "       [0.8 ],\n",
       "       [0.75],\n",
       "       [0.95],\n",
       "       [0.85],\n",
       "       [0.65],\n",
       "       [0.9 ],\n",
       "       [0.67]])"
      ]
     },
     "metadata": {},
     "execution_count": 9
    }
   ],
   "source": [
    "bundle_discounts_arr = (1 - np.fromiter(bundles_discounts.values(), dtype=float)).reshape(8, 1)\n",
    "bundle_discounts_arr"
   ]
  },
  {
   "cell_type": "code",
   "execution_count": 10,
   "metadata": {},
   "outputs": [
    {
     "output_type": "execute_result",
     "data": {
      "text/plain": [
       "{'B1': [1, 1, 1, 0, 0, 0, 0, 0, 0, 0],\n",
       " 'B2': [0, 0, 0, 0, 0, 1, 0, 2, 0, 0],\n",
       " 'B3': [0, 0, 0, 0, 0, 0, 0, 0, 0, 3],\n",
       " 'B4': [0, 0, 0, 1, 1, 0, 0, 0, 1, 0],\n",
       " 'B5': [0, 0, 0, 0, 0, 2, 1, 0, 0, 0],\n",
       " 'B6': [1, 0, 0, 0, 1, 0, 0, 0, 1, 0],\n",
       " 'B7': [0, 1, 1, 1, 0, 0, 0, 0, 0, 0],\n",
       " 'B8': [0, 0, 0, 0, 0, 0, 1, 0, 1, 1]}"
      ]
     },
     "metadata": {},
     "execution_count": 10
    }
   ],
   "source": [
    "bundle_dict = {key: get_bundle_vector(val, classes) for key, val in bundles.items()}\n",
    "bundle_dict"
   ]
  },
  {
   "cell_type": "code",
   "execution_count": 11,
   "metadata": {},
   "outputs": [
    {
     "output_type": "execute_result",
     "data": {
      "text/plain": [
       "array([ 8, 18, 20,  1,  4, 10, 13,  1, 14,  8])"
      ]
     },
     "metadata": {},
     "execution_count": 11
    }
   ],
   "source": [
    "basket_product_number = np.random.random_integers(1, 20, size=(10, ))\n",
    "basket_product_number"
   ]
  },
  {
   "cell_type": "code",
   "execution_count": 12,
   "metadata": {},
   "outputs": [
    {
     "output_type": "execute_result",
     "data": {
      "text/plain": [
       "array([[1, 1, 1, 0, 0, 0, 0, 0, 0, 0],\n",
       "       [0, 0, 0, 0, 0, 1, 0, 2, 0, 0],\n",
       "       [0, 0, 0, 0, 0, 0, 0, 0, 0, 3],\n",
       "       [0, 0, 0, 1, 1, 0, 0, 0, 1, 0],\n",
       "       [0, 0, 0, 0, 0, 2, 1, 0, 0, 0],\n",
       "       [1, 0, 0, 0, 1, 0, 0, 0, 1, 0],\n",
       "       [0, 1, 1, 1, 0, 0, 0, 0, 0, 0],\n",
       "       [0, 0, 0, 0, 0, 0, 1, 0, 1, 1]])"
      ]
     },
     "metadata": {},
     "execution_count": 12
    }
   ],
   "source": [
    "bundle_matrix = pd.DataFrame.from_dict(bundle_dict, orient='index').values\n",
    "bundle_matrix"
   ]
  },
  {
   "cell_type": "code",
   "execution_count": 13,
   "metadata": {},
   "outputs": [
    {
     "output_type": "execute_result",
     "data": {
      "text/plain": [
       "Find_max_bundles_problem:\n",
       "MAXIMIZE\n",
       "1*x_B1 + 1*x_B2 + 1*x_B3 + 1*x_B4 + 1*x_B5 + 1*x_B6 + 1*x_B7 + 1*x_B8 + 0\n",
       "SUBJECT TO\n",
       "_C1: x_B1 + x_B6 <= 8\n",
       "\n",
       "_C2: x_B1 + x_B7 <= 18\n",
       "\n",
       "_C3: x_B1 + x_B7 <= 20\n",
       "\n",
       "_C4: x_B4 + x_B7 <= 1\n",
       "\n",
       "_C5: x_B4 + x_B6 <= 4\n",
       "\n",
       "_C6: x_B2 + 2 x_B5 <= 10\n",
       "\n",
       "_C7: x_B5 + x_B8 <= 13\n",
       "\n",
       "_C8: 2 x_B2 <= 1\n",
       "\n",
       "_C9: x_B4 + x_B6 + x_B8 <= 14\n",
       "\n",
       "_C10: 3 x_B3 + x_B8 <= 8\n",
       "\n",
       "VARIABLES\n",
       "0 <= x_B1 Integer\n",
       "0 <= x_B2 Integer\n",
       "0 <= x_B3 Integer\n",
       "0 <= x_B4 Integer\n",
       "0 <= x_B5 Integer\n",
       "0 <= x_B6 Integer\n",
       "0 <= x_B7 Integer\n",
       "0 <= x_B8 Integer"
      ]
     },
     "metadata": {},
     "execution_count": 13
    }
   ],
   "source": [
    "# list of decision variables\n",
    "bundle_lp = ['B1', 'B2', 'B3', 'B4', 'B5', 'B6', 'B7', 'B8']\n",
    "\n",
    "# MAXIMIZE number of bundels \n",
    "# Create the model\n",
    "model = LpProblem(name=\"Find max bundles problem\", sense=LpMaximize)\n",
    "# Initialize the decision variables\n",
    "x_vars = LpVariable.dicts('x', bundle_lp, lowBound=0, cat='Integer')\n",
    "\n",
    "# Z = sum(b_i)\n",
    "model += lpSum([x_vars[i] for i in bundle_lp])\n",
    "# Restriction \n",
    "# number of products in bundles must be less or equal with products number in basket \n",
    "for p in range(len(classes)):\n",
    "    model += lpSum([bundle_dict[b][p] * x_vars[b] for b in bundle_lp]) <= basket_product_number[p]\n",
    "\n",
    "model"
   ]
  },
  {
   "cell_type": "code",
   "execution_count": 14,
   "metadata": {},
   "outputs": [
    {
     "output_type": "stream",
     "name": "stdout",
     "text": [
      "Status: Optimal\nx_B1 = 8.0\nx_B2 = 0.0\nx_B3 = 0.0\nx_B4 = 1.0\nx_B5 = 5.0\nx_B6 = 0.0\nx_B7 = 0.0\nx_B8 = 8.0\n"
     ]
    }
   ],
   "source": [
    "model.solve() \n",
    "print(f\"Status: {LpStatus[model.status]}\")\n",
    "\n",
    "\n",
    "check_bundle = np.array([])\n",
    "\n",
    "for x in model.variables():\n",
    "    print(f\"{x.name} = {x.varValue}\")\n",
    "    check_bundle = np.append(check_bundle, x.varValue)"
   ]
  },
  {
   "cell_type": "code",
   "execution_count": 26,
   "metadata": {},
   "outputs": [
    {
     "output_type": "execute_result",
     "data": {
      "text/plain": [
       "array([ 8, 18, 20,  1,  4, 10, 13,  1, 14,  8])"
      ]
     },
     "metadata": {},
     "execution_count": 26
    }
   ],
   "source": [
    "basket_product_number"
   ]
  },
  {
   "cell_type": "code",
   "execution_count": 25,
   "metadata": {},
   "outputs": [],
   "source": [
    "def get_bundle_cost(bun_num, bun_matrix, bun_discount_arr, cl_prices):\n",
    "    '''\n",
    "        Get cost value for only bundled products\n",
    "        Args:\n",
    "            bun_num         [int]   - column-vector with usage number for each bundle\n",
    "            bun_matrix      [int]   - matrix (rows - bundles, columns - number of each product)\n",
    "            bun_discount_arr[float] - column-vector with value of (1 - discount) for each bundle\n",
    "            cl_prices [int/float]   - row-vector with prices for each product \n",
    "        Return:\n",
    "            [float] cost value for bundles only \n",
    "    '''\n",
    "    current_discounts = (bun_num > 0) * bun_discount_arr\n",
    "    bundle_cost = np.asscalar(sum((bun_num * bun_matrix).dot(cl_prices.T) * current_discounts))\n",
    "    return bundle_cost"
   ]
  },
  {
   "cell_type": "code",
   "execution_count": 27,
   "metadata": {},
   "outputs": [],
   "source": [
    "def get_no_bundled_cost(bun_num, bun_matrix, basket_pr_num, cl_prices):\n",
    "    '''\n",
    "        Get cost value of non-bundled products\n",
    "        Args:\n",
    "            bun_num         [int]   - column-vector with usage number for each bundle\n",
    "            bun_matrix      [int]   - matrix (rows - bundles, columns - number of each product)\n",
    "            basket_pr_num   [int]   - row-vector with number of each product in basket\n",
    "            cl_prices [int/float]   - row-vector with prices for each product \n",
    "        Return:\n",
    "            [float] cost value for non-bundled products \n",
    "    '''\n",
    "    no_bundled_product_number = basket_pr_num - bun_num.T.dot(bun_matrix)\n",
    "\n",
    "    not_enough_product_in_basket = ((basket_pr_num - bun_num.T.dot(bun_matrix))< 0).any()\n",
    "    if not_enough_product_in_basket:\n",
    "        print('ALARM! NOT ENOUGHT PRODUCTS IN BASKET')\n",
    "\n",
    "    return np.asscalar(\n",
    "        (basket_pr_num - bun_num.T.dot(bun_matrix)).dot(cl_prices.T)\n",
    "    )"
   ]
  },
  {
   "cell_type": "code",
   "execution_count": 28,
   "metadata": {},
   "outputs": [],
   "source": [
    "def get_total_cost(bun_num, bun_matrix, bun_discount_arr, cl_prices, basket_pr_num):\n",
    "    '''\n",
    "        Get total cost value of all products\n",
    "        Args:\n",
    "            bun_num         [int]   - column-vector with usage number for each bundle\n",
    "            bun_matrix      [int]   - matrix (rows - bundles, columns - number of each product)\n",
    "            bun_discount_arr[float] - column-vector with value of (1 - discount) for each bundle\n",
    "            basket_pr_num   [int]   - row-vector with number of each product in basket\n",
    "            cl_prices [int/float]   - row-vector with prices for each product \n",
    "        Return:\n",
    "            [float] cost value for all products \n",
    "    '''\n",
    "    return round(get_no_bundled_cost(bun_num, bun_matrix, basket_pr_num, cl_prices) + get_bundle_cost(bun_num, bun_matrix, bun_discount_arr, cl_prices), 2)"
   ]
  },
  {
   "cell_type": "code",
   "execution_count": 29,
   "metadata": {},
   "outputs": [
    {
     "output_type": "stream",
     "name": "stdout",
     "text": [
      "Min cost of basket: 84.28\n"
     ]
    }
   ],
   "source": [
    "check_bundle = check_bundle.reshape(1, 8).T\n",
    "\n",
    "check_cost = get_total_cost(check_bundle, bundle_matrix, bundle_discounts_arr, class_prices, basket_product_number)\n",
    "\n",
    "print(f\"Min cost of basket: {check_cost}\")"
   ]
  },
  {
   "cell_type": "code",
   "execution_count": 30,
   "metadata": {},
   "outputs": [
    {
     "output_type": "stream",
     "name": "stdout",
     "text": [
      "Cost without bundles: 97.0\n"
     ]
    }
   ],
   "source": [
    "bun = np.zeros((8, 1))\n",
    "cost_without_bundles = get_no_bundled_cost(bun, bundle_matrix, basket_product_number, class_prices)\n",
    "\n",
    "print(f\"Cost without bundles: {cost_without_bundles}\")"
   ]
  },
  {
   "cell_type": "code",
   "execution_count": null,
   "metadata": {},
   "outputs": [],
   "source": []
  }
 ]
}