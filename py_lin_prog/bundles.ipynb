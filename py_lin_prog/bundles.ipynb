{
 "metadata": {
  "language_info": {
   "codemirror_mode": {
    "name": "ipython",
    "version": 3
   },
   "file_extension": ".py",
   "mimetype": "text/x-python",
   "name": "python",
   "nbconvert_exporter": "python",
   "pygments_lexer": "ipython3",
   "version": "3.8.5-final"
  },
  "orig_nbformat": 2,
  "kernelspec": {
   "name": "Python 3.8.5 64-bit",
   "display_name": "Python 3.8.5 64-bit",
   "metadata": {
    "interpreter": {
     "hash": "31f2aee4e71d21fbe5cf8b01ff0e069b9275f58929596ceb00d14d90e3e16cd6"
    }
   }
  }
 },
 "nbformat": 4,
 "nbformat_minor": 2,
 "cells": [
  {
   "source": [
    "# How to use bundle_solver "
   ],
   "cell_type": "markdown",
   "metadata": {}
  },
  {
   "source": [
    "0. Install all required modules\n",
    "\n",
    "```bash\n",
    "python3 -m pip install -r requirements.txt\n",
    "```"
   ],
   "cell_type": "markdown",
   "metadata": {}
  },
  {
   "source": [
    "1. Import object `Solver` from bundle_sover.py\n"
   ],
   "cell_type": "markdown",
   "metadata": {}
  },
  {
   "cell_type": "code",
   "execution_count": 1,
   "metadata": {},
   "outputs": [],
   "source": [
    "from bundle_solver import Solver "
   ]
  },
  {
   "source": [
    "2. Create instance of `Solver`"
   ],
   "cell_type": "markdown",
   "metadata": {}
  },
  {
   "cell_type": "code",
   "execution_count": 2,
   "metadata": {},
   "outputs": [],
   "source": [
    "my_solver = Solver()"
   ]
  },
  {
   "source": [
    "3. Create dictionary with items (keys - item's names) and their prices (as values) "
   ],
   "cell_type": "markdown",
   "metadata": {}
  },
  {
   "cell_type": "code",
   "execution_count": 3,
   "metadata": {},
   "outputs": [],
   "source": [
    "# Configuration of all items \n",
    "# key      [string]    :   item's names    \n",
    "# value    [float]     :   item's prices   \n",
    "my_items = {\n",
    "    'a': 10.0, \n",
    "    'b': 20.0, \n",
    "    'c': 5.0, \n",
    "    'd': 15.0, \n",
    "    'e': 5.0, \n",
    "    'f': 10.0, \n",
    "    'g': 15.0,\n",
    "    'h': 25.0,\n",
    "    'i': 15.0,\n",
    "    'j': 5.0\n",
    "}"
   ]
  },
  {
   "source": [
    "4. Set items dictionary inside `Solver` "
   ],
   "cell_type": "markdown",
   "metadata": {}
  },
  {
   "cell_type": "code",
   "execution_count": 4,
   "metadata": {},
   "outputs": [],
   "source": [
    "my_solver.set_items(my_items)"
   ]
  },
  {
   "source": [
    "5. Create dictionary with items in the basket (keys - item's names, values - item's number).  "
   ],
   "cell_type": "markdown",
   "metadata": {}
  },
  {
   "cell_type": "code",
   "execution_count": 5,
   "metadata": {},
   "outputs": [],
   "source": [
    "# Configuration of basket\n",
    "# key      [string]    :   item's name     \n",
    "# value    [int]       :   iten's number      \n",
    "my_basket = {\n",
    "    'a': 14, \n",
    "    'b': 3, \n",
    "    'c': 3, \n",
    "    'd': 7, \n",
    "    'e': 18, \n",
    "    'f': 20, \n",
    "    'g': 11,\n",
    "    'h': 2,\n",
    "    'i': 1,\n",
    "    'j': 18\n",
    "}"
   ]
  },
  {
   "source": [
    "6. Set basket dictionary inside `Solver`"
   ],
   "cell_type": "markdown",
   "metadata": {}
  },
  {
   "cell_type": "code",
   "execution_count": 6,
   "metadata": {},
   "outputs": [],
   "source": [
    "my_solver.set_basket(my_basket)"
   ]
  },
  {
   "source": [
    "Matching between item's key and basket's key is required! \n",
    "Here and there the same name of items are used! "
   ],
   "cell_type": "markdown",
   "metadata": {}
  },
  {
   "source": [
    "7. Create dictionary with configuration of bundles (keys - bundle's names, values - list with item's names)."
   ],
   "cell_type": "markdown",
   "metadata": {}
  },
  {
   "cell_type": "code",
   "execution_count": 7,
   "metadata": {},
   "outputs": [],
   "source": [
    "# Configurations of all bundles \n",
    "# key      [string]            :   bundle's name\n",
    "# value    [list of strings]   :   list of item's names \n",
    "my_bundles = {\n",
    "    'B1':[\"a\", \"b\", \"c\"],\n",
    "    'B2':[\"f\", \"h\", \"h\", 'f'],\n",
    "    'B3':[\"j\", \"j\", \"j\"],\n",
    "    'B4':[\"d\", \"e\", \"i\"],\n",
    "    'B5':[\"f\", \"f\", \"g\"],\n",
    "    'B6':[\"a\", \"e\", \"i\"],\n",
    "    'B7':[\"b\", \"c\", \"d\"],\n",
    "    'B8':[\"g\", \"i\"],\n",
    "}"
   ]
  },
  {
   "source": [
    "Bundle's values must be lists, even if (e.g.) `'B9': ['d'],`"
   ],
   "cell_type": "markdown",
   "metadata": {}
  },
  {
   "source": [
    "8. Set bundles dictionary inside `Solver` "
   ],
   "cell_type": "markdown",
   "metadata": {}
  },
  {
   "cell_type": "code",
   "execution_count": 8,
   "metadata": {},
   "outputs": [],
   "source": [
    "my_solver.set_bundles(my_bundles)"
   ]
  },
  {
   "source": [
    "9. Create dictionary with discounts (keys - bundle's names, values - discount value)"
   ],
   "cell_type": "markdown",
   "metadata": {}
  },
  {
   "cell_type": "code",
   "execution_count": 9,
   "metadata": {},
   "outputs": [],
   "source": [
    "# Correspondence between bundle name and discount value\n",
    "# 'B1' bundle - 10% off \n",
    "# 'B2' bundle - 20% off, etc.\n",
    "# key      [string]    : bundle's name\n",
    "# value    [float]     : discount's value\n",
    "my_discounts = {\n",
    "    'B1': 0.1,\n",
    "    'B2': 0.2,\n",
    "    'B3':0.25,\n",
    "    'B4':0.05,\n",
    "    'B5':0.15,\n",
    "    'B6': 0.35,\n",
    "    'B7': 0.1,\n",
    "    'B8':0.33,\n",
    "}"
   ]
  },
  {
   "source": [
    "10. Set dictionary of discounts inside `Solver` "
   ],
   "cell_type": "markdown",
   "metadata": {}
  },
  {
   "cell_type": "code",
   "execution_count": 10,
   "metadata": {},
   "outputs": [],
   "source": [
    "my_solver.set_discounts(my_discounts)"
   ]
  },
  {
   "source": [
    "Matching between bundle's keys and discount's keys is required! Here and there the same bundle's names are used."
   ],
   "cell_type": "markdown",
   "metadata": {}
  },
  {
   "source": [
    "11. To calculate dictionary with optimized bundle's number with respect to existing basket configuration, use the following method: "
   ],
   "cell_type": "markdown",
   "metadata": {}
  },
  {
   "cell_type": "code",
   "execution_count": 11,
   "metadata": {},
   "outputs": [],
   "source": [
    "my_solver.calculate_max_number_of_bundles()"
   ]
  },
  {
   "source": [
    "Default value for min number of bundles = 0. You can change it via argument min_bundles. But finding optimal solution is not guaranteed."
   ],
   "cell_type": "markdown",
   "metadata": {}
  },
  {
   "source": [
    "12. Get resulting dictionary of bundle's numbers, you can with use of the following method: "
   ],
   "cell_type": "markdown",
   "metadata": {}
  },
  {
   "cell_type": "code",
   "execution_count": 12,
   "metadata": {},
   "outputs": [
    {
     "output_type": "stream",
     "name": "stdout",
     "text": [
      "Resulting number of bundles: {'B1': 0, 'B2': 1, 'B3': 6, 'B4': 0, 'B5': 9, 'B6': 1, 'B7': 3, 'B8': 0}\n"
     ]
    }
   ],
   "source": [
    "print(f\"Resulting number of bundles: {my_solver.get_bundle_numbers()}\")"
   ]
  },
  {
   "source": [
    "13. To check out the total cost with the resulting vector of bundle's number, you can use:"
   ],
   "cell_type": "markdown",
   "metadata": {}
  },
  {
   "cell_type": "code",
   "execution_count": 13,
   "metadata": {},
   "outputs": [
    {
     "output_type": "stream",
     "name": "stdout",
     "text": [
      "Cost with bundles:\t823.75\n"
     ]
    }
   ],
   "source": [
    "print(f\"Cost with bundles:\\t{my_solver.get_total_cost()}\")"
   ]
  },
  {
   "source": [
    "14. To check out the cost of only bundled part, you can use:"
   ],
   "cell_type": "markdown",
   "metadata": {}
  },
  {
   "cell_type": "code",
   "execution_count": 14,
   "metadata": {},
   "outputs": [
    {
     "output_type": "stream",
     "name": "stdout",
     "text": [
      "The cost of only bundled cost:\t518.75\n"
     ]
    }
   ],
   "source": [
    "print(f\"The cost of only bundled cost:\\t{my_solver.get_bundled_cost()}\")"
   ]
  },
  {
   "source": [
    "15. To check out cost of no-bundled part, you can use:"
   ],
   "cell_type": "markdown",
   "metadata": {}
  },
  {
   "cell_type": "code",
   "execution_count": 15,
   "metadata": {},
   "outputs": [
    {
     "output_type": "stream",
     "name": "stdout",
     "text": [
      "The cost of no-bundled part:\t305.0\n"
     ]
    }
   ],
   "source": [
    "print(f\"The cost of no-bundled part:\\t{my_solver.get_no_bundled_cost()}\")"
   ]
  },
  {
   "source": [
    "16. If you want to get cost without bundles (aka raw cost of basket):"
   ],
   "cell_type": "markdown",
   "metadata": {}
  },
  {
   "cell_type": "code",
   "execution_count": 16,
   "metadata": {},
   "outputs": [
    {
     "output_type": "stream",
     "name": "stdout",
     "text": [
      "The cost of basket without any bundles:\t930.0\n"
     ]
    }
   ],
   "source": [
    "print(f\"The cost of basket without any bundles:\\t{my_solver.get_no_bundled_cost(no_bundles=True)}\")"
   ]
  }
 ]
}