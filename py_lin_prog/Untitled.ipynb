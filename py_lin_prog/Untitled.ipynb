{
 "cells": [
  {
   "cell_type": "code",
   "execution_count": 1,
   "metadata": {},
   "outputs": [],
   "source": [
    "import numpy as np"
   ]
  },
  {
   "cell_type": "code",
   "execution_count": 2,
   "metadata": {},
   "outputs": [],
   "source": [
    "import pandas as pd"
   ]
  },
  {
   "cell_type": "code",
   "execution_count": 3,
   "metadata": {},
   "outputs": [],
   "source": [
    "from collections import Counter"
   ]
  },
  {
   "cell_type": "code",
   "execution_count": 4,
   "metadata": {},
   "outputs": [],
   "source": [
    "number_of_samples = 100"
   ]
  },
  {
   "cell_type": "code",
   "execution_count": 5,
   "metadata": {},
   "outputs": [],
   "source": [
    "class_weights_not_normalized = np.array([10, 20, 30, 40, 50, 60, 50, 40, 30, 20])"
   ]
  },
  {
   "cell_type": "code",
   "execution_count": 6,
   "metadata": {},
   "outputs": [],
   "source": [
    "class_weights = class_weights_not_normalized/class_weights_not_normalized.sum()"
   ]
  },
  {
   "cell_type": "code",
   "execution_count": 7,
   "metadata": {},
   "outputs": [
    {
     "data": {
      "text/plain": [
       "array([0.02857143, 0.05714286, 0.08571429, 0.11428571, 0.14285714,\n",
       "       0.17142857, 0.14285714, 0.11428571, 0.08571429, 0.05714286])"
      ]
     },
     "execution_count": 7,
     "metadata": {},
     "output_type": "execute_result"
    }
   ],
   "source": [
    "class_weights"
   ]
  },
  {
   "cell_type": "code",
   "execution_count": 8,
   "metadata": {},
   "outputs": [],
   "source": [
    "class_prices = [10, 20, 10, 5, 10, 30, 2, 23, 14, 31]"
   ]
  },
  {
   "cell_type": "code",
   "execution_count": 9,
   "metadata": {},
   "outputs": [],
   "source": [
    "classes = (\"a\", \"b\", \"c\", \"d\", \"e\", \"f\", \"g\", \"h\", \"i\", \"j\")"
   ]
  },
  {
   "cell_type": "code",
   "execution_count": 10,
   "metadata": {},
   "outputs": [],
   "source": [
    "subset = np.random.choice(classes, size = number_of_samples, p = class_weights)"
   ]
  },
  {
   "cell_type": "code",
   "execution_count": 11,
   "metadata": {},
   "outputs": [],
   "source": [
    "bundles = {'B1':[\"a\", \"b\", \"c\"], 'B2':[\"f\", \"h\", \"h\"],'B3':[\"j\", \"j\", \"j\"],'B4':[\"d\", \"e\", \"i\"],'B5':[\"f\", \"f\", \"g\"],\n",
    "          'B6':[\"a\", \"e\", \"i\"], 'B7':[\"b\", \"c\", \"d\"], 'B8':[\"g\", \"i\", \"j\"]}"
   ]
  },
  {
   "cell_type": "code",
   "execution_count": 12,
   "metadata": {},
   "outputs": [
    {
     "data": {
      "text/plain": [
       "{'B1': ['a', 'b', 'c'],\n",
       " 'B2': ['f', 'h', 'h'],\n",
       " 'B3': ['j', 'j', 'j'],\n",
       " 'B4': ['d', 'e', 'i'],\n",
       " 'B5': ['f', 'f', 'g'],\n",
       " 'B6': ['a', 'e', 'i'],\n",
       " 'B7': ['b', 'c', 'd'],\n",
       " 'B8': ['g', 'i', 'j']}"
      ]
     },
     "execution_count": 12,
     "metadata": {},
     "output_type": "execute_result"
    }
   ],
   "source": [
    "bundles"
   ]
  },
  {
   "cell_type": "code",
   "execution_count": 13,
   "metadata": {},
   "outputs": [],
   "source": [
    "bundles_discounts = {'B1': 0.1, 'B2': 0.2,'B3':0.25,'B4':0.05,'B5':0.15, 'B6': 0.35, 'B7': 0.1, 'B8':0.33}"
   ]
  },
  {
   "cell_type": "code",
   "execution_count": 14,
   "metadata": {},
   "outputs": [
    {
     "data": {
      "text/plain": [
       "{'B1': 0.1,\n",
       " 'B2': 0.2,\n",
       " 'B3': 0.25,\n",
       " 'B4': 0.05,\n",
       " 'B5': 0.15,\n",
       " 'B6': 0.35,\n",
       " 'B7': 0.1,\n",
       " 'B8': 0.33}"
      ]
     },
     "execution_count": 14,
     "metadata": {},
     "output_type": "execute_result"
    }
   ],
   "source": [
    "bundles_discounts"
   ]
  },
  {
   "cell_type": "code",
   "execution_count": 15,
   "metadata": {},
   "outputs": [],
   "source": [
    "subset = np.array(subset)"
   ]
  },
  {
   "cell_type": "code",
   "execution_count": 16,
   "metadata": {
    "scrolled": true
   },
   "outputs": [],
   "source": [
    "class_value_counts = np.unique(subset, return_counts=True)[1]"
   ]
  },
  {
   "cell_type": "code",
   "execution_count": 17,
   "metadata": {},
   "outputs": [
    {
     "data": {
      "text/plain": [
       "('a', 'b', 'c', 'd', 'e', 'f', 'g', 'h', 'i', 'j')"
      ]
     },
     "execution_count": 17,
     "metadata": {},
     "output_type": "execute_result"
    }
   ],
   "source": [
    "classes"
   ]
  },
  {
   "cell_type": "code",
   "execution_count": 18,
   "metadata": {},
   "outputs": [
    {
     "data": {
      "text/plain": [
       "array([ 3,  5, 12,  9, 10, 17, 19, 11,  8,  6], dtype=int64)"
      ]
     },
     "execution_count": 18,
     "metadata": {},
     "output_type": "execute_result"
    }
   ],
   "source": [
    "class_value_counts"
   ]
  },
  {
   "cell_type": "code",
   "execution_count": 19,
   "metadata": {},
   "outputs": [],
   "source": [
    "def get_bundle_vector(bundle):\n",
    "    vector = []\n",
    "    for class_ in classes:\n",
    "        if class_ in bundle:\n",
    "            vector.append(Counter(bundle)[class_])\n",
    "        else:\n",
    "            vector.append(0)\n",
    "    return vector"
   ]
  },
  {
   "cell_type": "code",
   "execution_count": 20,
   "metadata": {},
   "outputs": [],
   "source": [
    "bundle_vectors = {k: get_bundle_vector(v) for k, v in bundles.items()}"
   ]
  },
  {
   "cell_type": "code",
   "execution_count": 21,
   "metadata": {},
   "outputs": [
    {
     "data": {
      "text/plain": [
       "{'B1': [1, 1, 1, 0, 0, 0, 0, 0, 0, 0],\n",
       " 'B2': [0, 0, 0, 0, 0, 1, 0, 2, 0, 0],\n",
       " 'B3': [0, 0, 0, 0, 0, 0, 0, 0, 0, 3],\n",
       " 'B4': [0, 0, 0, 1, 1, 0, 0, 0, 1, 0],\n",
       " 'B5': [0, 0, 0, 0, 0, 2, 1, 0, 0, 0],\n",
       " 'B6': [1, 0, 0, 0, 1, 0, 0, 0, 1, 0],\n",
       " 'B7': [0, 1, 1, 1, 0, 0, 0, 0, 0, 0],\n",
       " 'B8': [0, 0, 0, 0, 0, 0, 1, 0, 1, 1]}"
      ]
     },
     "execution_count": 21,
     "metadata": {},
     "output_type": "execute_result"
    }
   ],
   "source": [
    "bundle_vectors"
   ]
  },
  {
   "cell_type": "code",
   "execution_count": 22,
   "metadata": {},
   "outputs": [
    {
     "data": {
      "text/plain": [
       "{'B3': 23.25,\n",
       " 'B8': 15.510000000000002,\n",
       " 'B2': 15.200000000000001,\n",
       " 'B6': 11.899999999999999,\n",
       " 'B5': 9.299999999999999,\n",
       " 'B1': 4.0,\n",
       " 'B7': 3.5,\n",
       " 'B4': 1.4500000000000002}"
      ]
     },
     "execution_count": 22,
     "metadata": {},
     "output_type": "execute_result"
    }
   ],
   "source": [
    "saved_money = {}\n",
    "for i, v in bundle_vectors.items():\n",
    "    saved_money[i] = (bundle_vectors[i] * np.array(class_prices)).sum()*bundles_discounts[i]\n",
    "saved_money = {k: v for k, v in sorted(saved_money.items(), key=lambda item: item[1], reverse=True)}\n",
    "saved_money"
   ]
  },
  {
   "cell_type": "code",
   "execution_count": 23,
   "metadata": {},
   "outputs": [
    {
     "name": "stdout",
     "output_type": "stream",
     "text": [
      "[ 3  5 12  9 10 17 19 11  8  6]\n",
      "B3  2\n",
      "B8  0\n",
      "B2  5\n",
      "B6  3\n",
      "B5  6\n",
      "B1  0\n",
      "B7  5\n",
      "B4  4\n",
      "[ 0  0  7  0  3  0 13  1  1  0]\n"
     ]
    }
   ],
   "source": [
    "class_value_counts = np.unique(subset, return_counts=True)[1]\n",
    "print(class_value_counts)\n",
    "for item, discount in saved_money.items():\n",
    "    bundle_count = 0\n",
    "    while ((class_value_counts - bundle_vectors[item]) < 0).sum() == 0:\n",
    "        bundle_count +=1\n",
    "        class_value_counts -= bundle_vectors[item]\n",
    "    print(item + '  ' + str(bundle_count))\n",
    "print(class_value_counts)"
   ]
  },
  {
   "cell_type": "code",
   "execution_count": 24,
   "metadata": {},
   "outputs": [
    {
     "data": {
      "text/plain": [
       "('a', 'b', 'c', 'd', 'e', 'f', 'g', 'h', 'i', 'j')"
      ]
     },
     "execution_count": 24,
     "metadata": {},
     "output_type": "execute_result"
    }
   ],
   "source": [
    "classes"
   ]
  },
  {
   "cell_type": "code",
   "execution_count": 25,
   "metadata": {},
   "outputs": [
    {
     "data": {
      "text/plain": [
       "array([ 0,  0,  7,  0,  3,  0, 13,  1,  1,  0], dtype=int64)"
      ]
     },
     "execution_count": 25,
     "metadata": {},
     "output_type": "execute_result"
    }
   ],
   "source": [
    "class_value_counts"
   ]
  },
  {
   "cell_type": "code",
   "execution_count": 26,
   "metadata": {},
   "outputs": [
    {
     "data": {
      "text/plain": [
       "{'B1': ['a', 'b', 'c'],\n",
       " 'B2': ['f', 'h', 'h'],\n",
       " 'B3': ['j', 'j', 'j'],\n",
       " 'B4': ['d', 'e', 'i'],\n",
       " 'B5': ['f', 'f', 'g'],\n",
       " 'B6': ['a', 'e', 'i'],\n",
       " 'B7': ['b', 'c', 'd'],\n",
       " 'B8': ['g', 'i', 'j']}"
      ]
     },
     "execution_count": 26,
     "metadata": {},
     "output_type": "execute_result"
    }
   ],
   "source": [
    "bundles"
   ]
  },
  {
   "cell_type": "code",
   "execution_count": null,
   "metadata": {},
   "outputs": [],
   "source": []
  },
  {
   "cell_type": "code",
   "execution_count": 27,
   "metadata": {},
   "outputs": [
    {
     "data": {
      "text/plain": [
       "('a', 'b', 'c', 'd', 'e', 'f', 'g', 'h', 'i', 'j')"
      ]
     },
     "execution_count": 27,
     "metadata": {},
     "output_type": "execute_result"
    }
   ],
   "source": [
    "classes"
   ]
  },
  {
   "cell_type": "code",
   "execution_count": 28,
   "metadata": {},
   "outputs": [
    {
     "data": {
      "text/plain": [
       "array([ 3,  5, 12,  9, 10, 17, 19, 11,  8,  6], dtype=int64)"
      ]
     },
     "execution_count": 28,
     "metadata": {},
     "output_type": "execute_result"
    }
   ],
   "source": [
    "class_value_counts = np.unique(subset, return_counts=True)[1]\n",
    "class_value_counts"
   ]
  },
  {
   "cell_type": "code",
   "execution_count": 29,
   "metadata": {},
   "outputs": [
    {
     "data": {
      "text/plain": [
       "{'B1': [1, 1, 1, 0, 0, 0, 0, 0, 0, 0],\n",
       " 'B2': [0, 0, 0, 0, 0, 1, 0, 2, 0, 0],\n",
       " 'B3': [0, 0, 0, 0, 0, 0, 0, 0, 0, 3],\n",
       " 'B4': [0, 0, 0, 1, 1, 0, 0, 0, 1, 0],\n",
       " 'B5': [0, 0, 0, 0, 0, 2, 1, 0, 0, 0],\n",
       " 'B6': [1, 0, 0, 0, 1, 0, 0, 0, 1, 0],\n",
       " 'B7': [0, 1, 1, 1, 0, 0, 0, 0, 0, 0],\n",
       " 'B8': [0, 0, 0, 0, 0, 0, 1, 0, 1, 1]}"
      ]
     },
     "execution_count": 29,
     "metadata": {},
     "output_type": "execute_result"
    }
   ],
   "source": [
    "bundle_vectors"
   ]
  },
  {
   "cell_type": "code",
   "execution_count": 67,
   "metadata": {},
   "outputs": [
    {
     "data": {
      "text/plain": [
       "{'B1': 0.1,\n",
       " 'B2': 0.2,\n",
       " 'B3': 0.25,\n",
       " 'B4': 0.05,\n",
       " 'B5': 0.15,\n",
       " 'B6': 0.35,\n",
       " 'B7': 0.1,\n",
       " 'B8': 0.33}"
      ]
     },
     "execution_count": 67,
     "metadata": {},
     "output_type": "execute_result"
    }
   ],
   "source": [
    "bundles_discounts"
   ]
  },
  {
   "cell_type": "code",
   "execution_count": 46,
   "metadata": {},
   "outputs": [],
   "source": [
    "bun = np.fromiter(bundles_discounts.values(), dtype=float)"
   ]
  },
  {
   "cell_type": "code",
   "execution_count": 47,
   "metadata": {},
   "outputs": [
    {
     "data": {
      "text/plain": [
       "array([0.1 , 0.2 , 0.25, 0.05, 0.15, 0.35, 0.1 , 0.33])"
      ]
     },
     "execution_count": 47,
     "metadata": {},
     "output_type": "execute_result"
    }
   ],
   "source": [
    "bun"
   ]
  },
  {
   "cell_type": "code",
   "execution_count": 63,
   "metadata": {},
   "outputs": [],
   "source": [
    "class_prices = np.array(class_prices)"
   ]
  },
  {
   "cell_type": "code",
   "execution_count": 64,
   "metadata": {},
   "outputs": [
    {
     "data": {
      "text/plain": [
       "array([[10, 20, 10,  5, 10, 30,  2, 23, 14, 31]])"
      ]
     },
     "execution_count": 64,
     "metadata": {},
     "output_type": "execute_result"
    }
   ],
   "source": [
    "class_prices"
   ]
  },
  {
   "cell_type": "code",
   "execution_count": 55,
   "metadata": {},
   "outputs": [],
   "source": [
    "bun = bun.reshape((8,1))"
   ]
  },
  {
   "cell_type": "code",
   "execution_count": 56,
   "metadata": {},
   "outputs": [],
   "source": [
    "class_prices = class_prices.reshape((1,10))"
   ]
  },
  {
   "cell_type": "code",
   "execution_count": 81,
   "metadata": {},
   "outputs": [],
   "source": [
    "discounted_prices = ((1 - bun) * class_prices).transpose()"
   ]
  },
  {
   "cell_type": "code",
   "execution_count": 82,
   "metadata": {},
   "outputs": [
    {
     "data": {
      "text/plain": [
       "array([[ 9.  ,  8.  ,  7.5 ,  9.5 ,  8.5 ,  6.5 ,  9.  ,  6.7 ],\n",
       "       [18.  , 16.  , 15.  , 19.  , 17.  , 13.  , 18.  , 13.4 ],\n",
       "       [ 9.  ,  8.  ,  7.5 ,  9.5 ,  8.5 ,  6.5 ,  9.  ,  6.7 ],\n",
       "       [ 4.5 ,  4.  ,  3.75,  4.75,  4.25,  3.25,  4.5 ,  3.35],\n",
       "       [ 9.  ,  8.  ,  7.5 ,  9.5 ,  8.5 ,  6.5 ,  9.  ,  6.7 ],\n",
       "       [27.  , 24.  , 22.5 , 28.5 , 25.5 , 19.5 , 27.  , 20.1 ],\n",
       "       [ 1.8 ,  1.6 ,  1.5 ,  1.9 ,  1.7 ,  1.3 ,  1.8 ,  1.34],\n",
       "       [20.7 , 18.4 , 17.25, 21.85, 19.55, 14.95, 20.7 , 15.41],\n",
       "       [12.6 , 11.2 , 10.5 , 13.3 , 11.9 ,  9.1 , 12.6 ,  9.38],\n",
       "       [27.9 , 24.8 , 23.25, 29.45, 26.35, 20.15, 27.9 , 20.77]])"
      ]
     },
     "execution_count": 82,
     "metadata": {},
     "output_type": "execute_result"
    }
   ],
   "source": [
    "discounted_prices"
   ]
  },
  {
   "cell_type": "code",
   "execution_count": 83,
   "metadata": {},
   "outputs": [
    {
     "data": {
      "text/plain": [
       "array([[1, 0, 0, 0, 0, 1, 0, 0],\n",
       "       [1, 0, 0, 0, 0, 0, 1, 0],\n",
       "       [1, 0, 0, 0, 0, 0, 1, 0],\n",
       "       [0, 0, 0, 1, 0, 0, 1, 0],\n",
       "       [0, 0, 0, 1, 0, 1, 0, 0],\n",
       "       [0, 1, 0, 0, 2, 0, 0, 0],\n",
       "       [0, 0, 0, 0, 1, 0, 0, 1],\n",
       "       [0, 2, 0, 0, 0, 0, 0, 0],\n",
       "       [0, 0, 0, 1, 0, 1, 0, 1],\n",
       "       [0, 0, 3, 0, 0, 0, 0, 1]], dtype=int64)"
      ]
     },
     "execution_count": 83,
     "metadata": {},
     "output_type": "execute_result"
    }
   ],
   "source": [
    "bundle_vectors_np = pd.DataFrame.from_dict(bundle_vectors).values\n",
    "bundle_vectors_np"
   ]
  },
  {
   "cell_type": "code",
   "execution_count": 87,
   "metadata": {},
   "outputs": [
    {
     "data": {
      "text/plain": [
       "array([[1, 2, 3, 4, 5, 6, 7, 8]])"
      ]
     },
     "execution_count": 87,
     "metadata": {},
     "output_type": "execute_result"
    }
   ],
   "source": [
    "a = [1,2,3,4,5,6,7,8]\n",
    "a = np.array(a).reshape((1,8))\n",
    "a"
   ]
  },
  {
   "cell_type": "code",
   "execution_count": 90,
   "metadata": {},
   "outputs": [
    {
     "data": {
      "text/plain": [
       "array([[ 1,  0,  0,  0,  0,  6,  0,  0],\n",
       "       [ 1,  0,  0,  0,  0,  0,  7,  0],\n",
       "       [ 1,  0,  0,  0,  0,  0,  7,  0],\n",
       "       [ 0,  0,  0,  4,  0,  0,  7,  0],\n",
       "       [ 0,  0,  0,  4,  0,  6,  0,  0],\n",
       "       [ 0,  2,  0,  0, 10,  0,  0,  0],\n",
       "       [ 0,  0,  0,  0,  5,  0,  0,  8],\n",
       "       [ 0,  4,  0,  0,  0,  0,  0,  0],\n",
       "       [ 0,  0,  0,  4,  0,  6,  0,  8],\n",
       "       [ 0,  0,  9,  0,  0,  0,  0,  8]], dtype=int64)"
      ]
     },
     "execution_count": 90,
     "metadata": {},
     "output_type": "execute_result"
    }
   ],
   "source": [
    "sum_prod = a * bundle_vectors_np\n",
    "sum_prod"
   ]
  },
  {
   "cell_type": "code",
   "execution_count": 92,
   "metadata": {},
   "outputs": [
    {
     "name": "stdout",
     "output_type": "stream",
     "text": [
      "[[  9.     0.     0.     0.     0.    39.     0.     0.  ]\n",
      " [ 18.     0.     0.     0.     0.     0.   126.     0.  ]\n",
      " [  9.     0.     0.     0.     0.     0.    63.     0.  ]\n",
      " [  0.     0.     0.    19.     0.     0.    31.5    0.  ]\n",
      " [  0.     0.     0.    38.     0.    39.     0.     0.  ]\n",
      " [  0.    48.     0.     0.   255.     0.     0.     0.  ]\n",
      " [  0.     0.     0.     0.     8.5    0.     0.    10.72]\n",
      " [  0.    73.6    0.     0.     0.     0.     0.     0.  ]\n",
      " [  0.     0.     0.    53.2    0.    54.6    0.    75.04]\n",
      " [  0.     0.   209.25   0.     0.     0.     0.   166.16]]\n"
     ]
    },
    {
     "data": {
      "text/plain": [
       "1345.57"
      ]
     },
     "execution_count": 92,
     "metadata": {},
     "output_type": "execute_result"
    }
   ],
   "source": [
    "mult = discounted_prices * sum_prod \n",
    "print(mult)\n",
    "mult.sum()"
   ]
  },
  {
   "cell_type": "raw",
   "metadata": {},
   "source": [
    "Что из себя представляет раскладка по бандлам\n",
    "k1 * B1 + k2 * B2 + k3 * B3 +... + остаток = class_value_counts\n",
    "\n",
    "По идее можно представить это как задачу min(остаток) = min(class_value_counts - (ki * Bi))\n",
    "\n",
    "Похоже на задачу регрессии\n",
    "но тут 3 проблемы, во-первых остаток не может быть отрицательным, во-вторых у нас каждая фича по сути вектор и в-третьих k может быть только целочисленным\n",
    "\n",
    "Ну и наконец, я не уверен до конца, что оно в прямом виде будет давать макс скидку условно оно может быть\n",
    "\n",
    "абс и деф по 5$, а абд и сеф по 6$...\n",
    "то есть оставляя минимум по количеству мы не гарантируем глобальный минимум по цене"
   ]
  },
  {
   "cell_type": "code",
   "execution_count": null,
   "metadata": {},
   "outputs": [],
   "source": []
  }
 ],
 "metadata": {
  "kernelspec": {
   "display_name": "Python 3",
   "language": "python",
   "name": "python3"
  },
  "language_info": {
   "codemirror_mode": {
    "name": "ipython",
    "version": 3
   },
   "file_extension": ".py",
   "mimetype": "text/x-python",
   "name": "python",
   "nbconvert_exporter": "python",
   "pygments_lexer": "ipython3",
   "version": "3.7.3"
  }
 },
 "nbformat": 4,
 "nbformat_minor": 2
}
