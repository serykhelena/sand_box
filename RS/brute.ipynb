{
 "metadata": {
  "language_info": {
   "codemirror_mode": {
    "name": "ipython",
    "version": 3
   },
   "file_extension": ".py",
   "mimetype": "text/x-python",
   "name": "python",
   "nbconvert_exporter": "python",
   "pygments_lexer": "ipython3",
   "version": "3.8.5-final"
  },
  "orig_nbformat": 2,
  "kernelspec": {
   "name": "venv",
   "display_name": "venv"
  }
 },
 "nbformat": 4,
 "nbformat_minor": 2,
 "cells": [
  {
   "cell_type": "code",
   "execution_count": 98,
   "metadata": {},
   "outputs": [],
   "source": [
    "import numpy as np \n",
    "import pandas as pd \n",
    "import random"
   ]
  },
  {
   "cell_type": "code",
   "execution_count": 124,
   "metadata": {},
   "outputs": [],
   "source": [
    "class_prices = np.array([10, 20, 10, 5, 10, 30, 2, 23, 14, 31], dtype=np.int16).reshape(1, 10)\n",
    "classes = np.array([\"a\", \"b\", \"c\", \"d\", \"e\", \"f\", \"g\", \"h\", \"i\", \"j\"])\n",
    "bundles = {\n",
    "    'B1':[\"a\", \"b\", \"c\"],\n",
    "    'B2':[\"f\", \"h\", \"h\"],\n",
    "    'B3':[\"j\", \"j\", \"j\"],\n",
    "    'B4':[\"d\", \"e\", \"i\"],\n",
    "    'B5':[\"f\", \"f\", \"g\"],\n",
    "    'B6':[\"a\", \"e\", \"i\"],\n",
    "    'B7':[\"b\", \"c\", \"d\"],\n",
    "    'B8':[\"g\", \"i\", \"j\"]\n",
    "}\n",
    "bundles_discounts = {\n",
    "    'B1': 0.1,\n",
    "    'B2': 0.2,\n",
    "    'B3':0.25,\n",
    "    'B4':0.05,\n",
    "    'B5':0.15,\n",
    "    'B6': 0.35,\n",
    "    'B7': 0.1,\n",
    "    'B8':0.33\n",
    "}"
   ]
  },
  {
   "cell_type": "code",
   "execution_count": 132,
   "metadata": {},
   "outputs": [
    {
     "output_type": "execute_result",
     "data": {
      "text/plain": [
       "array([[0.9 ],\n",
       "       [0.8 ],\n",
       "       [0.75],\n",
       "       [0.95],\n",
       "       [0.85],\n",
       "       [0.65],\n",
       "       [0.9 ],\n",
       "       [0.67]])"
      ]
     },
     "metadata": {},
     "execution_count": 132
    }
   ],
   "source": [
    "bundle_discounts_arr = (1 - np.fromiter(bundles_discounts.values(), dtype=float)).reshape(8, 1)\n",
    "bundle_discounts_arr"
   ]
  },
  {
   "cell_type": "code",
   "execution_count": 143,
   "metadata": {},
   "outputs": [
    {
     "output_type": "execute_result",
     "data": {
      "text/plain": [
       "array([3, 0, 6, 4, 1, 2, 7, 5])"
      ]
     },
     "metadata": {},
     "execution_count": 143
    }
   ],
   "source": [
    "# sorted bundle discounts (descending)\n",
    "bundles_sorted_indices = np.argsort(np.fromiter(bundles_discounts.values(), dtype=float))\n",
    "bundles_sorted_indices"
   ]
  },
  {
   "cell_type": "code",
   "execution_count": 125,
   "metadata": {},
   "outputs": [
    {
     "output_type": "execute_result",
     "data": {
      "text/plain": [
       "array([17, 12, 16, 12, 13, 11,  3,  9, 16, 10])"
      ]
     },
     "metadata": {},
     "execution_count": 125
    }
   ],
   "source": [
    "basket_product_number = np.random.random_integers(1, 20, size=(10, ))\n",
    "basket_product_number"
   ]
  },
  {
   "cell_type": "code",
   "execution_count": 67,
   "metadata": {},
   "outputs": [],
   "source": [
    "from collections import Counter\n",
    "\n",
    "def get_bundle_vector(bundle):\n",
    "    vector = []\n",
    "    for class_ in classes:\n",
    "        if class_ in bundle:\n",
    "            vector.append(Counter(bundle)[class_])\n",
    "        else:\n",
    "            vector.append(0)\n",
    "    return vector"
   ]
  },
  {
   "cell_type": "code",
   "execution_count": 137,
   "metadata": {},
   "outputs": [
    {
     "output_type": "execute_result",
     "data": {
      "text/plain": [
       "{'B1': [1, 1, 1, 0, 0, 0, 0, 0, 0, 0],\n",
       " 'B2': [0, 0, 0, 0, 0, 1, 0, 2, 0, 0],\n",
       " 'B3': [0, 0, 0, 0, 0, 0, 0, 0, 0, 3],\n",
       " 'B4': [0, 0, 0, 1, 1, 0, 0, 0, 1, 0],\n",
       " 'B5': [0, 0, 0, 0, 0, 2, 1, 0, 0, 0],\n",
       " 'B6': [1, 0, 0, 0, 1, 0, 0, 0, 1, 0],\n",
       " 'B7': [0, 1, 1, 1, 0, 0, 0, 0, 0, 0],\n",
       " 'B8': [0, 0, 0, 0, 0, 0, 1, 0, 1, 1]}"
      ]
     },
     "metadata": {},
     "execution_count": 137
    }
   ],
   "source": [
    "bundle_dict = {k: get_bundle_vector(v) for k, v in bundles.items()}\n",
    "bundle_dict"
   ]
  },
  {
   "cell_type": "code",
   "execution_count": 83,
   "metadata": {},
   "outputs": [
    {
     "output_type": "execute_result",
     "data": {
      "text/plain": [
       "array([[1, 1, 1, 0, 0, 0, 0, 0, 0, 0],\n",
       "       [0, 0, 0, 0, 0, 1, 0, 2, 0, 0],\n",
       "       [0, 0, 0, 0, 0, 0, 0, 0, 0, 3],\n",
       "       [0, 0, 0, 1, 1, 0, 0, 0, 1, 0],\n",
       "       [0, 0, 0, 0, 0, 2, 1, 0, 0, 0],\n",
       "       [1, 0, 0, 0, 1, 0, 0, 0, 1, 0],\n",
       "       [0, 1, 1, 1, 0, 0, 0, 0, 0, 0],\n",
       "       [0, 0, 0, 0, 0, 0, 1, 0, 1, 1]])"
      ]
     },
     "metadata": {},
     "execution_count": 83
    }
   ],
   "source": [
    "bundle_matrix = pd.DataFrame.from_dict(bundle_dict, orient='index').values\n",
    "bundle_matrix"
   ]
  },
  {
   "cell_type": "code",
   "execution_count": 144,
   "metadata": {},
   "outputs": [
    {
     "output_type": "execute_result",
     "data": {
      "text/plain": [
       "array([[0, 0, 0, 1, 1, 0, 0, 0, 1, 0],\n",
       "       [1, 1, 1, 0, 0, 0, 0, 0, 0, 0],\n",
       "       [0, 1, 1, 1, 0, 0, 0, 0, 0, 0],\n",
       "       [0, 0, 0, 0, 0, 2, 1, 0, 0, 0],\n",
       "       [0, 0, 0, 0, 0, 1, 0, 2, 0, 0],\n",
       "       [0, 0, 0, 0, 0, 0, 0, 0, 0, 3],\n",
       "       [0, 0, 0, 0, 0, 0, 1, 0, 1, 1],\n",
       "       [1, 0, 0, 0, 1, 0, 0, 0, 1, 0]])"
      ]
     },
     "metadata": {},
     "execution_count": 144
    }
   ],
   "source": [
    "# if discount if bigger bungle goes first (descending)\n",
    "bundle_sorted_matrix = bundle_matrix[bundles_sorted_indices][:]\n",
    "bundle_sorted_matrix"
   ]
  },
  {
   "cell_type": "code",
   "execution_count": 145,
   "metadata": {},
   "outputs": [
    {
     "output_type": "execute_result",
     "data": {
      "text/plain": [
       "array([[0.9 ],\n",
       "       [0.8 ],\n",
       "       [0.75],\n",
       "       [0.95],\n",
       "       [0.85],\n",
       "       [0.65],\n",
       "       [0.9 ],\n",
       "       [0.67]])"
      ]
     },
     "metadata": {},
     "execution_count": 145
    }
   ],
   "source": [
    "bundle_discounts_arr = (1 - np.fromiter(bundles_discounts.values(), dtype=float)).reshape(8, 1)\n",
    "bundle_discounts_arr"
   ]
  },
  {
   "cell_type": "code",
   "execution_count": 108,
   "metadata": {},
   "outputs": [
    {
     "output_type": "execute_result",
     "data": {
      "text/plain": [
       "array([[ 9.  , 18.  ,  9.  ,  4.5 ,  9.  , 27.  ,  1.8 , 20.7 , 12.6 ,\n",
       "        27.9 ],\n",
       "       [ 8.  , 16.  ,  8.  ,  4.  ,  8.  , 24.  ,  1.6 , 18.4 , 11.2 ,\n",
       "        24.8 ],\n",
       "       [ 7.5 , 15.  ,  7.5 ,  3.75,  7.5 , 22.5 ,  1.5 , 17.25, 10.5 ,\n",
       "        23.25],\n",
       "       [ 9.5 , 19.  ,  9.5 ,  4.75,  9.5 , 28.5 ,  1.9 , 21.85, 13.3 ,\n",
       "        29.45],\n",
       "       [ 8.5 , 17.  ,  8.5 ,  4.25,  8.5 , 25.5 ,  1.7 , 19.55, 11.9 ,\n",
       "        26.35],\n",
       "       [ 6.5 , 13.  ,  6.5 ,  3.25,  6.5 , 19.5 ,  1.3 , 14.95,  9.1 ,\n",
       "        20.15],\n",
       "       [ 9.  , 18.  ,  9.  ,  4.5 ,  9.  , 27.  ,  1.8 , 20.7 , 12.6 ,\n",
       "        27.9 ],\n",
       "       [ 6.7 , 13.4 ,  6.7 ,  3.35,  6.7 , 20.1 ,  1.34, 15.41,  9.38,\n",
       "        20.77]])"
      ]
     },
     "metadata": {},
     "execution_count": 108
    }
   ],
   "source": [
    "# WHY WE NEED THIS? \n",
    "# prices for ALL classes with discounts  \n",
    "# one row = one discount value \n",
    "# one column = one class\n",
    "discounted_prices = bundle_discounts_arr * class_prices\n",
    "discounted_prices"
   ]
  },
  {
   "cell_type": "code",
   "execution_count": 147,
   "metadata": {},
   "outputs": [
    {
     "output_type": "stream",
     "name": "stdout",
     "text": [
      "Bungle is not usable\nBungle is not usable\nBungle is not usable\nBungle is not usable\nBungle is not usable\nBungle is not usable\nBungle is not usable\nBungle is not usable\n1467.9\n"
     ]
    }
   ],
   "source": [
    "import copy \n",
    "\n",
    "basket_copy = copy.deepcopy(basket_product_number)\n",
    "\n",
    "total_cost = 0 \n",
    "next_flag = False \n",
    "for indx, bundle in enumerate(bundle_sorted_matrix):\n",
    "    while not next_flag:\n",
    "        for b in range(len(bundle)):\n",
    "            # print(indx, bundle[b], basket_copy[b])\n",
    "            if bundle[b] > basket_copy[b]:\n",
    "                print('Bundle is not usable')\n",
    "                next_flag = True \n",
    "                break \n",
    "        if not next_flag:\n",
    "            total_cost += sum(bundle * discounted_prices[0].T)\n",
    "            basket_copy -= bundle\n",
    "            # print(f\"N: {indx} | {total_cost}\")\n",
    "    next_flag = False \n",
    "\n",
    "print(total_cost)\n",
    "\n",
    "            "
   ]
  },
  {
   "cell_type": "code",
   "execution_count": null,
   "metadata": {},
   "outputs": [],
   "source": []
  },
  {
   "cell_type": "code",
   "execution_count": null,
   "metadata": {},
   "outputs": [],
   "source": []
  },
  {
   "cell_type": "code",
   "execution_count": null,
   "metadata": {},
   "outputs": [],
   "source": []
  },
  {
   "cell_type": "code",
   "execution_count": null,
   "metadata": {},
   "outputs": [],
   "source": []
  }
 ]
}