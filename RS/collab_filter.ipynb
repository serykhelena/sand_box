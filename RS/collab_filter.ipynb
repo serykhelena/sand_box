{
 "metadata": {
  "language_info": {
   "codemirror_mode": {
    "name": "ipython",
    "version": 3
   },
   "file_extension": ".py",
   "mimetype": "text/x-python",
   "name": "python",
   "nbconvert_exporter": "python",
   "pygments_lexer": "ipython3",
   "version": "3.8.5-final"
  },
  "orig_nbformat": 2,
  "kernelspec": {
   "name": "venv",
   "display_name": "venv"
  }
 },
 "nbformat": 4,
 "nbformat_minor": 2,
 "cells": [
  {
   "cell_type": "code",
   "execution_count": 1,
   "metadata": {},
   "outputs": [],
   "source": [
    "import numpy as np"
   ]
  },
  {
   "cell_type": "code",
   "execution_count": 15,
   "metadata": {},
   "outputs": [],
   "source": [
    "from scipy import spatial\n",
    "\n",
    "a = np.array([1, 2])\n",
    "b = np.array([2, 4])\n",
    "c = np.array([2.5, 4])\n",
    "d = np.array([4.5, 5])"
   ]
  },
  {
   "cell_type": "code",
   "execution_count": 16,
   "metadata": {},
   "outputs": [
    {
     "output_type": "stream",
     "name": "stdout",
     "text": [
      "Euclidean C-A:\t2.5\nEuclidean C-B:\t0.5\nEuclidean C-D:\t2.23606797749979\n"
     ]
    }
   ],
   "source": [
    "# Find similar users/items\n",
    "print(f\"Euclidean C-A:\\t{spatial.distance.euclidean(c, a)}\")\n",
    "print(f\"Euclidean C-B:\\t{spatial.distance.euclidean(c, b)}\")\n",
    "print(f\"Euclidean C-D:\\t{spatial.distance.euclidean(c, d)}\")"
   ]
  },
  {
   "cell_type": "code",
   "execution_count": 17,
   "metadata": {},
   "outputs": [
    {
     "output_type": "stream",
     "name": "stdout",
     "text": [
      "Cosine Distance C-A:\t0.004504527406047898\nCosine Distance C-B:\t0.004504527406047898\nCosine Distance C-D:\t0.015137225946083022\nCosine Distance A-B:\t0.0\n"
     ]
    }
   ],
   "source": [
    "# Find similar users/items\n",
    "# return higher value for higher angle \n",
    "print(f\"Cosine Distance C-A:\\t{spatial.distance.cosine(c, a)}\")\n",
    "print(f\"Cosine Distance C-B:\\t{spatial.distance.cosine(c, b)}\")\n",
    "print(f\"Cosine Distance C-D:\\t{spatial.distance.cosine(c, d)}\")\n",
    "print(f\"Cosine Distance A-B:\\t{spatial.distance.cosine(a, b)}\")"
   ]
  },
  {
   "cell_type": "code",
   "execution_count": 18,
   "metadata": {},
   "outputs": [
    {
     "output_type": "stream",
     "name": "stdout",
     "text": [
      "Cosine Similarity C-A:\t0.9954954725939521\nCosine Similarity C-B:\t0.9954954725939521\nCosine Similarity C-D:\t0.984862774053917\nCosine Similarity A-B:\t1.0\n"
     ]
    }
   ],
   "source": [
    "# Find similar users/items\n",
    "print(f\"Cosine Similarity C-A:\\t{1 - spatial.distance.cosine(c, a)}\")\n",
    "print(f\"Cosine Similarity C-B:\\t{1 - spatial.distance.cosine(c, b)}\")\n",
    "print(f\"Cosine Similarity C-D:\\t{1 - spatial.distance.cosine(c, d)}\")\n",
    "print(f\"Cosine Similarity A-B:\\t{1 - spatial.distance.cosine(a, b)}\")"
   ]
  },
  {
   "cell_type": "code",
   "execution_count": 19,
   "metadata": {},
   "outputs": [],
   "source": [
    "a_norma = a - a.mean()\n",
    "b_norma = b - b.mean()\n",
    "c_norma = c - c.mean()\n",
    "d_norma = d - d.mean()"
   ]
  },
  {
   "cell_type": "code",
   "execution_count": 20,
   "metadata": {},
   "outputs": [
    {
     "output_type": "stream",
     "name": "stdout",
     "text": [
      "Centered Cosine C-A:\t0.0\nCentered Cosine C-B:\t0.0\nCentered Cosine C-D:\t0.0\nCentered Cosine A-B:\t0.0\n"
     ]
    }
   ],
   "source": [
    "# to fill empty cells \n",
    "print(f\"Centered Cosine C-A:\\t{spatial.distance.cosine(c_norma, a_norma)}\")\n",
    "print(f\"Centered Cosine C-B:\\t{spatial.distance.cosine(c_norma, b_norma)}\")\n",
    "print(f\"Centered Cosine C-D:\\t{spatial.distance.cosine(c_norma, d_norma)}\")\n",
    "print(f\"Centered Cosine A-B:\\t{spatial.distance.cosine(a_norma, b_norma)}\")"
   ]
  },
  {
   "cell_type": "code",
   "execution_count": 21,
   "metadata": {},
   "outputs": [
    {
     "output_type": "stream",
     "name": "stdout",
     "text": [
      "Dataset ml-100k could not be found. Do you want to download it? [Y/n] Trying to download dataset from http://files.grouplens.org/datasets/movielens/ml-100k.zip...\n",
      "Done! Dataset ml-100k has been saved to /home/lena/.surprise_data/ml-100k\n"
     ]
    }
   ],
   "source": [
    "# Different methods to load data \n",
    "\n",
    "import pandas as pd\n",
    "from surprise import Dataset\n",
    "from surprise import Reader\n",
    "\n",
    "# This is the same data that was plotted for similarity earlier\n",
    "# with one new user \"E\" who has rated only movie 1\n",
    "ratings_dict = {\n",
    "    \"item\": [1, 2, 1, 2, 1, 2, 1, 2, 1],\n",
    "    \"user\": ['A', 'A', 'B', 'B', 'C', 'C', 'D', 'D', 'E'],\n",
    "    \"rating\": [1, 2, 2, 4, 2.5, 4, 4.5, 5, 3],\n",
    "}\n",
    "\n",
    "df = pd.DataFrame(ratings_dict)\n",
    "reader = Reader(rating_scale=(1, 5))\n",
    "\n",
    "# Loads Pandas dataframe\n",
    "data = Dataset.load_from_df(df[[\"user\", \"item\", \"rating\"]], reader)\n",
    "# Loads the builtin Movielens-100k data\n",
    "movielens = Dataset.load_builtin('ml-100k')"
   ]
  },
  {
   "cell_type": "code",
   "execution_count": null,
   "metadata": {},
   "outputs": [],
   "source": []
  }
 ]
}