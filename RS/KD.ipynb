{
 "metadata": {
  "language_info": {
   "codemirror_mode": {
    "name": "ipython",
    "version": 3
   },
   "file_extension": ".py",
   "mimetype": "text/x-python",
   "name": "python",
   "nbconvert_exporter": "python",
   "pygments_lexer": "ipython3",
   "version": "3.8.5-final"
  },
  "orig_nbformat": 2,
  "kernelspec": {
   "name": "Python 3.8.5 64-bit",
   "display_name": "Python 3.8.5 64-bit",
   "metadata": {
    "interpreter": {
     "hash": "31f2aee4e71d21fbe5cf8b01ff0e069b9275f58929596ceb00d14d90e3e16cd6"
    }
   }
  }
 },
 "nbformat": 4,
 "nbformat_minor": 2,
 "cells": [
  {
   "source": [
    "# KD-Tree"
   ],
   "cell_type": "markdown",
   "metadata": {}
  },
  {
   "source": [
    "* each level of the tree organizes the data along different dimension (cycling through each dimention repeatedly). \n"
   ],
   "cell_type": "markdown",
   "metadata": {}
  },
  {
   "cell_type": "code",
   "execution_count": 8,
   "metadata": {},
   "outputs": [],
   "source": [
    "import numpy as np \n",
    "import pandas as pd \n",
    "import random "
   ]
  },
  {
   "cell_type": "code",
   "execution_count": 9,
   "metadata": {},
   "outputs": [],
   "source": [
    "number_of_users = 10 \n",
    "number_of_options = 8"
   ]
  },
  {
   "cell_type": "code",
   "execution_count": 10,
   "metadata": {},
   "outputs": [
    {
     "output_type": "execute_result",
     "data": {
      "text/plain": [
       "(array([[1, 1, 0, 1, 0, 1, 1, 0],\n",
       "        [1, 1, 0, 1, 1, 0, 0, 1],\n",
       "        [0, 0, 0, 0, 0, 1, 0, 0],\n",
       "        [1, 1, 0, 0, 1, 0, 0, 1],\n",
       "        [0, 0, 0, 1, 1, 0, 1, 1],\n",
       "        [1, 1, 1, 0, 1, 0, 0, 0],\n",
       "        [0, 1, 0, 1, 1, 1, 0, 1],\n",
       "        [0, 1, 1, 0, 1, 0, 0, 1],\n",
       "        [0, 0, 0, 1, 1, 0, 0, 0],\n",
       "        [1, 0, 1, 1, 0, 1, 1, 0]]),\n",
       " (10, 8))"
      ]
     },
     "metadata": {},
     "execution_count": 10
    }
   ],
   "source": [
    "np.random.seed(10)\n",
    "\n",
    "data = np.random.randint(0, 2, size=(number_of_users, number_of_options))\n",
    "data, data.shape"
   ]
  },
  {
   "cell_type": "code",
   "execution_count": 11,
   "metadata": {},
   "outputs": [
    {
     "output_type": "execute_result",
     "data": {
      "text/plain": [
       "   f0  f1  f2  f3  f4  f5  f6  f7\n",
       "0   1   1   0   1   0   1   1   0\n",
       "1   1   1   0   1   1   0   0   1\n",
       "2   0   0   0   0   0   1   0   0\n",
       "3   1   1   0   0   1   0   0   1\n",
       "4   0   0   0   1   1   0   1   1\n",
       "5   1   1   1   0   1   0   0   0\n",
       "6   0   1   0   1   1   1   0   1\n",
       "7   0   1   1   0   1   0   0   1\n",
       "8   0   0   0   1   1   0   0   0\n",
       "9   1   0   1   1   0   1   1   0"
      ],
      "text/html": "<div>\n<style scoped>\n    .dataframe tbody tr th:only-of-type {\n        vertical-align: middle;\n    }\n\n    .dataframe tbody tr th {\n        vertical-align: top;\n    }\n\n    .dataframe thead th {\n        text-align: right;\n    }\n</style>\n<table border=\"1\" class=\"dataframe\">\n  <thead>\n    <tr style=\"text-align: right;\">\n      <th></th>\n      <th>f0</th>\n      <th>f1</th>\n      <th>f2</th>\n      <th>f3</th>\n      <th>f4</th>\n      <th>f5</th>\n      <th>f6</th>\n      <th>f7</th>\n    </tr>\n  </thead>\n  <tbody>\n    <tr>\n      <th>0</th>\n      <td>1</td>\n      <td>1</td>\n      <td>0</td>\n      <td>1</td>\n      <td>0</td>\n      <td>1</td>\n      <td>1</td>\n      <td>0</td>\n    </tr>\n    <tr>\n      <th>1</th>\n      <td>1</td>\n      <td>1</td>\n      <td>0</td>\n      <td>1</td>\n      <td>1</td>\n      <td>0</td>\n      <td>0</td>\n      <td>1</td>\n    </tr>\n    <tr>\n      <th>2</th>\n      <td>0</td>\n      <td>0</td>\n      <td>0</td>\n      <td>0</td>\n      <td>0</td>\n      <td>1</td>\n      <td>0</td>\n      <td>0</td>\n    </tr>\n    <tr>\n      <th>3</th>\n      <td>1</td>\n      <td>1</td>\n      <td>0</td>\n      <td>0</td>\n      <td>1</td>\n      <td>0</td>\n      <td>0</td>\n      <td>1</td>\n    </tr>\n    <tr>\n      <th>4</th>\n      <td>0</td>\n      <td>0</td>\n      <td>0</td>\n      <td>1</td>\n      <td>1</td>\n      <td>0</td>\n      <td>1</td>\n      <td>1</td>\n    </tr>\n    <tr>\n      <th>5</th>\n      <td>1</td>\n      <td>1</td>\n      <td>1</td>\n      <td>0</td>\n      <td>1</td>\n      <td>0</td>\n      <td>0</td>\n      <td>0</td>\n    </tr>\n    <tr>\n      <th>6</th>\n      <td>0</td>\n      <td>1</td>\n      <td>0</td>\n      <td>1</td>\n      <td>1</td>\n      <td>1</td>\n      <td>0</td>\n      <td>1</td>\n    </tr>\n    <tr>\n      <th>7</th>\n      <td>0</td>\n      <td>1</td>\n      <td>1</td>\n      <td>0</td>\n      <td>1</td>\n      <td>0</td>\n      <td>0</td>\n      <td>1</td>\n    </tr>\n    <tr>\n      <th>8</th>\n      <td>0</td>\n      <td>0</td>\n      <td>0</td>\n      <td>1</td>\n      <td>1</td>\n      <td>0</td>\n      <td>0</td>\n      <td>0</td>\n    </tr>\n    <tr>\n      <th>9</th>\n      <td>1</td>\n      <td>0</td>\n      <td>1</td>\n      <td>1</td>\n      <td>0</td>\n      <td>1</td>\n      <td>1</td>\n      <td>0</td>\n    </tr>\n  </tbody>\n</table>\n</div>"
     },
     "metadata": {},
     "execution_count": 11
    }
   ],
   "source": [
    "pd_data = pd.DataFrame(\n",
    "    data=data, \n",
    "    index=[i for i in range(number_of_users)],\n",
    "    columns=['f'+str(j) for j in range(number_of_options)]\n",
    ")\n",
    "pd_data"
   ]
  },
  {
   "cell_type": "code",
   "execution_count": 12,
   "metadata": {},
   "outputs": [
    {
     "output_type": "error",
     "ename": "ModuleNotFoundError",
     "evalue": "No module named 'sklearn'",
     "traceback": [
      "\u001b[0;31m---------------------------------------------------------------------------\u001b[0m",
      "\u001b[0;31mModuleNotFoundError\u001b[0m                       Traceback (most recent call last)",
      "\u001b[0;32m<ipython-input-12-c347a653ab7e>\u001b[0m in \u001b[0;36m<module>\u001b[0;34m\u001b[0m\n\u001b[0;32m----> 1\u001b[0;31m \u001b[0;32mfrom\u001b[0m \u001b[0msklearn\u001b[0m\u001b[0;34m.\u001b[0m\u001b[0mneighbors\u001b[0m \u001b[0;32mimport\u001b[0m \u001b[0mKDTree\u001b[0m\u001b[0;34m\u001b[0m\u001b[0;34m\u001b[0m\u001b[0m\n\u001b[0m",
      "\u001b[0;31mModuleNotFoundError\u001b[0m: No module named 'sklearn'"
     ]
    }
   ],
   "source": [
    "from sklearn.neighbors import KDTree"
   ]
  },
  {
   "cell_type": "code",
   "execution_count": 58,
   "metadata": {},
   "outputs": [],
   "source": [
    "# leaf_size \n",
    "# Number of points at which to switch to brute-force.\n",
    "# Changing leaf_size will not affect the results of a query, \n",
    "# but can significantly impact the speed of a query\n",
    "# and the memory required to store the constructed tree.\n",
    "kd_tree = KDTree(data, leaf_size=number_of_options)"
   ]
  },
  {
   "cell_type": "code",
   "execution_count": 1,
   "metadata": {},
   "outputs": [
    {
     "output_type": "error",
     "ename": "NameError",
     "evalue": "name 'np' is not defined",
     "traceback": [
      "\u001b[0;31m---------------------------------------------------------------------------\u001b[0m",
      "\u001b[0;31mNameError\u001b[0m                                 Traceback (most recent call last)",
      "\u001b[0;32m<ipython-input-1-e53323a0ca0c>\u001b[0m in \u001b[0;36m<module>\u001b[0;34m\u001b[0m\n\u001b[0;32m----> 1\u001b[0;31m \u001b[0mnew_user\u001b[0m \u001b[0;34m=\u001b[0m \u001b[0mnp\u001b[0m\u001b[0;34m.\u001b[0m\u001b[0mrandom\u001b[0m\u001b[0;34m.\u001b[0m\u001b[0mrandint\u001b[0m\u001b[0;34m(\u001b[0m\u001b[0;36m0\u001b[0m\u001b[0;34m,\u001b[0m \u001b[0;36m2\u001b[0m\u001b[0;34m,\u001b[0m \u001b[0msize\u001b[0m\u001b[0;34m=\u001b[0m\u001b[0;34m(\u001b[0m\u001b[0;36m1\u001b[0m\u001b[0;34m,\u001b[0m \u001b[0mnumber_of_options\u001b[0m\u001b[0;34m)\u001b[0m\u001b[0;34m)\u001b[0m\u001b[0;34m\u001b[0m\u001b[0;34m\u001b[0m\u001b[0m\n\u001b[0m\u001b[1;32m      2\u001b[0m \u001b[0mnew_user\u001b[0m\u001b[0;34m\u001b[0m\u001b[0;34m\u001b[0m\u001b[0m\n",
      "\u001b[0;31mNameError\u001b[0m: name 'np' is not defined"
     ]
    }
   ],
   "source": [
    "new_user = np.random.randint(0, 2, size=(1, number_of_options))\n",
    "new_user"
   ]
  },
  {
   "cell_type": "code",
   "execution_count": 59,
   "metadata": {},
   "outputs": [
    {
     "output_type": "execute_result",
     "data": {
      "text/plain": [
       "array([[0, 9, 1]])"
      ]
     },
     "metadata": {},
     "execution_count": 59
    }
   ],
   "source": [
    "dist, ind = kd_tree.query(data[:1], k=3)\n",
    "ind "
   ]
  },
  {
   "cell_type": "code",
   "execution_count": 60,
   "metadata": {},
   "outputs": [
    {
     "output_type": "execute_result",
     "data": {
      "text/plain": [
       "array([[0.        , 1.41421356, 2.        ]])"
      ]
     },
     "metadata": {},
     "execution_count": 60
    }
   ],
   "source": [
    "# use euclidean_distances to find similarities \n",
    "dist"
   ]
  },
  {
   "cell_type": "code",
   "execution_count": 61,
   "metadata": {},
   "outputs": [
    {
     "output_type": "stream",
     "name": "stdout",
     "text": [
      "User 0\tSimilarity: 1.0\nUser 1\tSimilarity: 0.6\nUser 2\tSimilarity: 0.4472\nUser 3\tSimilarity: 0.4472\nUser 4\tSimilarity: 0.4472\nUser 5\tSimilarity: 0.4472\nUser 6\tSimilarity: 0.6\nUser 7\tSimilarity: 0.2236\nUser 8\tSimilarity: 0.3162\nUser 9\tSimilarity: 0.8\n"
     ]
    }
   ],
   "source": [
    "from sklearn.metrics.pairwise import cosine_similarity\n",
    "\n",
    "cos_similarities = np.zeros((data.shape[0],))\n",
    "for i in range(data.shape[0]):\n",
    "    if i == data.shape[0] - 1:\n",
    "        cos_similarities[i] = cosine_similarity(data[:1], data[i:])\n",
    "        print(f\"User {i}\\tSimilarity: {round(cos_similarities[i], 4)}\")\n",
    "        break \n",
    "    cos_similarities[i] = cosine_similarity(data[:1], data[i:i+1])\n",
    "    print(f\"User {i}\\tSimilarity: {round(cos_similarities[i], 4)}\")"
   ]
  },
  {
   "cell_type": "code",
   "execution_count": 62,
   "metadata": {},
   "outputs": [
    {
     "output_type": "stream",
     "name": "stdout",
     "text": [
      "User 0\tSimilarity: 0.0\nUser 1\tSimilarity: 2.0\nUser 2\tSimilarity: 2.0\nUser 3\tSimilarity: 2.2361\nUser 4\tSimilarity: 2.2361\nUser 5\tSimilarity: 2.2361\nUser 6\tSimilarity: 2.0\nUser 7\tSimilarity: 2.6458\nUser 8\tSimilarity: 2.2361\nUser 9\tSimilarity: 1.4142\n"
     ]
    }
   ],
   "source": [
    "from sklearn.metrics.pairwise import euclidean_distances\n",
    "\n",
    "euc_similarities = np.zeros((data.shape[0],))\n",
    "for i in range(data.shape[0]):\n",
    "    if i == data.shape[0] - 1:\n",
    "        euc_similarities[i] = euclidean_distances(data[:1], data[i:])\n",
    "        print(f\"User {i}\\tSimilarity: {round(euc_similarities[i], 4)}\")\n",
    "        break \n",
    "    euc_similarities[i] = euclidean_distances(data[:1], data[i:i+1])\n",
    "    print(f\"User {i}\\tSimilarity: {round(euc_similarities[i], 4)}\")"
   ]
  },
  {
   "cell_type": "code",
   "execution_count": null,
   "metadata": {},
   "outputs": [],
   "source": []
  },
  {
   "cell_type": "code",
   "execution_count": 77,
   "metadata": {},
   "outputs": [
    {
     "output_type": "execute_result",
     "data": {
      "text/plain": [
       "   ID           answers\n",
       "0   0       Engineering\n",
       "1   1       Mathematics\n",
       "2   2  Computer Science\n",
       "3   3           Cooking\n",
       "4   4           Physics\n",
       "5   5    Nanotechnology\n",
       "6   6           Biology\n",
       "7   7          Genetics\n",
       "8   8     entertainment\n",
       "9   9             music"
      ],
      "text/html": "<div>\n<style scoped>\n    .dataframe tbody tr th:only-of-type {\n        vertical-align: middle;\n    }\n\n    .dataframe tbody tr th {\n        vertical-align: top;\n    }\n\n    .dataframe thead th {\n        text-align: right;\n    }\n</style>\n<table border=\"1\" class=\"dataframe\">\n  <thead>\n    <tr style=\"text-align: right;\">\n      <th></th>\n      <th>ID</th>\n      <th>answers</th>\n    </tr>\n  </thead>\n  <tbody>\n    <tr>\n      <th>0</th>\n      <td>0</td>\n      <td>Engineering</td>\n    </tr>\n    <tr>\n      <th>1</th>\n      <td>1</td>\n      <td>Mathematics</td>\n    </tr>\n    <tr>\n      <th>2</th>\n      <td>2</td>\n      <td>Computer Science</td>\n    </tr>\n    <tr>\n      <th>3</th>\n      <td>3</td>\n      <td>Cooking</td>\n    </tr>\n    <tr>\n      <th>4</th>\n      <td>4</td>\n      <td>Physics</td>\n    </tr>\n    <tr>\n      <th>5</th>\n      <td>5</td>\n      <td>Nanotechnology</td>\n    </tr>\n    <tr>\n      <th>6</th>\n      <td>6</td>\n      <td>Biology</td>\n    </tr>\n    <tr>\n      <th>7</th>\n      <td>7</td>\n      <td>Genetics</td>\n    </tr>\n    <tr>\n      <th>8</th>\n      <td>8</td>\n      <td>entertainment</td>\n    </tr>\n    <tr>\n      <th>9</th>\n      <td>9</td>\n      <td>music</td>\n    </tr>\n  </tbody>\n</table>\n</div>"
     },
     "metadata": {},
     "execution_count": 77
    }
   ],
   "source": [
    "user_ids = [i for i in range(number_of_users)]\n",
    "custome_answers = [\n",
    "    'Engineering', \n",
    "    'Mathematics',\n",
    "    'Computer Science', \n",
    "    'Cooking', \n",
    "    'Physics', \n",
    "    'Nanotechnology', \n",
    "    'Biology', \n",
    "    'Genetics', \n",
    "    'entertainment',\n",
    "    'music'\n",
    "]\n",
    "pd_words = pd.DataFrame(data=user_ids, columns=['ID'])\n",
    "pd_words = pd.concat([pd_words, pd.DataFrame(custome_answers, columns=['answers'])], axis=1)\n",
    "pd_words"
   ]
  },
  {
   "cell_type": "code",
   "execution_count": null,
   "metadata": {},
   "outputs": [],
   "source": []
  },
  {
   "cell_type": "code",
   "execution_count": null,
   "metadata": {},
   "outputs": [],
   "source": []
  },
  {
   "cell_type": "code",
   "execution_count": null,
   "metadata": {},
   "outputs": [],
   "source": []
  }
 ]
}