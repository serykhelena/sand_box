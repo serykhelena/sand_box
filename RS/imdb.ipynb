{
 "metadata": {
  "language_info": {
   "codemirror_mode": {
    "name": "ipython",
    "version": 3
   },
   "file_extension": ".py",
   "mimetype": "text/x-python",
   "name": "python",
   "nbconvert_exporter": "python",
   "pygments_lexer": "ipython3",
   "version": "3.8.5-final"
  },
  "orig_nbformat": 2,
  "kernelspec": {
   "name": "python3",
   "display_name": "Python 3"
  }
 },
 "nbformat": 4,
 "nbformat_minor": 2,
 "cells": [
  {
   "source": [
    "# Recommender System"
   ],
   "cell_type": "markdown",
   "metadata": {}
  },
  {
   "source": [
    "## Content Based Filtering"
   ],
   "cell_type": "markdown",
   "metadata": {}
  },
  {
   "source": [
    "* uses item features to recommend other items similar to what the user likes, based on the previous actions or feedback [more](https://developers.google.com/machine-learning/recommendation/content-based/basics)\n",
    "\n",
    "<center><img src=\"https://developers.google.com/machine-learning/recommendation/images/Matrix1.svg\" width=600 /></center>"
   ],
   "cell_type": "markdown",
   "metadata": {}
  },
  {
   "source": [
    "> recommend movies based on:\n",
    ">* the genres\n",
    ">* similar in types \n",
    ">* user's last watched movie "
   ],
   "cell_type": "markdown",
   "metadata": {}
  },
  {
   "source": [
    "* Cosine Similarity"
   ],
   "cell_type": "markdown",
   "metadata": {}
  },
  {
   "cell_type": "code",
   "execution_count": 1,
   "metadata": {},
   "outputs": [],
   "source": [
    "import numpy as np\n",
    "import pandas as pd\n",
    "import nltk  "
   ]
  },
  {
   "cell_type": "code",
   "execution_count": 2,
   "metadata": {},
   "outputs": [
    {
     "output_type": "execute_result",
     "data": {
      "text/plain": [
       "   movieId                               title  \\\n",
       "0        1                    Toy Story (1995)   \n",
       "1        2                      Jumanji (1995)   \n",
       "2        3             Grumpier Old Men (1995)   \n",
       "3        4            Waiting to Exhale (1995)   \n",
       "4        5  Father of the Bride Part II (1995)   \n",
       "\n",
       "                                        genres  \n",
       "0  Adventure|Animation|Children|Comedy|Fantasy  \n",
       "1                   Adventure|Children|Fantasy  \n",
       "2                               Comedy|Romance  \n",
       "3                         Comedy|Drama|Romance  \n",
       "4                                       Comedy  "
      ],
      "text/html": "<div>\n<style scoped>\n    .dataframe tbody tr th:only-of-type {\n        vertical-align: middle;\n    }\n\n    .dataframe tbody tr th {\n        vertical-align: top;\n    }\n\n    .dataframe thead th {\n        text-align: right;\n    }\n</style>\n<table border=\"1\" class=\"dataframe\">\n  <thead>\n    <tr style=\"text-align: right;\">\n      <th></th>\n      <th>movieId</th>\n      <th>title</th>\n      <th>genres</th>\n    </tr>\n  </thead>\n  <tbody>\n    <tr>\n      <th>0</th>\n      <td>1</td>\n      <td>Toy Story (1995)</td>\n      <td>Adventure|Animation|Children|Comedy|Fantasy</td>\n    </tr>\n    <tr>\n      <th>1</th>\n      <td>2</td>\n      <td>Jumanji (1995)</td>\n      <td>Adventure|Children|Fantasy</td>\n    </tr>\n    <tr>\n      <th>2</th>\n      <td>3</td>\n      <td>Grumpier Old Men (1995)</td>\n      <td>Comedy|Romance</td>\n    </tr>\n    <tr>\n      <th>3</th>\n      <td>4</td>\n      <td>Waiting to Exhale (1995)</td>\n      <td>Comedy|Drama|Romance</td>\n    </tr>\n    <tr>\n      <th>4</th>\n      <td>5</td>\n      <td>Father of the Bride Part II (1995)</td>\n      <td>Comedy</td>\n    </tr>\n  </tbody>\n</table>\n</div>"
     },
     "metadata": {},
     "execution_count": 2
    }
   ],
   "source": [
    "movies = pd.read_csv('movies.csv')\n",
    "movies.head()"
   ]
  },
  {
   "cell_type": "code",
   "execution_count": 3,
   "metadata": {},
   "outputs": [
    {
     "output_type": "execute_result",
     "data": {
      "text/plain": [
       "   userId  movieId  rating   timestamp\n",
       "0       1       16     4.0  1217897793\n",
       "1       1       24     1.5  1217895807\n",
       "2       1       32     4.0  1217896246\n",
       "3       1       47     4.0  1217896556\n",
       "4       1       50     4.0  1217896523"
      ],
      "text/html": "<div>\n<style scoped>\n    .dataframe tbody tr th:only-of-type {\n        vertical-align: middle;\n    }\n\n    .dataframe tbody tr th {\n        vertical-align: top;\n    }\n\n    .dataframe thead th {\n        text-align: right;\n    }\n</style>\n<table border=\"1\" class=\"dataframe\">\n  <thead>\n    <tr style=\"text-align: right;\">\n      <th></th>\n      <th>userId</th>\n      <th>movieId</th>\n      <th>rating</th>\n      <th>timestamp</th>\n    </tr>\n  </thead>\n  <tbody>\n    <tr>\n      <th>0</th>\n      <td>1</td>\n      <td>16</td>\n      <td>4.0</td>\n      <td>1217897793</td>\n    </tr>\n    <tr>\n      <th>1</th>\n      <td>1</td>\n      <td>24</td>\n      <td>1.5</td>\n      <td>1217895807</td>\n    </tr>\n    <tr>\n      <th>2</th>\n      <td>1</td>\n      <td>32</td>\n      <td>4.0</td>\n      <td>1217896246</td>\n    </tr>\n    <tr>\n      <th>3</th>\n      <td>1</td>\n      <td>47</td>\n      <td>4.0</td>\n      <td>1217896556</td>\n    </tr>\n    <tr>\n      <th>4</th>\n      <td>1</td>\n      <td>50</td>\n      <td>4.0</td>\n      <td>1217896523</td>\n    </tr>\n  </tbody>\n</table>\n</div>"
     },
     "metadata": {},
     "execution_count": 3
    }
   ],
   "source": [
    "rating = pd.read_csv('ratings.csv')\n",
    "rating.head()"
   ]
  },
  {
   "cell_type": "code",
   "execution_count": 4,
   "metadata": {},
   "outputs": [
    {
     "output_type": "execute_result",
     "data": {
      "text/plain": [
       "   movieId                               title  \\\n",
       "0      1.0                    Toy Story (1995)   \n",
       "1      2.0                      Jumanji (1995)   \n",
       "2      3.0             Grumpier Old Men (1995)   \n",
       "3      4.0            Waiting to Exhale (1995)   \n",
       "4      5.0  Father of the Bride Part II (1995)   \n",
       "\n",
       "                                        genres  userId  rating   timestamp  \n",
       "0  Adventure|Animation|Children|Comedy|Fantasy       1     4.0  1217897793  \n",
       "1                   Adventure|Children|Fantasy       1     1.5  1217895807  \n",
       "2                               Comedy|Romance       1     4.0  1217896246  \n",
       "3                         Comedy|Drama|Romance       1     4.0  1217896556  \n",
       "4                                       Comedy       1     4.0  1217896523  "
      ],
      "text/html": "<div>\n<style scoped>\n    .dataframe tbody tr th:only-of-type {\n        vertical-align: middle;\n    }\n\n    .dataframe tbody tr th {\n        vertical-align: top;\n    }\n\n    .dataframe thead th {\n        text-align: right;\n    }\n</style>\n<table border=\"1\" class=\"dataframe\">\n  <thead>\n    <tr style=\"text-align: right;\">\n      <th></th>\n      <th>movieId</th>\n      <th>title</th>\n      <th>genres</th>\n      <th>userId</th>\n      <th>rating</th>\n      <th>timestamp</th>\n    </tr>\n  </thead>\n  <tbody>\n    <tr>\n      <th>0</th>\n      <td>1.0</td>\n      <td>Toy Story (1995)</td>\n      <td>Adventure|Animation|Children|Comedy|Fantasy</td>\n      <td>1</td>\n      <td>4.0</td>\n      <td>1217897793</td>\n    </tr>\n    <tr>\n      <th>1</th>\n      <td>2.0</td>\n      <td>Jumanji (1995)</td>\n      <td>Adventure|Children|Fantasy</td>\n      <td>1</td>\n      <td>1.5</td>\n      <td>1217895807</td>\n    </tr>\n    <tr>\n      <th>2</th>\n      <td>3.0</td>\n      <td>Grumpier Old Men (1995)</td>\n      <td>Comedy|Romance</td>\n      <td>1</td>\n      <td>4.0</td>\n      <td>1217896246</td>\n    </tr>\n    <tr>\n      <th>3</th>\n      <td>4.0</td>\n      <td>Waiting to Exhale (1995)</td>\n      <td>Comedy|Drama|Romance</td>\n      <td>1</td>\n      <td>4.0</td>\n      <td>1217896556</td>\n    </tr>\n    <tr>\n      <th>4</th>\n      <td>5.0</td>\n      <td>Father of the Bride Part II (1995)</td>\n      <td>Comedy</td>\n      <td>1</td>\n      <td>4.0</td>\n      <td>1217896523</td>\n    </tr>\n  </tbody>\n</table>\n</div>"
     },
     "metadata": {},
     "execution_count": 4
    }
   ],
   "source": [
    "data = pd.concat([movies, rating.loc[:, rating.columns != 'movieId']], axis=1)\n",
    "data.head()"
   ]
  },
  {
   "source": [
    "### Lemmatization\n",
    "\n",
    "**Lemmatization** is the process of converting a word to its base form. \n",
    "\n",
    "<center>Caring [Lemmatization] -> Care</center>\n",
    "\n",
    "<center>Caring [Stemming] -> Car</center>\n",
    "\n",
    "\n",
    "> The difference between stemming and lemmatization: \n",
    ">* lemmatization considers the context and converts the word to its meaningful base form\n",
    ">* stemming just removes the last few characters, often leading to incorrect meanings and spelling errors."
   ],
   "cell_type": "markdown",
   "metadata": {}
  },
  {
   "source": [
    "#### NLTK WordnetLemmatizer\n",
    "\n",
    "> Wordnet - large, freely, publicly available lexical database for English language \n",
    "\n",
    "* 'raw' WordnetLemmatizer didn't do a good job, but to improve processing POS tag (part-of-speech) can be provided as the second argument to `lemmatize()`"
   ],
   "cell_type": "markdown",
   "metadata": {}
  },
  {
   "cell_type": "code",
   "execution_count": 5,
   "metadata": {},
   "outputs": [
    {
     "output_type": "stream",
     "name": "stderr",
     "text": [
      "[nltk_data] Downloading package wordnet to /home/lena/nltk_data...\n[nltk_data]   Package wordnet is already up-to-date!\n[nltk_data] Downloading package punkt to /home/lena/nltk_data...\n[nltk_data]   Package punkt is already up-to-date!\n[nltk_data] Downloading package averaged_perceptron_tagger to\n[nltk_data]     /home/lena/nltk_data...\n[nltk_data]   Package averaged_perceptron_tagger is already up-to-\n[nltk_data]       date!\n"
     ]
    },
    {
     "output_type": "execute_result",
     "data": {
      "text/plain": [
       "True"
      ]
     },
     "metadata": {},
     "execution_count": 5
    }
   ],
   "source": [
    "import nltk\n",
    "nltk.download('wordnet')\n",
    "nltk.download('punkt')\n",
    "nltk.download('averaged_perceptron_tagger')"
   ]
  },
  {
   "cell_type": "code",
   "execution_count": 6,
   "metadata": {},
   "outputs": [
    {
     "output_type": "stream",
     "name": "stdout",
     "text": [
      "cat\nare\nfoot\n['The', 'striped', 'bats', 'are', 'hanging', 'on', 'their', 'feet', 'for', 'best']\nThe striped bat are hanging on their foot for best\n"
     ]
    }
   ],
   "source": [
    "from nltk.stem import WordNetLemmatizer\n",
    "\n",
    "# Without Part-of-Speech tag [POS]\n",
    "\n",
    "# Init the Wordnet Lemmatizer\n",
    "test_lemmatizer = WordNetLemmatizer() \n",
    "\n",
    "print(test_lemmatizer.lemmatize('cats'))\n",
    "print(test_lemmatizer.lemmatize('are'))\n",
    "print(test_lemmatizer.lemmatize('feet'))\n",
    "\n",
    "# Define the sentence to be lemmatized\n",
    "sentence = \"The striped bats are hanging on their feet for best\"\n",
    "\n",
    "# Tokenize: Split the sentence into words\n",
    "word_list = nltk.word_tokenize(sentence)\n",
    "print(word_list)\n",
    "#> ['The', 'striped', 'bats', 'are', 'hanging', 'on', 'their', 'feet', 'for', 'best']\n",
    "\n",
    "# Lemmatize list of words and join\n",
    "test_lemmatized_output = ' '.join([test_lemmatizer.lemmatize(w) for w in word_list])\n",
    "print(test_lemmatized_output)\n",
    "#> The striped bat are hanging on their foot for best"
   ]
  },
  {
   "cell_type": "code",
   "execution_count": 7,
   "metadata": {},
   "outputs": [
    {
     "output_type": "stream",
     "name": "stdout",
     "text": [
      "[('feet', 'NNS')]\n[('The', 'DT'), ('striped', 'JJ'), ('bats', 'NNS'), ('are', 'VBP'), ('hanging', 'VBG'), ('on', 'IN'), ('their', 'PRP$'), ('feet', 'NNS'), ('for', 'IN'), ('best', 'JJS')]\n"
     ]
    }
   ],
   "source": [
    "print(nltk.pos_tag(['feet']))\n",
    "\n",
    "print(nltk.pos_tag(nltk.word_tokenize(sentence)))"
   ]
  },
  {
   "cell_type": "code",
   "execution_count": 8,
   "metadata": {},
   "outputs": [
    {
     "output_type": "stream",
     "name": "stdout",
     "text": [
      "foot\n['The', 'strip', 'bat', 'be', 'hang', 'on', 'their', 'foot', 'for', 'best']\n"
     ]
    }
   ],
   "source": [
    "# Lemmatize with POS Tag\n",
    "from nltk.corpus import wordnet\n",
    "\n",
    "def get_wordnet_pos(word):\n",
    "    \"\"\"Map POS tag to first character lemmatize() accepts\"\"\"\n",
    "    tag = nltk.pos_tag([word])[0][1][0].upper()\n",
    "    tag_dict = {\"J\": wordnet.ADJ,\n",
    "                \"N\": wordnet.NOUN,\n",
    "                \"V\": wordnet.VERB,\n",
    "                \"R\": wordnet.ADV}\n",
    "\n",
    "    return tag_dict.get(tag, wordnet.NOUN)\n",
    "\n",
    "\n",
    "# 1. Init Lemmatizer\n",
    "lemmatizer = WordNetLemmatizer()\n",
    "\n",
    "# 2. Lemmatize Single Word with the appropriate POS tag\n",
    "word = 'feet'\n",
    "print(lemmatizer.lemmatize(word, get_wordnet_pos(word)))\n",
    "\n",
    "# 3. Lemmatize a Sentence with the appropriate POS tag\n",
    "sentence = \"The striped bats are hanging on their feet for best\"\n",
    "print([lemmatizer.lemmatize(w, get_wordnet_pos(w)) for w in nltk.word_tokenize(sentence)])\n",
    "#> ['The', 'strip', 'bat', 'be', 'hang', 'on', 'their', 'foot', 'for', 'best']"
   ]
  },
  {
   "source": [
    "#### spaCy Lemmatization\n",
    "\n",
    "* spaCy is a relatively new and is billed as an industial strength NLP engine. It comes with pre-built models that can parse text and compute various NLP related features through one single call\n",
    "\n",
    "* spaCy determines the part-of-speech tag by default and assigns the corresponding lemma. It comes with a bunch of prebuilt models where the ‘en’ we just downloaded above is one of the standard ones for english."
   ],
   "cell_type": "markdown",
   "metadata": {}
  },
  {
   "cell_type": "code",
   "execution_count": 9,
   "metadata": {},
   "outputs": [
    {
     "output_type": "stream",
     "name": "stdout",
     "text": [
      "Requirement already satisfied: spacy in ./test_vevn/lib/python3.8/site-packages (2.3.4)\n",
      "Requirement already satisfied: preshed<3.1.0,>=3.0.2 in ./test_vevn/lib/python3.8/site-packages (from spacy) (3.0.4)\n",
      "Requirement already satisfied: catalogue<1.1.0,>=0.0.7 in ./test_vevn/lib/python3.8/site-packages (from spacy) (1.0.0)\n",
      "Requirement already satisfied: plac<1.2.0,>=0.9.6 in ./test_vevn/lib/python3.8/site-packages (from spacy) (1.1.3)\n",
      "Requirement already satisfied: setuptools in ./test_vevn/lib/python3.8/site-packages (from spacy) (44.0.0)\n",
      "Requirement already satisfied: numpy>=1.15.0 in ./test_vevn/lib/python3.8/site-packages (from spacy) (1.19.3)\n",
      "Requirement already satisfied: blis<0.8.0,>=0.4.0; python_version >= \"3.6\" in ./test_vevn/lib/python3.8/site-packages (from spacy) (0.7.3)\n",
      "Requirement already satisfied: requests<3.0.0,>=2.13.0 in ./test_vevn/lib/python3.8/site-packages (from spacy) (2.25.0)\n",
      "Requirement already satisfied: thinc<7.5.0,>=7.4.1 in ./test_vevn/lib/python3.8/site-packages (from spacy) (7.4.3)\n",
      "Requirement already satisfied: murmurhash<1.1.0,>=0.28.0 in ./test_vevn/lib/python3.8/site-packages (from spacy) (1.0.4)\n",
      "Requirement already satisfied: srsly<1.1.0,>=1.0.2 in ./test_vevn/lib/python3.8/site-packages (from spacy) (1.0.4)\n",
      "Requirement already satisfied: cymem<2.1.0,>=2.0.2 in ./test_vevn/lib/python3.8/site-packages (from spacy) (2.0.4)\n",
      "Requirement already satisfied: tqdm<5.0.0,>=4.38.0 in ./test_vevn/lib/python3.8/site-packages (from spacy) (4.51.0)\n",
      "Requirement already satisfied: wasabi<1.1.0,>=0.4.0 in ./test_vevn/lib/python3.8/site-packages (from spacy) (0.8.0)\n",
      "Requirement already satisfied: chardet<4,>=3.0.2 in ./test_vevn/lib/python3.8/site-packages (from requests<3.0.0,>=2.13.0->spacy) (3.0.4)\n",
      "Requirement already satisfied: idna<3,>=2.5 in ./test_vevn/lib/python3.8/site-packages (from requests<3.0.0,>=2.13.0->spacy) (2.10)\n",
      "Requirement already satisfied: certifi>=2017.4.17 in ./test_vevn/lib/python3.8/site-packages (from requests<3.0.0,>=2.13.0->spacy) (2020.11.8)\n",
      "Requirement already satisfied: urllib3<1.27,>=1.21.1 in ./test_vevn/lib/python3.8/site-packages (from requests<3.0.0,>=2.13.0->spacy) (1.26.2)\n",
      "Requirement already satisfied: en_core_web_sm==2.3.1 from https://github.com/explosion/spacy-models/releases/download/en_core_web_sm-2.3.1/en_core_web_sm-2.3.1.tar.gz#egg=en_core_web_sm==2.3.1 in ./test_vevn/lib/python3.8/site-packages (2.3.1)\n",
      "Requirement already satisfied: spacy<2.4.0,>=2.3.0 in ./test_vevn/lib/python3.8/site-packages (from en_core_web_sm==2.3.1) (2.3.4)\n",
      "Requirement already satisfied: murmurhash<1.1.0,>=0.28.0 in ./test_vevn/lib/python3.8/site-packages (from spacy<2.4.0,>=2.3.0->en_core_web_sm==2.3.1) (1.0.4)\n",
      "Requirement already satisfied: cymem<2.1.0,>=2.0.2 in ./test_vevn/lib/python3.8/site-packages (from spacy<2.4.0,>=2.3.0->en_core_web_sm==2.3.1) (2.0.4)\n",
      "Requirement already satisfied: plac<1.2.0,>=0.9.6 in ./test_vevn/lib/python3.8/site-packages (from spacy<2.4.0,>=2.3.0->en_core_web_sm==2.3.1) (1.1.3)\n",
      "Requirement already satisfied: catalogue<1.1.0,>=0.0.7 in ./test_vevn/lib/python3.8/site-packages (from spacy<2.4.0,>=2.3.0->en_core_web_sm==2.3.1) (1.0.0)\n",
      "Requirement already satisfied: thinc<7.5.0,>=7.4.1 in ./test_vevn/lib/python3.8/site-packages (from spacy<2.4.0,>=2.3.0->en_core_web_sm==2.3.1) (7.4.3)\n",
      "Requirement already satisfied: requests<3.0.0,>=2.13.0 in ./test_vevn/lib/python3.8/site-packages (from spacy<2.4.0,>=2.3.0->en_core_web_sm==2.3.1) (2.25.0)\n",
      "Requirement already satisfied: setuptools in ./test_vevn/lib/python3.8/site-packages (from spacy<2.4.0,>=2.3.0->en_core_web_sm==2.3.1) (44.0.0)\n",
      "Requirement already satisfied: wasabi<1.1.0,>=0.4.0 in ./test_vevn/lib/python3.8/site-packages (from spacy<2.4.0,>=2.3.0->en_core_web_sm==2.3.1) (0.8.0)\n",
      "Requirement already satisfied: blis<0.8.0,>=0.4.0; python_version >= \"3.6\" in ./test_vevn/lib/python3.8/site-packages (from spacy<2.4.0,>=2.3.0->en_core_web_sm==2.3.1) (0.7.3)\n",
      "Requirement already satisfied: numpy>=1.15.0 in ./test_vevn/lib/python3.8/site-packages (from spacy<2.4.0,>=2.3.0->en_core_web_sm==2.3.1) (1.19.3)\n",
      "Requirement already satisfied: tqdm<5.0.0,>=4.38.0 in ./test_vevn/lib/python3.8/site-packages (from spacy<2.4.0,>=2.3.0->en_core_web_sm==2.3.1) (4.51.0)\n",
      "Requirement already satisfied: preshed<3.1.0,>=3.0.2 in ./test_vevn/lib/python3.8/site-packages (from spacy<2.4.0,>=2.3.0->en_core_web_sm==2.3.1) (3.0.4)\n",
      "Requirement already satisfied: srsly<1.1.0,>=1.0.2 in ./test_vevn/lib/python3.8/site-packages (from spacy<2.4.0,>=2.3.0->en_core_web_sm==2.3.1) (1.0.4)\n",
      "Requirement already satisfied: urllib3<1.27,>=1.21.1 in ./test_vevn/lib/python3.8/site-packages (from requests<3.0.0,>=2.13.0->spacy<2.4.0,>=2.3.0->en_core_web_sm==2.3.1) (1.26.2)\n",
      "Requirement already satisfied: chardet<4,>=3.0.2 in ./test_vevn/lib/python3.8/site-packages (from requests<3.0.0,>=2.13.0->spacy<2.4.0,>=2.3.0->en_core_web_sm==2.3.1) (3.0.4)\n",
      "Requirement already satisfied: idna<3,>=2.5 in ./test_vevn/lib/python3.8/site-packages (from requests<3.0.0,>=2.13.0->spacy<2.4.0,>=2.3.0->en_core_web_sm==2.3.1) (2.10)\n",
      "Requirement already satisfied: certifi>=2017.4.17 in ./test_vevn/lib/python3.8/site-packages (from requests<3.0.0,>=2.13.0->spacy<2.4.0,>=2.3.0->en_core_web_sm==2.3.1) (2020.11.8)\n",
      "\u001b[38;5;2m✔ Download and installation successful\u001b[0m\n",
      "You can now load the model via spacy.load('en_core_web_sm')\n",
      "\u001b[38;5;2m✔ Linking successful\u001b[0m\n",
      "/home/lena/RS/test_vevn/lib/python3.8/site-packages/en_core_web_sm -->\n",
      "/home/lena/RS/test_vevn/lib/python3.8/site-packages/spacy/data/en\n",
      "You can now load the model via spacy.load('en')\n"
     ]
    }
   ],
   "source": [
    "# Install spaCy (run in terminal/prompt)\n",
    "import sys\n",
    "!{sys.executable} -m pip install spacy\n",
    "\n",
    "# Download spaCy's  'en' Model\n",
    "!{sys.executable} -m spacy download en"
   ]
  },
  {
   "cell_type": "code",
   "execution_count": 10,
   "metadata": {},
   "outputs": [
    {
     "output_type": "execute_result",
     "data": {
      "text/plain": [
       "'the stripe bat be hang on -PRON- foot for good'"
      ]
     },
     "metadata": {},
     "execution_count": 10
    }
   ],
   "source": [
    "import spacy\n",
    "\n",
    "# Initialize spacy 'en' model, keeping only tagger component needed for lemmatization\n",
    "nlp = spacy.load('en', disable=['parser', 'ner'])\n",
    "\n",
    "sentence = \"The striped bats are hanging on their feet for best\"\n",
    "\n",
    "# Parse the sentence using the loaded 'en' model object `nlp`\n",
    "doc = nlp(sentence)\n",
    "\n",
    "# Extract the lemma for each token and join\n",
    "\" \".join([token.lemma_ for token in doc])\n",
    "#> 'the strip bat be hang on -PRON- foot for good'"
   ]
  },
  {
   "source": [
    "#### TextBlob Lemmatizer\n",
    "\n",
    "* TextBlob is a powerful, fast and convenient NLP package "
   ],
   "cell_type": "markdown",
   "metadata": {}
  },
  {
   "cell_type": "code",
   "execution_count": 11,
   "metadata": {},
   "outputs": [
    {
     "output_type": "stream",
     "name": "stdout",
     "text": [
      "Requirement already satisfied: textblob in ./test_vevn/lib/python3.8/site-packages (0.15.3)\nRequirement already satisfied: nltk>=3.1 in ./test_vevn/lib/python3.8/site-packages (from textblob) (3.5)\nRequirement already satisfied: click in ./test_vevn/lib/python3.8/site-packages (from nltk>=3.1->textblob) (7.1.2)\nRequirement already satisfied: joblib in ./test_vevn/lib/python3.8/site-packages (from nltk>=3.1->textblob) (0.17.0)\nRequirement already satisfied: regex in ./test_vevn/lib/python3.8/site-packages (from nltk>=3.1->textblob) (2020.11.11)\nRequirement already satisfied: tqdm in ./test_vevn/lib/python3.8/site-packages (from nltk>=3.1->textblob) (4.51.0)\n"
     ]
    }
   ],
   "source": [
    "! pip3 install textblob"
   ]
  },
  {
   "cell_type": "code",
   "execution_count": 12,
   "metadata": {},
   "outputs": [
    {
     "output_type": "execute_result",
     "data": {
      "text/plain": [
       "'The striped bat are hanging on their foot for best'"
      ]
     },
     "metadata": {},
     "execution_count": 12
    }
   ],
   "source": [
    "# pip install textblob\n",
    "from textblob import TextBlob, Word\n",
    "\n",
    "# Lemmatize a word\n",
    "word = 'stripes'\n",
    "w = Word(word)\n",
    "w.lemmatize()\n",
    "#> stripe\n",
    "\n",
    "# Lemmatize a sentence (without POS)\n",
    "sentence = \"The striped bats are hanging on their feet for best\"\n",
    "sent = TextBlob(sentence)\n",
    "\" \". join([w.lemmatize() for w in sent.words])\n",
    "#> 'The striped bat are hanging on their foot for best'"
   ]
  },
  {
   "cell_type": "code",
   "execution_count": 13,
   "metadata": {},
   "outputs": [
    {
     "output_type": "execute_result",
     "data": {
      "text/plain": [
       "'The striped bat be hang on their foot for best'"
      ]
     },
     "metadata": {},
     "execution_count": 13
    }
   ],
   "source": [
    "# Define function to lemmatize each word with its POS tag\n",
    "def lemmatize_with_postag(sentence):\n",
    "    sent = TextBlob(sentence)\n",
    "    tag_dict = {\"J\": 'a', \n",
    "                \"N\": 'n', \n",
    "                \"V\": 'v', \n",
    "                \"R\": 'r'}\n",
    "    words_and_tags = [(w, tag_dict.get(pos[0], 'n')) for w, pos in sent.tags]    \n",
    "    lemmatized_list = [wd.lemmatize(tag) for wd, tag in words_and_tags]\n",
    "    return \" \".join(lemmatized_list)\n",
    "\n",
    "# Lemmatize\n",
    "sentence = \"The striped bats are hanging on their feet for best\"\n",
    "lemmatize_with_postag(sentence)\n",
    "#> 'The striped bat be hang on their foot for best'"
   ]
  },
  {
   "source": [
    "#### Pattern Lemmatizer \n",
    "\n",
    "* Pattern by CLiPs is a versatile module with many useful NLP capabilities. "
   ],
   "cell_type": "markdown",
   "metadata": {}
  },
  {
   "cell_type": "code",
   "execution_count": 14,
   "metadata": {},
   "outputs": [
    {
     "output_type": "stream",
     "name": "stdout",
     "text": [
      "Requirement already satisfied: wheel in ./test_vevn/lib/python3.8/site-packages (0.35.1)\n",
      "Requirement already satisfied: pattern in ./test_vevn/lib/python3.8/site-packages (3.6)\n",
      "Requirement already satisfied: backports.csv in ./test_vevn/lib/python3.8/site-packages (from pattern) (1.0.7)\n",
      "Requirement already satisfied: beautifulsoup4 in ./test_vevn/lib/python3.8/site-packages (from pattern) (4.9.3)\n",
      "Requirement already satisfied: cherrypy in ./test_vevn/lib/python3.8/site-packages (from pattern) (18.6.0)\n",
      "Requirement already satisfied: feedparser in ./test_vevn/lib/python3.8/site-packages (from pattern) (6.0.2)\n",
      "Requirement already satisfied: future in ./test_vevn/lib/python3.8/site-packages (from pattern) (0.18.2)\n",
      "Requirement already satisfied: lxml in ./test_vevn/lib/python3.8/site-packages (from pattern) (4.6.2)\n",
      "Requirement already satisfied: mysqlclient in ./test_vevn/lib/python3.8/site-packages (from pattern) (2.0.1)\n",
      "Requirement already satisfied: nltk in ./test_vevn/lib/python3.8/site-packages (from pattern) (3.5)\n",
      "Requirement already satisfied: numpy in ./test_vevn/lib/python3.8/site-packages (from pattern) (1.19.3)\n",
      "Requirement already satisfied: pdfminer.six in ./test_vevn/lib/python3.8/site-packages (from pattern) (20201018)\n",
      "Requirement already satisfied: python-docx in ./test_vevn/lib/python3.8/site-packages (from pattern) (0.8.10)\n",
      "Requirement already satisfied: requests in ./test_vevn/lib/python3.8/site-packages (from pattern) (2.25.0)\n",
      "Requirement already satisfied: scipy in ./test_vevn/lib/python3.8/site-packages (from pattern) (1.5.4)\n",
      "Requirement already satisfied: soupsieve>1.2; python_version >= \"3.0\" in ./test_vevn/lib/python3.8/site-packages (from beautifulsoup4->pattern) (2.0.1)\n",
      "Requirement already satisfied: portend>=2.1.1 in ./test_vevn/lib/python3.8/site-packages (from cherrypy->pattern) (2.7.0)\n",
      "Requirement already satisfied: zc.lockfile in ./test_vevn/lib/python3.8/site-packages (from cherrypy->pattern) (2.0)\n",
      "Requirement already satisfied: jaraco.collections in ./test_vevn/lib/python3.8/site-packages (from cherrypy->pattern) (3.0.0)\n",
      "Requirement already satisfied: cheroot>=8.2.1 in ./test_vevn/lib/python3.8/site-packages (from cherrypy->pattern) (8.4.8)\n",
      "Requirement already satisfied: more-itertools in ./test_vevn/lib/python3.8/site-packages (from cherrypy->pattern) (8.6.0)\n",
      "Requirement already satisfied: sgmllib3k in ./test_vevn/lib/python3.8/site-packages (from feedparser->pattern) (1.0.0)\n",
      "Requirement already satisfied: click in ./test_vevn/lib/python3.8/site-packages (from nltk->pattern) (7.1.2)\n",
      "Requirement already satisfied: joblib in ./test_vevn/lib/python3.8/site-packages (from nltk->pattern) (0.17.0)\n",
      "Requirement already satisfied: regex in ./test_vevn/lib/python3.8/site-packages (from nltk->pattern) (2020.11.11)\n",
      "Requirement already satisfied: tqdm in ./test_vevn/lib/python3.8/site-packages (from nltk->pattern) (4.51.0)\n",
      "Requirement already satisfied: chardet; python_version > \"3.0\" in ./test_vevn/lib/python3.8/site-packages (from pdfminer.six->pattern) (3.0.4)\n",
      "Requirement already satisfied: cryptography in ./test_vevn/lib/python3.8/site-packages (from pdfminer.six->pattern) (3.2.1)\n",
      "Requirement already satisfied: sortedcontainers in ./test_vevn/lib/python3.8/site-packages (from pdfminer.six->pattern) (2.3.0)\n",
      "Requirement already satisfied: certifi>=2017.4.17 in ./test_vevn/lib/python3.8/site-packages (from requests->pattern) (2020.11.8)\n",
      "Requirement already satisfied: urllib3<1.27,>=1.21.1 in ./test_vevn/lib/python3.8/site-packages (from requests->pattern) (1.26.2)\n",
      "Requirement already satisfied: idna<3,>=2.5 in ./test_vevn/lib/python3.8/site-packages (from requests->pattern) (2.10)\n",
      "Requirement already satisfied: tempora>=1.8 in ./test_vevn/lib/python3.8/site-packages (from portend>=2.1.1->cherrypy->pattern) (4.0.1)\n",
      "Requirement already satisfied: setuptools in ./test_vevn/lib/python3.8/site-packages (from zc.lockfile->cherrypy->pattern) (44.0.0)\n",
      "Requirement already satisfied: jaraco.text in ./test_vevn/lib/python3.8/site-packages (from jaraco.collections->cherrypy->pattern) (3.2.0)\n",
      "Requirement already satisfied: jaraco.classes in ./test_vevn/lib/python3.8/site-packages (from jaraco.collections->cherrypy->pattern) (3.1.0)\n",
      "Requirement already satisfied: six>=1.7.0 in ./test_vevn/lib/python3.8/site-packages (from jaraco.collections->cherrypy->pattern) (1.15.0)\n",
      "Requirement already satisfied: jaraco.functools in ./test_vevn/lib/python3.8/site-packages (from cheroot>=8.2.1->cherrypy->pattern) (3.0.1)\n",
      "Requirement already satisfied: cffi!=1.11.3,>=1.8 in ./test_vevn/lib/python3.8/site-packages (from cryptography->pdfminer.six->pattern) (1.14.4)\n",
      "Requirement already satisfied: pytz in ./test_vevn/lib/python3.8/site-packages (from tempora>=1.8->portend>=2.1.1->cherrypy->pattern) (2020.4)\n",
      "Requirement already satisfied: pycparser in ./test_vevn/lib/python3.8/site-packages (from cffi!=1.11.3,>=1.8->cryptography->pdfminer.six->pattern) (2.20)\n"
     ]
    }
   ],
   "source": [
    "! pip3 install wheel\n",
    "! pip3 install pattern"
   ]
  },
  {
   "cell_type": "code",
   "execution_count": 16,
   "metadata": {},
   "outputs": [
    {
     "output_type": "execute_result",
     "data": {
      "text/plain": [
       "'the stripe bat be hang on their feet and eat best fishes'"
      ]
     },
     "metadata": {},
     "execution_count": 16
    }
   ],
   "source": [
    "import pattern\n",
    "from pattern.en import lemma, lexeme\n",
    "\n",
    "sentence = \"The striped bats were hanging on their feet and ate best fishes\"\n",
    "\" \".join([lemma(wd) for wd in sentence.split()])\n",
    "#> 'the stripe bat be hang on their feet and eat best fishes'"
   ]
  },
  {
   "cell_type": "code",
   "execution_count": 43,
   "metadata": {},
   "outputs": [
    {
     "output_type": "execute_result",
     "data": {
      "text/plain": [
       "[['the', 'thes', 'thing', 'thed'],\n",
       " ['stripe', 'stripes', 'striping', 'striped'],\n",
       " ['bat', 'bats', 'batting', 'batted'],\n",
       " ['be',\n",
       "  'am',\n",
       "  'are',\n",
       "  'is',\n",
       "  'being',\n",
       "  'was',\n",
       "  'were',\n",
       "  'been',\n",
       "  'am not',\n",
       "  \"aren't\",\n",
       "  \"isn't\",\n",
       "  \"wasn't\",\n",
       "  \"weren't\"],\n",
       " ['hang', 'hangs', 'hanging', 'hung'],\n",
       " ['on', 'ons', 'oning', 'oned'],\n",
       " ['their', 'theirs', 'theiring', 'theired'],\n",
       " ['feet', 'feets', 'feeting', 'feeted'],\n",
       " ['and', 'ands', 'anding', 'anded'],\n",
       " ['eat', 'eats', 'eating', 'ate', 'eaten'],\n",
       " ['best', 'bests', 'besting', 'bested'],\n",
       " ['fishes', 'fishing', 'fishesed']]"
      ]
     },
     "metadata": {},
     "execution_count": 43
    }
   ],
   "source": [
    "# Lexeme's for each word \n",
    "[lexeme(wd) for wd in sentence.split()]"
   ]
  },
  {
   "cell_type": "code",
   "execution_count": 48,
   "metadata": {},
   "outputs": [
    {
     "output_type": "stream",
     "name": "stdout",
     "text": [
      "The/DT/the striped/JJ/striped bats/NNS/bat were/VBD/be hanging/VBG/hang on/IN/on their/PRP$/their feet/NNS/foot and/CC/and ate/VBD/eat best/JJ/best fishes/NNS/fish\n"
     ]
    }
   ],
   "source": [
    "from pattern.en import parse\n",
    "\n",
    "print(parse('The striped bats were hanging on their feet and ate best fishes', lemmata=True, tags=False, chunks=False))\n",
    "#> The/DT/the striped/JJ/striped bats/NNS/bat were/VBD/be hanging/VBG/hang on/IN/on their/PRP$/their \n",
    "#>  feet/NNS/foot and/CC/and ate/VBD/eat best/JJ/best fishes/NNS/fish"
   ]
  },
  {
   "source": [
    "#### Gensim Lemmatize \n",
    "\n",
    "* based on the pattern package "
   ],
   "cell_type": "markdown",
   "metadata": {}
  },
  {
   "cell_type": "code",
   "execution_count": 50,
   "metadata": {},
   "outputs": [
    {
     "output_type": "stream",
     "name": "stdout",
     "text": [
      "Collecting gensim\n",
      "  Downloading gensim-3.8.3-cp38-cp38-manylinux1_x86_64.whl (24.2 MB)\n",
      "\u001b[K     |████████████████████████████████| 24.2 MB 21.3 MB/s \n",
      "\u001b[?25hRequirement already satisfied: numpy>=1.11.3 in ./test_vevn/lib/python3.8/site-packages (from gensim) (1.19.3)\n",
      "Requirement already satisfied: six>=1.5.0 in ./test_vevn/lib/python3.8/site-packages (from gensim) (1.15.0)\n",
      "Collecting smart-open>=1.8.1\n",
      "  Downloading smart_open-4.0.1.tar.gz (117 kB)\n",
      "\u001b[K     |████████████████████████████████| 117 kB 67.2 MB/s \n",
      "\u001b[?25hRequirement already satisfied: scipy>=0.18.1 in ./test_vevn/lib/python3.8/site-packages (from gensim) (1.5.4)\n",
      "Building wheels for collected packages: smart-open\n",
      "  Building wheel for smart-open (setup.py) ... \u001b[?25ldone\n",
      "\u001b[?25h  Created wheel for smart-open: filename=smart_open-4.0.1-py3-none-any.whl size=108243 sha256=ee691331d313a142bce0ead510e4064f455ff90cb0761b8706b3938e72b8340a\n",
      "  Stored in directory: /home/lena/.cache/pip/wheels/8c/f9/f4/4ddd9ddee3488f48be20e9bf3108961f03ae23da29b7ed26d1\n",
      "Successfully built smart-open\n",
      "Installing collected packages: smart-open, gensim\n",
      "Successfully installed gensim-3.8.3 smart-open-4.0.1\n"
     ]
    }
   ],
   "source": [
    "! pip3 install gensim"
   ]
  },
  {
   "cell_type": "code",
   "execution_count": 53,
   "metadata": {},
   "outputs": [
    {
     "output_type": "execute_result",
     "data": {
      "text/plain": [
       "['striped', 'bat', 'be', 'hang', 'foot', 'eat', 'best', 'fish']"
      ]
     },
     "metadata": {},
     "execution_count": 53
    }
   ],
   "source": [
    "from gensim.utils import lemmatize\n",
    "\n",
    "sentence = \"The striped bats were hanging on their feet and ate best fishes\"\n",
    "lemmatized_out = [wd.decode('utf-8').split('/')[0] for wd in lemmatize(sentence)]\n",
    "#> ['striped', 'bat', 'be', 'hang', 'foot', 'eat', 'best', 'fish']\n",
    "lemmatized_out"
   ]
  },
  {
   "cell_type": "code",
   "execution_count": 20,
   "metadata": {},
   "outputs": [],
   "source": [
    "from nltk.stem import WordNetLemmatizer\n",
    "\n",
    "lemmatizer = WordNetLemmatizer()\n",
    "genres = movies['genres']"
   ]
  },
  {
   "cell_type": "code",
   "execution_count": 23,
   "metadata": {},
   "outputs": [],
   "source": [
    "li = [] \n",
    "\n",
    "for i in range(len(genres)):\n",
    "    tmp = genres[i].lower()\n",
    "    tmp = tmp.split('|')\n",
    "    tmp = [lemmatizer.lemmatize(word) for word in tmp]\n",
    "    li.append(\" \".join(tmp))"
   ]
  },
  {
   "cell_type": "code",
   "execution_count": 29,
   "metadata": {},
   "outputs": [
    {
     "output_type": "execute_result",
     "data": {
      "text/plain": [
       "                                                                      genres\n",
       "title                                                                       \n",
       "Toy Story (1995)                    adventure animation child comedy fantasy\n",
       "Jumanji (1995)                                       adventure child fantasy\n",
       "Grumpier Old Men (1995)                                       comedy romance\n",
       "Waiting to Exhale (1995)                                comedy drama romance\n",
       "Father of the Bride Part II (1995)                                    comedy"
      ],
      "text/html": "<div>\n<style scoped>\n    .dataframe tbody tr th:only-of-type {\n        vertical-align: middle;\n    }\n\n    .dataframe tbody tr th {\n        vertical-align: top;\n    }\n\n    .dataframe thead th {\n        text-align: right;\n    }\n</style>\n<table border=\"1\" class=\"dataframe\">\n  <thead>\n    <tr style=\"text-align: right;\">\n      <th></th>\n      <th>genres</th>\n    </tr>\n    <tr>\n      <th>title</th>\n      <th></th>\n    </tr>\n  </thead>\n  <tbody>\n    <tr>\n      <th>Toy Story (1995)</th>\n      <td>adventure animation child comedy fantasy</td>\n    </tr>\n    <tr>\n      <th>Jumanji (1995)</th>\n      <td>adventure child fantasy</td>\n    </tr>\n    <tr>\n      <th>Grumpier Old Men (1995)</th>\n      <td>comedy romance</td>\n    </tr>\n    <tr>\n      <th>Waiting to Exhale (1995)</th>\n      <td>comedy drama romance</td>\n    </tr>\n    <tr>\n      <th>Father of the Bride Part II (1995)</th>\n      <td>comedy</td>\n    </tr>\n  </tbody>\n</table>\n</div>"
     },
     "metadata": {},
     "execution_count": 29
    }
   ],
   "source": [
    "lemmatized_movies = pd.DataFrame(li, columns=['genres'], index=movies['title'])\n",
    "lemmatized_movies.head()"
   ]
  },
  {
   "cell_type": "code",
   "execution_count": 27,
   "metadata": {},
   "outputs": [
    {
     "output_type": "execute_result",
     "data": {
      "text/plain": [
       "(10329, 24)"
      ]
     },
     "metadata": {},
     "execution_count": 27
    }
   ],
   "source": [
    "#Finding based on similar movies\n",
    "from sklearn.feature_extraction.text import CountVectorizer\n",
    "\n",
    "cv = CountVectorizer()\n",
    "X = cv.fit_transform(lemmatized_movies[\"genres\"]).toarray()\n",
    "X.shape"
   ]
  },
  {
   "cell_type": "code",
   "execution_count": 30,
   "metadata": {},
   "outputs": [
    {
     "output_type": "stream",
     "name": "stdout",
     "text": [
      "Count Vector : \n [[0 1 1 ... 0 0 0]\n [0 1 0 ... 0 0 0]\n [0 0 0 ... 0 0 0]\n ...\n [0 0 0 ... 0 0 0]\n [0 0 0 ... 0 0 0]\n [0 0 0 ... 0 0 0]]\n\nNote: First row of above count vector:  [0 1 1 1 1 0 0 0 1 0 0 0 0 0 0 0 0 0 0 0 0 0 0 0]\n\nColumns Coresponding to above count vector is :\n ['action', 'adventure', 'animation', 'child', 'comedy', 'crime', 'documentary', 'drama', 'fantasy', 'fi', 'film', 'genres', 'horror', 'imax', 'listed', 'musical', 'mystery', 'no', 'noir', 'romance', 'sci', 'thriller', 'war', 'western']\n"
     ]
    }
   ],
   "source": [
    "print(\"Count Vector : \\n\",X)\n",
    "print(\"\\nNote: First row of above count vector: \",X[0])\n",
    "print(\"\\nColumns Coresponding to above count vector is :\\n\",cv.get_feature_names())"
   ]
  },
  {
   "cell_type": "code",
   "execution_count": 32,
   "metadata": {},
   "outputs": [
    {
     "output_type": "execute_result",
     "data": {
      "text/plain": [
       "       movieId                                title  action  adventure  \\\n",
       "0            1                     Toy Story (1995)       0          1   \n",
       "1            2                       Jumanji (1995)       0          1   \n",
       "2            3              Grumpier Old Men (1995)       0          0   \n",
       "3            4             Waiting to Exhale (1995)       0          0   \n",
       "4            5   Father of the Bride Part II (1995)       0          0   \n",
       "...        ...                                  ...     ...        ...   \n",
       "10324   146684        Cosmic Scrat-tastrophe (2015)       0          0   \n",
       "10325   146878           Le Grand Restaurant (1966)       0          0   \n",
       "10326   148238       A Very Murray Christmas (2015)       0          0   \n",
       "10327   148626                 The Big Short (2015)       0          0   \n",
       "10328   149532  Marco Polo: One Hundred Eyes (2015)       0          0   \n",
       "\n",
       "       animation  child  comedy  crime  documentary  drama  ...  listed  \\\n",
       "0              1      1       1      0            0      0  ...       0   \n",
       "1              0      1       0      0            0      0  ...       0   \n",
       "2              0      0       1      0            0      0  ...       0   \n",
       "3              0      0       1      0            0      1  ...       0   \n",
       "4              0      0       1      0            0      0  ...       0   \n",
       "...          ...    ...     ...    ...          ...    ...  ...     ...   \n",
       "10324          1      1       1      0            0      0  ...       0   \n",
       "10325          0      0       1      0            0      0  ...       0   \n",
       "10326          0      0       1      0            0      0  ...       0   \n",
       "10327          0      0       0      0            0      1  ...       0   \n",
       "10328          0      0       0      0            0      0  ...       1   \n",
       "\n",
       "       musical  mystery  no  noir  romance  sci  thriller  war  western  \n",
       "0            0        0   0     0        0    0         0    0        0  \n",
       "1            0        0   0     0        0    0         0    0        0  \n",
       "2            0        0   0     0        1    0         0    0        0  \n",
       "3            0        0   0     0        1    0         0    0        0  \n",
       "4            0        0   0     0        0    0         0    0        0  \n",
       "...        ...      ...  ..   ...      ...  ...       ...  ...      ...  \n",
       "10324        0        0   0     0        0    0         0    0        0  \n",
       "10325        0        0   0     0        0    0         0    0        0  \n",
       "10326        0        0   0     0        0    0         0    0        0  \n",
       "10327        0        0   0     0        0    0         0    0        0  \n",
       "10328        0        0   1     0        0    0         0    0        0  \n",
       "\n",
       "[10329 rows x 26 columns]"
      ],
      "text/html": "<div>\n<style scoped>\n    .dataframe tbody tr th:only-of-type {\n        vertical-align: middle;\n    }\n\n    .dataframe tbody tr th {\n        vertical-align: top;\n    }\n\n    .dataframe thead th {\n        text-align: right;\n    }\n</style>\n<table border=\"1\" class=\"dataframe\">\n  <thead>\n    <tr style=\"text-align: right;\">\n      <th></th>\n      <th>movieId</th>\n      <th>title</th>\n      <th>action</th>\n      <th>adventure</th>\n      <th>animation</th>\n      <th>child</th>\n      <th>comedy</th>\n      <th>crime</th>\n      <th>documentary</th>\n      <th>drama</th>\n      <th>...</th>\n      <th>listed</th>\n      <th>musical</th>\n      <th>mystery</th>\n      <th>no</th>\n      <th>noir</th>\n      <th>romance</th>\n      <th>sci</th>\n      <th>thriller</th>\n      <th>war</th>\n      <th>western</th>\n    </tr>\n  </thead>\n  <tbody>\n    <tr>\n      <th>0</th>\n      <td>1</td>\n      <td>Toy Story (1995)</td>\n      <td>0</td>\n      <td>1</td>\n      <td>1</td>\n      <td>1</td>\n      <td>1</td>\n      <td>0</td>\n      <td>0</td>\n      <td>0</td>\n      <td>...</td>\n      <td>0</td>\n      <td>0</td>\n      <td>0</td>\n      <td>0</td>\n      <td>0</td>\n      <td>0</td>\n      <td>0</td>\n      <td>0</td>\n      <td>0</td>\n      <td>0</td>\n    </tr>\n    <tr>\n      <th>1</th>\n      <td>2</td>\n      <td>Jumanji (1995)</td>\n      <td>0</td>\n      <td>1</td>\n      <td>0</td>\n      <td>1</td>\n      <td>0</td>\n      <td>0</td>\n      <td>0</td>\n      <td>0</td>\n      <td>...</td>\n      <td>0</td>\n      <td>0</td>\n      <td>0</td>\n      <td>0</td>\n      <td>0</td>\n      <td>0</td>\n      <td>0</td>\n      <td>0</td>\n      <td>0</td>\n      <td>0</td>\n    </tr>\n    <tr>\n      <th>2</th>\n      <td>3</td>\n      <td>Grumpier Old Men (1995)</td>\n      <td>0</td>\n      <td>0</td>\n      <td>0</td>\n      <td>0</td>\n      <td>1</td>\n      <td>0</td>\n      <td>0</td>\n      <td>0</td>\n      <td>...</td>\n      <td>0</td>\n      <td>0</td>\n      <td>0</td>\n      <td>0</td>\n      <td>0</td>\n      <td>1</td>\n      <td>0</td>\n      <td>0</td>\n      <td>0</td>\n      <td>0</td>\n    </tr>\n    <tr>\n      <th>3</th>\n      <td>4</td>\n      <td>Waiting to Exhale (1995)</td>\n      <td>0</td>\n      <td>0</td>\n      <td>0</td>\n      <td>0</td>\n      <td>1</td>\n      <td>0</td>\n      <td>0</td>\n      <td>1</td>\n      <td>...</td>\n      <td>0</td>\n      <td>0</td>\n      <td>0</td>\n      <td>0</td>\n      <td>0</td>\n      <td>1</td>\n      <td>0</td>\n      <td>0</td>\n      <td>0</td>\n      <td>0</td>\n    </tr>\n    <tr>\n      <th>4</th>\n      <td>5</td>\n      <td>Father of the Bride Part II (1995)</td>\n      <td>0</td>\n      <td>0</td>\n      <td>0</td>\n      <td>0</td>\n      <td>1</td>\n      <td>0</td>\n      <td>0</td>\n      <td>0</td>\n      <td>...</td>\n      <td>0</td>\n      <td>0</td>\n      <td>0</td>\n      <td>0</td>\n      <td>0</td>\n      <td>0</td>\n      <td>0</td>\n      <td>0</td>\n      <td>0</td>\n      <td>0</td>\n    </tr>\n    <tr>\n      <th>...</th>\n      <td>...</td>\n      <td>...</td>\n      <td>...</td>\n      <td>...</td>\n      <td>...</td>\n      <td>...</td>\n      <td>...</td>\n      <td>...</td>\n      <td>...</td>\n      <td>...</td>\n      <td>...</td>\n      <td>...</td>\n      <td>...</td>\n      <td>...</td>\n      <td>...</td>\n      <td>...</td>\n      <td>...</td>\n      <td>...</td>\n      <td>...</td>\n      <td>...</td>\n      <td>...</td>\n    </tr>\n    <tr>\n      <th>10324</th>\n      <td>146684</td>\n      <td>Cosmic Scrat-tastrophe (2015)</td>\n      <td>0</td>\n      <td>0</td>\n      <td>1</td>\n      <td>1</td>\n      <td>1</td>\n      <td>0</td>\n      <td>0</td>\n      <td>0</td>\n      <td>...</td>\n      <td>0</td>\n      <td>0</td>\n      <td>0</td>\n      <td>0</td>\n      <td>0</td>\n      <td>0</td>\n      <td>0</td>\n      <td>0</td>\n      <td>0</td>\n      <td>0</td>\n    </tr>\n    <tr>\n      <th>10325</th>\n      <td>146878</td>\n      <td>Le Grand Restaurant (1966)</td>\n      <td>0</td>\n      <td>0</td>\n      <td>0</td>\n      <td>0</td>\n      <td>1</td>\n      <td>0</td>\n      <td>0</td>\n      <td>0</td>\n      <td>...</td>\n      <td>0</td>\n      <td>0</td>\n      <td>0</td>\n      <td>0</td>\n      <td>0</td>\n      <td>0</td>\n      <td>0</td>\n      <td>0</td>\n      <td>0</td>\n      <td>0</td>\n    </tr>\n    <tr>\n      <th>10326</th>\n      <td>148238</td>\n      <td>A Very Murray Christmas (2015)</td>\n      <td>0</td>\n      <td>0</td>\n      <td>0</td>\n      <td>0</td>\n      <td>1</td>\n      <td>0</td>\n      <td>0</td>\n      <td>0</td>\n      <td>...</td>\n      <td>0</td>\n      <td>0</td>\n      <td>0</td>\n      <td>0</td>\n      <td>0</td>\n      <td>0</td>\n      <td>0</td>\n      <td>0</td>\n      <td>0</td>\n      <td>0</td>\n    </tr>\n    <tr>\n      <th>10327</th>\n      <td>148626</td>\n      <td>The Big Short (2015)</td>\n      <td>0</td>\n      <td>0</td>\n      <td>0</td>\n      <td>0</td>\n      <td>0</td>\n      <td>0</td>\n      <td>0</td>\n      <td>1</td>\n      <td>...</td>\n      <td>0</td>\n      <td>0</td>\n      <td>0</td>\n      <td>0</td>\n      <td>0</td>\n      <td>0</td>\n      <td>0</td>\n      <td>0</td>\n      <td>0</td>\n      <td>0</td>\n    </tr>\n    <tr>\n      <th>10328</th>\n      <td>149532</td>\n      <td>Marco Polo: One Hundred Eyes (2015)</td>\n      <td>0</td>\n      <td>0</td>\n      <td>0</td>\n      <td>0</td>\n      <td>0</td>\n      <td>0</td>\n      <td>0</td>\n      <td>0</td>\n      <td>...</td>\n      <td>1</td>\n      <td>0</td>\n      <td>0</td>\n      <td>1</td>\n      <td>0</td>\n      <td>0</td>\n      <td>0</td>\n      <td>0</td>\n      <td>0</td>\n      <td>0</td>\n    </tr>\n  </tbody>\n</table>\n<p>10329 rows × 26 columns</p>\n</div>"
     },
     "metadata": {},
     "execution_count": 32
    }
   ],
   "source": [
    "output = movies.loc[:,['movieId','title']]\n",
    "output = output.join(pd.DataFrame(X, columns=cv.get_feature_names()))\n",
    "output"
   ]
  },
  {
   "cell_type": "code",
   "execution_count": 35,
   "metadata": {},
   "outputs": [
    {
     "output_type": "execute_result",
     "data": {
      "text/plain": [
       "array([[1.        , 0.77459667, 0.31622777, ..., 0.4472136 , 0.        ,\n",
       "        0.        ],\n",
       "       [0.77459667, 1.        , 0.        , ..., 0.        , 0.        ,\n",
       "        0.        ],\n",
       "       [0.31622777, 0.        , 1.        , ..., 0.70710678, 0.        ,\n",
       "        0.        ],\n",
       "       ...,\n",
       "       [0.4472136 , 0.        , 0.70710678, ..., 1.        , 0.        ,\n",
       "        0.        ],\n",
       "       [0.        , 0.        , 0.        , ..., 0.        , 1.        ,\n",
       "        0.        ],\n",
       "       [0.        , 0.        , 0.        , ..., 0.        , 0.        ,\n",
       "        1.        ]])"
      ]
     },
     "metadata": {},
     "execution_count": 35
    }
   ],
   "source": [
    "#Row corresponds to a movie name\n",
    "from sklearn.metrics.pairwise import cosine_similarity\n",
    "\n",
    "similarities = cosine_similarity(X) \n",
    "#Each row of matrix coressponds to similarity of a movie with all other movies (row len = 10329)\n",
    "similarities"
   ]
  },
  {
   "cell_type": "code",
   "execution_count": 39,
   "metadata": {},
   "outputs": [
    {
     "output_type": "execute_result",
     "data": {
      "text/plain": [
       "8798"
      ]
     },
     "metadata": {},
     "execution_count": 39
    }
   ],
   "source": [
    "uid = 18 #For user 18 lets recommend movies based on his recent watched movie\n",
    "\n",
    "time = rating.loc[rating[\"userId\"]==uid,[\"movieId\",\"timestamp\"]]\n",
    "latest_movieId_watched_by_user = time.sort_values(by=\"timestamp\",ascending=False)[\"movieId\"].values[0]\n",
    "latest_movieId_watched_by_user"
   ]
  },
  {
   "cell_type": "code",
   "execution_count": 40,
   "metadata": {},
   "outputs": [
    {
     "output_type": "execute_result",
     "data": {
      "text/plain": [
       "      movieId              title  action  adventure  animation  child  comedy  \\\n",
       "5801     8798  Collateral (2004)       1          0          0      0       0   \n",
       "\n",
       "      crime  documentary  drama  ...  listed  musical  mystery  no  noir  \\\n",
       "5801      1            0      1  ...       0        0        0   0     0   \n",
       "\n",
       "      romance  sci  thriller  war  western  \n",
       "5801        0    0         1    0        0  \n",
       "\n",
       "[1 rows x 26 columns]"
      ],
      "text/html": "<div>\n<style scoped>\n    .dataframe tbody tr th:only-of-type {\n        vertical-align: middle;\n    }\n\n    .dataframe tbody tr th {\n        vertical-align: top;\n    }\n\n    .dataframe thead th {\n        text-align: right;\n    }\n</style>\n<table border=\"1\" class=\"dataframe\">\n  <thead>\n    <tr style=\"text-align: right;\">\n      <th></th>\n      <th>movieId</th>\n      <th>title</th>\n      <th>action</th>\n      <th>adventure</th>\n      <th>animation</th>\n      <th>child</th>\n      <th>comedy</th>\n      <th>crime</th>\n      <th>documentary</th>\n      <th>drama</th>\n      <th>...</th>\n      <th>listed</th>\n      <th>musical</th>\n      <th>mystery</th>\n      <th>no</th>\n      <th>noir</th>\n      <th>romance</th>\n      <th>sci</th>\n      <th>thriller</th>\n      <th>war</th>\n      <th>western</th>\n    </tr>\n  </thead>\n  <tbody>\n    <tr>\n      <th>5801</th>\n      <td>8798</td>\n      <td>Collateral (2004)</td>\n      <td>1</td>\n      <td>0</td>\n      <td>0</td>\n      <td>0</td>\n      <td>0</td>\n      <td>1</td>\n      <td>0</td>\n      <td>1</td>\n      <td>...</td>\n      <td>0</td>\n      <td>0</td>\n      <td>0</td>\n      <td>0</td>\n      <td>0</td>\n      <td>0</td>\n      <td>0</td>\n      <td>1</td>\n      <td>0</td>\n      <td>0</td>\n    </tr>\n  </tbody>\n</table>\n<p>1 rows × 26 columns</p>\n</div>"
     },
     "metadata": {},
     "execution_count": 40
    }
   ],
   "source": [
    "movie_index = movies.loc[movies['movieId']==latest_movieId_watched_by_user,[\"title\"]].index[0]\n",
    "output.loc[output['movieId']==8798,:]"
   ]
  },
  {
   "cell_type": "code",
   "execution_count": 41,
   "metadata": {},
   "outputs": [
    {
     "output_type": "execute_result",
     "data": {
      "text/plain": [
       "(5801, 'for movie id', 8798)"
      ]
     },
     "metadata": {},
     "execution_count": 41
    }
   ],
   "source": [
    "movie_index,\"for movie id\",latest_movieId_watched_by_user"
   ]
  },
  {
   "cell_type": "code",
   "execution_count": 42,
   "metadata": {},
   "outputs": [],
   "source": [
    "#we need index but we are using id to find which row is crct in similarities matrix\n",
    "movie_index = movies.loc[movies['movieId']==latest_movieId_watched_by_user,[\"title\"]].index[0]\n",
    "similarity_values = pd.Series(similarities[movie_index])"
   ]
  },
  {
   "cell_type": "code",
   "execution_count": 43,
   "metadata": {},
   "outputs": [
    {
     "output_type": "execute_result",
     "data": {
      "text/plain": [
       "2906    1.0\n",
       "7942    1.0\n",
       "6531    1.0\n",
       "6530    1.0\n",
       "7534    1.0\n",
       "       ... \n",
       "4538    0.0\n",
       "4536    0.0\n",
       "4533    0.0\n",
       "4532    0.0\n",
       "0       0.0\n",
       "Length: 10329, dtype: float64"
      ]
     },
     "metadata": {},
     "execution_count": 43
    }
   ],
   "source": [
    "#We converted list into series in order to preserve the actual indexes of dataset even after sorting\n",
    "similarity_values.sort_values(ascending=False)"
   ]
  },
  {
   "cell_type": "code",
   "execution_count": 45,
   "metadata": {},
   "outputs": [],
   "source": [
    "similar_movie_indexes = list(similarity_values.sort_values(ascending=False).index)\n",
    "# similar_movie_indexes"
   ]
  },
  {
   "cell_type": "code",
   "execution_count": 46,
   "metadata": {},
   "outputs": [],
   "source": [
    "#Remove the already watched movie from index list\n",
    "similar_movie_indexes.remove(movie_index)"
   ]
  },
  {
   "cell_type": "code",
   "execution_count": 49,
   "metadata": {},
   "outputs": [
    {
     "output_type": "execute_result",
     "data": {
      "text/plain": [
       "'Background to Danger (1943)'"
      ]
     },
     "metadata": {},
     "execution_count": 49
    }
   ],
   "source": [
    "def get_movie_by_index(idx, dataframe):\n",
    "    return dataframe.index[idx]\n",
    "def get_movie_by_id(mv_id, dataframe):\n",
    "    return dataframe.loc[dataframe['movieId']==mv_id,['title']].values[0][0]\n",
    "get_movie_by_index(8899, lemmatized_movies)"
   ]
  },
  {
   "cell_type": "code",
   "execution_count": 51,
   "metadata": {},
   "outputs": [
    {
     "output_type": "stream",
     "name": "stdout",
     "text": [
      "Since u watched ---> Collateral (2004) <--- We recommend you\nMagnum Force (1973)\nPunisher: War Zone (2008)\nThriller: A Cruel Picture (Thriller - en grym film) (1974)\nViolent Cop (Sono otoko, kyôbô ni tsuki) (1989)\nElite Squad (Tropa de Elite) (2007)\nCop Land (1997)\nMax Payne (2008)\nRampart (2011)\nGet the Gringo (2012)\nHand Gun (1994)\nWild Card (2015)\nTaken (2008)\nBoondock Saints II: All Saints Day, The (2009)\nCorruptor, The (1999)\nRun All Night (2015)\n"
     ]
    }
   ],
   "source": [
    "print(\"Since u watched --->\",get_movie_by_id(latest_movieId_watched_by_user, movies),\"<--- We recommend you\")\n",
    "for i in range(15):\n",
    "    print(get_movie_by_index(similar_movie_indexes[i], lemmatized_movies))"
   ]
  },
  {
   "source": [
    "## Collaborative Filtering\n",
    "\n",
    "* based on users\n",
    "* based on similar kind of users recommend the movies\n",
    "\n",
    "<center><img src=\"https://miro.medium.com/max/700/1*DqKuqlvMREPH18ccbs5hmg.png\" width=600 /></center>\n",
    "\n",
    "> In case of movies we will find almost similar person based on his movie experience and recommend the movies which are not common between them."
   ],
   "cell_type": "markdown",
   "metadata": {}
  },
  {
   "cell_type": "code",
   "execution_count": 63,
   "metadata": {},
   "outputs": [
    {
     "output_type": "execute_result",
     "data": {
      "text/plain": [
       "   userId  movieId  rating   timestamp\n",
       "0       1       16     4.0  1217897793\n",
       "1       1       24     1.5  1217895807\n",
       "2       1       32     4.0  1217896246\n",
       "3       1       47     4.0  1217896556\n",
       "4       1       50     4.0  1217896523"
      ],
      "text/html": "<div>\n<style scoped>\n    .dataframe tbody tr th:only-of-type {\n        vertical-align: middle;\n    }\n\n    .dataframe tbody tr th {\n        vertical-align: top;\n    }\n\n    .dataframe thead th {\n        text-align: right;\n    }\n</style>\n<table border=\"1\" class=\"dataframe\">\n  <thead>\n    <tr style=\"text-align: right;\">\n      <th></th>\n      <th>userId</th>\n      <th>movieId</th>\n      <th>rating</th>\n      <th>timestamp</th>\n    </tr>\n  </thead>\n  <tbody>\n    <tr>\n      <th>0</th>\n      <td>1</td>\n      <td>16</td>\n      <td>4.0</td>\n      <td>1217897793</td>\n    </tr>\n    <tr>\n      <th>1</th>\n      <td>1</td>\n      <td>24</td>\n      <td>1.5</td>\n      <td>1217895807</td>\n    </tr>\n    <tr>\n      <th>2</th>\n      <td>1</td>\n      <td>32</td>\n      <td>4.0</td>\n      <td>1217896246</td>\n    </tr>\n    <tr>\n      <th>3</th>\n      <td>1</td>\n      <td>47</td>\n      <td>4.0</td>\n      <td>1217896556</td>\n    </tr>\n    <tr>\n      <th>4</th>\n      <td>1</td>\n      <td>50</td>\n      <td>4.0</td>\n      <td>1217896523</td>\n    </tr>\n  </tbody>\n</table>\n</div>"
     },
     "metadata": {},
     "execution_count": 63
    }
   ],
   "source": [
    "rating.head()"
   ]
  },
  {
   "cell_type": "code",
   "execution_count": 74,
   "metadata": {},
   "outputs": [
    {
     "output_type": "execute_result",
     "data": {
      "text/plain": [
       "                                         rating\n",
       "title                                          \n",
       "'71 (2014)                                3.500\n",
       "'Hellboy': The Seeds of Creation (2004)   3.000\n",
       "'Round Midnight (1986)                    2.500\n",
       "'Til There Was You (1997)                 4.000\n",
       "'burbs, The (1989)                        3.125"
      ],
      "text/html": "<div>\n<style scoped>\n    .dataframe tbody tr th:only-of-type {\n        vertical-align: middle;\n    }\n\n    .dataframe tbody tr th {\n        vertical-align: top;\n    }\n\n    .dataframe thead th {\n        text-align: right;\n    }\n</style>\n<table border=\"1\" class=\"dataframe\">\n  <thead>\n    <tr style=\"text-align: right;\">\n      <th></th>\n      <th>rating</th>\n    </tr>\n    <tr>\n      <th>title</th>\n      <th></th>\n    </tr>\n  </thead>\n  <tbody>\n    <tr>\n      <th>'71 (2014)</th>\n      <td>3.500</td>\n    </tr>\n    <tr>\n      <th>'Hellboy': The Seeds of Creation (2004)</th>\n      <td>3.000</td>\n    </tr>\n    <tr>\n      <th>'Round Midnight (1986)</th>\n      <td>2.500</td>\n    </tr>\n    <tr>\n      <th>'Til There Was You (1997)</th>\n      <td>4.000</td>\n    </tr>\n    <tr>\n      <th>'burbs, The (1989)</th>\n      <td>3.125</td>\n    </tr>\n  </tbody>\n</table>\n</div>"
     },
     "metadata": {},
     "execution_count": 74
    }
   ],
   "source": [
    "df = movies.merge(rating)\n",
    "df = df.loc[:, [\"userId\", \"movieId\", \"title\", \"genres\", \"rating\"]]\n",
    "df_ratings = df.loc[:, [\"title\", \"rating\"]].groupby(\"title\").mean()\n",
    "genres = df[\"genres\"]\n",
    "df_ratings.head()"
   ]
  },
  {
   "cell_type": "code",
   "execution_count": 95,
   "metadata": {},
   "outputs": [],
   "source": [
    "from nltk.stem import WordNetLemmatizer\n",
    "lemmatizer = WordNetLemmatizer()\n",
    "li = []\n",
    "for i in range(len(genres)):\n",
    "    temp = genres[i].split(\"|\")\n",
    "    for j in range(len(temp)):\n",
    "        temp[j] = lemmatizer.lemmatize(temp[j])\n",
    "    li.append(\" \".join(temp))"
   ]
  },
  {
   "cell_type": "code",
   "execution_count": 96,
   "metadata": {},
   "outputs": [
    {
     "output_type": "execute_result",
     "data": {
      "text/plain": [
       "        userId  movieId                                title  action  \\\n",
       "0            2        1                     Toy Story (1995)       0   \n",
       "1            5        1                     Toy Story (1995)       0   \n",
       "2            8        1                     Toy Story (1995)       0   \n",
       "3           11        1                     Toy Story (1995)       0   \n",
       "4           14        1                     Toy Story (1995)       0   \n",
       "...        ...      ...                                  ...     ...   \n",
       "105334     475   148238       A Very Murray Christmas (2015)       0   \n",
       "105335     458   148626                 The Big Short (2015)       0   \n",
       "105336     576   148626                 The Big Short (2015)       0   \n",
       "105337     668   148626                 The Big Short (2015)       0   \n",
       "105338     475   149532  Marco Polo: One Hundred Eyes (2015)       0   \n",
       "\n",
       "        adventure  animation  children  comedy  crime  documentary  ...  \\\n",
       "0               1          1         1       1      0            0  ...   \n",
       "1               1          1         1       1      0            0  ...   \n",
       "2               1          1         1       1      0            0  ...   \n",
       "3               1          1         1       1      0            0  ...   \n",
       "4               1          1         1       1      0            0  ...   \n",
       "...           ...        ...       ...     ...    ...          ...  ...   \n",
       "105334          0          0         0       1      0            0  ...   \n",
       "105335          0          0         0       0      0            0  ...   \n",
       "105336          0          0         0       0      0            0  ...   \n",
       "105337          0          0         0       0      0            0  ...   \n",
       "105338          0          0         0       0      0            0  ...   \n",
       "\n",
       "        listed  musical  mystery  no  noir  romance  sci  thriller  war  \\\n",
       "0            0        0        0   0     0        0    0         0    0   \n",
       "1            0        0        0   0     0        0    0         0    0   \n",
       "2            0        0        0   0     0        0    0         0    0   \n",
       "3            0        0        0   0     0        0    0         0    0   \n",
       "4            0        0        0   0     0        0    0         0    0   \n",
       "...        ...      ...      ...  ..   ...      ...  ...       ...  ...   \n",
       "105334       0        0        0   0     0        0    0         0    0   \n",
       "105335       0        0        0   0     0        0    0         0    0   \n",
       "105336       0        0        0   0     0        0    0         0    0   \n",
       "105337       0        0        0   0     0        0    0         0    0   \n",
       "105338       1        0        0   1     0        0    0         0    0   \n",
       "\n",
       "        western  \n",
       "0             0  \n",
       "1             0  \n",
       "2             0  \n",
       "3             0  \n",
       "4             0  \n",
       "...         ...  \n",
       "105334        0  \n",
       "105335        0  \n",
       "105336        0  \n",
       "105337        0  \n",
       "105338        0  \n",
       "\n",
       "[105339 rows x 27 columns]"
      ],
      "text/html": "<div>\n<style scoped>\n    .dataframe tbody tr th:only-of-type {\n        vertical-align: middle;\n    }\n\n    .dataframe tbody tr th {\n        vertical-align: top;\n    }\n\n    .dataframe thead th {\n        text-align: right;\n    }\n</style>\n<table border=\"1\" class=\"dataframe\">\n  <thead>\n    <tr style=\"text-align: right;\">\n      <th></th>\n      <th>userId</th>\n      <th>movieId</th>\n      <th>title</th>\n      <th>action</th>\n      <th>adventure</th>\n      <th>animation</th>\n      <th>children</th>\n      <th>comedy</th>\n      <th>crime</th>\n      <th>documentary</th>\n      <th>...</th>\n      <th>listed</th>\n      <th>musical</th>\n      <th>mystery</th>\n      <th>no</th>\n      <th>noir</th>\n      <th>romance</th>\n      <th>sci</th>\n      <th>thriller</th>\n      <th>war</th>\n      <th>western</th>\n    </tr>\n  </thead>\n  <tbody>\n    <tr>\n      <th>0</th>\n      <td>2</td>\n      <td>1</td>\n      <td>Toy Story (1995)</td>\n      <td>0</td>\n      <td>1</td>\n      <td>1</td>\n      <td>1</td>\n      <td>1</td>\n      <td>0</td>\n      <td>0</td>\n      <td>...</td>\n      <td>0</td>\n      <td>0</td>\n      <td>0</td>\n      <td>0</td>\n      <td>0</td>\n      <td>0</td>\n      <td>0</td>\n      <td>0</td>\n      <td>0</td>\n      <td>0</td>\n    </tr>\n    <tr>\n      <th>1</th>\n      <td>5</td>\n      <td>1</td>\n      <td>Toy Story (1995)</td>\n      <td>0</td>\n      <td>1</td>\n      <td>1</td>\n      <td>1</td>\n      <td>1</td>\n      <td>0</td>\n      <td>0</td>\n      <td>...</td>\n      <td>0</td>\n      <td>0</td>\n      <td>0</td>\n      <td>0</td>\n      <td>0</td>\n      <td>0</td>\n      <td>0</td>\n      <td>0</td>\n      <td>0</td>\n      <td>0</td>\n    </tr>\n    <tr>\n      <th>2</th>\n      <td>8</td>\n      <td>1</td>\n      <td>Toy Story (1995)</td>\n      <td>0</td>\n      <td>1</td>\n      <td>1</td>\n      <td>1</td>\n      <td>1</td>\n      <td>0</td>\n      <td>0</td>\n      <td>...</td>\n      <td>0</td>\n      <td>0</td>\n      <td>0</td>\n      <td>0</td>\n      <td>0</td>\n      <td>0</td>\n      <td>0</td>\n      <td>0</td>\n      <td>0</td>\n      <td>0</td>\n    </tr>\n    <tr>\n      <th>3</th>\n      <td>11</td>\n      <td>1</td>\n      <td>Toy Story (1995)</td>\n      <td>0</td>\n      <td>1</td>\n      <td>1</td>\n      <td>1</td>\n      <td>1</td>\n      <td>0</td>\n      <td>0</td>\n      <td>...</td>\n      <td>0</td>\n      <td>0</td>\n      <td>0</td>\n      <td>0</td>\n      <td>0</td>\n      <td>0</td>\n      <td>0</td>\n      <td>0</td>\n      <td>0</td>\n      <td>0</td>\n    </tr>\n    <tr>\n      <th>4</th>\n      <td>14</td>\n      <td>1</td>\n      <td>Toy Story (1995)</td>\n      <td>0</td>\n      <td>1</td>\n      <td>1</td>\n      <td>1</td>\n      <td>1</td>\n      <td>0</td>\n      <td>0</td>\n      <td>...</td>\n      <td>0</td>\n      <td>0</td>\n      <td>0</td>\n      <td>0</td>\n      <td>0</td>\n      <td>0</td>\n      <td>0</td>\n      <td>0</td>\n      <td>0</td>\n      <td>0</td>\n    </tr>\n    <tr>\n      <th>...</th>\n      <td>...</td>\n      <td>...</td>\n      <td>...</td>\n      <td>...</td>\n      <td>...</td>\n      <td>...</td>\n      <td>...</td>\n      <td>...</td>\n      <td>...</td>\n      <td>...</td>\n      <td>...</td>\n      <td>...</td>\n      <td>...</td>\n      <td>...</td>\n      <td>...</td>\n      <td>...</td>\n      <td>...</td>\n      <td>...</td>\n      <td>...</td>\n      <td>...</td>\n      <td>...</td>\n    </tr>\n    <tr>\n      <th>105334</th>\n      <td>475</td>\n      <td>148238</td>\n      <td>A Very Murray Christmas (2015)</td>\n      <td>0</td>\n      <td>0</td>\n      <td>0</td>\n      <td>0</td>\n      <td>1</td>\n      <td>0</td>\n      <td>0</td>\n      <td>...</td>\n      <td>0</td>\n      <td>0</td>\n      <td>0</td>\n      <td>0</td>\n      <td>0</td>\n      <td>0</td>\n      <td>0</td>\n      <td>0</td>\n      <td>0</td>\n      <td>0</td>\n    </tr>\n    <tr>\n      <th>105335</th>\n      <td>458</td>\n      <td>148626</td>\n      <td>The Big Short (2015)</td>\n      <td>0</td>\n      <td>0</td>\n      <td>0</td>\n      <td>0</td>\n      <td>0</td>\n      <td>0</td>\n      <td>0</td>\n      <td>...</td>\n      <td>0</td>\n      <td>0</td>\n      <td>0</td>\n      <td>0</td>\n      <td>0</td>\n      <td>0</td>\n      <td>0</td>\n      <td>0</td>\n      <td>0</td>\n      <td>0</td>\n    </tr>\n    <tr>\n      <th>105336</th>\n      <td>576</td>\n      <td>148626</td>\n      <td>The Big Short (2015)</td>\n      <td>0</td>\n      <td>0</td>\n      <td>0</td>\n      <td>0</td>\n      <td>0</td>\n      <td>0</td>\n      <td>0</td>\n      <td>...</td>\n      <td>0</td>\n      <td>0</td>\n      <td>0</td>\n      <td>0</td>\n      <td>0</td>\n      <td>0</td>\n      <td>0</td>\n      <td>0</td>\n      <td>0</td>\n      <td>0</td>\n    </tr>\n    <tr>\n      <th>105337</th>\n      <td>668</td>\n      <td>148626</td>\n      <td>The Big Short (2015)</td>\n      <td>0</td>\n      <td>0</td>\n      <td>0</td>\n      <td>0</td>\n      <td>0</td>\n      <td>0</td>\n      <td>0</td>\n      <td>...</td>\n      <td>0</td>\n      <td>0</td>\n      <td>0</td>\n      <td>0</td>\n      <td>0</td>\n      <td>0</td>\n      <td>0</td>\n      <td>0</td>\n      <td>0</td>\n      <td>0</td>\n    </tr>\n    <tr>\n      <th>105338</th>\n      <td>475</td>\n      <td>149532</td>\n      <td>Marco Polo: One Hundred Eyes (2015)</td>\n      <td>0</td>\n      <td>0</td>\n      <td>0</td>\n      <td>0</td>\n      <td>0</td>\n      <td>0</td>\n      <td>0</td>\n      <td>...</td>\n      <td>1</td>\n      <td>0</td>\n      <td>0</td>\n      <td>1</td>\n      <td>0</td>\n      <td>0</td>\n      <td>0</td>\n      <td>0</td>\n      <td>0</td>\n      <td>0</td>\n    </tr>\n  </tbody>\n</table>\n<p>105339 rows × 27 columns</p>\n</div>"
     },
     "metadata": {},
     "execution_count": 96
    }
   ],
   "source": [
    "from sklearn.feature_extraction.text import CountVectorizer\n",
    "\n",
    "cv = CountVectorizer()\n",
    "X = cv.fit_transform(li).toarray()\n",
    "\n",
    "genres = pd.DataFrame(X,columns=cv.get_feature_names())\n",
    "df = df.iloc[:,:-2]\n",
    "new_dataset = df.join(genres)\n",
    "\n",
    "new_dataset"
   ]
  },
  {
   "cell_type": "code",
   "execution_count": 97,
   "metadata": {},
   "outputs": [
    {
     "output_type": "execute_result",
     "data": {
      "text/plain": [
       "        action  adventure  animation  children  comedy  crime  documentary  \\\n",
       "userId                                                                       \n",
       "1           46         31          2         3      31     31            1   \n",
       "2            9         10          2         3      11      3            0   \n",
       "3           13          9          2         5      35     12            1   \n",
       "4           14         17          4         6      46     18            0   \n",
       "5           17         22         21        21      45      6            0   \n",
       "...        ...        ...        ...       ...     ...    ...          ...   \n",
       "664         36         30          2         3      26      9            1   \n",
       "665         73         51          7        16      60     61            0   \n",
       "666         34         27         10        19      83     36            1   \n",
       "667         16         13          3         3      37     12            0   \n",
       "668        880        615        122       183    1528    955          160   \n",
       "\n",
       "        drama  fantasy   fi  ...  listed  musical  mystery  no  noir  romance  \\\n",
       "userId                       ...                                                \n",
       "1          45        8   25  ...       0        1       13   0     2       16   \n",
       "2          11        4    5  ...       0        2        2   0     0        8   \n",
       "3          36        5    3  ...       0        3        4   0     0       22   \n",
       "4          76        8    3  ...       0        6       10   0     6       37   \n",
       "5          19       16    6  ...       0       11        3   0     0       21   \n",
       "...       ...      ...  ...  ...     ...      ...      ...  ..   ...      ...   \n",
       "664        16        8   22  ...       0        6        5   0     0       20   \n",
       "665       128       25   25  ...       0        5       24   0     0       31   \n",
       "666       101       19   30  ...       0        2       20   0     7       26   \n",
       "667        37       10    7  ...       0        1       12   0     0       20   \n",
       "668      3329      317  453  ...       3      231      464   3   184     1027   \n",
       "\n",
       "        sci  thriller  war  western  \n",
       "userId                               \n",
       "1        25        43   10        1  \n",
       "2         5        12    0        0  \n",
       "3         3        21    3        3  \n",
       "4         3        18   16        5  \n",
       "5         6        11    2        0  \n",
       "...     ...       ...  ...      ...  \n",
       "664      22        22    7        0  \n",
       "665      25       102   17        5  \n",
       "666      30        51    8        4  \n",
       "667       7        17    3        0  \n",
       "668     453      1491  337      173  \n",
       "\n",
       "[668 rows x 24 columns]"
      ],
      "text/html": "<div>\n<style scoped>\n    .dataframe tbody tr th:only-of-type {\n        vertical-align: middle;\n    }\n\n    .dataframe tbody tr th {\n        vertical-align: top;\n    }\n\n    .dataframe thead th {\n        text-align: right;\n    }\n</style>\n<table border=\"1\" class=\"dataframe\">\n  <thead>\n    <tr style=\"text-align: right;\">\n      <th></th>\n      <th>action</th>\n      <th>adventure</th>\n      <th>animation</th>\n      <th>children</th>\n      <th>comedy</th>\n      <th>crime</th>\n      <th>documentary</th>\n      <th>drama</th>\n      <th>fantasy</th>\n      <th>fi</th>\n      <th>...</th>\n      <th>listed</th>\n      <th>musical</th>\n      <th>mystery</th>\n      <th>no</th>\n      <th>noir</th>\n      <th>romance</th>\n      <th>sci</th>\n      <th>thriller</th>\n      <th>war</th>\n      <th>western</th>\n    </tr>\n    <tr>\n      <th>userId</th>\n      <th></th>\n      <th></th>\n      <th></th>\n      <th></th>\n      <th></th>\n      <th></th>\n      <th></th>\n      <th></th>\n      <th></th>\n      <th></th>\n      <th></th>\n      <th></th>\n      <th></th>\n      <th></th>\n      <th></th>\n      <th></th>\n      <th></th>\n      <th></th>\n      <th></th>\n      <th></th>\n      <th></th>\n    </tr>\n  </thead>\n  <tbody>\n    <tr>\n      <th>1</th>\n      <td>46</td>\n      <td>31</td>\n      <td>2</td>\n      <td>3</td>\n      <td>31</td>\n      <td>31</td>\n      <td>1</td>\n      <td>45</td>\n      <td>8</td>\n      <td>25</td>\n      <td>...</td>\n      <td>0</td>\n      <td>1</td>\n      <td>13</td>\n      <td>0</td>\n      <td>2</td>\n      <td>16</td>\n      <td>25</td>\n      <td>43</td>\n      <td>10</td>\n      <td>1</td>\n    </tr>\n    <tr>\n      <th>2</th>\n      <td>9</td>\n      <td>10</td>\n      <td>2</td>\n      <td>3</td>\n      <td>11</td>\n      <td>3</td>\n      <td>0</td>\n      <td>11</td>\n      <td>4</td>\n      <td>5</td>\n      <td>...</td>\n      <td>0</td>\n      <td>2</td>\n      <td>2</td>\n      <td>0</td>\n      <td>0</td>\n      <td>8</td>\n      <td>5</td>\n      <td>12</td>\n      <td>0</td>\n      <td>0</td>\n    </tr>\n    <tr>\n      <th>3</th>\n      <td>13</td>\n      <td>9</td>\n      <td>2</td>\n      <td>5</td>\n      <td>35</td>\n      <td>12</td>\n      <td>1</td>\n      <td>36</td>\n      <td>5</td>\n      <td>3</td>\n      <td>...</td>\n      <td>0</td>\n      <td>3</td>\n      <td>4</td>\n      <td>0</td>\n      <td>0</td>\n      <td>22</td>\n      <td>3</td>\n      <td>21</td>\n      <td>3</td>\n      <td>3</td>\n    </tr>\n    <tr>\n      <th>4</th>\n      <td>14</td>\n      <td>17</td>\n      <td>4</td>\n      <td>6</td>\n      <td>46</td>\n      <td>18</td>\n      <td>0</td>\n      <td>76</td>\n      <td>8</td>\n      <td>3</td>\n      <td>...</td>\n      <td>0</td>\n      <td>6</td>\n      <td>10</td>\n      <td>0</td>\n      <td>6</td>\n      <td>37</td>\n      <td>3</td>\n      <td>18</td>\n      <td>16</td>\n      <td>5</td>\n    </tr>\n    <tr>\n      <th>5</th>\n      <td>17</td>\n      <td>22</td>\n      <td>21</td>\n      <td>21</td>\n      <td>45</td>\n      <td>6</td>\n      <td>0</td>\n      <td>19</td>\n      <td>16</td>\n      <td>6</td>\n      <td>...</td>\n      <td>0</td>\n      <td>11</td>\n      <td>3</td>\n      <td>0</td>\n      <td>0</td>\n      <td>21</td>\n      <td>6</td>\n      <td>11</td>\n      <td>2</td>\n      <td>0</td>\n    </tr>\n    <tr>\n      <th>...</th>\n      <td>...</td>\n      <td>...</td>\n      <td>...</td>\n      <td>...</td>\n      <td>...</td>\n      <td>...</td>\n      <td>...</td>\n      <td>...</td>\n      <td>...</td>\n      <td>...</td>\n      <td>...</td>\n      <td>...</td>\n      <td>...</td>\n      <td>...</td>\n      <td>...</td>\n      <td>...</td>\n      <td>...</td>\n      <td>...</td>\n      <td>...</td>\n      <td>...</td>\n      <td>...</td>\n    </tr>\n    <tr>\n      <th>664</th>\n      <td>36</td>\n      <td>30</td>\n      <td>2</td>\n      <td>3</td>\n      <td>26</td>\n      <td>9</td>\n      <td>1</td>\n      <td>16</td>\n      <td>8</td>\n      <td>22</td>\n      <td>...</td>\n      <td>0</td>\n      <td>6</td>\n      <td>5</td>\n      <td>0</td>\n      <td>0</td>\n      <td>20</td>\n      <td>22</td>\n      <td>22</td>\n      <td>7</td>\n      <td>0</td>\n    </tr>\n    <tr>\n      <th>665</th>\n      <td>73</td>\n      <td>51</td>\n      <td>7</td>\n      <td>16</td>\n      <td>60</td>\n      <td>61</td>\n      <td>0</td>\n      <td>128</td>\n      <td>25</td>\n      <td>25</td>\n      <td>...</td>\n      <td>0</td>\n      <td>5</td>\n      <td>24</td>\n      <td>0</td>\n      <td>0</td>\n      <td>31</td>\n      <td>25</td>\n      <td>102</td>\n      <td>17</td>\n      <td>5</td>\n    </tr>\n    <tr>\n      <th>666</th>\n      <td>34</td>\n      <td>27</td>\n      <td>10</td>\n      <td>19</td>\n      <td>83</td>\n      <td>36</td>\n      <td>1</td>\n      <td>101</td>\n      <td>19</td>\n      <td>30</td>\n      <td>...</td>\n      <td>0</td>\n      <td>2</td>\n      <td>20</td>\n      <td>0</td>\n      <td>7</td>\n      <td>26</td>\n      <td>30</td>\n      <td>51</td>\n      <td>8</td>\n      <td>4</td>\n    </tr>\n    <tr>\n      <th>667</th>\n      <td>16</td>\n      <td>13</td>\n      <td>3</td>\n      <td>3</td>\n      <td>37</td>\n      <td>12</td>\n      <td>0</td>\n      <td>37</td>\n      <td>10</td>\n      <td>7</td>\n      <td>...</td>\n      <td>0</td>\n      <td>1</td>\n      <td>12</td>\n      <td>0</td>\n      <td>0</td>\n      <td>20</td>\n      <td>7</td>\n      <td>17</td>\n      <td>3</td>\n      <td>0</td>\n    </tr>\n    <tr>\n      <th>668</th>\n      <td>880</td>\n      <td>615</td>\n      <td>122</td>\n      <td>183</td>\n      <td>1528</td>\n      <td>955</td>\n      <td>160</td>\n      <td>3329</td>\n      <td>317</td>\n      <td>453</td>\n      <td>...</td>\n      <td>3</td>\n      <td>231</td>\n      <td>464</td>\n      <td>3</td>\n      <td>184</td>\n      <td>1027</td>\n      <td>453</td>\n      <td>1491</td>\n      <td>337</td>\n      <td>173</td>\n    </tr>\n  </tbody>\n</table>\n<p>668 rows × 24 columns</p>\n</div>"
     },
     "metadata": {},
     "execution_count": 97
    }
   ],
   "source": [
    "users = new_dataset.drop([\"movieId\",\"title\"],axis=1)\n",
    "users_moviemat = users.groupby(\"userId\").sum()\n",
    "X = users_moviemat.iloc[:,:].values\n",
    "users_moviemat"
   ]
  },
  {
   "cell_type": "code",
   "execution_count": 98,
   "metadata": {},
   "outputs": [
    {
     "output_type": "execute_result",
     "data": {
      "text/plain": [
       "NearestNeighbors()"
      ]
     },
     "metadata": {},
     "execution_count": 98
    }
   ],
   "source": [
    "from sklearn.neighbors import NearestNeighbors\n",
    "\n",
    "classifier = NearestNeighbors()\n",
    "classifier.fit(X)"
   ]
  },
  {
   "cell_type": "code",
   "execution_count": 101,
   "metadata": {},
   "outputs": [],
   "source": [
    "def sort_movies_by_year(li):\n",
    "    def merge_sort(a,l,r):\n",
    "        if l==r:\n",
    "            return\n",
    "        mid=(l+r)//2\n",
    "        merge_sort(a,l,mid)\n",
    "        merge_sort(a,mid+1,r)\n",
    "        merge(a,l,mid,r)\n",
    "\n",
    "    def merge(a,l,mid,r):\n",
    "        n1=mid-l+1\n",
    "        n2=r-(mid+1)+1\n",
    "        L=[a[i+l] for i in range(n1)]\n",
    "        R=[a[i+mid+1] for i in range(n2)]\n",
    "        i,j,k=0,0,l\n",
    "        while(i<n1 and j<n2):\n",
    "            if int(L[i][-5:-1])>int(R[j][-5:-1]) :\n",
    "                a[k]=L[i]\n",
    "                i+=1\n",
    "            else:\n",
    "                a[k]=R[j]\n",
    "                j+=1\n",
    "            k+=1\n",
    "        while(i<n1):\n",
    "            a[k]=L[i]\n",
    "            i+=1\n",
    "            k+=1\n",
    "        while(j<n2):\n",
    "            a[k]=R[j]\n",
    "            j+=1\n",
    "            k+=1\n",
    "    merge_sort(li,0,len(li)-1)"
   ]
  },
  {
   "cell_type": "code",
   "execution_count": 102,
   "metadata": {},
   "outputs": [
    {
     "output_type": "stream",
     "name": "stdout",
     "text": [
      "Recommended Movies are: \n"
     ]
    },
    {
     "output_type": "execute_result",
     "data": {
      "text/plain": [
       "[('Harry Potter and the Deathly Hallows: Part 1 (2010)', 3.7580645161290325),\n",
       " ('Black Swan (2010)', 3.9655172413793105),\n",
       " ('Devil (2010)', 3.0714285714285716),\n",
       " ('Easy A (2010)', 3.3461538461538463),\n",
       " ('Social Network, The (2010)', 3.875),\n",
       " ('Machete (2010)', 3.3636363636363638),\n",
       " ('Scott Pilgrim vs. the World (2010)', 4.0),\n",
       " ('Expendables, The (2010)', 3.125),\n",
       " ('Salt (2010)', 3.3125),\n",
       " ('Karate Kid, The (2010)', 3.3333333333333335),\n",
       " ('Inception (2010)', 4.189320388349515),\n",
       " ('Toy Story 3 (2010)', 4.142857142857143),\n",
       " ('Get Him to the Greek (2010)', 3.15),\n",
       " ('Iron Man 2 (2010)', 3.6451612903225805),\n",
       " ('Death at a Funeral (2010)', 2.75),\n",
       " ('Kick-Ass (2010)', 3.857142857142857),\n",
       " ('How to Train Your Dragon (2010)', 3.757142857142857),\n",
       " (\"She's Out of My League (2010)\", 3.0),\n",
       " (\"Valentine's Day (2010)\", 3.0),\n",
       " ('Avatar (2009)', 3.856060606060606),\n",
       " ('Invictus (2009)', 3.5833333333333335),\n",
       " ('Blind Side, The  (2009)', 3.9347826086956523),\n",
       " ('Ninja Assassin (2009)', 3.2857142857142856),\n",
       " ('Fantastic Mr. Fox (2009)', 4.0),\n",
       " ('Up in the Air (2009)', 3.92),\n",
       " ('Zombieland (2009)', 3.765957446808511),\n",
       " ('Men Who Stare at Goats, The (2009)', 3.1785714285714284),\n",
       " ('Julie & Julia (2009)', 3.7222222222222223),\n",
       " ('(500) Days of Summer (2009)', 3.9324324324324325),\n",
       " ('Hangover, The (2009)', 3.705357142857143),\n",
       " ('Up (2009)', 4.153225806451613),\n",
       " ('X-Men Origins: Wolverine (2009)', 3.3214285714285716),\n",
       " ('Moon (2009)', 4.0625),\n",
       " ('Crank: High Voltage (2009)', 2.0),\n",
       " ('17 Again (2009)', 2.875),\n",
       " ('Observe and Report (2009)', 2.5714285714285716),\n",
       " ('I Love You, Man (2009)', 3.5357142857142856),\n",
       " ('Funny People (2009)', 3.5),\n",
       " (\"He's Just Not That Into You (2009)\", 3.1666666666666665),\n",
       " ('Watchmen (2009)', 3.8020833333333335),\n",
       " (\"Dr. Horrible's Sing-Along Blog (2008)\", 4.434782608695652),\n",
       " ('Marley & Me (2008)', 3.5),\n",
       " ('Curious Case of Benjamin Button, The (2008)', 3.725806451612903),\n",
       " ('Gran Torino (2008)', 3.9680851063829787),\n",
       " ('Slumdog Millionaire (2008)', 3.9357142857142855),\n",
       " ('Zack and Miri Make a Porno (2008)', 3.357142857142857),\n",
       " (\"Nick and Norah's Infinite Playlist (2008)\", 3.6666666666666665),\n",
       " ('How to Lose Friends & Alienate People (2008)', 3.625),\n",
       " ('Eagle Eye (2008)', 2.95),\n",
       " ('Step Brothers (2008)', 3.1153846153846154),\n",
       " ('Wanted (2008)', 3.176470588235294),\n",
       " ('Incredible Hulk, The (2008)', 3.4285714285714284),\n",
       " ('Taken (2008)', 3.8444444444444446),\n",
       " ('Iron Man (2008)', 3.89375),\n",
       " ('Forgetting Sarah Marshall (2008)', 3.8333333333333335),\n",
       " ('Dark Knight, The (2008)', 4.141732283464567),\n",
       " ('Run Fatboy Run (2007)', 3.4),\n",
       " ('Juno (2007)', 3.6746031746031744),\n",
       " ('Superbad (2007)', 3.8444444444444446),\n",
       " ('Bourne Ultimatum, The (2007)', 3.8642857142857143),\n",
       " ('Simpsons Movie, The (2007)', 3.5972222222222223),\n",
       " ('Fantastic Four: Rise of the Silver Surfer (2007)', 2.4615384615384617),\n",
       " ('Knocked Up (2007)', 3.6129032258064515),\n",
       " ('Spider-Man 3 (2007)', 2.8),\n",
       " ('Sunshine (2007)', 3.5),\n",
       " ('Grindhouse (2007)', 3.9),\n",
       " ('300 (2007)', 3.5779220779220777),\n",
       " ('Ghost Rider (2007)', 2.6666666666666665),\n",
       " ('Epic Movie (2007)', 1.5),\n",
       " ('Black Snake Moan (2006)', 3.125),\n",
       " ('Blood Diamond (2006)', 3.7777777777777777),\n",
       " ('Casino Royale (2006)', 3.89375),\n",
       " ('Children of Men (2006)', 3.9827586206896552),\n",
       " ('Borat: Cultural Learnings of America for Make Benefit Glorious Nation of Kazakhstan (2006)',\n",
       "  3.875),\n",
       " ('Illusionist, The (2006)', 3.77027027027027),\n",
       " ('Crank (2006)', 3.2777777777777777),\n",
       " ('Pursuit of Happyness, The (2006)', 3.8043478260869565),\n",
       " ('Talladega Nights: The Ballad of Ricky Bobby (2006)', 3.125),\n",
       " ('Babel (2006)', 3.5454545454545454),\n",
       " ('Little Miss Sunshine (2006)', 4.078947368421052),\n",
       " ('Devil Wears Prada, The (2006)', 3.210526315789474),\n",
       " ('X-Men: The Last Stand (2006)', 3.1666666666666665),\n",
       " ('Mission: Impossible III (2006)', 3.3095238095238093),\n",
       " ('Thank You for Smoking (2006)', 3.826530612244898),\n",
       " ('V for Vendetta (2006)', 4.01595744680851),\n",
       " ('Protector, The (a.k.a. Warrior King) (Tom yum goong) (2005)', 3.875),\n",
       " ('40-Year-Old Virgin, The (2005)', 3.6847826086956523),\n",
       " ('Mr. & Mrs. Smith (2005)', 3.05),\n",
       " ('Sin City (2005)', 3.91875),\n",
       " ('Hitch (2005)', 3.5),\n",
       " ('Are We There Yet? (2005)', 0.75),\n",
       " ('Elektra (2005)', 2.4444444444444446),\n",
       " ('Crash (2004)', 3.5625),\n",
       " ('Incredibles, The (2004)', 3.926470588235294),\n",
       " ('Garden State (2004)', 3.6702127659574466),\n",
       " ('Spider-Man 2 (2004)', 3.553030303030303),\n",
       " ('Notebook, The (2004)', 4.142857142857143),\n",
       " ('Dodgeball: A True Underdog Story (2004)', 3.5833333333333335),\n",
       " ('Mean Girls (2004)', 3.6153846153846154),\n",
       " ('Kill Bill: Vol. 2 (2004)', 3.9615384615384617),\n",
       " ('Ladykillers, The (2004)', 3.1),\n",
       " ('Eternal Sunshine of the Spotless Mind (2004)', 4.122448979591836),\n",
       " ('Girl Next Door, The (2004)', 3.65),\n",
       " ('EuroTrip (2004)', 3.3333333333333335),\n",
       " ('50 First Dates (2004)', 3.3684210526315788),\n",
       " ('Lord of the Rings: The Return of the King, The (2003)', 4.108433734939759),\n",
       " ('Love Actually (2003)', 3.9204545454545454),\n",
       " ('Matrix Revolutions, The (2003)', 3.1746031746031744),\n",
       " ('Kill Bill: Vol. 1 (2003)', 3.977272727272727),\n",
       " ('American Wedding (American Pie 3) (2003)', 2.65),\n",
       " ('Pirates of the Caribbean: The Curse of the Black Pearl (2003)',\n",
       "  3.8297872340425534),\n",
       " ('Swimming Pool (2003)', 3.642857142857143),\n",
       " ('Terminator 3: Rise of the Machines (2003)', 3.0652173913043477),\n",
       " ('Hulk (2003)', 2.859375),\n",
       " ('Finding Nemo (2003)', 3.888888888888889),\n",
       " ('Matrix Reloaded, The (2003)', 3.29375),\n",
       " ('X2: X-Men United (2003)', 3.567073170731707),\n",
       " ('Anger Management (2003)', 2.7),\n",
       " ('Daredevil (2003)', 2.5166666666666666),\n",
       " ('How to Lose a Guy in 10 Days (2003)', 3.175),\n",
       " ('Catch Me If You Can (2002)', 4.0),\n",
       " ('Two Weeks Notice (2002)', 3.107142857142857),\n",
       " ('Lord of the Rings: The Two Towers, The (2002)', 4.095808383233533),\n",
       " ('Adaptation (2002)', 3.9761904761904763),\n",
       " ('Ring, The (2002)', 3.3863636363636362),\n",
       " ('Transporter, The (2002)', 3.4791666666666665),\n",
       " ('Minority Report (2002)', 3.685185185185185),\n",
       " ('Bourne Identity, The (2002)', 3.893805309734513),\n",
       " ('Spider-Man (2002)', 3.5098039215686274),\n",
       " ('Beautiful Mind, A (2001)', 3.9952380952380953),\n",
       " ('Lord of the Rings: The Fellowship of the Ring, The (2001)',\n",
       "  4.126984126984127),\n",
       " ('Royal Tenenbaums, The (2001)', 3.8636363636363638),\n",
       " (\"Amelie (Fabuleux destin d'Amélie Poulain, Le) (2001)\", 4.07563025210084),\n",
       " (\"Ocean's Eleven (2001)\", 3.7436974789915967),\n",
       " ('Monsters, Inc. (2001)', 3.8793103448275863),\n",
       " ('Serendipity (2001)', 3.607142857142857),\n",
       " ('American Pie 2 (2001)', 2.988095238095238),\n",
       " ('Swordfish (2001)', 3.0833333333333335),\n",
       " ('Shrek (2001)', 3.7563291139240507),\n",
       " ('Memento (2000)', 4.0576923076923075),\n",
       " ('O Brother, Where Art Thou? (2000)', 3.9510869565217392),\n",
       " ('Cast Away (2000)', 3.717171717171717),\n",
       " ('Snatch (2000)', 4.073863636363637),\n",
       " ('Crouching Tiger, Hidden Dragon (Wo hu cang long) (2000)',\n",
       "  3.9732142857142856),\n",
       " ('Almost Famous (2000)', 3.8855421686746987),\n",
       " ('X-Men (2000)', 3.5576923076923075),\n",
       " ('Me, Myself & Irene (2000)', 3.039473684210526),\n",
       " ('Mission: Impossible II (2000)', 2.7933333333333334),\n",
       " ('American Psycho (2000)', 3.7625),\n",
       " ('Boondock Saints, The (2000)', 3.9651162790697674),\n",
       " ('Deuce Bigalow: Male Gigolo (1999)', 2.8076923076923075),\n",
       " ('Toy Story 2 (1999)', 3.9134615384615383),\n",
       " ('American Pie (1999)', 3.2663551401869158),\n",
       " ('Wild Wild West (1999)', 2.1641791044776117),\n",
       " (\"You've Got Mail (1998)\", 3.3425925925925926),\n",
       " ('Waterboy, The (1998)', 2.8653846153846154),\n",
       " ('Speed 2: Cruise Control (1997)', 1.7741935483870968),\n",
       " ('Jingle All the Way (1996)', 2.75),\n",
       " ('Happy Gilmore (1996)', 3.449367088607595),\n",
       " ('Clueless (1995)', 3.2755102040816326),\n",
       " ('Babe (1995)', 3.616279069767442),\n",
       " ('Jumanji (1995)', 3.3532608695652173),\n",
       " ('Lion King, The (1994)', 3.7709497206703912),\n",
       " ('Clerks (1994)', 3.98019801980198),\n",
       " ('Sleepless in Seattle (1993)', 3.5236220472440944),\n",
       " (\"Schindler's List (1993)\", 4.296370967741935),\n",
       " ('Mrs. Doubtfire (1993)', 3.3283132530120483),\n",
       " ('Last Action Hero (1993)', 2.883116883116883),\n",
       " ('Home Alone (1990)', 3.032258064516129),\n",
       " (\"Monty Python's The Meaning of Life (1983)\", 3.9239130434782608),\n",
       " ('Young Frankenstein (1974)', 4.013888888888889),\n",
       " ('Willy Wonka & the Chocolate Factory (1971)', 3.786764705882353),\n",
       " ('Sound of Music, The (1965)', 3.9655172413793105),\n",
       " ('Dr. Strangelove or: How I Learned to Stop Worrying and Love the Bomb (1964)',\n",
       "  4.116),\n",
       " (\"Breakfast at Tiffany's (1961)\", 3.9390243902439024),\n",
       " ('Casablanca (1942)', 4.236)]"
      ]
     },
     "metadata": {},
     "execution_count": 102
    }
   ],
   "source": [
    "uid = int(input(\"Enter User Id \"))\n",
    "li = classifier.kneighbors([X[uid-1]],n_neighbors=5,return_distance=False)\n",
    "current_user = new_dataset.loc[new_dataset[\"userId\"]==li[0][0],:][\"title\"].values\n",
    "similar_user = new_dataset.loc[new_dataset[\"userId\"]==li[0][1],:][\"title\"].values\n",
    "movies_list = [movie for movie in similar_user if movie not in current_user]\n",
    "sort_movies_by_year(movies_list)\n",
    "for i in range(len(movies_list)):\n",
    "    movies_list[i] = (movies_list[i], df_ratings['rating'][df_ratings.index == movies_list[i]].values[0])\n",
    "print(\"Recommended Movies are: \")\n",
    "movies_list"
   ]
  },
  {
   "source": [
    "## Rating Based Filtering\n",
    "\n",
    "* based on higher ratings \n",
    "* number of reviews \n",
    "* Correlation comes into act \n",
    "\n",
    "> Comparison one movie ratings given by all user with another movie ratings given by all users => correlation "
   ],
   "cell_type": "markdown",
   "metadata": {}
  },
  {
   "cell_type": "code",
   "execution_count": 104,
   "metadata": {},
   "outputs": [
    {
     "output_type": "execute_result",
     "data": {
      "text/plain": [
       "                                                 rating  number of ratings\n",
       "title                                                                     \n",
       "'71 (2014)                                     3.500000                  1\n",
       "'Hellboy': The Seeds of Creation (2004)        3.000000                  1\n",
       "'Round Midnight (1986)                         2.500000                  1\n",
       "'Til There Was You (1997)                      4.000000                  3\n",
       "'burbs, The (1989)                             3.125000                 20\n",
       "...                                                 ...                ...\n",
       "loudQUIETloud: A Film About the Pixies (2006)  4.500000                  1\n",
       "xXx (2002)                                     2.958333                 24\n",
       "xXx: State of the Union (2005)                 2.071429                  7\n",
       "¡Three Amigos! (1986)                          3.012500                 40\n",
       "À nous la liberté (Freedom for Us) (1931)      3.000000                  1\n",
       "\n",
       "[10323 rows x 2 columns]"
      ],
      "text/html": "<div>\n<style scoped>\n    .dataframe tbody tr th:only-of-type {\n        vertical-align: middle;\n    }\n\n    .dataframe tbody tr th {\n        vertical-align: top;\n    }\n\n    .dataframe thead th {\n        text-align: right;\n    }\n</style>\n<table border=\"1\" class=\"dataframe\">\n  <thead>\n    <tr style=\"text-align: right;\">\n      <th></th>\n      <th>rating</th>\n      <th>number of ratings</th>\n    </tr>\n    <tr>\n      <th>title</th>\n      <th></th>\n      <th></th>\n    </tr>\n  </thead>\n  <tbody>\n    <tr>\n      <th>'71 (2014)</th>\n      <td>3.500000</td>\n      <td>1</td>\n    </tr>\n    <tr>\n      <th>'Hellboy': The Seeds of Creation (2004)</th>\n      <td>3.000000</td>\n      <td>1</td>\n    </tr>\n    <tr>\n      <th>'Round Midnight (1986)</th>\n      <td>2.500000</td>\n      <td>1</td>\n    </tr>\n    <tr>\n      <th>'Til There Was You (1997)</th>\n      <td>4.000000</td>\n      <td>3</td>\n    </tr>\n    <tr>\n      <th>'burbs, The (1989)</th>\n      <td>3.125000</td>\n      <td>20</td>\n    </tr>\n    <tr>\n      <th>...</th>\n      <td>...</td>\n      <td>...</td>\n    </tr>\n    <tr>\n      <th>loudQUIETloud: A Film About the Pixies (2006)</th>\n      <td>4.500000</td>\n      <td>1</td>\n    </tr>\n    <tr>\n      <th>xXx (2002)</th>\n      <td>2.958333</td>\n      <td>24</td>\n    </tr>\n    <tr>\n      <th>xXx: State of the Union (2005)</th>\n      <td>2.071429</td>\n      <td>7</td>\n    </tr>\n    <tr>\n      <th>¡Three Amigos! (1986)</th>\n      <td>3.012500</td>\n      <td>40</td>\n    </tr>\n    <tr>\n      <th>À nous la liberté (Freedom for Us) (1931)</th>\n      <td>3.000000</td>\n      <td>1</td>\n    </tr>\n  </tbody>\n</table>\n<p>10323 rows × 2 columns</p>\n</div>"
     },
     "metadata": {},
     "execution_count": 104
    }
   ],
   "source": [
    "dataset = rating.merge(movies)\n",
    "df = dataset.groupby(\"title\")['rating'].mean()\n",
    "df1= dataset.groupby(\"title\")['rating'].count()\n",
    "dataset_based_on_ratings = pd.DataFrame({\"rating\":df,\"number of ratings\":df1})\n",
    "dataset_based_on_ratings"
   ]
  },
  {
   "cell_type": "code",
   "execution_count": 105,
   "metadata": {},
   "outputs": [
    {
     "output_type": "execute_result",
     "data": {
      "text/plain": [
       "title   '71 (2014)  'Hellboy': The Seeds of Creation (2004)  \\\n",
       "userId                                                        \n",
       "1              NaN                                      NaN   \n",
       "2              NaN                                      NaN   \n",
       "3              NaN                                      NaN   \n",
       "4              NaN                                      NaN   \n",
       "5              NaN                                      NaN   \n",
       "...            ...                                      ...   \n",
       "664            NaN                                      NaN   \n",
       "665            NaN                                      NaN   \n",
       "666            NaN                                      NaN   \n",
       "667            NaN                                      NaN   \n",
       "668            NaN                                      NaN   \n",
       "\n",
       "title   'Round Midnight (1986)  'Til There Was You (1997)  'burbs, The (1989)  \\\n",
       "userId                                                                          \n",
       "1                          NaN                        NaN                 NaN   \n",
       "2                          NaN                        NaN                 NaN   \n",
       "3                          NaN                        NaN                 NaN   \n",
       "4                          NaN                        NaN                 NaN   \n",
       "5                          NaN                        NaN                 NaN   \n",
       "...                        ...                        ...                 ...   \n",
       "664                        NaN                        NaN                 NaN   \n",
       "665                        NaN                        NaN                 NaN   \n",
       "666                        NaN                        NaN                 NaN   \n",
       "667                        NaN                        NaN                 NaN   \n",
       "668                        2.5                        NaN                 NaN   \n",
       "\n",
       "title   'night Mother (1986)  (500) Days of Summer (2009)  \\\n",
       "userId                                                      \n",
       "1                        NaN                          NaN   \n",
       "2                        NaN                          NaN   \n",
       "3                        NaN                          NaN   \n",
       "4                        NaN                          NaN   \n",
       "5                        NaN                          NaN   \n",
       "...                      ...                          ...   \n",
       "664                      NaN                          NaN   \n",
       "665                      NaN                          NaN   \n",
       "666                      NaN                          NaN   \n",
       "667                      NaN                          NaN   \n",
       "668                      NaN                          2.0   \n",
       "\n",
       "title   *batteries not included (1987)  ...And Justice for All (1979)  \\\n",
       "userId                                                                  \n",
       "1                                  NaN                            NaN   \n",
       "2                                  NaN                            NaN   \n",
       "3                                  NaN                            NaN   \n",
       "4                                  NaN                            NaN   \n",
       "5                                  NaN                            NaN   \n",
       "...                                ...                            ...   \n",
       "664                                NaN                            NaN   \n",
       "665                                NaN                            NaN   \n",
       "666                                NaN                            NaN   \n",
       "667                                NaN                            NaN   \n",
       "668                                NaN                            3.0   \n",
       "\n",
       "title   10 (1979)  ...  [REC] (2007)  [REC]² (2009)  [REC]³ 3 Génesis (2012)  \\\n",
       "userId             ...                                                         \n",
       "1             NaN  ...           NaN            NaN                      NaN   \n",
       "2             NaN  ...           NaN            NaN                      NaN   \n",
       "3             NaN  ...           NaN            NaN                      NaN   \n",
       "4             NaN  ...           NaN            NaN                      NaN   \n",
       "5             NaN  ...           NaN            NaN                      NaN   \n",
       "...           ...  ...           ...            ...                      ...   \n",
       "664           NaN  ...           NaN            NaN                      NaN   \n",
       "665           NaN  ...           NaN            NaN                      NaN   \n",
       "666           NaN  ...           NaN            NaN                      NaN   \n",
       "667           NaN  ...           NaN            NaN                      NaN   \n",
       "668           2.5  ...           NaN            1.5                      0.5   \n",
       "\n",
       "title   a/k/a Tommy Chong (2005)  eXistenZ (1999)  \\\n",
       "userId                                              \n",
       "1                            NaN              NaN   \n",
       "2                            NaN              NaN   \n",
       "3                            NaN              NaN   \n",
       "4                            NaN              NaN   \n",
       "5                            NaN              NaN   \n",
       "...                          ...              ...   \n",
       "664                          NaN              NaN   \n",
       "665                          NaN              NaN   \n",
       "666                          NaN              5.0   \n",
       "667                          NaN              NaN   \n",
       "668                          NaN              2.0   \n",
       "\n",
       "title   loudQUIETloud: A Film About the Pixies (2006)  xXx (2002)  \\\n",
       "userId                                                              \n",
       "1                                                 NaN         NaN   \n",
       "2                                                 NaN         NaN   \n",
       "3                                                 NaN         NaN   \n",
       "4                                                 NaN         NaN   \n",
       "5                                                 NaN         NaN   \n",
       "...                                               ...         ...   \n",
       "664                                               NaN         NaN   \n",
       "665                                               NaN         NaN   \n",
       "666                                               NaN         NaN   \n",
       "667                                               NaN         NaN   \n",
       "668                                               NaN         3.5   \n",
       "\n",
       "title   xXx: State of the Union (2005)  ¡Three Amigos! (1986)  \\\n",
       "userId                                                          \n",
       "1                                  NaN                    NaN   \n",
       "2                                  NaN                    NaN   \n",
       "3                                  NaN                    NaN   \n",
       "4                                  NaN                    NaN   \n",
       "5                                  NaN                    NaN   \n",
       "...                                ...                    ...   \n",
       "664                                NaN                    NaN   \n",
       "665                                NaN                    NaN   \n",
       "666                                NaN                    NaN   \n",
       "667                                NaN                    NaN   \n",
       "668                                NaN                    2.0   \n",
       "\n",
       "title   À nous la liberté (Freedom for Us) (1931)  \n",
       "userId                                             \n",
       "1                                             NaN  \n",
       "2                                             NaN  \n",
       "3                                             NaN  \n",
       "4                                             NaN  \n",
       "5                                             NaN  \n",
       "...                                           ...  \n",
       "664                                           NaN  \n",
       "665                                           NaN  \n",
       "666                                           NaN  \n",
       "667                                           NaN  \n",
       "668                                           3.0  \n",
       "\n",
       "[668 rows x 10323 columns]"
      ],
      "text/html": "<div>\n<style scoped>\n    .dataframe tbody tr th:only-of-type {\n        vertical-align: middle;\n    }\n\n    .dataframe tbody tr th {\n        vertical-align: top;\n    }\n\n    .dataframe thead th {\n        text-align: right;\n    }\n</style>\n<table border=\"1\" class=\"dataframe\">\n  <thead>\n    <tr style=\"text-align: right;\">\n      <th>title</th>\n      <th>'71 (2014)</th>\n      <th>'Hellboy': The Seeds of Creation (2004)</th>\n      <th>'Round Midnight (1986)</th>\n      <th>'Til There Was You (1997)</th>\n      <th>'burbs, The (1989)</th>\n      <th>'night Mother (1986)</th>\n      <th>(500) Days of Summer (2009)</th>\n      <th>*batteries not included (1987)</th>\n      <th>...And Justice for All (1979)</th>\n      <th>10 (1979)</th>\n      <th>...</th>\n      <th>[REC] (2007)</th>\n      <th>[REC]² (2009)</th>\n      <th>[REC]³ 3 Génesis (2012)</th>\n      <th>a/k/a Tommy Chong (2005)</th>\n      <th>eXistenZ (1999)</th>\n      <th>loudQUIETloud: A Film About the Pixies (2006)</th>\n      <th>xXx (2002)</th>\n      <th>xXx: State of the Union (2005)</th>\n      <th>¡Three Amigos! (1986)</th>\n      <th>À nous la liberté (Freedom for Us) (1931)</th>\n    </tr>\n    <tr>\n      <th>userId</th>\n      <th></th>\n      <th></th>\n      <th></th>\n      <th></th>\n      <th></th>\n      <th></th>\n      <th></th>\n      <th></th>\n      <th></th>\n      <th></th>\n      <th></th>\n      <th></th>\n      <th></th>\n      <th></th>\n      <th></th>\n      <th></th>\n      <th></th>\n      <th></th>\n      <th></th>\n      <th></th>\n      <th></th>\n    </tr>\n  </thead>\n  <tbody>\n    <tr>\n      <th>1</th>\n      <td>NaN</td>\n      <td>NaN</td>\n      <td>NaN</td>\n      <td>NaN</td>\n      <td>NaN</td>\n      <td>NaN</td>\n      <td>NaN</td>\n      <td>NaN</td>\n      <td>NaN</td>\n      <td>NaN</td>\n      <td>...</td>\n      <td>NaN</td>\n      <td>NaN</td>\n      <td>NaN</td>\n      <td>NaN</td>\n      <td>NaN</td>\n      <td>NaN</td>\n      <td>NaN</td>\n      <td>NaN</td>\n      <td>NaN</td>\n      <td>NaN</td>\n    </tr>\n    <tr>\n      <th>2</th>\n      <td>NaN</td>\n      <td>NaN</td>\n      <td>NaN</td>\n      <td>NaN</td>\n      <td>NaN</td>\n      <td>NaN</td>\n      <td>NaN</td>\n      <td>NaN</td>\n      <td>NaN</td>\n      <td>NaN</td>\n      <td>...</td>\n      <td>NaN</td>\n      <td>NaN</td>\n      <td>NaN</td>\n      <td>NaN</td>\n      <td>NaN</td>\n      <td>NaN</td>\n      <td>NaN</td>\n      <td>NaN</td>\n      <td>NaN</td>\n      <td>NaN</td>\n    </tr>\n    <tr>\n      <th>3</th>\n      <td>NaN</td>\n      <td>NaN</td>\n      <td>NaN</td>\n      <td>NaN</td>\n      <td>NaN</td>\n      <td>NaN</td>\n      <td>NaN</td>\n      <td>NaN</td>\n      <td>NaN</td>\n      <td>NaN</td>\n      <td>...</td>\n      <td>NaN</td>\n      <td>NaN</td>\n      <td>NaN</td>\n      <td>NaN</td>\n      <td>NaN</td>\n      <td>NaN</td>\n      <td>NaN</td>\n      <td>NaN</td>\n      <td>NaN</td>\n      <td>NaN</td>\n    </tr>\n    <tr>\n      <th>4</th>\n      <td>NaN</td>\n      <td>NaN</td>\n      <td>NaN</td>\n      <td>NaN</td>\n      <td>NaN</td>\n      <td>NaN</td>\n      <td>NaN</td>\n      <td>NaN</td>\n      <td>NaN</td>\n      <td>NaN</td>\n      <td>...</td>\n      <td>NaN</td>\n      <td>NaN</td>\n      <td>NaN</td>\n      <td>NaN</td>\n      <td>NaN</td>\n      <td>NaN</td>\n      <td>NaN</td>\n      <td>NaN</td>\n      <td>NaN</td>\n      <td>NaN</td>\n    </tr>\n    <tr>\n      <th>5</th>\n      <td>NaN</td>\n      <td>NaN</td>\n      <td>NaN</td>\n      <td>NaN</td>\n      <td>NaN</td>\n      <td>NaN</td>\n      <td>NaN</td>\n      <td>NaN</td>\n      <td>NaN</td>\n      <td>NaN</td>\n      <td>...</td>\n      <td>NaN</td>\n      <td>NaN</td>\n      <td>NaN</td>\n      <td>NaN</td>\n      <td>NaN</td>\n      <td>NaN</td>\n      <td>NaN</td>\n      <td>NaN</td>\n      <td>NaN</td>\n      <td>NaN</td>\n    </tr>\n    <tr>\n      <th>...</th>\n      <td>...</td>\n      <td>...</td>\n      <td>...</td>\n      <td>...</td>\n      <td>...</td>\n      <td>...</td>\n      <td>...</td>\n      <td>...</td>\n      <td>...</td>\n      <td>...</td>\n      <td>...</td>\n      <td>...</td>\n      <td>...</td>\n      <td>...</td>\n      <td>...</td>\n      <td>...</td>\n      <td>...</td>\n      <td>...</td>\n      <td>...</td>\n      <td>...</td>\n      <td>...</td>\n    </tr>\n    <tr>\n      <th>664</th>\n      <td>NaN</td>\n      <td>NaN</td>\n      <td>NaN</td>\n      <td>NaN</td>\n      <td>NaN</td>\n      <td>NaN</td>\n      <td>NaN</td>\n      <td>NaN</td>\n      <td>NaN</td>\n      <td>NaN</td>\n      <td>...</td>\n      <td>NaN</td>\n      <td>NaN</td>\n      <td>NaN</td>\n      <td>NaN</td>\n      <td>NaN</td>\n      <td>NaN</td>\n      <td>NaN</td>\n      <td>NaN</td>\n      <td>NaN</td>\n      <td>NaN</td>\n    </tr>\n    <tr>\n      <th>665</th>\n      <td>NaN</td>\n      <td>NaN</td>\n      <td>NaN</td>\n      <td>NaN</td>\n      <td>NaN</td>\n      <td>NaN</td>\n      <td>NaN</td>\n      <td>NaN</td>\n      <td>NaN</td>\n      <td>NaN</td>\n      <td>...</td>\n      <td>NaN</td>\n      <td>NaN</td>\n      <td>NaN</td>\n      <td>NaN</td>\n      <td>NaN</td>\n      <td>NaN</td>\n      <td>NaN</td>\n      <td>NaN</td>\n      <td>NaN</td>\n      <td>NaN</td>\n    </tr>\n    <tr>\n      <th>666</th>\n      <td>NaN</td>\n      <td>NaN</td>\n      <td>NaN</td>\n      <td>NaN</td>\n      <td>NaN</td>\n      <td>NaN</td>\n      <td>NaN</td>\n      <td>NaN</td>\n      <td>NaN</td>\n      <td>NaN</td>\n      <td>...</td>\n      <td>NaN</td>\n      <td>NaN</td>\n      <td>NaN</td>\n      <td>NaN</td>\n      <td>5.0</td>\n      <td>NaN</td>\n      <td>NaN</td>\n      <td>NaN</td>\n      <td>NaN</td>\n      <td>NaN</td>\n    </tr>\n    <tr>\n      <th>667</th>\n      <td>NaN</td>\n      <td>NaN</td>\n      <td>NaN</td>\n      <td>NaN</td>\n      <td>NaN</td>\n      <td>NaN</td>\n      <td>NaN</td>\n      <td>NaN</td>\n      <td>NaN</td>\n      <td>NaN</td>\n      <td>...</td>\n      <td>NaN</td>\n      <td>NaN</td>\n      <td>NaN</td>\n      <td>NaN</td>\n      <td>NaN</td>\n      <td>NaN</td>\n      <td>NaN</td>\n      <td>NaN</td>\n      <td>NaN</td>\n      <td>NaN</td>\n    </tr>\n    <tr>\n      <th>668</th>\n      <td>NaN</td>\n      <td>NaN</td>\n      <td>2.5</td>\n      <td>NaN</td>\n      <td>NaN</td>\n      <td>NaN</td>\n      <td>2.0</td>\n      <td>NaN</td>\n      <td>3.0</td>\n      <td>2.5</td>\n      <td>...</td>\n      <td>NaN</td>\n      <td>1.5</td>\n      <td>0.5</td>\n      <td>NaN</td>\n      <td>2.0</td>\n      <td>NaN</td>\n      <td>3.5</td>\n      <td>NaN</td>\n      <td>2.0</td>\n      <td>3.0</td>\n    </tr>\n  </tbody>\n</table>\n<p>668 rows × 10323 columns</p>\n</div>"
     },
     "metadata": {},
     "execution_count": 105
    }
   ],
   "source": [
    "df = dataset.loc[:,[\"userId\",\"rating\",\"title\"]]\n",
    "users_movie_matrix = pd.pivot_table(df,columns='title',index='userId',values='rating') \n",
    "# correlation matrix \n",
    "users_movie_matrix"
   ]
  },
  {
   "cell_type": "code",
   "execution_count": 106,
   "metadata": {},
   "outputs": [],
   "source": [
    "movie_watched = users_movie_matrix[\"Jurassic Park (1993)\"]\n",
    "y = users_movie_matrix[\"Silence of the Lambs, The (1991)\"]"
   ]
  },
  {
   "cell_type": "code",
   "execution_count": 107,
   "metadata": {},
   "outputs": [],
   "source": [
    "li = []\n",
    "for i in range(len(users_movie_matrix.columns)):\n",
    "    li.append(movie_watched.corr(users_movie_matrix.iloc[:,i]))\n",
    "li = pd.Series(li)"
   ]
  },
  {
   "cell_type": "code",
   "execution_count": null,
   "metadata": {},
   "outputs": [],
   "source": []
  },
  {
   "cell_type": "code",
   "execution_count": null,
   "metadata": {},
   "outputs": [],
   "source": []
  }
 ]
}