{
 "metadata": {
  "language_info": {
   "codemirror_mode": {
    "name": "ipython",
    "version": 3
   },
   "file_extension": ".py",
   "mimetype": "text/x-python",
   "name": "python",
   "nbconvert_exporter": "python",
   "pygments_lexer": "ipython3",
   "version": "3.8.5-final"
  },
  "orig_nbformat": 2,
  "kernelspec": {
   "name": "venv",
   "display_name": "venv"
  }
 },
 "nbformat": 4,
 "nbformat_minor": 2,
 "cells": [
  {
   "source": [
    "# Graph"
   ],
   "cell_type": "markdown",
   "metadata": {}
  },
  {
   "source": [
    "These are all graphs \n",
    "\n",
    "<center><img src=\"https://ucarecdn.com/e4eee8d4-e6e5-4569-94a7-6059c01dec45/\" width=800/></center>"
   ],
   "cell_type": "markdown",
   "metadata": {}
  },
  {
   "source": [
    "* graph G = (V, E), where V is the set of vertices in G and E is the set of edges in G."
   ],
   "cell_type": "markdown",
   "metadata": {}
  },
  {
   "source": [
    "Formally, we represent edge e as a pair (v, w) such that both v and w are vertices. \n",
    "\n",
    "For example, e₁ in the graph below would be written as (a, b).\n",
    "\n",
    "<center><img src=\"https://ucarecdn.com/7f8f43a0-48c2-4cfe-b2b0-1e7b7fe26057/\" width=300/></center>\n",
    "\n",
    "> |V| = 2 (because there are two vertices: a and b)\n",
    "\n",
    "> |E| = 1 (because there is only a single edge, one that connects a and b)"
   ],
   "cell_type": "markdown",
   "metadata": {}
  },
  {
   "source": [
    "> multigraph\n",
    "\n",
    "<center><img src=\"https://ucarecdn.com/f0b22225-0c9c-4d6c-b440-7ec7f3f255cc/\" width=300/></center>"
   ],
   "cell_type": "markdown",
   "metadata": {}
  },
  {
   "source": [
    "The sizes of graphs:\n",
    "* |V| -> the total number of vertices\n",
    "* |E| -> the total number of edges."
   ],
   "cell_type": "markdown",
   "metadata": {}
  },
  {
   "source": [
    "* Directed graph\n",
    "\n",
    "<center><img src=\"https://ucarecdn.com/a0ecd350-3d63-4495-9dc7-e17b85d7dab4/\" width=300/></center>\n",
    "\n",
    "* Undirected graph\n",
    "\n",
    "<center><img src=\"https://ucarecdn.com/f6d5dd3a-cd28-4036-9e4b-e7089130f671/\" width=300/></center>\n",
    "\n",
    "* Weighted graph \n",
    "\n",
    "<center><img src=\"https://ucarecdn.com/7a4d0fe6-e114-4853-b40d-4412a1ec369f/\" width=300/></center>\n",
    "\n",
    "* Dense graph \n",
    "\n",
    "<center><img src=\"https://ucarecdn.com/09db733e-329a-4722-ad92-40fed2cdc9b1/\" width=300/></center>\n",
    "\n",
    "* Sparse graph \n",
    "\n",
    "<center><img src=\"https://ucarecdn.com/4ebfd0cf-0533-44d6-a497-ef11db4c0924/\" width=300/></center>\n"
   ],
   "cell_type": "markdown",
   "metadata": {}
  },
  {
   "source": [
    "### Adjacency matrix \n",
    "\n",
    "> not ideal for sparse graphs (edges significantly fewer than $ |V|^2 $)\n",
    "\n",
    "<center><img src=\"https://ucarecdn.com/d4e2edca-b11c-4103-a23c-46a238249494/\" width=700/></center>\n",
    "\n",
    "* Row i represents all of the edges coming from vertex i.\n",
    "* Column j represents all of the edges going to vertex j. "
   ],
   "cell_type": "markdown",
   "metadata": {}
  },
  {
   "source": [
    "> more complex example \n",
    "\n",
    "<center><img src=\"https://ucarecdn.com/85b37548-4042-42d5-8f67-a35788db286c/\" width=800/></center>\n",
    "\n"
   ],
   "cell_type": "markdown",
   "metadata": {}
  },
  {
   "source": [
    "> weighted graph \n",
    "\n",
    "<center><img src=\"https://ucarecdn.com/54e1392b-1119-4228-a8a6-d6a27a7dd2e2/\" width=800/></center>\n",
    "\n"
   ],
   "cell_type": "markdown",
   "metadata": {}
  },
  {
   "source": [
    "### Adjacency List \n",
    "\n",
    "> good for sparse graphs\n",
    "\n",
    "> bad for dense graphs \n",
    "\n",
    "<center><img src=\"https://ucarecdn.com/3c5d8c92-a890-42d6-bd5e-bb3af5a3c31d/\" width=700/></center>\n",
    "\n",
    "* if |E| is relatively small, the adjacency list has a much smaller storage requirement than an equivalent adjacency matrix (space complexity O(|V|+|E|)).\n",
    "\n",
    "* |E| can be as large as |V|² -> the space complexity for storing a dense graph |V| + |V|².\n"
   ],
   "cell_type": "markdown",
   "metadata": {}
  },
  {
   "source": [
    "> weighted graphs \n",
    "\n",
    "<center><img src=\"https://ucarecdn.com/5196b599-b5f6-4f0e-b528-161d5c30b253/\" width=800/></center>\n",
    "\n"
   ],
   "cell_type": "markdown",
   "metadata": {}
  },
  {
   "source": [
    "### Breadth First Search (BFS) \n",
    "\n",
    "* O(|V| + |E|)\n",
    "* find shortest path\n",
    "* explore all vertices (layer by layer)\n",
    "* [visualization](https://www.cs.usfca.edu/~galles/visualization/BFS.html)\n",
    "\n",
    "<center><img src=\"https://ucarecdn.com/16247a8d-d6d2-434a-9efe-6f9250ab8e6e/\" width=400/></center>\n",
    "\n",
    "```\n",
    "0 -> 1 -> 3 -> 2\n",
    "     1 -> 4 (not simultaneously)\n",
    "```\n",
    "\n",
    "The rough algorithm:\n",
    "\n",
    "1. Begin at the starting node s (distance 0 from itself).\n",
    "2. Consider nodes adjacent to s (distance 1). Mark them as visited.\n",
    "3. Then consider nodes that have not yet been visited that are adjacent to those at distance 1 (distance 2). Mark them as visited.\n",
    "4. Repeat until all nodes reachable from s are visited.\n",
    "\n"
   ],
   "cell_type": "markdown",
   "metadata": {}
  },
  {
   "source": [
    "```\n",
    "BFS(u,v):\n",
    "    q = an empty queue\n",
    "    add (0,u) to q // (0,u) -> (length from u, current vertex)\n",
    "    while q is not empty:\n",
    "        (length,curr) = q.dequeue()\n",
    "        mark curr as visited\n",
    "        if curr == v: // if we have reached the vertex we are searching for\n",
    "            return length\n",
    "        for all outgoing edges (curr,w) from curr: // otherwise explore all neighbors\n",
    "            if w has not yet been visited:\n",
    "                add (length+1,w) to q\n",
    "    return \"FAIL\" // if I reach this point, then no path exists from u to v\n",
    "```"
   ],
   "cell_type": "markdown",
   "metadata": {}
  },
  {
   "source": [
    "### Depth First Search (DFS)\n",
    "\n",
    "* O(|V| + |E|)\n",
    "* find shortest path\n",
    "* explore all vertices going down\n",
    "* more memory efficient\n",
    "* [visualization](https://www.cs.usfca.edu/~galles/visualization/DFS.html)\n",
    "\n",
    "<center><img src=\"https://ucarecdn.com/16247a8d-d6d2-434a-9efe-6f9250ab8e6e/\" width=400/></center>\n",
    "\n",
    "```\n",
    "0 -> 1 -> 3 -> 2 -> 4\n",
    "```\n",
    "\n",
    "The rough algorithm:\n",
    "\n",
    "1. Start at s (distance 0 from itself).\n",
    "2. Consider a node adjacent to s. Call it t. It has distance 1. Mark it as visited.\n",
    "3. Then consider a node adjacent to t that has not yet been visited. It has distance 2. Mark it as visited.\n",
    "3. Repeat until all nodes reachable from s﻿ are visited.\n",
    "\n"
   ],
   "cell_type": "markdown",
   "metadata": {}
  },
  {
   "source": [
    "```\n",
    "DFS(u,v):\n",
    "    s = an empty stack\n",
    "    push (0,u) to s // (0,u) -> (length from u, current vertex)\n",
    "    while s is not empty:\n",
    "        (length,curr) = s.pop()\n",
    "        mark curr as visited\n",
    "        if curr == v: // if we have reached the vertex we are searching for\n",
    "            return length\n",
    "        for all outgoing edges (curr,w) from curr: // otherwise explore all neighbors\n",
    "            if w has not yet been visited:\n",
    "                add (length+1,w) to s\n",
    "    return \"FAIL\" // if I reach this point, then no path exists from u to v\n",
    "    ```"
   ],
   "cell_type": "markdown",
   "metadata": {}
  },
  {
   "source": [
    "```\n",
    "DFSRecursion(s): // s is the starting vertex\n",
    "    mark s as explored \n",
    "    for each unexplored neighbor v of s:\n",
    "        DFSRecursion(v) \n",
    "```"
   ],
   "cell_type": "markdown",
   "metadata": {}
  },
  {
   "source": [
    "### Dijkstra's Algorithm\n",
    "\n",
    "* worst-case time complexity O(|V| + |E|log|E|)\n",
    "* weighted shortest path \n",
    "* constantly looking for the lowest-weight paths \n",
    "* not working with negative weights (?)\n",
    "* [visualization](https://www.cs.usfca.edu/~galles/visualization/Dijkstra.html)\n",
    "\n",
    "<center><img src=\"https://ucarecdn.com/d10ddc6e-9262-425f-8249-b36b39aa8376/\" width=250/></center>\n",
    "\n",
    "Dijkstra's Algorithm would run roughly like this:\n",
    "\n",
    "* C -> C (distance = 0)\n",
    "* the next \"shortest\" path (C -> B).\n",
    "* the next \"shortest\" path that we could find from C. (C -> A, with weight 30) vs. (C -> B -> A, with weight 5 + 12 = 17). Choose (C -> B -> A).\n",
    "* the shortest path to vertex A (which is C -> B -> A).\n",
    "\n",
    "We would take note that all vertices have been marked as found, and as a result, all shortest paths have been found!"
   ],
   "cell_type": "markdown",
   "metadata": {}
  },
  {
   "source": [
    "* Priority Queue\n",
    "\n",
    "For our purposes, a vertex object needs to contain at least these 3 fields:\n",
    "\n",
    "* Distance: The shortest path that was discovered to get to this vertex\n",
    "* Previous: The vertex right before it, so we can keep track of the path and overall structure of the graph\n",
    "* Done: A boolean field to determine if a shortest path has already been found to this vertex\n",
    "\n",
    "> It is important to note that, since we are storing vertices that are immediately reachable from the current vertex in the priority queue, the same vertex can in fact appear in the priority queue more than once if there exists more than one path to reach it."
   ],
   "cell_type": "markdown",
   "metadata": {}
  },
  {
   "source": [
    "```\n",
    "dijkstra(s):\n",
    "    // perform initialization step\n",
    "    pq = empty priority queue\n",
    "    for each vertex v:\n",
    "        v.dist = infinity           // the maximum possible distance from s\n",
    "        v.prev = NULL               // we don't know the optimal previous node yet\n",
    "        v.done = False              // v has not yet been discovered\n",
    "\n",
    "    // perform the traversal\n",
    "    enqueue (0, s) onto pq          // enqueue the starting vertex\n",
    "    while pq is not empty:\n",
    "        dequeue (weight, v) from pq\n",
    "        if v.done == False:         // if the vertex's min path hasn't been discovered yet\n",
    "            v.done = True\n",
    "            for each edge (v,w,d):  // (v,w,d) = edge from v to w with edge-weight d\n",
    "                c = v.dist + d      // c is the total distance to w through v\n",
    "                if c < w.dist:      // if a smaller-weight path has been found\n",
    "                                    // (remember, all distances start at infinity!)\n",
    "                    w.prev = v      // update the node that comes just before w in the path from s to w\n",
    "                    w.dist = c      // update the distance of the path from s to w\n",
    "                    enqueue (c, w) onto pq\n",
    "```"
   ],
   "cell_type": "markdown",
   "metadata": {}
  },
  {
   "source": [
    "* Dijkstra's Algorithm guarantees that, for each vertex, the first time an instance of it is removed from the priority queue, a shortest path to it has been found."
   ],
   "cell_type": "markdown",
   "metadata": {}
  },
  {
   "source": [
    "## Minimum Spanning Tree\n",
    "\n",
    "* spans across the entire graph \n",
    "* undirected graph \n",
    "* minimizes the total sum of edge weights\n",
    "\n",
    "Spanning tree for undirected graph G is an undirected graph that\n",
    "\n",
    "* contains all the vertices of G,\n",
    "* contains a subset of the edges of G,\n",
    "* has no cycles\n",
    "* is connected (this implies that only connected graphs can have spanning trees).\n",
    "\n",
    "<center><img src=\"https://ucarecdn.com/8f1b912b-4667-42ff-a418-18c2cf7b8529/\" width=600/></center>\n",
    "\n",
    "> Left = undirected graph\n",
    "\n",
    "> Right = spanning tree\n",
    "\n",
    "> Note that a spanning tree with N vertices will always have N-1 edges, just like any other tree!"
   ],
   "cell_type": "markdown",
   "metadata": {}
  },
  {
   "source": [
    "#### MST Finding \n",
    "\n",
    "* use BFS \n",
    "* all the \"previous\" fileds of the vertex => spanning tree \n",
    "\n",
    "<center><img src=\"https://ucarecdn.com/8f1e80bd-83a5-4379-bb3b-304946521224/\" width=400/></center>\n",
    "\n",
    "BFS order:\n",
    "\n",
    "E (previous null) → A (previous E) → F (previous E) → B (previous A) → G (previous B) → C (previous G) → H (previous G)→ D (previous C).\n"
   ],
   "cell_type": "markdown",
   "metadata": {}
  },
  {
   "source": [
    "Following the discovered pathway above -> spanning tree:\n",
    "\n",
    "<center><img src=\"https://ucarecdn.com/e0e3c456-02a5-47c0-887d-39e3de9af39d/\" width=400/></center>\n",
    "\n",
    "> in weighted graphs, BFS can find an arbitrary spanning tree. "
   ],
   "cell_type": "markdown",
   "metadata": {}
  },
  {
   "source": [
    "#### Prim's Algorithm\n",
    "\n",
    "* O(|V| + |E|* log(|E|))\n",
    "* starts with a single vertex from the original graph\n",
    "* builds the MST by iteratively adding the least costly edges that stem from it \n",
    "* very similar to Dijkstra's Algorithm\n",
    "* weights can be negative\n",
    "* [visualization](https://www.cs.usfca.edu/~galles/visualization/Prim.html)\n",
    "\n",
    "\n",
    "* Prim's Algorithm starts with a specified starting vertex. \n",
    "* While the growing Minimum Spanning Tree does not connect all vertices, Prim's Algorithm adds the edge that has the least cost from any vertex in the spanning tree that has been built so far.\n",
    "\n",
    "More formally ...\n",
    "\n",
    "1. \n",
    "* Let V be the set of all vertices\n",
    "* S be the empty set\n",
    "* A be the empty set\n",
    "* Choose any vertex r to be the root of our spanning tree;\n",
    "* set S = {r}\n",
    "* V = V - {r} (i.e., remove r from set V)\n",
    "2.\n",
    "* Find the least weight edge, e, such that one endpoint, v₁ , is in S\n",
    "* another, v₂ , is in V \\ S (i.e., an edge that stems from the spanning tree being built so far, but doesn't create any cycles).\n",
    "        \n",
    "        - Set A = A + {e}, \n",
    "        - S = S + {v₂},\n",
    "        - V = V - {v₂} (i.e., Add that edge to A, add its other vertex endpoint to S, and remove that endpoint from the set of all \"untouched\" vertices, V).\n",
    "3.\n",
    "* If V \\ S = NULL (i.e., once S contains all vertices),\n",
    "* then output (S,A) as the two sets of vertices and edges that define our MST. \n",
    "* Otherwise, our MST clearly doesn't cover all vertices and so we must repeat step 2 above.\n",
    "\n"
   ],
   "cell_type": "markdown",
   "metadata": {}
  },
  {
   "source": [
    "Prim's Algorithm Implementation-wise\n",
    "\n",
    "* priority queue of edges sorted by edge weights\n",
    "\n",
    "> However, unlike Dijkstra's Algorithm, which had used the total path edge weights explored so far to the priority queue for comparison, Prim's Algorithm uses single edge weights.\n",
    "\n",
    "The pseudocode for Prim's Algorithm:\n",
    "\n",
    "1. Initialize all the vertex fields of the graph — just like Dijkstra's Algorithm: Set all \"done\" fields to false. Pick a start vertex r. Set its \"prev\" field to -1 and its \"done\" field to true. Add all the edges adjacent to r as a tuple that includes the starting vertex v, ending vertex w, and cost c, into the priority queue.\n",
    "2. Is the priority queue empty? Done!\n",
    "3. Else: Dequeue the top element, (v, w, ﻿c) from the priority queue (i.e., remove the smallest-cost edge).\n",
    "4. Is the \"done\" field of vertex w marked true? If so, then this edge connects two vertices already connected in the MST and we therefore cannot use it. Go to step 2.\n",
    "5. Else: Mark the \"done\" field of vertex w true, and set the \"prev\" field of w to indicate v.\n",
    "6. Add all the edges adjacent to w into the priority queue.\n",
    "7. Go to step 2."
   ],
   "cell_type": "markdown",
   "metadata": {}
  },
  {
   "source": [
    "\n",
    "<center><img src=\"https://sun9-46.userapi.com/impg/_IClGeo5UrXGoWcCpqvVYbhVJMEuK9qRalteiA/JiMaPt-Bjgo.jpg?size=862x668&quality=96&proxy=1&sign=17c16f673a16f5656ec0d1c5aebe4109\" width=600\" /></center>\n"
   ],
   "cell_type": "markdown",
   "metadata": {}
  },
  {
   "source": [
    "#### Kruskal's Algorithm\n",
    "\n",
    "* O(|V| + |E|*log(|E|))\n",
    "* starts with a forest of vertices without any edges\n",
    "* builds the MST by iteratively adding the least costly edges from the entire graph.\n",
    "* very similar to Prim's Algorithm\n",
    "* weights can be negative\n",
    "* [visualization](https://www.cs.usfca.edu/~galles/visualization/Kruskal.html)\n",
    "\n",
    "**The major difference**: \n",
    "that Kruskal's Algorithm starts with a \"forest of nodes\" (basically the original graph except with no edges) and iteratively adds back the edges based on which edges have the lowest weight.\n",
    "\n",
    "More formally, for a weighted undirected graph G = (V,E):\n",
    "\n",
    "1. Let E be the set of all edges and A be the empty set.\n",
    "2. Find the least weight edge, e.\n",
    "* If A = A + {e} does not create a cycle; set E = E - {e} and A = A + {e}. In other words, if adding e to A does not create a cycle, add e to A (i.e., add the edge to the growing MST) and remove e from E.\n",
    "* Else set E = E - {e} (this edge creates a cycle and we should just ignore it)\n",
    "3. If E = NULL (i.e., once we have checked all the edges), then output (V,A) as the two sets of vertices and edges that define our MST. Otherwise, we must repeat step 2 above."
   ],
   "cell_type": "markdown",
   "metadata": {}
  },
  {
   "source": [
    "Kruskal's Algorithm Implementation-wise on a weighted undirected graph G = (V,E):\n",
    "\n",
    "1. Create a forest of vertices\n",
    "2. Create a priority queue containing all the edges, ordered by edge weight\n",
    "3. While fewer than |V| - 1 edges have been added back to the forest:\n",
    "\n",
    "    3.1. Deque the smallest-weight edge (v, w,﻿ c) from the priority queue\n",
    "\n",
    "    3.2. If v and w already belong to the same tree in the forest: go to 3.1 (adding this edge would create a cycle)\n",
    "  \n",
    "    3.3. Else: Join those vertices with that edge and continue"
   ],
   "cell_type": "markdown",
   "metadata": {}
  },
  {
   "source": [
    "<center><img src=\"https://sun9-73.userapi.com/impg/WMmyBBYQA5TJyAlECByCg-OR36JDET-BGi2TWQ/1Z3vRu4_mvg.jpg?size=862x668&quality=96&proxy=1&sign=f23345c615db9b4d8b3870ce7d64931c\" width=600 /></center>"
   ],
   "cell_type": "markdown",
   "metadata": {}
  },
  {
   "source": [
    "### Disjoint Set\n",
    "\n",
    "* \"Union-Find\" data type\n",
    "\n",
    "The Disjoint Set is an Abstract Data Type that is optimized to support two particular operations:\n",
    "\n",
    "* Union: Given two elements u and v, merge the sets to which they belong\n",
    "* Find: Given an element e, return the set to which it belongs\n",
    "\n",
    "> Disjoint Sets can be very efficiently implemented using the Up-Tree data structure, which in essence is simply a graph in which all nodes have a single \"parent\" pointer. Nodes that do not have a parent (i.e., the roots of their respective trees) are called sentinel nodes, and each sentinel node represents a single set. In the example below, there are 6 sets, each represented by its respective sentinel node (shown in red): A, C, D, E, F, and G.\n",
    "\n",
    "<center><img src=\"https://ucarecdn.com/ab99124a-3230-428a-94f1-0fcb81798209/\" width=600 /></center>\n",
    "\n",
    "A disjoint set often starts out as a forest of single-node sets. We begin connecting vertices together by calling the union operation on two vertices at a time, such as what you see in the figure above. By doing so, we slowly begin creating a structure that looks like an upside-down tree (i.e., a tree where all pointers point up to the root instead of the usual down from the root), hence the name \"Up-Tree.\" We will explore the union operation in more depth later in this lesson.\n",
    "\n",
    "The Up-Tree Representation \n",
    "\n",
    "<center><img src=\"https://ucarecdn.com/ed2682ed-4fa9-4a4c-99f1-59610dc6f0de/\" width=600 /></center>\n",
    "\n",
    "* index = vertex (e.g. index 0 corresponds to vertex A, index 3 corresponds to vertex D, etc.). \n",
    "* The content of each cell  = corresponding vertex's parent. \n",
    "\n",
    "> For example, the index corresponding to vertex B — index 1 — has a 0 in it because index 0 corresponds to vertex A and vertex A is the parent of vertex B. Also, the index corresponding to vertex F — index 5 — has a -1 in it because an index of -1 corresponds to NULL, and since vertex F doesn't have a parent, its parent is NULL."
   ],
   "cell_type": "markdown",
   "metadata": {}
  },
  {
   "source": [
    "#### Union operation \n",
    "\n",
    "* purpose = join two sets \n",
    "* after union two sets should end up with the same sentinel node \n",
    "\n",
    "<center><img src=\"https://ucarecdn.com/c390a70e-b9da-40ec-9c71-8fa0c0c3bc58/\" width=500 /></center>\n",
    "\n",
    "> Let's say we want to union(F, E)\n",
    "\n",
    "<center><img src=\"https://ucarecdn.com/fee14a0d-9c92-462b-b7f8-271d3eddafd7/\" width=500 /></center>"
   ],
   "cell_type": "markdown",
   "metadata": {}
  },
  {
   "source": [
    "* arbitrarily chose the sentinel may give not minimum height \n",
    "* min height -> \"Union-by-Size\"\n",
    "\n",
    "**Union-by-Size**\n",
    "\n",
    "In this insertion tactic, the sentinel node of the smaller set (i.e., the set with less elements) gets attached to the sentinel node of the larger set. Thus, the sentinel node of the smaller set becomes the child and the sentinel node of the larger set becomes the parent. Ties can be broken arbitrarily.\n",
    "\n",
    "<center><img src=\"https://ucarecdn.com/81daf955-5205-4feb-b5d2-5e2a734dd794/\" width=500 /></center>\n",
    "\n",
    "* the \"worst case\" for Union-by-Size is considered to be the situation in which each merge had to merge sets with equal size. \n",
    "* the worst-case time complexity of a \"find\" operation in Union-by-Size is the same as the worst-case height of a balanced binary tree: O(log n)."
   ],
   "cell_type": "markdown",
   "metadata": {}
  },
  {
   "source": [
    "**Union-by-Height**\n",
    "\n",
    "* sentinel node of the shorter set (smaller height) gets attached to the sentinel node of the taller set\n",
    "\n",
    "<center><img src=\"https://ucarecdn.com/868f9d91-01ca-4d90-9949-36e1cf4baa90/\" width=500 /></center>\n",
    "\n",
    "> Union(A, C)\n",
    "\n",
    "<center><img src=\"https://ucarecdn.com/e0a777a6-c2e1-4e7a-a676-6bfd1d15f78c/\" width=500 /></center>\n",
    "\n",
    "* a worst-case time complexity of O(log n) for the \"find\" operation."
   ],
   "cell_type": "markdown",
   "metadata": {}
  },
  {
   "source": [
    "#### Path Compression\n",
    "\n",
    "* use information obtained dureing the find operation (not just the sentinel node of interest)\n",
    "* self-adjusting structure\n",
    "* O(N + M * logN)\n",
    "* [visualization](https://www.cs.usfca.edu/~galles/visualization/DisjointSets.html)\n",
    "\n",
    "<center><img src=\"https://ucarecdn.com/d7121e7f-6d71-44a0-809b-2eb5b4061efb/\" width=300 /></center>\n",
    "\n",
    "> find(A)\n",
    "\n",
    "<center><img src=\"https://ucarecdn.com/c3005c55-ea87-448a-92af-c0a3e51eb79a/\" width=400 /></center>\n",
    "\n",
    "> if I call find(B) on the new disjoint set above, this operation will be constant time!"
   ],
   "cell_type": "markdown",
   "metadata": {}
  },
  {
   "cell_type": "code",
   "execution_count": null,
   "metadata": {},
   "outputs": [],
   "source": []
  }
 ]
}